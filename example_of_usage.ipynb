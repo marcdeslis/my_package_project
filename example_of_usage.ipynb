{
    "cells": [
        {
            "cell_type": "markdown",
            "metadata": {},
            "source": [
                "# Example usage\n",
                "\n",
                "To use `my_package_project` in a project:"
            ]
        },
        {
            "cell_type": "code",
            "execution_count": 1,
            "metadata": {},
            "outputs": [
                {
                    "name": "stdout",
                    "output_type": "stream",
                    "text": [
                        "1.3.0\n"
                    ]
                }
            ],
            "source": [
                "import my_package_project\n",
                "\n",
                "print(my_package_project.__version__)"
            ]
        },
        {
            "cell_type": "markdown",
            "metadata": {},
            "source": [
                "Package import : "
            ]
        },
        {
            "cell_type": "code",
            "execution_count": 2,
            "metadata": {},
            "outputs": [],
            "source": [
                "from datetime import date, timedelta, datetime\n",
                "from my_package_project.data_treatment import *\n",
                "from my_package_project.graphs  import *\n",
                "from my_package_project.operations import *"
            ]
        },
        {
            "cell_type": "markdown",
            "metadata": {},
            "source": [
                "Range of date and universe\n",
                "\n",
                "By default, the universe is settled as ['SPY', 'TLT', 'GLD'] i.e. S&P 500 Index, 20+ Year Treasury Bond, Gold (commodities) as it is interesting to see the risk contribution of different asset classes but any list of assets available on yfinance can be set as input."
            ]
        },
        {
            "cell_type": "code",
            "execution_count": 3,
            "metadata": {},
            "outputs": [],
            "source": [
                "universe = ['SPY', 'TLT', 'GLD']\n",
                "initial_date = datetime(2005, 1, 1)\n",
                "final_date = datetime(2020, 12, 31)\n",
                "data = get_stocks_data(tickers=universe, start_date=initial_date, end_date=final_date).dropna()"
            ]
        },
        {
            "cell_type": "markdown",
            "metadata": {},
            "source": [
                "#### Data Treatment :"
            ]
        },
        {
            "cell_type": "code",
            "execution_count": 4,
            "metadata": {},
            "outputs": [],
            "source": [
                "#Methods from Pybacktestchain :\n",
                "data_module = DataModule(data=data)\n",
                "info = Information(s = timedelta(data_module.data.size/len(universe)), data_module=data_module)\n",
                "t = datetime(2020,12,29)\n",
                "moments = FirstTwoMoments.compute_information(info, t=t)"
            ]
        },
        {
            "cell_type": "markdown",
            "metadata": {},
            "source": [
                "Compute the Risk Parity portfolio :"
            ]
        },
        {
            "cell_type": "code",
            "execution_count": 5,
            "metadata": {},
            "outputs": [
                {
                    "data": {
                        "text/plain": [
                            "{'GLD': 0.33069177058197635,\n",
                            " 'SPY': 0.1631111191275985,\n",
                            " 'TLT': 0.5061971102904251}"
                        ]
                    },
                    "execution_count": 5,
                    "metadata": {},
                    "output_type": "execute_result"
                }
            ],
            "source": [
                "riskparityportfolio =  data_treatment.RiskParity.compute_portfolio_riskparity(info, t=t, information_set=moments)\n",
                "riskparityportfolio"
            ]
        },
        {
            "cell_type": "markdown",
            "metadata": {},
            "source": [
                "Compute portfolio's volatility : "
            ]
        },
        {
            "cell_type": "code",
            "execution_count": 6,
            "metadata": {},
            "outputs": [
                {
                    "data": {
                        "text/plain": [
                            "28.708093200213458"
                        ]
                    },
                    "execution_count": 6,
                    "metadata": {},
                    "output_type": "execute_result"
                }
            ],
            "source": [
                "vol = data_treatment.portfolio_volatility(riskparityportfolio,information_set=moments)\n",
                "vol"
            ]
        },
        {
            "cell_type": "markdown",
            "metadata": {},
            "source": [
                "Compute the Risk Parity portfolio with leverage and target volatility : "
            ]
        },
        {
            "cell_type": "code",
            "execution_count": 7,
            "metadata": {},
            "outputs": [
                {
                    "name": "stderr",
                    "output_type": "stream",
                    "text": [
                        "INFO:root:Original Volatility: 28.708093200213458\n"
                    ]
                },
                {
                    "data": {
                        "text/plain": [
                            "{'GLD': 0.33069177058197635,\n",
                            " 'SPY': 0.1631111191275985,\n",
                            " 'TLT': 0.5061971102904251}"
                        ]
                    },
                    "execution_count": 7,
                    "metadata": {},
                    "output_type": "execute_result"
                }
            ],
            "source": [
                "data_treatment.RiskParity.compute_portfolio_riskparity_voltarget_leverage(info, t=t, information_set=moments, target_volatility=vol, leverage_factor=1)"
            ]
        },
        {
            "cell_type": "code",
            "execution_count": 8,
            "metadata": {},
            "outputs": [
                {
                    "name": "stderr",
                    "output_type": "stream",
                    "text": [
                        "INFO:root:Original Volatility: 28.708093200213458\n"
                    ]
                },
                {
                    "data": {
                        "text/plain": [
                            "{'GLD': 0.34557339103892576,\n",
                            " 'SPY': 0.17045136156209673,\n",
                            " 'TLT': 0.5289767315023152}"
                        ]
                    },
                    "execution_count": 8,
                    "metadata": {},
                    "output_type": "execute_result"
                }
            ],
            "source": [
                "data_treatment.RiskParity.compute_portfolio_riskparity_voltarget_leverage(info, t=t, information_set=moments, target_volatility=15, leverage_factor=2)"
            ]
        },
        {
            "cell_type": "markdown",
            "metadata": {},
            "source": [
                "Compute risk contributions :"
            ]
        },
        {
            "cell_type": "code",
            "execution_count": 9,
            "metadata": {},
            "outputs": [
                {
                    "data": {
                        "text/plain": [
                            "{'GLD': 0.333, 'SPY': 0.333, 'TLT': 0.334}"
                        ]
                    },
                    "execution_count": 9,
                    "metadata": {},
                    "output_type": "execute_result"
                }
            ],
            "source": [
                "data_treatment.compute_risk_contributions(riskparityportfolio, moments)"
            ]
        },
        {
            "cell_type": "markdown",
            "metadata": {},
            "source": [
                "#### Graphs : "
            ]
        },
        {
            "cell_type": "code",
            "execution_count": 10,
            "metadata": {},
            "outputs": [],
            "source": [
                "visualizer = PortfolioVisualizer(portfolio=riskparityportfolio, information_set=moments)"
            ]
        },
        {
            "cell_type": "markdown",
            "metadata": {},
            "source": [
                "Plot portfolio initial weight :"
            ]
        },
        {
            "cell_type": "code",
            "execution_count": 11,
            "metadata": {},
            "outputs": [
                {
                    "data": {
                        "application/vnd.plotly.v1+json": {
                            "config": {
                                "plotlyServerURL": "https://plot.ly"
                            },
                            "data": [
                                {
                                    "marker": {
                                        "color": [
                                            "#1F77B4",
                                            "#b41f49",
                                            "#f7cf07"
                                        ]
                                    },
                                    "text": [
                                        "33.07%",
                                        "16.31%",
                                        "50.62%"
                                    ],
                                    "textposition": "auto",
                                    "type": "bar",
                                    "x": [
                                        "GLD",
                                        "SPY",
                                        "TLT"
                                    ],
                                    "y": [
                                        0.33069177058197635,
                                        0.1631111191275985,
                                        0.5061971102904251
                                    ]
                                }
                            ],
                            "layout": {
                                "height": 400,
                                "template": {
                                    "data": {
                                        "bar": [
                                            {
                                                "error_x": {
                                                    "color": "#2a3f5f"
                                                },
                                                "error_y": {
                                                    "color": "#2a3f5f"
                                                },
                                                "marker": {
                                                    "line": {
                                                        "color": "#E5ECF6",
                                                        "width": 0.5
                                                    },
                                                    "pattern": {
                                                        "fillmode": "overlay",
                                                        "size": 10,
                                                        "solidity": 0.2
                                                    }
                                                },
                                                "type": "bar"
                                            }
                                        ],
                                        "barpolar": [
                                            {
                                                "marker": {
                                                    "line": {
                                                        "color": "#E5ECF6",
                                                        "width": 0.5
                                                    },
                                                    "pattern": {
                                                        "fillmode": "overlay",
                                                        "size": 10,
                                                        "solidity": 0.2
                                                    }
                                                },
                                                "type": "barpolar"
                                            }
                                        ],
                                        "carpet": [
                                            {
                                                "aaxis": {
                                                    "endlinecolor": "#2a3f5f",
                                                    "gridcolor": "white",
                                                    "linecolor": "white",
                                                    "minorgridcolor": "white",
                                                    "startlinecolor": "#2a3f5f"
                                                },
                                                "baxis": {
                                                    "endlinecolor": "#2a3f5f",
                                                    "gridcolor": "white",
                                                    "linecolor": "white",
                                                    "minorgridcolor": "white",
                                                    "startlinecolor": "#2a3f5f"
                                                },
                                                "type": "carpet"
                                            }
                                        ],
                                        "choropleth": [
                                            {
                                                "colorbar": {
                                                    "outlinewidth": 0,
                                                    "ticks": ""
                                                },
                                                "type": "choropleth"
                                            }
                                        ],
                                        "contour": [
                                            {
                                                "colorbar": {
                                                    "outlinewidth": 0,
                                                    "ticks": ""
                                                },
                                                "colorscale": [
                                                    [
                                                        0,
                                                        "#0d0887"
                                                    ],
                                                    [
                                                        0.1111111111111111,
                                                        "#46039f"
                                                    ],
                                                    [
                                                        0.2222222222222222,
                                                        "#7201a8"
                                                    ],
                                                    [
                                                        0.3333333333333333,
                                                        "#9c179e"
                                                    ],
                                                    [
                                                        0.4444444444444444,
                                                        "#bd3786"
                                                    ],
                                                    [
                                                        0.5555555555555556,
                                                        "#d8576b"
                                                    ],
                                                    [
                                                        0.6666666666666666,
                                                        "#ed7953"
                                                    ],
                                                    [
                                                        0.7777777777777778,
                                                        "#fb9f3a"
                                                    ],
                                                    [
                                                        0.8888888888888888,
                                                        "#fdca26"
                                                    ],
                                                    [
                                                        1,
                                                        "#f0f921"
                                                    ]
                                                ],
                                                "type": "contour"
                                            }
                                        ],
                                        "contourcarpet": [
                                            {
                                                "colorbar": {
                                                    "outlinewidth": 0,
                                                    "ticks": ""
                                                },
                                                "type": "contourcarpet"
                                            }
                                        ],
                                        "heatmap": [
                                            {
                                                "colorbar": {
                                                    "outlinewidth": 0,
                                                    "ticks": ""
                                                },
                                                "colorscale": [
                                                    [
                                                        0,
                                                        "#0d0887"
                                                    ],
                                                    [
                                                        0.1111111111111111,
                                                        "#46039f"
                                                    ],
                                                    [
                                                        0.2222222222222222,
                                                        "#7201a8"
                                                    ],
                                                    [
                                                        0.3333333333333333,
                                                        "#9c179e"
                                                    ],
                                                    [
                                                        0.4444444444444444,
                                                        "#bd3786"
                                                    ],
                                                    [
                                                        0.5555555555555556,
                                                        "#d8576b"
                                                    ],
                                                    [
                                                        0.6666666666666666,
                                                        "#ed7953"
                                                    ],
                                                    [
                                                        0.7777777777777778,
                                                        "#fb9f3a"
                                                    ],
                                                    [
                                                        0.8888888888888888,
                                                        "#fdca26"
                                                    ],
                                                    [
                                                        1,
                                                        "#f0f921"
                                                    ]
                                                ],
                                                "type": "heatmap"
                                            }
                                        ],
                                        "heatmapgl": [
                                            {
                                                "colorbar": {
                                                    "outlinewidth": 0,
                                                    "ticks": ""
                                                },
                                                "colorscale": [
                                                    [
                                                        0,
                                                        "#0d0887"
                                                    ],
                                                    [
                                                        0.1111111111111111,
                                                        "#46039f"
                                                    ],
                                                    [
                                                        0.2222222222222222,
                                                        "#7201a8"
                                                    ],
                                                    [
                                                        0.3333333333333333,
                                                        "#9c179e"
                                                    ],
                                                    [
                                                        0.4444444444444444,
                                                        "#bd3786"
                                                    ],
                                                    [
                                                        0.5555555555555556,
                                                        "#d8576b"
                                                    ],
                                                    [
                                                        0.6666666666666666,
                                                        "#ed7953"
                                                    ],
                                                    [
                                                        0.7777777777777778,
                                                        "#fb9f3a"
                                                    ],
                                                    [
                                                        0.8888888888888888,
                                                        "#fdca26"
                                                    ],
                                                    [
                                                        1,
                                                        "#f0f921"
                                                    ]
                                                ],
                                                "type": "heatmapgl"
                                            }
                                        ],
                                        "histogram": [
                                            {
                                                "marker": {
                                                    "pattern": {
                                                        "fillmode": "overlay",
                                                        "size": 10,
                                                        "solidity": 0.2
                                                    }
                                                },
                                                "type": "histogram"
                                            }
                                        ],
                                        "histogram2d": [
                                            {
                                                "colorbar": {
                                                    "outlinewidth": 0,
                                                    "ticks": ""
                                                },
                                                "colorscale": [
                                                    [
                                                        0,
                                                        "#0d0887"
                                                    ],
                                                    [
                                                        0.1111111111111111,
                                                        "#46039f"
                                                    ],
                                                    [
                                                        0.2222222222222222,
                                                        "#7201a8"
                                                    ],
                                                    [
                                                        0.3333333333333333,
                                                        "#9c179e"
                                                    ],
                                                    [
                                                        0.4444444444444444,
                                                        "#bd3786"
                                                    ],
                                                    [
                                                        0.5555555555555556,
                                                        "#d8576b"
                                                    ],
                                                    [
                                                        0.6666666666666666,
                                                        "#ed7953"
                                                    ],
                                                    [
                                                        0.7777777777777778,
                                                        "#fb9f3a"
                                                    ],
                                                    [
                                                        0.8888888888888888,
                                                        "#fdca26"
                                                    ],
                                                    [
                                                        1,
                                                        "#f0f921"
                                                    ]
                                                ],
                                                "type": "histogram2d"
                                            }
                                        ],
                                        "histogram2dcontour": [
                                            {
                                                "colorbar": {
                                                    "outlinewidth": 0,
                                                    "ticks": ""
                                                },
                                                "colorscale": [
                                                    [
                                                        0,
                                                        "#0d0887"
                                                    ],
                                                    [
                                                        0.1111111111111111,
                                                        "#46039f"
                                                    ],
                                                    [
                                                        0.2222222222222222,
                                                        "#7201a8"
                                                    ],
                                                    [
                                                        0.3333333333333333,
                                                        "#9c179e"
                                                    ],
                                                    [
                                                        0.4444444444444444,
                                                        "#bd3786"
                                                    ],
                                                    [
                                                        0.5555555555555556,
                                                        "#d8576b"
                                                    ],
                                                    [
                                                        0.6666666666666666,
                                                        "#ed7953"
                                                    ],
                                                    [
                                                        0.7777777777777778,
                                                        "#fb9f3a"
                                                    ],
                                                    [
                                                        0.8888888888888888,
                                                        "#fdca26"
                                                    ],
                                                    [
                                                        1,
                                                        "#f0f921"
                                                    ]
                                                ],
                                                "type": "histogram2dcontour"
                                            }
                                        ],
                                        "mesh3d": [
                                            {
                                                "colorbar": {
                                                    "outlinewidth": 0,
                                                    "ticks": ""
                                                },
                                                "type": "mesh3d"
                                            }
                                        ],
                                        "parcoords": [
                                            {
                                                "line": {
                                                    "colorbar": {
                                                        "outlinewidth": 0,
                                                        "ticks": ""
                                                    }
                                                },
                                                "type": "parcoords"
                                            }
                                        ],
                                        "pie": [
                                            {
                                                "automargin": true,
                                                "type": "pie"
                                            }
                                        ],
                                        "scatter": [
                                            {
                                                "fillpattern": {
                                                    "fillmode": "overlay",
                                                    "size": 10,
                                                    "solidity": 0.2
                                                },
                                                "type": "scatter"
                                            }
                                        ],
                                        "scatter3d": [
                                            {
                                                "line": {
                                                    "colorbar": {
                                                        "outlinewidth": 0,
                                                        "ticks": ""
                                                    }
                                                },
                                                "marker": {
                                                    "colorbar": {
                                                        "outlinewidth": 0,
                                                        "ticks": ""
                                                    }
                                                },
                                                "type": "scatter3d"
                                            }
                                        ],
                                        "scattercarpet": [
                                            {
                                                "marker": {
                                                    "colorbar": {
                                                        "outlinewidth": 0,
                                                        "ticks": ""
                                                    }
                                                },
                                                "type": "scattercarpet"
                                            }
                                        ],
                                        "scattergeo": [
                                            {
                                                "marker": {
                                                    "colorbar": {
                                                        "outlinewidth": 0,
                                                        "ticks": ""
                                                    }
                                                },
                                                "type": "scattergeo"
                                            }
                                        ],
                                        "scattergl": [
                                            {
                                                "marker": {
                                                    "colorbar": {
                                                        "outlinewidth": 0,
                                                        "ticks": ""
                                                    }
                                                },
                                                "type": "scattergl"
                                            }
                                        ],
                                        "scattermapbox": [
                                            {
                                                "marker": {
                                                    "colorbar": {
                                                        "outlinewidth": 0,
                                                        "ticks": ""
                                                    }
                                                },
                                                "type": "scattermapbox"
                                            }
                                        ],
                                        "scatterpolar": [
                                            {
                                                "marker": {
                                                    "colorbar": {
                                                        "outlinewidth": 0,
                                                        "ticks": ""
                                                    }
                                                },
                                                "type": "scatterpolar"
                                            }
                                        ],
                                        "scatterpolargl": [
                                            {
                                                "marker": {
                                                    "colorbar": {
                                                        "outlinewidth": 0,
                                                        "ticks": ""
                                                    }
                                                },
                                                "type": "scatterpolargl"
                                            }
                                        ],
                                        "scatterternary": [
                                            {
                                                "marker": {
                                                    "colorbar": {
                                                        "outlinewidth": 0,
                                                        "ticks": ""
                                                    }
                                                },
                                                "type": "scatterternary"
                                            }
                                        ],
                                        "surface": [
                                            {
                                                "colorbar": {
                                                    "outlinewidth": 0,
                                                    "ticks": ""
                                                },
                                                "colorscale": [
                                                    [
                                                        0,
                                                        "#0d0887"
                                                    ],
                                                    [
                                                        0.1111111111111111,
                                                        "#46039f"
                                                    ],
                                                    [
                                                        0.2222222222222222,
                                                        "#7201a8"
                                                    ],
                                                    [
                                                        0.3333333333333333,
                                                        "#9c179e"
                                                    ],
                                                    [
                                                        0.4444444444444444,
                                                        "#bd3786"
                                                    ],
                                                    [
                                                        0.5555555555555556,
                                                        "#d8576b"
                                                    ],
                                                    [
                                                        0.6666666666666666,
                                                        "#ed7953"
                                                    ],
                                                    [
                                                        0.7777777777777778,
                                                        "#fb9f3a"
                                                    ],
                                                    [
                                                        0.8888888888888888,
                                                        "#fdca26"
                                                    ],
                                                    [
                                                        1,
                                                        "#f0f921"
                                                    ]
                                                ],
                                                "type": "surface"
                                            }
                                        ],
                                        "table": [
                                            {
                                                "cells": {
                                                    "fill": {
                                                        "color": "#EBF0F8"
                                                    },
                                                    "line": {
                                                        "color": "white"
                                                    }
                                                },
                                                "header": {
                                                    "fill": {
                                                        "color": "#C8D4E3"
                                                    },
                                                    "line": {
                                                        "color": "white"
                                                    }
                                                },
                                                "type": "table"
                                            }
                                        ]
                                    },
                                    "layout": {
                                        "annotationdefaults": {
                                            "arrowcolor": "#2a3f5f",
                                            "arrowhead": 0,
                                            "arrowwidth": 1
                                        },
                                        "autotypenumbers": "strict",
                                        "coloraxis": {
                                            "colorbar": {
                                                "outlinewidth": 0,
                                                "ticks": ""
                                            }
                                        },
                                        "colorscale": {
                                            "diverging": [
                                                [
                                                    0,
                                                    "#8e0152"
                                                ],
                                                [
                                                    0.1,
                                                    "#c51b7d"
                                                ],
                                                [
                                                    0.2,
                                                    "#de77ae"
                                                ],
                                                [
                                                    0.3,
                                                    "#f1b6da"
                                                ],
                                                [
                                                    0.4,
                                                    "#fde0ef"
                                                ],
                                                [
                                                    0.5,
                                                    "#f7f7f7"
                                                ],
                                                [
                                                    0.6,
                                                    "#e6f5d0"
                                                ],
                                                [
                                                    0.7,
                                                    "#b8e186"
                                                ],
                                                [
                                                    0.8,
                                                    "#7fbc41"
                                                ],
                                                [
                                                    0.9,
                                                    "#4d9221"
                                                ],
                                                [
                                                    1,
                                                    "#276419"
                                                ]
                                            ],
                                            "sequential": [
                                                [
                                                    0,
                                                    "#0d0887"
                                                ],
                                                [
                                                    0.1111111111111111,
                                                    "#46039f"
                                                ],
                                                [
                                                    0.2222222222222222,
                                                    "#7201a8"
                                                ],
                                                [
                                                    0.3333333333333333,
                                                    "#9c179e"
                                                ],
                                                [
                                                    0.4444444444444444,
                                                    "#bd3786"
                                                ],
                                                [
                                                    0.5555555555555556,
                                                    "#d8576b"
                                                ],
                                                [
                                                    0.6666666666666666,
                                                    "#ed7953"
                                                ],
                                                [
                                                    0.7777777777777778,
                                                    "#fb9f3a"
                                                ],
                                                [
                                                    0.8888888888888888,
                                                    "#fdca26"
                                                ],
                                                [
                                                    1,
                                                    "#f0f921"
                                                ]
                                            ],
                                            "sequentialminus": [
                                                [
                                                    0,
                                                    "#0d0887"
                                                ],
                                                [
                                                    0.1111111111111111,
                                                    "#46039f"
                                                ],
                                                [
                                                    0.2222222222222222,
                                                    "#7201a8"
                                                ],
                                                [
                                                    0.3333333333333333,
                                                    "#9c179e"
                                                ],
                                                [
                                                    0.4444444444444444,
                                                    "#bd3786"
                                                ],
                                                [
                                                    0.5555555555555556,
                                                    "#d8576b"
                                                ],
                                                [
                                                    0.6666666666666666,
                                                    "#ed7953"
                                                ],
                                                [
                                                    0.7777777777777778,
                                                    "#fb9f3a"
                                                ],
                                                [
                                                    0.8888888888888888,
                                                    "#fdca26"
                                                ],
                                                [
                                                    1,
                                                    "#f0f921"
                                                ]
                                            ]
                                        },
                                        "colorway": [
                                            "#636efa",
                                            "#EF553B",
                                            "#00cc96",
                                            "#ab63fa",
                                            "#FFA15A",
                                            "#19d3f3",
                                            "#FF6692",
                                            "#B6E880",
                                            "#FF97FF",
                                            "#FECB52"
                                        ],
                                        "font": {
                                            "color": "#2a3f5f"
                                        },
                                        "geo": {
                                            "bgcolor": "white",
                                            "lakecolor": "white",
                                            "landcolor": "#E5ECF6",
                                            "showlakes": true,
                                            "showland": true,
                                            "subunitcolor": "white"
                                        },
                                        "hoverlabel": {
                                            "align": "left"
                                        },
                                        "hovermode": "closest",
                                        "mapbox": {
                                            "style": "light"
                                        },
                                        "paper_bgcolor": "white",
                                        "plot_bgcolor": "#E5ECF6",
                                        "polar": {
                                            "angularaxis": {
                                                "gridcolor": "white",
                                                "linecolor": "white",
                                                "ticks": ""
                                            },
                                            "bgcolor": "#E5ECF6",
                                            "radialaxis": {
                                                "gridcolor": "white",
                                                "linecolor": "white",
                                                "ticks": ""
                                            }
                                        },
                                        "scene": {
                                            "xaxis": {
                                                "backgroundcolor": "#E5ECF6",
                                                "gridcolor": "white",
                                                "gridwidth": 2,
                                                "linecolor": "white",
                                                "showbackground": true,
                                                "ticks": "",
                                                "zerolinecolor": "white"
                                            },
                                            "yaxis": {
                                                "backgroundcolor": "#E5ECF6",
                                                "gridcolor": "white",
                                                "gridwidth": 2,
                                                "linecolor": "white",
                                                "showbackground": true,
                                                "ticks": "",
                                                "zerolinecolor": "white"
                                            },
                                            "zaxis": {
                                                "backgroundcolor": "#E5ECF6",
                                                "gridcolor": "white",
                                                "gridwidth": 2,
                                                "linecolor": "white",
                                                "showbackground": true,
                                                "ticks": "",
                                                "zerolinecolor": "white"
                                            }
                                        },
                                        "shapedefaults": {
                                            "line": {
                                                "color": "#2a3f5f"
                                            }
                                        },
                                        "ternary": {
                                            "aaxis": {
                                                "gridcolor": "white",
                                                "linecolor": "white",
                                                "ticks": ""
                                            },
                                            "baxis": {
                                                "gridcolor": "white",
                                                "linecolor": "white",
                                                "ticks": ""
                                            },
                                            "bgcolor": "#E5ECF6",
                                            "caxis": {
                                                "gridcolor": "white",
                                                "linecolor": "white",
                                                "ticks": ""
                                            }
                                        },
                                        "title": {
                                            "x": 0.05
                                        },
                                        "xaxis": {
                                            "automargin": true,
                                            "gridcolor": "white",
                                            "linecolor": "white",
                                            "ticks": "",
                                            "title": {
                                                "standoff": 15
                                            },
                                            "zerolinecolor": "white",
                                            "zerolinewidth": 2
                                        },
                                        "yaxis": {
                                            "automargin": true,
                                            "gridcolor": "white",
                                            "linecolor": "white",
                                            "ticks": "",
                                            "title": {
                                                "standoff": 15
                                            },
                                            "zerolinecolor": "white",
                                            "zerolinewidth": 2
                                        }
                                    }
                                },
                                "title": {
                                    "text": "Initial Risk Parity Portfolio Weights"
                                },
                                "width": 700,
                                "xaxis": {
                                    "tickmode": "linear",
                                    "title": {
                                        "text": "Assets"
                                    }
                                },
                                "yaxis": {
                                    "title": {
                                        "text": "Weights"
                                    }
                                }
                            }
                        }
                    },
                    "metadata": {},
                    "output_type": "display_data"
                },
                {
                    "data": {
                        "application/vnd.plotly.v1+json": {
                            "config": {
                                "plotlyServerURL": "https://plot.ly"
                            },
                            "data": [
                                {
                                    "marker": {
                                        "color": [
                                            "#1F77B4",
                                            "#b41f49",
                                            "#f7cf07"
                                        ]
                                    },
                                    "text": [
                                        "33.07%",
                                        "16.31%",
                                        "50.62%"
                                    ],
                                    "textposition": "auto",
                                    "type": "bar",
                                    "x": [
                                        "GLD",
                                        "SPY",
                                        "TLT"
                                    ],
                                    "y": [
                                        0.33069177058197635,
                                        0.1631111191275985,
                                        0.5061971102904251
                                    ]
                                }
                            ],
                            "layout": {
                                "height": 400,
                                "template": {
                                    "data": {
                                        "bar": [
                                            {
                                                "error_x": {
                                                    "color": "#2a3f5f"
                                                },
                                                "error_y": {
                                                    "color": "#2a3f5f"
                                                },
                                                "marker": {
                                                    "line": {
                                                        "color": "#E5ECF6",
                                                        "width": 0.5
                                                    },
                                                    "pattern": {
                                                        "fillmode": "overlay",
                                                        "size": 10,
                                                        "solidity": 0.2
                                                    }
                                                },
                                                "type": "bar"
                                            }
                                        ],
                                        "barpolar": [
                                            {
                                                "marker": {
                                                    "line": {
                                                        "color": "#E5ECF6",
                                                        "width": 0.5
                                                    },
                                                    "pattern": {
                                                        "fillmode": "overlay",
                                                        "size": 10,
                                                        "solidity": 0.2
                                                    }
                                                },
                                                "type": "barpolar"
                                            }
                                        ],
                                        "carpet": [
                                            {
                                                "aaxis": {
                                                    "endlinecolor": "#2a3f5f",
                                                    "gridcolor": "white",
                                                    "linecolor": "white",
                                                    "minorgridcolor": "white",
                                                    "startlinecolor": "#2a3f5f"
                                                },
                                                "baxis": {
                                                    "endlinecolor": "#2a3f5f",
                                                    "gridcolor": "white",
                                                    "linecolor": "white",
                                                    "minorgridcolor": "white",
                                                    "startlinecolor": "#2a3f5f"
                                                },
                                                "type": "carpet"
                                            }
                                        ],
                                        "choropleth": [
                                            {
                                                "colorbar": {
                                                    "outlinewidth": 0,
                                                    "ticks": ""
                                                },
                                                "type": "choropleth"
                                            }
                                        ],
                                        "contour": [
                                            {
                                                "colorbar": {
                                                    "outlinewidth": 0,
                                                    "ticks": ""
                                                },
                                                "colorscale": [
                                                    [
                                                        0,
                                                        "#0d0887"
                                                    ],
                                                    [
                                                        0.1111111111111111,
                                                        "#46039f"
                                                    ],
                                                    [
                                                        0.2222222222222222,
                                                        "#7201a8"
                                                    ],
                                                    [
                                                        0.3333333333333333,
                                                        "#9c179e"
                                                    ],
                                                    [
                                                        0.4444444444444444,
                                                        "#bd3786"
                                                    ],
                                                    [
                                                        0.5555555555555556,
                                                        "#d8576b"
                                                    ],
                                                    [
                                                        0.6666666666666666,
                                                        "#ed7953"
                                                    ],
                                                    [
                                                        0.7777777777777778,
                                                        "#fb9f3a"
                                                    ],
                                                    [
                                                        0.8888888888888888,
                                                        "#fdca26"
                                                    ],
                                                    [
                                                        1,
                                                        "#f0f921"
                                                    ]
                                                ],
                                                "type": "contour"
                                            }
                                        ],
                                        "contourcarpet": [
                                            {
                                                "colorbar": {
                                                    "outlinewidth": 0,
                                                    "ticks": ""
                                                },
                                                "type": "contourcarpet"
                                            }
                                        ],
                                        "heatmap": [
                                            {
                                                "colorbar": {
                                                    "outlinewidth": 0,
                                                    "ticks": ""
                                                },
                                                "colorscale": [
                                                    [
                                                        0,
                                                        "#0d0887"
                                                    ],
                                                    [
                                                        0.1111111111111111,
                                                        "#46039f"
                                                    ],
                                                    [
                                                        0.2222222222222222,
                                                        "#7201a8"
                                                    ],
                                                    [
                                                        0.3333333333333333,
                                                        "#9c179e"
                                                    ],
                                                    [
                                                        0.4444444444444444,
                                                        "#bd3786"
                                                    ],
                                                    [
                                                        0.5555555555555556,
                                                        "#d8576b"
                                                    ],
                                                    [
                                                        0.6666666666666666,
                                                        "#ed7953"
                                                    ],
                                                    [
                                                        0.7777777777777778,
                                                        "#fb9f3a"
                                                    ],
                                                    [
                                                        0.8888888888888888,
                                                        "#fdca26"
                                                    ],
                                                    [
                                                        1,
                                                        "#f0f921"
                                                    ]
                                                ],
                                                "type": "heatmap"
                                            }
                                        ],
                                        "heatmapgl": [
                                            {
                                                "colorbar": {
                                                    "outlinewidth": 0,
                                                    "ticks": ""
                                                },
                                                "colorscale": [
                                                    [
                                                        0,
                                                        "#0d0887"
                                                    ],
                                                    [
                                                        0.1111111111111111,
                                                        "#46039f"
                                                    ],
                                                    [
                                                        0.2222222222222222,
                                                        "#7201a8"
                                                    ],
                                                    [
                                                        0.3333333333333333,
                                                        "#9c179e"
                                                    ],
                                                    [
                                                        0.4444444444444444,
                                                        "#bd3786"
                                                    ],
                                                    [
                                                        0.5555555555555556,
                                                        "#d8576b"
                                                    ],
                                                    [
                                                        0.6666666666666666,
                                                        "#ed7953"
                                                    ],
                                                    [
                                                        0.7777777777777778,
                                                        "#fb9f3a"
                                                    ],
                                                    [
                                                        0.8888888888888888,
                                                        "#fdca26"
                                                    ],
                                                    [
                                                        1,
                                                        "#f0f921"
                                                    ]
                                                ],
                                                "type": "heatmapgl"
                                            }
                                        ],
                                        "histogram": [
                                            {
                                                "marker": {
                                                    "pattern": {
                                                        "fillmode": "overlay",
                                                        "size": 10,
                                                        "solidity": 0.2
                                                    }
                                                },
                                                "type": "histogram"
                                            }
                                        ],
                                        "histogram2d": [
                                            {
                                                "colorbar": {
                                                    "outlinewidth": 0,
                                                    "ticks": ""
                                                },
                                                "colorscale": [
                                                    [
                                                        0,
                                                        "#0d0887"
                                                    ],
                                                    [
                                                        0.1111111111111111,
                                                        "#46039f"
                                                    ],
                                                    [
                                                        0.2222222222222222,
                                                        "#7201a8"
                                                    ],
                                                    [
                                                        0.3333333333333333,
                                                        "#9c179e"
                                                    ],
                                                    [
                                                        0.4444444444444444,
                                                        "#bd3786"
                                                    ],
                                                    [
                                                        0.5555555555555556,
                                                        "#d8576b"
                                                    ],
                                                    [
                                                        0.6666666666666666,
                                                        "#ed7953"
                                                    ],
                                                    [
                                                        0.7777777777777778,
                                                        "#fb9f3a"
                                                    ],
                                                    [
                                                        0.8888888888888888,
                                                        "#fdca26"
                                                    ],
                                                    [
                                                        1,
                                                        "#f0f921"
                                                    ]
                                                ],
                                                "type": "histogram2d"
                                            }
                                        ],
                                        "histogram2dcontour": [
                                            {
                                                "colorbar": {
                                                    "outlinewidth": 0,
                                                    "ticks": ""
                                                },
                                                "colorscale": [
                                                    [
                                                        0,
                                                        "#0d0887"
                                                    ],
                                                    [
                                                        0.1111111111111111,
                                                        "#46039f"
                                                    ],
                                                    [
                                                        0.2222222222222222,
                                                        "#7201a8"
                                                    ],
                                                    [
                                                        0.3333333333333333,
                                                        "#9c179e"
                                                    ],
                                                    [
                                                        0.4444444444444444,
                                                        "#bd3786"
                                                    ],
                                                    [
                                                        0.5555555555555556,
                                                        "#d8576b"
                                                    ],
                                                    [
                                                        0.6666666666666666,
                                                        "#ed7953"
                                                    ],
                                                    [
                                                        0.7777777777777778,
                                                        "#fb9f3a"
                                                    ],
                                                    [
                                                        0.8888888888888888,
                                                        "#fdca26"
                                                    ],
                                                    [
                                                        1,
                                                        "#f0f921"
                                                    ]
                                                ],
                                                "type": "histogram2dcontour"
                                            }
                                        ],
                                        "mesh3d": [
                                            {
                                                "colorbar": {
                                                    "outlinewidth": 0,
                                                    "ticks": ""
                                                },
                                                "type": "mesh3d"
                                            }
                                        ],
                                        "parcoords": [
                                            {
                                                "line": {
                                                    "colorbar": {
                                                        "outlinewidth": 0,
                                                        "ticks": ""
                                                    }
                                                },
                                                "type": "parcoords"
                                            }
                                        ],
                                        "pie": [
                                            {
                                                "automargin": true,
                                                "type": "pie"
                                            }
                                        ],
                                        "scatter": [
                                            {
                                                "fillpattern": {
                                                    "fillmode": "overlay",
                                                    "size": 10,
                                                    "solidity": 0.2
                                                },
                                                "type": "scatter"
                                            }
                                        ],
                                        "scatter3d": [
                                            {
                                                "line": {
                                                    "colorbar": {
                                                        "outlinewidth": 0,
                                                        "ticks": ""
                                                    }
                                                },
                                                "marker": {
                                                    "colorbar": {
                                                        "outlinewidth": 0,
                                                        "ticks": ""
                                                    }
                                                },
                                                "type": "scatter3d"
                                            }
                                        ],
                                        "scattercarpet": [
                                            {
                                                "marker": {
                                                    "colorbar": {
                                                        "outlinewidth": 0,
                                                        "ticks": ""
                                                    }
                                                },
                                                "type": "scattercarpet"
                                            }
                                        ],
                                        "scattergeo": [
                                            {
                                                "marker": {
                                                    "colorbar": {
                                                        "outlinewidth": 0,
                                                        "ticks": ""
                                                    }
                                                },
                                                "type": "scattergeo"
                                            }
                                        ],
                                        "scattergl": [
                                            {
                                                "marker": {
                                                    "colorbar": {
                                                        "outlinewidth": 0,
                                                        "ticks": ""
                                                    }
                                                },
                                                "type": "scattergl"
                                            }
                                        ],
                                        "scattermapbox": [
                                            {
                                                "marker": {
                                                    "colorbar": {
                                                        "outlinewidth": 0,
                                                        "ticks": ""
                                                    }
                                                },
                                                "type": "scattermapbox"
                                            }
                                        ],
                                        "scatterpolar": [
                                            {
                                                "marker": {
                                                    "colorbar": {
                                                        "outlinewidth": 0,
                                                        "ticks": ""
                                                    }
                                                },
                                                "type": "scatterpolar"
                                            }
                                        ],
                                        "scatterpolargl": [
                                            {
                                                "marker": {
                                                    "colorbar": {
                                                        "outlinewidth": 0,
                                                        "ticks": ""
                                                    }
                                                },
                                                "type": "scatterpolargl"
                                            }
                                        ],
                                        "scatterternary": [
                                            {
                                                "marker": {
                                                    "colorbar": {
                                                        "outlinewidth": 0,
                                                        "ticks": ""
                                                    }
                                                },
                                                "type": "scatterternary"
                                            }
                                        ],
                                        "surface": [
                                            {
                                                "colorbar": {
                                                    "outlinewidth": 0,
                                                    "ticks": ""
                                                },
                                                "colorscale": [
                                                    [
                                                        0,
                                                        "#0d0887"
                                                    ],
                                                    [
                                                        0.1111111111111111,
                                                        "#46039f"
                                                    ],
                                                    [
                                                        0.2222222222222222,
                                                        "#7201a8"
                                                    ],
                                                    [
                                                        0.3333333333333333,
                                                        "#9c179e"
                                                    ],
                                                    [
                                                        0.4444444444444444,
                                                        "#bd3786"
                                                    ],
                                                    [
                                                        0.5555555555555556,
                                                        "#d8576b"
                                                    ],
                                                    [
                                                        0.6666666666666666,
                                                        "#ed7953"
                                                    ],
                                                    [
                                                        0.7777777777777778,
                                                        "#fb9f3a"
                                                    ],
                                                    [
                                                        0.8888888888888888,
                                                        "#fdca26"
                                                    ],
                                                    [
                                                        1,
                                                        "#f0f921"
                                                    ]
                                                ],
                                                "type": "surface"
                                            }
                                        ],
                                        "table": [
                                            {
                                                "cells": {
                                                    "fill": {
                                                        "color": "#EBF0F8"
                                                    },
                                                    "line": {
                                                        "color": "white"
                                                    }
                                                },
                                                "header": {
                                                    "fill": {
                                                        "color": "#C8D4E3"
                                                    },
                                                    "line": {
                                                        "color": "white"
                                                    }
                                                },
                                                "type": "table"
                                            }
                                        ]
                                    },
                                    "layout": {
                                        "annotationdefaults": {
                                            "arrowcolor": "#2a3f5f",
                                            "arrowhead": 0,
                                            "arrowwidth": 1
                                        },
                                        "autotypenumbers": "strict",
                                        "coloraxis": {
                                            "colorbar": {
                                                "outlinewidth": 0,
                                                "ticks": ""
                                            }
                                        },
                                        "colorscale": {
                                            "diverging": [
                                                [
                                                    0,
                                                    "#8e0152"
                                                ],
                                                [
                                                    0.1,
                                                    "#c51b7d"
                                                ],
                                                [
                                                    0.2,
                                                    "#de77ae"
                                                ],
                                                [
                                                    0.3,
                                                    "#f1b6da"
                                                ],
                                                [
                                                    0.4,
                                                    "#fde0ef"
                                                ],
                                                [
                                                    0.5,
                                                    "#f7f7f7"
                                                ],
                                                [
                                                    0.6,
                                                    "#e6f5d0"
                                                ],
                                                [
                                                    0.7,
                                                    "#b8e186"
                                                ],
                                                [
                                                    0.8,
                                                    "#7fbc41"
                                                ],
                                                [
                                                    0.9,
                                                    "#4d9221"
                                                ],
                                                [
                                                    1,
                                                    "#276419"
                                                ]
                                            ],
                                            "sequential": [
                                                [
                                                    0,
                                                    "#0d0887"
                                                ],
                                                [
                                                    0.1111111111111111,
                                                    "#46039f"
                                                ],
                                                [
                                                    0.2222222222222222,
                                                    "#7201a8"
                                                ],
                                                [
                                                    0.3333333333333333,
                                                    "#9c179e"
                                                ],
                                                [
                                                    0.4444444444444444,
                                                    "#bd3786"
                                                ],
                                                [
                                                    0.5555555555555556,
                                                    "#d8576b"
                                                ],
                                                [
                                                    0.6666666666666666,
                                                    "#ed7953"
                                                ],
                                                [
                                                    0.7777777777777778,
                                                    "#fb9f3a"
                                                ],
                                                [
                                                    0.8888888888888888,
                                                    "#fdca26"
                                                ],
                                                [
                                                    1,
                                                    "#f0f921"
                                                ]
                                            ],
                                            "sequentialminus": [
                                                [
                                                    0,
                                                    "#0d0887"
                                                ],
                                                [
                                                    0.1111111111111111,
                                                    "#46039f"
                                                ],
                                                [
                                                    0.2222222222222222,
                                                    "#7201a8"
                                                ],
                                                [
                                                    0.3333333333333333,
                                                    "#9c179e"
                                                ],
                                                [
                                                    0.4444444444444444,
                                                    "#bd3786"
                                                ],
                                                [
                                                    0.5555555555555556,
                                                    "#d8576b"
                                                ],
                                                [
                                                    0.6666666666666666,
                                                    "#ed7953"
                                                ],
                                                [
                                                    0.7777777777777778,
                                                    "#fb9f3a"
                                                ],
                                                [
                                                    0.8888888888888888,
                                                    "#fdca26"
                                                ],
                                                [
                                                    1,
                                                    "#f0f921"
                                                ]
                                            ]
                                        },
                                        "colorway": [
                                            "#636efa",
                                            "#EF553B",
                                            "#00cc96",
                                            "#ab63fa",
                                            "#FFA15A",
                                            "#19d3f3",
                                            "#FF6692",
                                            "#B6E880",
                                            "#FF97FF",
                                            "#FECB52"
                                        ],
                                        "font": {
                                            "color": "#2a3f5f"
                                        },
                                        "geo": {
                                            "bgcolor": "white",
                                            "lakecolor": "white",
                                            "landcolor": "#E5ECF6",
                                            "showlakes": true,
                                            "showland": true,
                                            "subunitcolor": "white"
                                        },
                                        "hoverlabel": {
                                            "align": "left"
                                        },
                                        "hovermode": "closest",
                                        "mapbox": {
                                            "style": "light"
                                        },
                                        "paper_bgcolor": "white",
                                        "plot_bgcolor": "#E5ECF6",
                                        "polar": {
                                            "angularaxis": {
                                                "gridcolor": "white",
                                                "linecolor": "white",
                                                "ticks": ""
                                            },
                                            "bgcolor": "#E5ECF6",
                                            "radialaxis": {
                                                "gridcolor": "white",
                                                "linecolor": "white",
                                                "ticks": ""
                                            }
                                        },
                                        "scene": {
                                            "xaxis": {
                                                "backgroundcolor": "#E5ECF6",
                                                "gridcolor": "white",
                                                "gridwidth": 2,
                                                "linecolor": "white",
                                                "showbackground": true,
                                                "ticks": "",
                                                "zerolinecolor": "white"
                                            },
                                            "yaxis": {
                                                "backgroundcolor": "#E5ECF6",
                                                "gridcolor": "white",
                                                "gridwidth": 2,
                                                "linecolor": "white",
                                                "showbackground": true,
                                                "ticks": "",
                                                "zerolinecolor": "white"
                                            },
                                            "zaxis": {
                                                "backgroundcolor": "#E5ECF6",
                                                "gridcolor": "white",
                                                "gridwidth": 2,
                                                "linecolor": "white",
                                                "showbackground": true,
                                                "ticks": "",
                                                "zerolinecolor": "white"
                                            }
                                        },
                                        "shapedefaults": {
                                            "line": {
                                                "color": "#2a3f5f"
                                            }
                                        },
                                        "ternary": {
                                            "aaxis": {
                                                "gridcolor": "white",
                                                "linecolor": "white",
                                                "ticks": ""
                                            },
                                            "baxis": {
                                                "gridcolor": "white",
                                                "linecolor": "white",
                                                "ticks": ""
                                            },
                                            "bgcolor": "#E5ECF6",
                                            "caxis": {
                                                "gridcolor": "white",
                                                "linecolor": "white",
                                                "ticks": ""
                                            }
                                        },
                                        "title": {
                                            "x": 0.05
                                        },
                                        "xaxis": {
                                            "automargin": true,
                                            "gridcolor": "white",
                                            "linecolor": "white",
                                            "ticks": "",
                                            "title": {
                                                "standoff": 15
                                            },
                                            "zerolinecolor": "white",
                                            "zerolinewidth": 2
                                        },
                                        "yaxis": {
                                            "automargin": true,
                                            "gridcolor": "white",
                                            "linecolor": "white",
                                            "ticks": "",
                                            "title": {
                                                "standoff": 15
                                            },
                                            "zerolinecolor": "white",
                                            "zerolinewidth": 2
                                        }
                                    }
                                },
                                "title": {
                                    "text": "Initial Risk Parity Portfolio Weights"
                                },
                                "width": 700,
                                "xaxis": {
                                    "tickmode": "linear",
                                    "title": {
                                        "text": "Assets"
                                    }
                                },
                                "yaxis": {
                                    "title": {
                                        "text": "Weights"
                                    }
                                }
                            }
                        }
                    },
                    "metadata": {},
                    "output_type": "display_data"
                }
            ],
            "source": [
                "visualizer.plot_portfolio_weights()"
            ]
        },
        {
            "cell_type": "markdown",
            "metadata": {},
            "source": [
                "Plot portfolio risk allocation : "
            ]
        },
        {
            "cell_type": "code",
            "execution_count": 12,
            "metadata": {},
            "outputs": [
                {
                    "data": {
                        "application/vnd.plotly.v1+json": {
                            "config": {
                                "plotlyServerURL": "https://plot.ly"
                            },
                            "data": [
                                {
                                    "hoverinfo": "label+value",
                                    "labels": [
                                        "GLD",
                                        "SPY",
                                        "TLT"
                                    ],
                                    "marker": {
                                        "colors": [
                                            "#1F77B4",
                                            "#b41f49",
                                            "#f7cf07"
                                        ]
                                    },
                                    "textinfo": "label+percent",
                                    "type": "pie",
                                    "values": [
                                        0.333,
                                        0.333,
                                        0.334
                                    ]
                                }
                            ],
                            "layout": {
                                "template": {
                                    "data": {
                                        "bar": [
                                            {
                                                "error_x": {
                                                    "color": "#2a3f5f"
                                                },
                                                "error_y": {
                                                    "color": "#2a3f5f"
                                                },
                                                "marker": {
                                                    "line": {
                                                        "color": "white",
                                                        "width": 0.5
                                                    },
                                                    "pattern": {
                                                        "fillmode": "overlay",
                                                        "size": 10,
                                                        "solidity": 0.2
                                                    }
                                                },
                                                "type": "bar"
                                            }
                                        ],
                                        "barpolar": [
                                            {
                                                "marker": {
                                                    "line": {
                                                        "color": "white",
                                                        "width": 0.5
                                                    },
                                                    "pattern": {
                                                        "fillmode": "overlay",
                                                        "size": 10,
                                                        "solidity": 0.2
                                                    }
                                                },
                                                "type": "barpolar"
                                            }
                                        ],
                                        "carpet": [
                                            {
                                                "aaxis": {
                                                    "endlinecolor": "#2a3f5f",
                                                    "gridcolor": "#C8D4E3",
                                                    "linecolor": "#C8D4E3",
                                                    "minorgridcolor": "#C8D4E3",
                                                    "startlinecolor": "#2a3f5f"
                                                },
                                                "baxis": {
                                                    "endlinecolor": "#2a3f5f",
                                                    "gridcolor": "#C8D4E3",
                                                    "linecolor": "#C8D4E3",
                                                    "minorgridcolor": "#C8D4E3",
                                                    "startlinecolor": "#2a3f5f"
                                                },
                                                "type": "carpet"
                                            }
                                        ],
                                        "choropleth": [
                                            {
                                                "colorbar": {
                                                    "outlinewidth": 0,
                                                    "ticks": ""
                                                },
                                                "type": "choropleth"
                                            }
                                        ],
                                        "contour": [
                                            {
                                                "colorbar": {
                                                    "outlinewidth": 0,
                                                    "ticks": ""
                                                },
                                                "colorscale": [
                                                    [
                                                        0,
                                                        "#0d0887"
                                                    ],
                                                    [
                                                        0.1111111111111111,
                                                        "#46039f"
                                                    ],
                                                    [
                                                        0.2222222222222222,
                                                        "#7201a8"
                                                    ],
                                                    [
                                                        0.3333333333333333,
                                                        "#9c179e"
                                                    ],
                                                    [
                                                        0.4444444444444444,
                                                        "#bd3786"
                                                    ],
                                                    [
                                                        0.5555555555555556,
                                                        "#d8576b"
                                                    ],
                                                    [
                                                        0.6666666666666666,
                                                        "#ed7953"
                                                    ],
                                                    [
                                                        0.7777777777777778,
                                                        "#fb9f3a"
                                                    ],
                                                    [
                                                        0.8888888888888888,
                                                        "#fdca26"
                                                    ],
                                                    [
                                                        1,
                                                        "#f0f921"
                                                    ]
                                                ],
                                                "type": "contour"
                                            }
                                        ],
                                        "contourcarpet": [
                                            {
                                                "colorbar": {
                                                    "outlinewidth": 0,
                                                    "ticks": ""
                                                },
                                                "type": "contourcarpet"
                                            }
                                        ],
                                        "heatmap": [
                                            {
                                                "colorbar": {
                                                    "outlinewidth": 0,
                                                    "ticks": ""
                                                },
                                                "colorscale": [
                                                    [
                                                        0,
                                                        "#0d0887"
                                                    ],
                                                    [
                                                        0.1111111111111111,
                                                        "#46039f"
                                                    ],
                                                    [
                                                        0.2222222222222222,
                                                        "#7201a8"
                                                    ],
                                                    [
                                                        0.3333333333333333,
                                                        "#9c179e"
                                                    ],
                                                    [
                                                        0.4444444444444444,
                                                        "#bd3786"
                                                    ],
                                                    [
                                                        0.5555555555555556,
                                                        "#d8576b"
                                                    ],
                                                    [
                                                        0.6666666666666666,
                                                        "#ed7953"
                                                    ],
                                                    [
                                                        0.7777777777777778,
                                                        "#fb9f3a"
                                                    ],
                                                    [
                                                        0.8888888888888888,
                                                        "#fdca26"
                                                    ],
                                                    [
                                                        1,
                                                        "#f0f921"
                                                    ]
                                                ],
                                                "type": "heatmap"
                                            }
                                        ],
                                        "heatmapgl": [
                                            {
                                                "colorbar": {
                                                    "outlinewidth": 0,
                                                    "ticks": ""
                                                },
                                                "colorscale": [
                                                    [
                                                        0,
                                                        "#0d0887"
                                                    ],
                                                    [
                                                        0.1111111111111111,
                                                        "#46039f"
                                                    ],
                                                    [
                                                        0.2222222222222222,
                                                        "#7201a8"
                                                    ],
                                                    [
                                                        0.3333333333333333,
                                                        "#9c179e"
                                                    ],
                                                    [
                                                        0.4444444444444444,
                                                        "#bd3786"
                                                    ],
                                                    [
                                                        0.5555555555555556,
                                                        "#d8576b"
                                                    ],
                                                    [
                                                        0.6666666666666666,
                                                        "#ed7953"
                                                    ],
                                                    [
                                                        0.7777777777777778,
                                                        "#fb9f3a"
                                                    ],
                                                    [
                                                        0.8888888888888888,
                                                        "#fdca26"
                                                    ],
                                                    [
                                                        1,
                                                        "#f0f921"
                                                    ]
                                                ],
                                                "type": "heatmapgl"
                                            }
                                        ],
                                        "histogram": [
                                            {
                                                "marker": {
                                                    "pattern": {
                                                        "fillmode": "overlay",
                                                        "size": 10,
                                                        "solidity": 0.2
                                                    }
                                                },
                                                "type": "histogram"
                                            }
                                        ],
                                        "histogram2d": [
                                            {
                                                "colorbar": {
                                                    "outlinewidth": 0,
                                                    "ticks": ""
                                                },
                                                "colorscale": [
                                                    [
                                                        0,
                                                        "#0d0887"
                                                    ],
                                                    [
                                                        0.1111111111111111,
                                                        "#46039f"
                                                    ],
                                                    [
                                                        0.2222222222222222,
                                                        "#7201a8"
                                                    ],
                                                    [
                                                        0.3333333333333333,
                                                        "#9c179e"
                                                    ],
                                                    [
                                                        0.4444444444444444,
                                                        "#bd3786"
                                                    ],
                                                    [
                                                        0.5555555555555556,
                                                        "#d8576b"
                                                    ],
                                                    [
                                                        0.6666666666666666,
                                                        "#ed7953"
                                                    ],
                                                    [
                                                        0.7777777777777778,
                                                        "#fb9f3a"
                                                    ],
                                                    [
                                                        0.8888888888888888,
                                                        "#fdca26"
                                                    ],
                                                    [
                                                        1,
                                                        "#f0f921"
                                                    ]
                                                ],
                                                "type": "histogram2d"
                                            }
                                        ],
                                        "histogram2dcontour": [
                                            {
                                                "colorbar": {
                                                    "outlinewidth": 0,
                                                    "ticks": ""
                                                },
                                                "colorscale": [
                                                    [
                                                        0,
                                                        "#0d0887"
                                                    ],
                                                    [
                                                        0.1111111111111111,
                                                        "#46039f"
                                                    ],
                                                    [
                                                        0.2222222222222222,
                                                        "#7201a8"
                                                    ],
                                                    [
                                                        0.3333333333333333,
                                                        "#9c179e"
                                                    ],
                                                    [
                                                        0.4444444444444444,
                                                        "#bd3786"
                                                    ],
                                                    [
                                                        0.5555555555555556,
                                                        "#d8576b"
                                                    ],
                                                    [
                                                        0.6666666666666666,
                                                        "#ed7953"
                                                    ],
                                                    [
                                                        0.7777777777777778,
                                                        "#fb9f3a"
                                                    ],
                                                    [
                                                        0.8888888888888888,
                                                        "#fdca26"
                                                    ],
                                                    [
                                                        1,
                                                        "#f0f921"
                                                    ]
                                                ],
                                                "type": "histogram2dcontour"
                                            }
                                        ],
                                        "mesh3d": [
                                            {
                                                "colorbar": {
                                                    "outlinewidth": 0,
                                                    "ticks": ""
                                                },
                                                "type": "mesh3d"
                                            }
                                        ],
                                        "parcoords": [
                                            {
                                                "line": {
                                                    "colorbar": {
                                                        "outlinewidth": 0,
                                                        "ticks": ""
                                                    }
                                                },
                                                "type": "parcoords"
                                            }
                                        ],
                                        "pie": [
                                            {
                                                "automargin": true,
                                                "type": "pie"
                                            }
                                        ],
                                        "scatter": [
                                            {
                                                "fillpattern": {
                                                    "fillmode": "overlay",
                                                    "size": 10,
                                                    "solidity": 0.2
                                                },
                                                "type": "scatter"
                                            }
                                        ],
                                        "scatter3d": [
                                            {
                                                "line": {
                                                    "colorbar": {
                                                        "outlinewidth": 0,
                                                        "ticks": ""
                                                    }
                                                },
                                                "marker": {
                                                    "colorbar": {
                                                        "outlinewidth": 0,
                                                        "ticks": ""
                                                    }
                                                },
                                                "type": "scatter3d"
                                            }
                                        ],
                                        "scattercarpet": [
                                            {
                                                "marker": {
                                                    "colorbar": {
                                                        "outlinewidth": 0,
                                                        "ticks": ""
                                                    }
                                                },
                                                "type": "scattercarpet"
                                            }
                                        ],
                                        "scattergeo": [
                                            {
                                                "marker": {
                                                    "colorbar": {
                                                        "outlinewidth": 0,
                                                        "ticks": ""
                                                    }
                                                },
                                                "type": "scattergeo"
                                            }
                                        ],
                                        "scattergl": [
                                            {
                                                "marker": {
                                                    "colorbar": {
                                                        "outlinewidth": 0,
                                                        "ticks": ""
                                                    }
                                                },
                                                "type": "scattergl"
                                            }
                                        ],
                                        "scattermapbox": [
                                            {
                                                "marker": {
                                                    "colorbar": {
                                                        "outlinewidth": 0,
                                                        "ticks": ""
                                                    }
                                                },
                                                "type": "scattermapbox"
                                            }
                                        ],
                                        "scatterpolar": [
                                            {
                                                "marker": {
                                                    "colorbar": {
                                                        "outlinewidth": 0,
                                                        "ticks": ""
                                                    }
                                                },
                                                "type": "scatterpolar"
                                            }
                                        ],
                                        "scatterpolargl": [
                                            {
                                                "marker": {
                                                    "colorbar": {
                                                        "outlinewidth": 0,
                                                        "ticks": ""
                                                    }
                                                },
                                                "type": "scatterpolargl"
                                            }
                                        ],
                                        "scatterternary": [
                                            {
                                                "marker": {
                                                    "colorbar": {
                                                        "outlinewidth": 0,
                                                        "ticks": ""
                                                    }
                                                },
                                                "type": "scatterternary"
                                            }
                                        ],
                                        "surface": [
                                            {
                                                "colorbar": {
                                                    "outlinewidth": 0,
                                                    "ticks": ""
                                                },
                                                "colorscale": [
                                                    [
                                                        0,
                                                        "#0d0887"
                                                    ],
                                                    [
                                                        0.1111111111111111,
                                                        "#46039f"
                                                    ],
                                                    [
                                                        0.2222222222222222,
                                                        "#7201a8"
                                                    ],
                                                    [
                                                        0.3333333333333333,
                                                        "#9c179e"
                                                    ],
                                                    [
                                                        0.4444444444444444,
                                                        "#bd3786"
                                                    ],
                                                    [
                                                        0.5555555555555556,
                                                        "#d8576b"
                                                    ],
                                                    [
                                                        0.6666666666666666,
                                                        "#ed7953"
                                                    ],
                                                    [
                                                        0.7777777777777778,
                                                        "#fb9f3a"
                                                    ],
                                                    [
                                                        0.8888888888888888,
                                                        "#fdca26"
                                                    ],
                                                    [
                                                        1,
                                                        "#f0f921"
                                                    ]
                                                ],
                                                "type": "surface"
                                            }
                                        ],
                                        "table": [
                                            {
                                                "cells": {
                                                    "fill": {
                                                        "color": "#EBF0F8"
                                                    },
                                                    "line": {
                                                        "color": "white"
                                                    }
                                                },
                                                "header": {
                                                    "fill": {
                                                        "color": "#C8D4E3"
                                                    },
                                                    "line": {
                                                        "color": "white"
                                                    }
                                                },
                                                "type": "table"
                                            }
                                        ]
                                    },
                                    "layout": {
                                        "annotationdefaults": {
                                            "arrowcolor": "#2a3f5f",
                                            "arrowhead": 0,
                                            "arrowwidth": 1
                                        },
                                        "autotypenumbers": "strict",
                                        "coloraxis": {
                                            "colorbar": {
                                                "outlinewidth": 0,
                                                "ticks": ""
                                            }
                                        },
                                        "colorscale": {
                                            "diverging": [
                                                [
                                                    0,
                                                    "#8e0152"
                                                ],
                                                [
                                                    0.1,
                                                    "#c51b7d"
                                                ],
                                                [
                                                    0.2,
                                                    "#de77ae"
                                                ],
                                                [
                                                    0.3,
                                                    "#f1b6da"
                                                ],
                                                [
                                                    0.4,
                                                    "#fde0ef"
                                                ],
                                                [
                                                    0.5,
                                                    "#f7f7f7"
                                                ],
                                                [
                                                    0.6,
                                                    "#e6f5d0"
                                                ],
                                                [
                                                    0.7,
                                                    "#b8e186"
                                                ],
                                                [
                                                    0.8,
                                                    "#7fbc41"
                                                ],
                                                [
                                                    0.9,
                                                    "#4d9221"
                                                ],
                                                [
                                                    1,
                                                    "#276419"
                                                ]
                                            ],
                                            "sequential": [
                                                [
                                                    0,
                                                    "#0d0887"
                                                ],
                                                [
                                                    0.1111111111111111,
                                                    "#46039f"
                                                ],
                                                [
                                                    0.2222222222222222,
                                                    "#7201a8"
                                                ],
                                                [
                                                    0.3333333333333333,
                                                    "#9c179e"
                                                ],
                                                [
                                                    0.4444444444444444,
                                                    "#bd3786"
                                                ],
                                                [
                                                    0.5555555555555556,
                                                    "#d8576b"
                                                ],
                                                [
                                                    0.6666666666666666,
                                                    "#ed7953"
                                                ],
                                                [
                                                    0.7777777777777778,
                                                    "#fb9f3a"
                                                ],
                                                [
                                                    0.8888888888888888,
                                                    "#fdca26"
                                                ],
                                                [
                                                    1,
                                                    "#f0f921"
                                                ]
                                            ],
                                            "sequentialminus": [
                                                [
                                                    0,
                                                    "#0d0887"
                                                ],
                                                [
                                                    0.1111111111111111,
                                                    "#46039f"
                                                ],
                                                [
                                                    0.2222222222222222,
                                                    "#7201a8"
                                                ],
                                                [
                                                    0.3333333333333333,
                                                    "#9c179e"
                                                ],
                                                [
                                                    0.4444444444444444,
                                                    "#bd3786"
                                                ],
                                                [
                                                    0.5555555555555556,
                                                    "#d8576b"
                                                ],
                                                [
                                                    0.6666666666666666,
                                                    "#ed7953"
                                                ],
                                                [
                                                    0.7777777777777778,
                                                    "#fb9f3a"
                                                ],
                                                [
                                                    0.8888888888888888,
                                                    "#fdca26"
                                                ],
                                                [
                                                    1,
                                                    "#f0f921"
                                                ]
                                            ]
                                        },
                                        "colorway": [
                                            "#636efa",
                                            "#EF553B",
                                            "#00cc96",
                                            "#ab63fa",
                                            "#FFA15A",
                                            "#19d3f3",
                                            "#FF6692",
                                            "#B6E880",
                                            "#FF97FF",
                                            "#FECB52"
                                        ],
                                        "font": {
                                            "color": "#2a3f5f"
                                        },
                                        "geo": {
                                            "bgcolor": "white",
                                            "lakecolor": "white",
                                            "landcolor": "white",
                                            "showlakes": true,
                                            "showland": true,
                                            "subunitcolor": "#C8D4E3"
                                        },
                                        "hoverlabel": {
                                            "align": "left"
                                        },
                                        "hovermode": "closest",
                                        "mapbox": {
                                            "style": "light"
                                        },
                                        "paper_bgcolor": "white",
                                        "plot_bgcolor": "white",
                                        "polar": {
                                            "angularaxis": {
                                                "gridcolor": "#EBF0F8",
                                                "linecolor": "#EBF0F8",
                                                "ticks": ""
                                            },
                                            "bgcolor": "white",
                                            "radialaxis": {
                                                "gridcolor": "#EBF0F8",
                                                "linecolor": "#EBF0F8",
                                                "ticks": ""
                                            }
                                        },
                                        "scene": {
                                            "xaxis": {
                                                "backgroundcolor": "white",
                                                "gridcolor": "#DFE8F3",
                                                "gridwidth": 2,
                                                "linecolor": "#EBF0F8",
                                                "showbackground": true,
                                                "ticks": "",
                                                "zerolinecolor": "#EBF0F8"
                                            },
                                            "yaxis": {
                                                "backgroundcolor": "white",
                                                "gridcolor": "#DFE8F3",
                                                "gridwidth": 2,
                                                "linecolor": "#EBF0F8",
                                                "showbackground": true,
                                                "ticks": "",
                                                "zerolinecolor": "#EBF0F8"
                                            },
                                            "zaxis": {
                                                "backgroundcolor": "white",
                                                "gridcolor": "#DFE8F3",
                                                "gridwidth": 2,
                                                "linecolor": "#EBF0F8",
                                                "showbackground": true,
                                                "ticks": "",
                                                "zerolinecolor": "#EBF0F8"
                                            }
                                        },
                                        "shapedefaults": {
                                            "line": {
                                                "color": "#2a3f5f"
                                            }
                                        },
                                        "ternary": {
                                            "aaxis": {
                                                "gridcolor": "#DFE8F3",
                                                "linecolor": "#A2B1C6",
                                                "ticks": ""
                                            },
                                            "baxis": {
                                                "gridcolor": "#DFE8F3",
                                                "linecolor": "#A2B1C6",
                                                "ticks": ""
                                            },
                                            "bgcolor": "white",
                                            "caxis": {
                                                "gridcolor": "#DFE8F3",
                                                "linecolor": "#A2B1C6",
                                                "ticks": ""
                                            }
                                        },
                                        "title": {
                                            "x": 0.05
                                        },
                                        "xaxis": {
                                            "automargin": true,
                                            "gridcolor": "#EBF0F8",
                                            "linecolor": "#EBF0F8",
                                            "ticks": "",
                                            "title": {
                                                "standoff": 15
                                            },
                                            "zerolinecolor": "#EBF0F8",
                                            "zerolinewidth": 2
                                        },
                                        "yaxis": {
                                            "automargin": true,
                                            "gridcolor": "#EBF0F8",
                                            "linecolor": "#EBF0F8",
                                            "ticks": "",
                                            "title": {
                                                "standoff": 15
                                            },
                                            "zerolinecolor": "#EBF0F8",
                                            "zerolinewidth": 2
                                        }
                                    }
                                },
                                "title": {
                                    "text": "Risk Parity Allocation Pie Chart"
                                }
                            }
                        }
                    },
                    "metadata": {},
                    "output_type": "display_data"
                },
                {
                    "data": {
                        "application/vnd.plotly.v1+json": {
                            "config": {
                                "plotlyServerURL": "https://plot.ly"
                            },
                            "data": [
                                {
                                    "hoverinfo": "label+value",
                                    "labels": [
                                        "GLD",
                                        "SPY",
                                        "TLT"
                                    ],
                                    "marker": {
                                        "colors": [
                                            "#1F77B4",
                                            "#b41f49",
                                            "#f7cf07"
                                        ]
                                    },
                                    "textinfo": "label+percent",
                                    "type": "pie",
                                    "values": [
                                        0.333,
                                        0.333,
                                        0.334
                                    ]
                                }
                            ],
                            "layout": {
                                "template": {
                                    "data": {
                                        "bar": [
                                            {
                                                "error_x": {
                                                    "color": "#2a3f5f"
                                                },
                                                "error_y": {
                                                    "color": "#2a3f5f"
                                                },
                                                "marker": {
                                                    "line": {
                                                        "color": "white",
                                                        "width": 0.5
                                                    },
                                                    "pattern": {
                                                        "fillmode": "overlay",
                                                        "size": 10,
                                                        "solidity": 0.2
                                                    }
                                                },
                                                "type": "bar"
                                            }
                                        ],
                                        "barpolar": [
                                            {
                                                "marker": {
                                                    "line": {
                                                        "color": "white",
                                                        "width": 0.5
                                                    },
                                                    "pattern": {
                                                        "fillmode": "overlay",
                                                        "size": 10,
                                                        "solidity": 0.2
                                                    }
                                                },
                                                "type": "barpolar"
                                            }
                                        ],
                                        "carpet": [
                                            {
                                                "aaxis": {
                                                    "endlinecolor": "#2a3f5f",
                                                    "gridcolor": "#C8D4E3",
                                                    "linecolor": "#C8D4E3",
                                                    "minorgridcolor": "#C8D4E3",
                                                    "startlinecolor": "#2a3f5f"
                                                },
                                                "baxis": {
                                                    "endlinecolor": "#2a3f5f",
                                                    "gridcolor": "#C8D4E3",
                                                    "linecolor": "#C8D4E3",
                                                    "minorgridcolor": "#C8D4E3",
                                                    "startlinecolor": "#2a3f5f"
                                                },
                                                "type": "carpet"
                                            }
                                        ],
                                        "choropleth": [
                                            {
                                                "colorbar": {
                                                    "outlinewidth": 0,
                                                    "ticks": ""
                                                },
                                                "type": "choropleth"
                                            }
                                        ],
                                        "contour": [
                                            {
                                                "colorbar": {
                                                    "outlinewidth": 0,
                                                    "ticks": ""
                                                },
                                                "colorscale": [
                                                    [
                                                        0,
                                                        "#0d0887"
                                                    ],
                                                    [
                                                        0.1111111111111111,
                                                        "#46039f"
                                                    ],
                                                    [
                                                        0.2222222222222222,
                                                        "#7201a8"
                                                    ],
                                                    [
                                                        0.3333333333333333,
                                                        "#9c179e"
                                                    ],
                                                    [
                                                        0.4444444444444444,
                                                        "#bd3786"
                                                    ],
                                                    [
                                                        0.5555555555555556,
                                                        "#d8576b"
                                                    ],
                                                    [
                                                        0.6666666666666666,
                                                        "#ed7953"
                                                    ],
                                                    [
                                                        0.7777777777777778,
                                                        "#fb9f3a"
                                                    ],
                                                    [
                                                        0.8888888888888888,
                                                        "#fdca26"
                                                    ],
                                                    [
                                                        1,
                                                        "#f0f921"
                                                    ]
                                                ],
                                                "type": "contour"
                                            }
                                        ],
                                        "contourcarpet": [
                                            {
                                                "colorbar": {
                                                    "outlinewidth": 0,
                                                    "ticks": ""
                                                },
                                                "type": "contourcarpet"
                                            }
                                        ],
                                        "heatmap": [
                                            {
                                                "colorbar": {
                                                    "outlinewidth": 0,
                                                    "ticks": ""
                                                },
                                                "colorscale": [
                                                    [
                                                        0,
                                                        "#0d0887"
                                                    ],
                                                    [
                                                        0.1111111111111111,
                                                        "#46039f"
                                                    ],
                                                    [
                                                        0.2222222222222222,
                                                        "#7201a8"
                                                    ],
                                                    [
                                                        0.3333333333333333,
                                                        "#9c179e"
                                                    ],
                                                    [
                                                        0.4444444444444444,
                                                        "#bd3786"
                                                    ],
                                                    [
                                                        0.5555555555555556,
                                                        "#d8576b"
                                                    ],
                                                    [
                                                        0.6666666666666666,
                                                        "#ed7953"
                                                    ],
                                                    [
                                                        0.7777777777777778,
                                                        "#fb9f3a"
                                                    ],
                                                    [
                                                        0.8888888888888888,
                                                        "#fdca26"
                                                    ],
                                                    [
                                                        1,
                                                        "#f0f921"
                                                    ]
                                                ],
                                                "type": "heatmap"
                                            }
                                        ],
                                        "heatmapgl": [
                                            {
                                                "colorbar": {
                                                    "outlinewidth": 0,
                                                    "ticks": ""
                                                },
                                                "colorscale": [
                                                    [
                                                        0,
                                                        "#0d0887"
                                                    ],
                                                    [
                                                        0.1111111111111111,
                                                        "#46039f"
                                                    ],
                                                    [
                                                        0.2222222222222222,
                                                        "#7201a8"
                                                    ],
                                                    [
                                                        0.3333333333333333,
                                                        "#9c179e"
                                                    ],
                                                    [
                                                        0.4444444444444444,
                                                        "#bd3786"
                                                    ],
                                                    [
                                                        0.5555555555555556,
                                                        "#d8576b"
                                                    ],
                                                    [
                                                        0.6666666666666666,
                                                        "#ed7953"
                                                    ],
                                                    [
                                                        0.7777777777777778,
                                                        "#fb9f3a"
                                                    ],
                                                    [
                                                        0.8888888888888888,
                                                        "#fdca26"
                                                    ],
                                                    [
                                                        1,
                                                        "#f0f921"
                                                    ]
                                                ],
                                                "type": "heatmapgl"
                                            }
                                        ],
                                        "histogram": [
                                            {
                                                "marker": {
                                                    "pattern": {
                                                        "fillmode": "overlay",
                                                        "size": 10,
                                                        "solidity": 0.2
                                                    }
                                                },
                                                "type": "histogram"
                                            }
                                        ],
                                        "histogram2d": [
                                            {
                                                "colorbar": {
                                                    "outlinewidth": 0,
                                                    "ticks": ""
                                                },
                                                "colorscale": [
                                                    [
                                                        0,
                                                        "#0d0887"
                                                    ],
                                                    [
                                                        0.1111111111111111,
                                                        "#46039f"
                                                    ],
                                                    [
                                                        0.2222222222222222,
                                                        "#7201a8"
                                                    ],
                                                    [
                                                        0.3333333333333333,
                                                        "#9c179e"
                                                    ],
                                                    [
                                                        0.4444444444444444,
                                                        "#bd3786"
                                                    ],
                                                    [
                                                        0.5555555555555556,
                                                        "#d8576b"
                                                    ],
                                                    [
                                                        0.6666666666666666,
                                                        "#ed7953"
                                                    ],
                                                    [
                                                        0.7777777777777778,
                                                        "#fb9f3a"
                                                    ],
                                                    [
                                                        0.8888888888888888,
                                                        "#fdca26"
                                                    ],
                                                    [
                                                        1,
                                                        "#f0f921"
                                                    ]
                                                ],
                                                "type": "histogram2d"
                                            }
                                        ],
                                        "histogram2dcontour": [
                                            {
                                                "colorbar": {
                                                    "outlinewidth": 0,
                                                    "ticks": ""
                                                },
                                                "colorscale": [
                                                    [
                                                        0,
                                                        "#0d0887"
                                                    ],
                                                    [
                                                        0.1111111111111111,
                                                        "#46039f"
                                                    ],
                                                    [
                                                        0.2222222222222222,
                                                        "#7201a8"
                                                    ],
                                                    [
                                                        0.3333333333333333,
                                                        "#9c179e"
                                                    ],
                                                    [
                                                        0.4444444444444444,
                                                        "#bd3786"
                                                    ],
                                                    [
                                                        0.5555555555555556,
                                                        "#d8576b"
                                                    ],
                                                    [
                                                        0.6666666666666666,
                                                        "#ed7953"
                                                    ],
                                                    [
                                                        0.7777777777777778,
                                                        "#fb9f3a"
                                                    ],
                                                    [
                                                        0.8888888888888888,
                                                        "#fdca26"
                                                    ],
                                                    [
                                                        1,
                                                        "#f0f921"
                                                    ]
                                                ],
                                                "type": "histogram2dcontour"
                                            }
                                        ],
                                        "mesh3d": [
                                            {
                                                "colorbar": {
                                                    "outlinewidth": 0,
                                                    "ticks": ""
                                                },
                                                "type": "mesh3d"
                                            }
                                        ],
                                        "parcoords": [
                                            {
                                                "line": {
                                                    "colorbar": {
                                                        "outlinewidth": 0,
                                                        "ticks": ""
                                                    }
                                                },
                                                "type": "parcoords"
                                            }
                                        ],
                                        "pie": [
                                            {
                                                "automargin": true,
                                                "type": "pie"
                                            }
                                        ],
                                        "scatter": [
                                            {
                                                "fillpattern": {
                                                    "fillmode": "overlay",
                                                    "size": 10,
                                                    "solidity": 0.2
                                                },
                                                "type": "scatter"
                                            }
                                        ],
                                        "scatter3d": [
                                            {
                                                "line": {
                                                    "colorbar": {
                                                        "outlinewidth": 0,
                                                        "ticks": ""
                                                    }
                                                },
                                                "marker": {
                                                    "colorbar": {
                                                        "outlinewidth": 0,
                                                        "ticks": ""
                                                    }
                                                },
                                                "type": "scatter3d"
                                            }
                                        ],
                                        "scattercarpet": [
                                            {
                                                "marker": {
                                                    "colorbar": {
                                                        "outlinewidth": 0,
                                                        "ticks": ""
                                                    }
                                                },
                                                "type": "scattercarpet"
                                            }
                                        ],
                                        "scattergeo": [
                                            {
                                                "marker": {
                                                    "colorbar": {
                                                        "outlinewidth": 0,
                                                        "ticks": ""
                                                    }
                                                },
                                                "type": "scattergeo"
                                            }
                                        ],
                                        "scattergl": [
                                            {
                                                "marker": {
                                                    "colorbar": {
                                                        "outlinewidth": 0,
                                                        "ticks": ""
                                                    }
                                                },
                                                "type": "scattergl"
                                            }
                                        ],
                                        "scattermapbox": [
                                            {
                                                "marker": {
                                                    "colorbar": {
                                                        "outlinewidth": 0,
                                                        "ticks": ""
                                                    }
                                                },
                                                "type": "scattermapbox"
                                            }
                                        ],
                                        "scatterpolar": [
                                            {
                                                "marker": {
                                                    "colorbar": {
                                                        "outlinewidth": 0,
                                                        "ticks": ""
                                                    }
                                                },
                                                "type": "scatterpolar"
                                            }
                                        ],
                                        "scatterpolargl": [
                                            {
                                                "marker": {
                                                    "colorbar": {
                                                        "outlinewidth": 0,
                                                        "ticks": ""
                                                    }
                                                },
                                                "type": "scatterpolargl"
                                            }
                                        ],
                                        "scatterternary": [
                                            {
                                                "marker": {
                                                    "colorbar": {
                                                        "outlinewidth": 0,
                                                        "ticks": ""
                                                    }
                                                },
                                                "type": "scatterternary"
                                            }
                                        ],
                                        "surface": [
                                            {
                                                "colorbar": {
                                                    "outlinewidth": 0,
                                                    "ticks": ""
                                                },
                                                "colorscale": [
                                                    [
                                                        0,
                                                        "#0d0887"
                                                    ],
                                                    [
                                                        0.1111111111111111,
                                                        "#46039f"
                                                    ],
                                                    [
                                                        0.2222222222222222,
                                                        "#7201a8"
                                                    ],
                                                    [
                                                        0.3333333333333333,
                                                        "#9c179e"
                                                    ],
                                                    [
                                                        0.4444444444444444,
                                                        "#bd3786"
                                                    ],
                                                    [
                                                        0.5555555555555556,
                                                        "#d8576b"
                                                    ],
                                                    [
                                                        0.6666666666666666,
                                                        "#ed7953"
                                                    ],
                                                    [
                                                        0.7777777777777778,
                                                        "#fb9f3a"
                                                    ],
                                                    [
                                                        0.8888888888888888,
                                                        "#fdca26"
                                                    ],
                                                    [
                                                        1,
                                                        "#f0f921"
                                                    ]
                                                ],
                                                "type": "surface"
                                            }
                                        ],
                                        "table": [
                                            {
                                                "cells": {
                                                    "fill": {
                                                        "color": "#EBF0F8"
                                                    },
                                                    "line": {
                                                        "color": "white"
                                                    }
                                                },
                                                "header": {
                                                    "fill": {
                                                        "color": "#C8D4E3"
                                                    },
                                                    "line": {
                                                        "color": "white"
                                                    }
                                                },
                                                "type": "table"
                                            }
                                        ]
                                    },
                                    "layout": {
                                        "annotationdefaults": {
                                            "arrowcolor": "#2a3f5f",
                                            "arrowhead": 0,
                                            "arrowwidth": 1
                                        },
                                        "autotypenumbers": "strict",
                                        "coloraxis": {
                                            "colorbar": {
                                                "outlinewidth": 0,
                                                "ticks": ""
                                            }
                                        },
                                        "colorscale": {
                                            "diverging": [
                                                [
                                                    0,
                                                    "#8e0152"
                                                ],
                                                [
                                                    0.1,
                                                    "#c51b7d"
                                                ],
                                                [
                                                    0.2,
                                                    "#de77ae"
                                                ],
                                                [
                                                    0.3,
                                                    "#f1b6da"
                                                ],
                                                [
                                                    0.4,
                                                    "#fde0ef"
                                                ],
                                                [
                                                    0.5,
                                                    "#f7f7f7"
                                                ],
                                                [
                                                    0.6,
                                                    "#e6f5d0"
                                                ],
                                                [
                                                    0.7,
                                                    "#b8e186"
                                                ],
                                                [
                                                    0.8,
                                                    "#7fbc41"
                                                ],
                                                [
                                                    0.9,
                                                    "#4d9221"
                                                ],
                                                [
                                                    1,
                                                    "#276419"
                                                ]
                                            ],
                                            "sequential": [
                                                [
                                                    0,
                                                    "#0d0887"
                                                ],
                                                [
                                                    0.1111111111111111,
                                                    "#46039f"
                                                ],
                                                [
                                                    0.2222222222222222,
                                                    "#7201a8"
                                                ],
                                                [
                                                    0.3333333333333333,
                                                    "#9c179e"
                                                ],
                                                [
                                                    0.4444444444444444,
                                                    "#bd3786"
                                                ],
                                                [
                                                    0.5555555555555556,
                                                    "#d8576b"
                                                ],
                                                [
                                                    0.6666666666666666,
                                                    "#ed7953"
                                                ],
                                                [
                                                    0.7777777777777778,
                                                    "#fb9f3a"
                                                ],
                                                [
                                                    0.8888888888888888,
                                                    "#fdca26"
                                                ],
                                                [
                                                    1,
                                                    "#f0f921"
                                                ]
                                            ],
                                            "sequentialminus": [
                                                [
                                                    0,
                                                    "#0d0887"
                                                ],
                                                [
                                                    0.1111111111111111,
                                                    "#46039f"
                                                ],
                                                [
                                                    0.2222222222222222,
                                                    "#7201a8"
                                                ],
                                                [
                                                    0.3333333333333333,
                                                    "#9c179e"
                                                ],
                                                [
                                                    0.4444444444444444,
                                                    "#bd3786"
                                                ],
                                                [
                                                    0.5555555555555556,
                                                    "#d8576b"
                                                ],
                                                [
                                                    0.6666666666666666,
                                                    "#ed7953"
                                                ],
                                                [
                                                    0.7777777777777778,
                                                    "#fb9f3a"
                                                ],
                                                [
                                                    0.8888888888888888,
                                                    "#fdca26"
                                                ],
                                                [
                                                    1,
                                                    "#f0f921"
                                                ]
                                            ]
                                        },
                                        "colorway": [
                                            "#636efa",
                                            "#EF553B",
                                            "#00cc96",
                                            "#ab63fa",
                                            "#FFA15A",
                                            "#19d3f3",
                                            "#FF6692",
                                            "#B6E880",
                                            "#FF97FF",
                                            "#FECB52"
                                        ],
                                        "font": {
                                            "color": "#2a3f5f"
                                        },
                                        "geo": {
                                            "bgcolor": "white",
                                            "lakecolor": "white",
                                            "landcolor": "white",
                                            "showlakes": true,
                                            "showland": true,
                                            "subunitcolor": "#C8D4E3"
                                        },
                                        "hoverlabel": {
                                            "align": "left"
                                        },
                                        "hovermode": "closest",
                                        "mapbox": {
                                            "style": "light"
                                        },
                                        "paper_bgcolor": "white",
                                        "plot_bgcolor": "white",
                                        "polar": {
                                            "angularaxis": {
                                                "gridcolor": "#EBF0F8",
                                                "linecolor": "#EBF0F8",
                                                "ticks": ""
                                            },
                                            "bgcolor": "white",
                                            "radialaxis": {
                                                "gridcolor": "#EBF0F8",
                                                "linecolor": "#EBF0F8",
                                                "ticks": ""
                                            }
                                        },
                                        "scene": {
                                            "xaxis": {
                                                "backgroundcolor": "white",
                                                "gridcolor": "#DFE8F3",
                                                "gridwidth": 2,
                                                "linecolor": "#EBF0F8",
                                                "showbackground": true,
                                                "ticks": "",
                                                "zerolinecolor": "#EBF0F8"
                                            },
                                            "yaxis": {
                                                "backgroundcolor": "white",
                                                "gridcolor": "#DFE8F3",
                                                "gridwidth": 2,
                                                "linecolor": "#EBF0F8",
                                                "showbackground": true,
                                                "ticks": "",
                                                "zerolinecolor": "#EBF0F8"
                                            },
                                            "zaxis": {
                                                "backgroundcolor": "white",
                                                "gridcolor": "#DFE8F3",
                                                "gridwidth": 2,
                                                "linecolor": "#EBF0F8",
                                                "showbackground": true,
                                                "ticks": "",
                                                "zerolinecolor": "#EBF0F8"
                                            }
                                        },
                                        "shapedefaults": {
                                            "line": {
                                                "color": "#2a3f5f"
                                            }
                                        },
                                        "ternary": {
                                            "aaxis": {
                                                "gridcolor": "#DFE8F3",
                                                "linecolor": "#A2B1C6",
                                                "ticks": ""
                                            },
                                            "baxis": {
                                                "gridcolor": "#DFE8F3",
                                                "linecolor": "#A2B1C6",
                                                "ticks": ""
                                            },
                                            "bgcolor": "white",
                                            "caxis": {
                                                "gridcolor": "#DFE8F3",
                                                "linecolor": "#A2B1C6",
                                                "ticks": ""
                                            }
                                        },
                                        "title": {
                                            "x": 0.05
                                        },
                                        "xaxis": {
                                            "automargin": true,
                                            "gridcolor": "#EBF0F8",
                                            "linecolor": "#EBF0F8",
                                            "ticks": "",
                                            "title": {
                                                "standoff": 15
                                            },
                                            "zerolinecolor": "#EBF0F8",
                                            "zerolinewidth": 2
                                        },
                                        "yaxis": {
                                            "automargin": true,
                                            "gridcolor": "#EBF0F8",
                                            "linecolor": "#EBF0F8",
                                            "ticks": "",
                                            "title": {
                                                "standoff": 15
                                            },
                                            "zerolinecolor": "#EBF0F8",
                                            "zerolinewidth": 2
                                        }
                                    }
                                },
                                "title": {
                                    "text": "Risk Parity Allocation Pie Chart"
                                }
                            }
                        }
                    },
                    "metadata": {},
                    "output_type": "display_data"
                }
            ],
            "source": [
                "visualizer.plot_risk_allocation_pie()"
            ]
        },
        {
            "cell_type": "markdown",
            "metadata": {},
            "source": [
                "Methods that enable to plot or compute metrics of a portfolio over time are useful in a backtest such as follows:"
            ]
        },
        {
            "cell_type": "markdown",
            "metadata": {},
            "source": [
                "#### Running a backtest : "
            ]
        },
        {
            "cell_type": "code",
            "execution_count": 13,
            "metadata": {},
            "outputs": [
                {
                    "name": "stderr",
                    "output_type": "stream",
                    "text": [
                        "INFO:root:Running backtest from 2005-01-01 00:00:00 to 2020-12-31 00:00:00.\n",
                        "INFO:root:Retrieving price data for universe\n",
                        "WARNING:root:Error computing portfolio, returning equal weight portfolio\n",
                        "WARNING:root:not enough values to unpack (expected 2, got 0)\n",
                        "WARNING:root:Error computing portfolio, returning equal weight portfolio\n",
                        "WARNING:root:not enough values to unpack (expected 2, got 0)\n",
                        "WARNING:root:Error computing portfolio, returning equal weight portfolio\n",
                        "WARNING:root:not enough values to unpack (expected 2, got 0)\n",
                        "/Users/marc/Desktop/anaconda3/envs/pybacktestchain/lib/python3.11/site-packages/pandas/core/frame.py:11211: RuntimeWarning:\n",
                        "\n",
                        "Degrees of freedom <= 0 for slice\n",
                        "\n",
                        "/Users/marc/Desktop/anaconda3/envs/pybacktestchain/lib/python3.11/site-packages/numpy/lib/function_base.py:2748: RuntimeWarning:\n",
                        "\n",
                        "divide by zero encountered in divide\n",
                        "\n",
                        "/Users/marc/Desktop/anaconda3/envs/pybacktestchain/lib/python3.11/site-packages/numpy/lib/function_base.py:2748: RuntimeWarning:\n",
                        "\n",
                        "invalid value encountered in multiply\n",
                        "\n",
                        "WARNING:root:Error computing portfolio, returning equal weight portfolio\n",
                        "WARNING:root:Optimization did not converge\n",
                        "INFO:root:-----------------------------------\n",
                        "INFO:root:Rebalancing portfolio at 2005-01-31 00:00:00\n",
                        "/Users/marc/Desktop/Master 203/M2/S1/Python/Project/pybacktestchain/src/pybacktestchain/broker.py:115: FutureWarning:\n",
                        "\n",
                        "The behavior of DataFrame concatenation with empty or all-NA entries is deprecated. In a future version, this will no longer exclude empty or all-NA columns when determining the result dtypes. To retain the old behavior, exclude the relevant entries before the concat operation.\n",
                        "\n",
                        "INFO:root:-----------------------------------\n",
                        "INFO:root:Rebalancing portfolio at 2005-02-28 00:00:00\n",
                        "WARNING:root:Not enough cash to buy 3285 of GLD on 2005-02-28 00:00:00. Needed: 142897.5, Available: 142829.74195861816\n",
                        "INFO:root:Buying as many shares of GLD as possible with available cash.\n",
                        "INFO:root:-----------------------------------\n",
                        "INFO:root:Rebalancing portfolio at 2005-03-31 00:00:00\n",
                        "WARNING:root:Not enough cash to buy 2329 of TLT on 2005-03-31 00:00:00. Needed: 110310.21923828125, Available: 110238.70011138916\n",
                        "INFO:root:Buying as many shares of TLT as possible with available cash.\n",
                        "INFO:root:-----------------------------------\n",
                        "INFO:root:Rebalancing portfolio at 2005-04-29 00:00:00\n",
                        "WARNING:root:Not enough cash to buy 254 of SPY on 2005-04-29 00:00:00. Needed: 19986.140533447266, Available: 19984.85440826416\n",
                        "INFO:root:Buying as many shares of SPY as possible with available cash.\n",
                        "INFO:root:-----------------------------------\n",
                        "INFO:root:Rebalancing portfolio at 2005-05-31 00:00:00\n",
                        "WARNING:root:Not enough cash to buy 1645 of GLD on 2005-05-31 00:00:00. Needed: 68892.60175704956, Available: 68850.58981323242\n",
                        "INFO:root:Buying as many shares of GLD as possible with available cash.\n",
                        "INFO:root:-----------------------------------\n",
                        "INFO:root:Rebalancing portfolio at 2005-06-30 00:00:00\n",
                        "INFO:root:-----------------------------------\n",
                        "INFO:root:Rebalancing portfolio at 2005-07-29 00:00:00\n",
                        "WARNING:root:Not enough cash to buy 1647 of GLD on 2005-07-29 00:00:00. Needed: 70409.25, Available: 70380.07765960693\n",
                        "INFO:root:Buying as many shares of GLD as possible with available cash.\n",
                        "INFO:root:-----------------------------------\n",
                        "INFO:root:Rebalancing portfolio at 2005-08-31 00:00:00\n",
                        "INFO:root:-----------------------------------\n",
                        "INFO:root:Rebalancing portfolio at 2005-09-30 00:00:00\n",
                        "INFO:root:-----------------------------------\n",
                        "INFO:root:Rebalancing portfolio at 2005-10-31 00:00:00\n",
                        "INFO:root:-----------------------------------\n",
                        "INFO:root:Rebalancing portfolio at 2005-11-30 00:00:00\n",
                        "WARNING:root:Not enough cash to buy 1945 of TLT on 2005-11-30 00:00:00. Needed: 96433.45970153809, Available: 96431.16485214233\n",
                        "INFO:root:Buying as many shares of TLT as possible with available cash.\n",
                        "INFO:root:-----------------------------------\n",
                        "INFO:root:Rebalancing portfolio at 2005-12-30 00:00:00\n",
                        "WARNING:root:Not enough cash to buy 1888 of TLT on 2005-12-30 00:00:00. Needed: 96511.53308105469, Available: 96508.71380233765\n",
                        "INFO:root:Buying as many shares of TLT as possible with available cash.\n",
                        "INFO:root:-----------------------------------\n",
                        "INFO:root:Rebalancing portfolio at 2006-01-31 00:00:00\n",
                        "WARNING:root:Not enough cash to buy 2371 of TLT on 2006-01-31 00:00:00. Needed: 118977.96557235718, Available: 118931.59797668457\n",
                        "INFO:root:Buying as many shares of TLT as possible with available cash.\n",
                        "INFO:root:-----------------------------------\n",
                        "INFO:root:Rebalancing portfolio at 2006-02-28 00:00:00\n",
                        "WARNING:root:Not enough cash to buy 931 of TLT on 2006-02-28 00:00:00. Needed: 47132.90137863159, Available: 47050.12244415283\n",
                        "INFO:root:Buying as many shares of TLT as possible with available cash.\n",
                        "INFO:root:-----------------------------------\n",
                        "INFO:root:Rebalancing portfolio at 2006-03-31 00:00:00\n",
                        "WARNING:root:Not enough cash to buy 2692 of TLT on 2006-03-31 00:00:00. Needed: 130746.32124328613, Available: 130675.7392616272\n",
                        "INFO:root:Buying as many shares of TLT as possible with available cash.\n",
                        "INFO:root:-----------------------------------\n",
                        "INFO:root:Rebalancing portfolio at 2006-04-28 00:00:00\n",
                        "INFO:root:-----------------------------------\n",
                        "INFO:root:Rebalancing portfolio at 2006-05-31 00:00:00\n",
                        "WARNING:root:Not enough cash to buy 968 of SPY on 2006-05-31 00:00:00. Needed: 85592.07958984375, Available: 85541.93689346313\n",
                        "INFO:root:Buying as many shares of SPY as possible with available cash.\n",
                        "INFO:root:Stop loss triggered for GLD at 2006-06-14 00:00:00. Selling all shares.\n",
                        "INFO:root:-----------------------------------\n",
                        "INFO:root:Rebalancing portfolio at 2006-06-30 00:00:00\n",
                        "WARNING:root:Not enough cash to buy 5041 of GLD on 2006-06-30 00:00:00. Needed: 300040.32230758667, Available: 299995.59758377075\n",
                        "INFO:root:Buying as many shares of GLD as possible with available cash.\n",
                        "INFO:root:-----------------------------------\n",
                        "INFO:root:Rebalancing portfolio at 2006-07-31 00:00:00\n",
                        "INFO:root:-----------------------------------\n",
                        "INFO:root:Rebalancing portfolio at 2006-08-31 00:00:00\n",
                        "WARNING:root:Not enough cash to buy 275 of GLD on 2006-08-31 00:00:00. Needed: 16890.49949645996, Available: 16852.961292266846\n",
                        "INFO:root:Buying as many shares of GLD as possible with available cash.\n",
                        "INFO:root:-----------------------------------\n",
                        "INFO:root:Rebalancing portfolio at 2006-09-29 00:00:00\n",
                        "WARNING:root:Not enough cash to buy 714 of GLD on 2006-09-29 00:00:00. Needed: 42690.06065368652, Available: 42675.90477371216\n",
                        "INFO:root:Buying as many shares of GLD as possible with available cash.\n",
                        "INFO:root:-----------------------------------\n",
                        "INFO:root:Rebalancing portfolio at 2006-10-31 00:00:00\n",
                        "WARNING:root:Not enough cash to buy 15130 of TLT on 2006-10-31 00:00:00. Needed: 774638.119468689, Available: 774581.0017356873\n",
                        "INFO:root:Buying as many shares of TLT as possible with available cash.\n",
                        "INFO:root:-----------------------------------\n",
                        "INFO:root:Rebalancing portfolio at 2006-11-30 00:00:00\n",
                        "WARNING:root:Not enough cash to buy 981 of GLD on 2006-11-30 00:00:00. Needed: 61959.95985031128, Available: 61886.43333816528\n",
                        "INFO:root:Buying as many shares of GLD as possible with available cash.\n",
                        "INFO:root:-----------------------------------\n",
                        "INFO:root:Rebalancing portfolio at 2006-12-29 00:00:00\n",
                        "INFO:root:-----------------------------------\n",
                        "INFO:root:Rebalancing portfolio at 2007-01-31 00:00:00\n",
                        "WARNING:root:Not enough cash to buy 413 of GLD on 2007-01-31 00:00:00. Needed: 26522.86050415039, Available: 26474.568996429443\n",
                        "INFO:root:Buying as many shares of GLD as possible with available cash.\n",
                        "INFO:root:-----------------------------------\n",
                        "INFO:root:Rebalancing portfolio at 2007-02-28 00:00:00\n",
                        "INFO:root:-----------------------------------\n",
                        "INFO:root:Rebalancing portfolio at 2007-03-30 00:00:00\n",
                        "WARNING:root:Not enough cash to buy 830 of GLD on 2007-03-30 00:00:00. Needed: 54489.50126647949, Available: 54381.93790054321\n",
                        "INFO:root:Buying as many shares of GLD as possible with available cash.\n",
                        "INFO:root:-----------------------------------\n",
                        "INFO:root:Rebalancing portfolio at 2007-04-30 00:00:00\n",
                        "WARNING:root:Not enough cash to buy 1257 of TLT on 2007-04-30 00:00:00. Needed: 64871.963024139404, Available: 64824.69836807251\n",
                        "INFO:root:Buying as many shares of TLT as possible with available cash.\n",
                        "INFO:root:-----------------------------------\n",
                        "INFO:root:Rebalancing portfolio at 2007-05-31 00:00:00\n",
                        "WARNING:root:Not enough cash to buy 1020 of TLT on 2007-05-31 00:00:00. Needed: 52057.583084106445, Available: 52005.358432769775\n",
                        "INFO:root:Buying as many shares of TLT as possible with available cash.\n",
                        "INFO:root:-----------------------------------\n",
                        "INFO:root:Rebalancing portfolio at 2007-06-29 00:00:00\n",
                        "WARNING:root:Not enough cash to buy 1189 of TLT on 2007-06-29 00:00:00. Needed: 59344.34144973755, Available: 59323.790019989014\n",
                        "INFO:root:Buying as many shares of TLT as possible with available cash.\n",
                        "INFO:root:-----------------------------------\n",
                        "INFO:root:Rebalancing portfolio at 2007-07-31 00:00:00\n",
                        "WARNING:root:Not enough cash to buy 1881 of TLT on 2007-07-31 00:00:00. Needed: 97295.60470962524, Available: 97216.32954788208\n",
                        "INFO:root:Buying as many shares of TLT as possible with available cash.\n",
                        "INFO:root:-----------------------------------\n",
                        "INFO:root:Rebalancing portfolio at 2007-08-31 00:00:00\n",
                        "INFO:root:-----------------------------------\n",
                        "INFO:root:Rebalancing portfolio at 2007-09-28 00:00:00\n",
                        "INFO:root:-----------------------------------\n",
                        "INFO:root:Rebalancing portfolio at 2007-10-31 00:00:00\n",
                        "WARNING:root:Not enough cash to buy 392 of SPY on 2007-10-31 00:00:00. Needed: 43238.16345214844, Available: 43165.96929550171\n",
                        "INFO:root:Buying as many shares of SPY as possible with available cash.\n",
                        "INFO:root:-----------------------------------\n",
                        "INFO:root:Rebalancing portfolio at 2007-11-30 00:00:00\n",
                        "INFO:root:-----------------------------------\n",
                        "INFO:root:Rebalancing portfolio at 2007-12-31 00:00:00\n",
                        "WARNING:root:Not enough cash to buy 726 of SPY on 2007-12-31 00:00:00. Needed: 77474.30635070801, Available: 77444.57305526733\n",
                        "INFO:root:Buying as many shares of SPY as possible with available cash.\n",
                        "INFO:root:Stop loss triggered for SPY at 2008-01-19 00:00:00. Selling all shares.\n",
                        "INFO:root:-----------------------------------\n",
                        "INFO:root:Rebalancing portfolio at 2008-01-31 00:00:00\n",
                        "WARNING:root:Not enough cash to buy 5569 of SPY on 2008-01-31 00:00:00. Needed: 544301.7265548706, Available: 544235.4483528137\n",
                        "INFO:root:Buying as many shares of SPY as possible with available cash.\n",
                        "INFO:root:-----------------------------------\n",
                        "INFO:root:Rebalancing portfolio at 2008-02-29 00:00:00\n",
                        "WARNING:root:Not enough cash to buy 284 of SPY on 2008-02-29 00:00:00. Needed: 28160.799682617188, Available: 28132.844608306885\n",
                        "INFO:root:Buying as many shares of SPY as possible with available cash.\n",
                        "INFO:root:-----------------------------------\n",
                        "INFO:root:Rebalancing portfolio at 2008-03-31 00:00:00\n",
                        "INFO:root:-----------------------------------\n",
                        "INFO:root:Rebalancing portfolio at 2008-04-30 00:00:00\n",
                        "INFO:root:-----------------------------------\n",
                        "INFO:root:Rebalancing portfolio at 2008-05-30 00:00:00\n",
                        "INFO:root:-----------------------------------\n",
                        "INFO:root:Rebalancing portfolio at 2008-06-30 00:00:00\n",
                        "WARNING:root:Not enough cash to buy 467 of TLT on 2008-06-30 00:00:00. Needed: 26747.855045318604, Available: 26727.53295135498\n",
                        "INFO:root:Buying as many shares of TLT as possible with available cash.\n",
                        "INFO:root:-----------------------------------\n",
                        "INFO:root:Rebalancing portfolio at 2008-07-31 00:00:00\n",
                        "WARNING:root:Not enough cash to buy 346 of TLT on 2008-07-31 00:00:00. Needed: 19555.054313659668, Available: 19552.313095092773\n",
                        "INFO:root:Buying as many shares of TLT as possible with available cash.\n",
                        "INFO:root:-----------------------------------\n",
                        "INFO:root:Rebalancing portfolio at 2008-08-29 00:00:00\n",
                        "WARNING:root:Not enough cash to buy 3919 of SPY on 2008-08-29 00:00:00. Needed: 373321.3471069336, Available: 373254.72302627563\n",
                        "INFO:root:Buying as many shares of SPY as possible with available cash.\n",
                        "INFO:root:Stop loss triggered for GLD at 2008-09-10 00:00:00. Selling all shares.\n",
                        "INFO:root:Stop loss triggered for SPY at 2008-09-18 00:00:00. Selling all shares.\n",
                        "INFO:root:-----------------------------------\n",
                        "INFO:root:Rebalancing portfolio at 2008-09-30 00:00:00\n",
                        "INFO:root:Stop loss triggered for SPY at 2008-10-08 00:00:00. Selling all shares.\n",
                        "INFO:root:Stop loss triggered for GLD at 2008-10-17 00:00:00. Selling all shares.\n",
                        "INFO:root:-----------------------------------\n",
                        "INFO:root:Rebalancing portfolio at 2008-10-31 00:00:00\n",
                        "INFO:root:Stop loss triggered for SPY at 2008-11-13 00:00:00. Selling all shares.\n",
                        "INFO:root:-----------------------------------\n",
                        "INFO:root:Rebalancing portfolio at 2008-11-28 00:00:00\n",
                        "WARNING:root:Not enough cash to buy 6434 of SPY on 2008-11-28 00:00:00. Needed: 421270.6562347412, Available: 421214.38956451416\n",
                        "INFO:root:Buying as many shares of SPY as possible with available cash.\n",
                        "INFO:root:-----------------------------------\n",
                        "INFO:root:Rebalancing portfolio at 2008-12-31 00:00:00\n",
                        "INFO:root:-----------------------------------\n",
                        "INFO:root:Rebalancing portfolio at 2009-01-30 00:00:00\n",
                        "WARNING:root:Not enough cash to buy 33 of SPY on 2009-01-30 00:00:00. Needed: 2070.0247764587402, Available: 2022.4788436889648\n",
                        "INFO:root:Buying as many shares of SPY as possible with available cash.\n",
                        "INFO:root:Stop loss triggered for SPY at 2009-02-24 00:00:00. Selling all shares.\n",
                        "INFO:root:-----------------------------------\n",
                        "INFO:root:Rebalancing portfolio at 2009-02-27 00:00:00\n",
                        "INFO:root:-----------------------------------\n",
                        "INFO:root:Rebalancing portfolio at 2009-03-31 00:00:00\n",
                        "WARNING:root:Not enough cash to buy 572 of GLD on 2009-03-31 00:00:00. Needed: 51468.561920166016, Available: 51455.09316635132\n",
                        "INFO:root:Buying as many shares of GLD as possible with available cash.\n",
                        "INFO:root:-----------------------------------\n",
                        "INFO:root:Rebalancing portfolio at 2009-04-30 00:00:00\n",
                        "INFO:root:-----------------------------------\n",
                        "INFO:root:Rebalancing portfolio at 2009-05-29 00:00:00\n",
                        "WARNING:root:Not enough cash to buy 630 of SPY on 2009-05-29 00:00:00. Needed: 42800.14434814453, Available: 42789.35678482056\n",
                        "INFO:root:Buying as many shares of SPY as possible with available cash.\n",
                        "INFO:root:-----------------------------------\n",
                        "INFO:root:Rebalancing portfolio at 2009-06-30 00:00:00\n",
                        "WARNING:root:Not enough cash to buy 11018 of TLT on 2009-06-30 00:00:00. Needed: 673483.4038848877, Available: 673467.8333015442\n",
                        "INFO:root:Buying as many shares of TLT as possible with available cash.\n",
                        "INFO:root:-----------------------------------\n",
                        "INFO:root:Rebalancing portfolio at 2009-07-31 00:00:00\n",
                        "INFO:root:-----------------------------------\n",
                        "INFO:root:Rebalancing portfolio at 2009-08-31 00:00:00\n",
                        "WARNING:root:Not enough cash to buy 459 of SPY on 2009-08-31 00:00:00. Needed: 35656.667976379395, Available: 35613.04867935181\n",
                        "INFO:root:Buying as many shares of SPY as possible with available cash.\n",
                        "INFO:root:-----------------------------------\n",
                        "INFO:root:Rebalancing portfolio at 2009-09-30 00:00:00\n",
                        "INFO:root:-----------------------------------\n",
                        "INFO:root:Rebalancing portfolio at 2009-10-30 00:00:00\n",
                        "WARNING:root:Not enough cash to buy 1593 of TLT on 2009-10-30 00:00:00. Needed: 98301.23320770264, Available: 98260.24587631226\n",
                        "INFO:root:Buying as many shares of TLT as possible with available cash.\n",
                        "INFO:root:-----------------------------------\n",
                        "INFO:root:Rebalancing portfolio at 2009-11-30 00:00:00\n",
                        "WARNING:root:Not enough cash to buy 1138 of TLT on 2009-11-30 00:00:00. Needed: 71935.58363342285, Available: 71883.28709793091\n",
                        "INFO:root:Buying as many shares of TLT as possible with available cash.\n",
                        "INFO:root:-----------------------------------\n",
                        "INFO:root:Rebalancing portfolio at 2009-12-31 00:00:00\n",
                        "INFO:root:-----------------------------------\n",
                        "INFO:root:Rebalancing portfolio at 2010-01-29 00:00:00\n",
                        "INFO:root:-----------------------------------\n",
                        "INFO:root:Rebalancing portfolio at 2010-02-26 00:00:00\n",
                        "WARNING:root:Not enough cash to buy 362 of SPY on 2010-02-26 00:00:00. Needed: 30410.64031982422, Available: 30354.510623931885\n",
                        "INFO:root:Buying as many shares of SPY as possible with available cash.\n",
                        "INFO:root:-----------------------------------\n",
                        "INFO:root:Rebalancing portfolio at 2010-03-31 00:00:00\n",
                        "INFO:root:-----------------------------------\n",
                        "INFO:root:Rebalancing portfolio at 2010-04-30 00:00:00\n",
                        "WARNING:root:Not enough cash to buy 19225 of TLT on 2010-04-30 00:00:00. Needed: 1168056.6246032715, Available: 1167968.5885810852\n",
                        "INFO:root:Buying as many shares of TLT as possible with available cash.\n",
                        "INFO:root:-----------------------------------\n",
                        "INFO:root:Rebalancing portfolio at 2010-05-31 00:00:00\n",
                        "INFO:root:-----------------------------------\n",
                        "INFO:root:Rebalancing portfolio at 2010-06-30 00:00:00\n",
                        "WARNING:root:Not enough cash to buy 1557 of SPY on 2010-06-30 00:00:00. Needed: 124259.97292327881, Available: 124228.68647384644\n",
                        "INFO:root:Buying as many shares of SPY as possible with available cash.\n",
                        "INFO:root:-----------------------------------\n",
                        "INFO:root:Rebalancing portfolio at 2010-07-30 00:00:00\n",
                        "INFO:root:-----------------------------------\n",
                        "INFO:root:Rebalancing portfolio at 2010-08-31 00:00:00\n",
                        "INFO:root:-----------------------------------\n",
                        "INFO:root:Rebalancing portfolio at 2010-09-30 00:00:00\n",
                        "INFO:root:-----------------------------------\n",
                        "INFO:root:Rebalancing portfolio at 2010-10-29 00:00:00\n",
                        "WARNING:root:Not enough cash to buy 119 of TLT on 2010-10-29 00:00:00. Needed: 8055.933753967285, Available: 7941.787563323975\n",
                        "INFO:root:Buying as many shares of TLT as possible with available cash.\n",
                        "INFO:root:-----------------------------------\n",
                        "INFO:root:Rebalancing portfolio at 2010-11-30 00:00:00\n",
                        "WARNING:root:Not enough cash to buy 1350 of TLT on 2010-11-30 00:00:00. Needed: 90216.9490814209, Available: 90071.14780044556\n",
                        "INFO:root:Buying as many shares of TLT as possible with available cash.\n",
                        "INFO:root:-----------------------------------\n",
                        "INFO:root:Rebalancing portfolio at 2010-12-31 00:00:00\n",
                        "INFO:root:-----------------------------------\n",
                        "INFO:root:Rebalancing portfolio at 2011-01-31 00:00:00\n",
                        "WARNING:root:Not enough cash to buy 1909 of TLT on 2011-01-31 00:00:00. Needed: 120607.77322006226, Available: 120602.50295639038\n",
                        "INFO:root:Buying as many shares of TLT as possible with available cash.\n",
                        "INFO:root:-----------------------------------\n",
                        "INFO:root:Rebalancing portfolio at 2011-02-28 00:00:00\n",
                        "WARNING:root:Not enough cash to buy 1778 of TLT on 2011-02-28 00:00:00. Needed: 113168.26481628418, Available: 113093.28339004517\n",
                        "INFO:root:Buying as many shares of TLT as possible with available cash.\n",
                        "INFO:root:-----------------------------------\n",
                        "INFO:root:Rebalancing portfolio at 2011-03-31 00:00:00\n",
                        "WARNING:root:Not enough cash to buy 1772 of TLT on 2011-03-31 00:00:00. Needed: 113199.20812988281, Available: 113102.54816055298\n",
                        "INFO:root:Buying as many shares of TLT as possible with available cash.\n",
                        "INFO:root:-----------------------------------\n",
                        "INFO:root:Rebalancing portfolio at 2011-04-29 00:00:00\n",
                        "INFO:root:-----------------------------------\n",
                        "INFO:root:Rebalancing portfolio at 2011-05-31 00:00:00\n",
                        "WARNING:root:Not enough cash to buy 203 of SPY on 2011-05-31 00:00:00. Needed: 21067.954612731934, Available: 20979.923473358154\n",
                        "INFO:root:Buying as many shares of SPY as possible with available cash.\n",
                        "INFO:root:-----------------------------------\n",
                        "INFO:root:Rebalancing portfolio at 2011-06-30 00:00:00\n",
                        "WARNING:root:Not enough cash to buy 569 of SPY on 2011-06-30 00:00:00. Needed: 58105.16589355469, Available: 58004.66900253296\n",
                        "INFO:root:Buying as many shares of SPY as possible with available cash.\n",
                        "INFO:root:-----------------------------------\n",
                        "INFO:root:Rebalancing portfolio at 2011-07-29 00:00:00\n",
                        "WARNING:root:Not enough cash to buy 590 of SPY on 2011-07-29 00:00:00. Needed: 60019.19853210449, Available: 59940.5439414978\n",
                        "INFO:root:Buying as many shares of SPY as possible with available cash.\n",
                        "INFO:root:Stop loss triggered for SPY at 2011-08-09 00:00:00. Selling all shares.\n",
                        "INFO:root:-----------------------------------\n",
                        "INFO:root:Rebalancing portfolio at 2011-08-31 00:00:00\n",
                        "WARNING:root:Not enough cash to buy 13050 of TLT on 2011-08-31 00:00:00. Needed: 1000341.7602539062, Available: 1000306.6658744812\n",
                        "INFO:root:Buying as many shares of TLT as possible with available cash.\n",
                        "INFO:root:-----------------------------------\n",
                        "INFO:root:Rebalancing portfolio at 2011-09-30 00:00:00\n",
                        "INFO:root:-----------------------------------\n",
                        "INFO:root:Rebalancing portfolio at 2011-10-31 00:00:00\n",
                        "WARNING:root:Not enough cash to buy 7988 of TLT on 2011-10-31 00:00:00. Needed: 631299.4310302734, Available: 631233.602771759\n",
                        "INFO:root:Buying as many shares of TLT as possible with available cash.\n",
                        "INFO:root:-----------------------------------\n",
                        "INFO:root:Rebalancing portfolio at 2011-11-30 00:00:00\n",
                        "INFO:root:-----------------------------------\n",
                        "INFO:root:Rebalancing portfolio at 2011-12-30 00:00:00\n",
                        "INFO:root:-----------------------------------\n",
                        "INFO:root:Rebalancing portfolio at 2012-01-31 00:00:00\n",
                        "INFO:root:-----------------------------------\n",
                        "INFO:root:Rebalancing portfolio at 2012-02-29 00:00:00\n",
                        "INFO:root:-----------------------------------\n",
                        "INFO:root:Rebalancing portfolio at 2012-03-30 00:00:00\n",
                        "INFO:root:-----------------------------------\n",
                        "INFO:root:Rebalancing portfolio at 2012-04-30 00:00:00\n",
                        "INFO:root:-----------------------------------\n",
                        "INFO:root:Rebalancing portfolio at 2012-05-31 00:00:00\n",
                        "INFO:root:-----------------------------------\n",
                        "INFO:root:Rebalancing portfolio at 2012-06-29 00:00:00\n",
                        "INFO:root:-----------------------------------\n",
                        "INFO:root:Rebalancing portfolio at 2012-07-31 00:00:00\n",
                        "INFO:root:-----------------------------------\n",
                        "INFO:root:Rebalancing portfolio at 2012-08-31 00:00:00\n",
                        "WARNING:root:Not enough cash to buy 466 of TLT on 2012-08-31 00:00:00. Needed: 42634.76564025879, Available: 42459.62239456177\n",
                        "INFO:root:Buying as many shares of TLT as possible with available cash.\n",
                        "INFO:root:-----------------------------------\n",
                        "INFO:root:Rebalancing portfolio at 2012-09-28 00:00:00\n",
                        "INFO:root:-----------------------------------\n",
                        "INFO:root:Rebalancing portfolio at 2012-10-31 00:00:00\n",
                        "WARNING:root:Not enough cash to buy 455 of TLT on 2012-10-31 00:00:00. Needed: 40709.30530548096, Available: 40649.83122634888\n",
                        "INFO:root:Buying as many shares of TLT as possible with available cash.\n",
                        "INFO:root:-----------------------------------\n",
                        "INFO:root:Rebalancing portfolio at 2012-11-30 00:00:00\n",
                        "WARNING:root:Not enough cash to buy 711 of SPY on 2012-11-30 00:00:00. Needed: 81045.24485778809, Available: 80977.60681533813\n",
                        "INFO:root:Buying as many shares of SPY as possible with available cash.\n",
                        "INFO:root:-----------------------------------\n",
                        "INFO:root:Rebalancing portfolio at 2012-12-31 00:00:00\n",
                        "WARNING:root:Not enough cash to buy 648 of SPY on 2012-12-31 00:00:00. Needed: 73293.99005126953, Available: 73214.33171463013\n",
                        "INFO:root:Buying as many shares of SPY as possible with available cash.\n",
                        "INFO:root:-----------------------------------\n",
                        "INFO:root:Rebalancing portfolio at 2013-01-31 00:00:00\n",
                        "WARNING:root:Not enough cash to buy 974 of TLT on 2013-01-31 00:00:00. Needed: 83305.66891479492, Available: 83140.46032333374\n",
                        "INFO:root:Buying as many shares of TLT as possible with available cash.\n",
                        "INFO:root:-----------------------------------\n",
                        "INFO:root:Rebalancing portfolio at 2013-02-28 00:00:00\n",
                        "WARNING:root:Not enough cash to buy 341 of TLT on 2013-02-28 00:00:00. Needed: 29615.870292663574, Available: 29530.96502304077\n",
                        "INFO:root:Buying as many shares of TLT as possible with available cash.\n",
                        "INFO:root:-----------------------------------\n",
                        "INFO:root:Rebalancing portfolio at 2013-03-29 00:00:00\n",
                        "WARNING:root:Not enough cash to buy 1822 of TLT on 2013-03-29 00:00:00. Needed: 157870.14474487305, Available: 157684.6400794983\n",
                        "INFO:root:Buying as many shares of TLT as possible with available cash.\n",
                        "INFO:root:Stop loss triggered for GLD at 2013-04-16 00:00:00. Selling all shares.\n",
                        "INFO:root:-----------------------------------\n",
                        "INFO:root:Rebalancing portfolio at 2013-04-30 00:00:00\n",
                        "INFO:root:-----------------------------------\n",
                        "INFO:root:Rebalancing portfolio at 2013-05-31 00:00:00\n",
                        "INFO:root:Stop loss triggered for GLD at 2013-06-21 00:00:00. Selling all shares.\n",
                        "INFO:root:-----------------------------------\n",
                        "INFO:root:Rebalancing portfolio at 2013-06-28 00:00:00\n",
                        "INFO:root:-----------------------------------\n",
                        "INFO:root:Rebalancing portfolio at 2013-07-31 00:00:00\n",
                        "INFO:root:-----------------------------------\n",
                        "INFO:root:Rebalancing portfolio at 2013-08-30 00:00:00\n",
                        "INFO:root:-----------------------------------\n",
                        "INFO:root:Rebalancing portfolio at 2013-09-30 00:00:00\n",
                        "INFO:root:-----------------------------------\n",
                        "INFO:root:Rebalancing portfolio at 2013-10-31 00:00:00\n",
                        "INFO:root:-----------------------------------\n",
                        "INFO:root:Rebalancing portfolio at 2013-11-29 00:00:00\n",
                        "INFO:root:-----------------------------------\n",
                        "INFO:root:Rebalancing portfolio at 2013-12-31 00:00:00\n",
                        "WARNING:root:Not enough cash to buy 137 of GLD on 2013-12-31 00:00:00. Needed: 15808.429916381836, Available: 15793.183986663818\n",
                        "INFO:root:Buying as many shares of GLD as possible with available cash.\n",
                        "INFO:root:-----------------------------------\n",
                        "INFO:root:Rebalancing portfolio at 2014-01-31 00:00:00\n",
                        "INFO:root:-----------------------------------\n",
                        "INFO:root:Rebalancing portfolio at 2014-02-28 00:00:00\n",
                        "WARNING:root:Not enough cash to buy 5597 of SPY on 2014-02-28 00:00:00. Needed: 857042.845489502, Available: 857006.2216072083\n",
                        "INFO:root:Buying as many shares of SPY as possible with available cash.\n",
                        "INFO:root:-----------------------------------\n",
                        "INFO:root:Rebalancing portfolio at 2014-03-31 00:00:00\n",
                        "INFO:root:-----------------------------------\n",
                        "INFO:root:Rebalancing portfolio at 2014-04-30 00:00:00\n",
                        "INFO:root:-----------------------------------\n",
                        "INFO:root:Rebalancing portfolio at 2014-05-30 00:00:00\n",
                        "WARNING:root:Not enough cash to buy 1421 of GLD on 2014-05-30 00:00:00. Needed: 171855.74346923828, Available: 171715.54120254517\n",
                        "INFO:root:Buying as many shares of GLD as possible with available cash.\n",
                        "INFO:root:-----------------------------------\n",
                        "INFO:root:Rebalancing portfolio at 2014-06-30 00:00:00\n",
                        "WARNING:root:Not enough cash to buy 956 of GLD on 2014-06-30 00:00:00. Needed: 121086.96350097656, Available: 121015.57078170776\n",
                        "INFO:root:Buying as many shares of GLD as possible with available cash.\n",
                        "INFO:root:-----------------------------------\n",
                        "INFO:root:Rebalancing portfolio at 2014-07-31 00:00:00\n",
                        "WARNING:root:Not enough cash to buy 745 of GLD on 2014-07-31 00:00:00. Needed: 92998.35136413574, Available: 92945.18980026245\n",
                        "INFO:root:Buying as many shares of GLD as possible with available cash.\n",
                        "INFO:root:-----------------------------------\n",
                        "INFO:root:Rebalancing portfolio at 2014-08-29 00:00:00\n",
                        "WARNING:root:Not enough cash to buy 751 of GLD on 2014-08-29 00:00:00. Needed: 93124.0, Available: 93031.06349563599\n",
                        "INFO:root:Buying as many shares of GLD as possible with available cash.\n",
                        "INFO:root:-----------------------------------\n",
                        "INFO:root:Rebalancing portfolio at 2014-09-30 00:00:00\n",
                        "WARNING:root:Not enough cash to buy 258 of GLD on 2014-09-30 00:00:00. Needed: 30193.739685058594, Available: 30185.762950897217\n",
                        "INFO:root:Buying as many shares of GLD as possible with available cash.\n",
                        "INFO:root:-----------------------------------\n",
                        "INFO:root:Rebalancing portfolio at 2014-10-31 00:00:00\n",
                        "INFO:root:-----------------------------------\n",
                        "INFO:root:Rebalancing portfolio at 2014-11-28 00:00:00\n",
                        "WARNING:root:Not enough cash to buy 135 of TLT on 2014-11-28 00:00:00. Needed: 12698.62907409668, Available: 12623.185543060303\n",
                        "INFO:root:Buying as many shares of TLT as possible with available cash.\n",
                        "INFO:root:-----------------------------------\n",
                        "INFO:root:Rebalancing portfolio at 2014-12-31 00:00:00\n",
                        "WARNING:root:Not enough cash to buy 570 of GLD on 2014-12-31 00:00:00. Needed: 65663.99826049805, Available: 65569.55575180054\n",
                        "INFO:root:Buying as many shares of GLD as possible with available cash.\n",
                        "INFO:root:-----------------------------------\n",
                        "INFO:root:Rebalancing portfolio at 2015-01-30 00:00:00\n",
                        "INFO:root:-----------------------------------\n",
                        "INFO:root:Rebalancing portfolio at 2015-02-27 00:00:00\n",
                        "INFO:root:-----------------------------------\n",
                        "INFO:root:Rebalancing portfolio at 2015-03-31 00:00:00\n",
                        "INFO:root:-----------------------------------\n",
                        "INFO:root:Rebalancing portfolio at 2015-04-30 00:00:00\n",
                        "INFO:root:-----------------------------------\n",
                        "INFO:root:Rebalancing portfolio at 2015-05-29 00:00:00\n",
                        "WARNING:root:Not enough cash to buy 257 of TLT on 2015-05-29 00:00:00. Needed: 24661.486434936523, Available: 24595.574954986572\n",
                        "INFO:root:Buying as many shares of TLT as possible with available cash.\n",
                        "INFO:root:-----------------------------------\n",
                        "INFO:root:Rebalancing portfolio at 2015-06-30 00:00:00\n",
                        "INFO:root:-----------------------------------\n",
                        "INFO:root:Rebalancing portfolio at 2015-07-31 00:00:00\n",
                        "WARNING:root:Not enough cash to buy 163 of SPY on 2015-07-31 00:00:00. Needed: 29140.71449279785, Available: 29094.785709381104\n",
                        "INFO:root:Buying as many shares of SPY as possible with available cash.\n",
                        "INFO:root:Stop loss triggered for SPY at 2015-08-25 00:00:00. Selling all shares.\n",
                        "INFO:root:-----------------------------------\n",
                        "INFO:root:Rebalancing portfolio at 2015-08-31 00:00:00\n",
                        "WARNING:root:Not enough cash to buy 728 of TLT on 2015-08-31 00:00:00. Needed: 70270.22888183594, Available: 70230.75972366333\n",
                        "INFO:root:Buying as many shares of TLT as possible with available cash.\n",
                        "INFO:root:-----------------------------------\n",
                        "INFO:root:Rebalancing portfolio at 2015-09-30 00:00:00\n",
                        "INFO:root:-----------------------------------\n",
                        "INFO:root:Rebalancing portfolio at 2015-10-30 00:00:00\n",
                        "INFO:root:Stop loss triggered for GLD at 2015-11-18 00:00:00. Selling all shares.\n",
                        "INFO:root:-----------------------------------\n",
                        "INFO:root:Rebalancing portfolio at 2015-11-30 00:00:00\n",
                        "INFO:root:-----------------------------------\n",
                        "INFO:root:Rebalancing portfolio at 2015-12-31 00:00:00\n",
                        "INFO:root:-----------------------------------\n",
                        "INFO:root:Rebalancing portfolio at 2016-01-29 00:00:00\n",
                        "INFO:root:Stop loss triggered for SPY at 2016-02-11 00:00:00. Selling all shares.\n",
                        "INFO:root:-----------------------------------\n",
                        "INFO:root:Rebalancing portfolio at 2016-02-29 00:00:00\n",
                        "INFO:root:-----------------------------------\n",
                        "INFO:root:Rebalancing portfolio at 2016-03-31 00:00:00\n",
                        "INFO:root:-----------------------------------\n",
                        "INFO:root:Rebalancing portfolio at 2016-04-29 00:00:00\n",
                        "INFO:root:-----------------------------------\n",
                        "INFO:root:Rebalancing portfolio at 2016-05-31 00:00:00\n",
                        "INFO:root:-----------------------------------\n",
                        "INFO:root:Rebalancing portfolio at 2016-06-30 00:00:00\n",
                        "WARNING:root:Not enough cash to buy 369 of SPY on 2016-06-30 00:00:00. Needed: 66069.24279785156, Available: 66058.15732192993\n",
                        "INFO:root:Buying as many shares of SPY as possible with available cash.\n",
                        "INFO:root:-----------------------------------\n",
                        "INFO:root:Rebalancing portfolio at 2016-07-29 00:00:00\n",
                        "INFO:root:-----------------------------------\n",
                        "INFO:root:Rebalancing portfolio at 2016-08-31 00:00:00\n",
                        "INFO:root:-----------------------------------\n",
                        "INFO:root:Rebalancing portfolio at 2016-09-30 00:00:00\n",
                        "INFO:root:-----------------------------------\n",
                        "INFO:root:Rebalancing portfolio at 2016-10-31 00:00:00\n",
                        "INFO:root:-----------------------------------\n",
                        "INFO:root:Rebalancing portfolio at 2016-11-30 00:00:00\n",
                        "WARNING:root:Not enough cash to buy 850 of TLT on 2016-11-30 00:00:00. Needed: 84426.34468078613, Available: 84381.24897384644\n",
                        "INFO:root:Buying as many shares of TLT as possible with available cash.\n",
                        "INFO:root:-----------------------------------\n",
                        "INFO:root:Rebalancing portfolio at 2016-12-30 00:00:00\n",
                        "WARNING:root:Not enough cash to buy 467 of GLD on 2016-12-30 00:00:00. Needed: 51505.43042755127, Available: 51373.57857131958\n",
                        "INFO:root:Buying as many shares of GLD as possible with available cash.\n",
                        "INFO:root:-----------------------------------\n",
                        "INFO:root:Rebalancing portfolio at 2017-01-31 00:00:00\n",
                        "INFO:root:-----------------------------------\n",
                        "INFO:root:Rebalancing portfolio at 2017-02-28 00:00:00\n",
                        "WARNING:root:Not enough cash to buy 394 of SPY on 2017-02-28 00:00:00. Needed: 81828.21969604492, Available: 81753.9151802063\n",
                        "INFO:root:Buying as many shares of SPY as possible with available cash.\n",
                        "INFO:root:-----------------------------------\n",
                        "INFO:root:Rebalancing portfolio at 2017-03-31 00:00:00\n",
                        "WARNING:root:Not enough cash to buy 574 of TLT on 2017-03-31 00:00:00. Needed: 56636.740982055664, Available: 56533.12349319458\n",
                        "INFO:root:Buying as many shares of TLT as possible with available cash.\n",
                        "INFO:root:-----------------------------------\n",
                        "INFO:root:Rebalancing portfolio at 2017-04-28 00:00:00\n",
                        "WARNING:root:Not enough cash to buy 414 of TLT on 2017-04-28 00:00:00. Needed: 41520.966888427734, Available: 41328.44832229614\n",
                        "INFO:root:Buying as many shares of TLT as possible with available cash.\n",
                        "INFO:root:-----------------------------------\n",
                        "INFO:root:Rebalancing portfolio at 2017-05-31 00:00:00\n",
                        "INFO:root:-----------------------------------\n",
                        "INFO:root:Rebalancing portfolio at 2017-06-30 00:00:00\n",
                        "WARNING:root:Not enough cash to buy 773 of GLD on 2017-06-30 00:00:00. Needed: 91461.35976409912, Available: 91256.6738243103\n",
                        "INFO:root:Buying as many shares of GLD as possible with available cash.\n",
                        "INFO:root:-----------------------------------\n",
                        "INFO:root:Rebalancing portfolio at 2017-07-31 00:00:00\n",
                        "WARNING:root:Not enough cash to buy 585 of TLT on 2017-07-31 00:00:00. Needed: 59915.118713378906, Available: 59753.36598587036\n",
                        "INFO:root:Buying as many shares of TLT as possible with available cash.\n",
                        "INFO:root:-----------------------------------\n",
                        "INFO:root:Rebalancing portfolio at 2017-08-31 00:00:00\n",
                        "INFO:root:-----------------------------------\n",
                        "INFO:root:Rebalancing portfolio at 2017-09-29 00:00:00\n",
                        "WARNING:root:Not enough cash to buy 1203 of TLT on 2017-09-29 00:00:00. Needed: 124321.33808898926, Available: 124313.60451126099\n",
                        "INFO:root:Buying as many shares of TLT as possible with available cash.\n",
                        "INFO:root:-----------------------------------\n",
                        "INFO:root:Rebalancing portfolio at 2017-10-31 00:00:00\n",
                        "WARNING:root:Not enough cash to buy 375 of TLT on 2017-10-31 00:00:00. Needed: 38813.252449035645, Available: 38631.82365036011\n",
                        "INFO:root:Buying as many shares of TLT as possible with available cash.\n",
                        "INFO:root:-----------------------------------\n",
                        "INFO:root:Rebalancing portfolio at 2017-11-30 00:00:00\n",
                        "WARNING:root:Not enough cash to buy 293 of GLD on 2017-11-30 00:00:00. Needed: 35757.72026824951, Available: 35631.38998031616\n",
                        "INFO:root:Buying as many shares of GLD as possible with available cash.\n",
                        "INFO:root:-----------------------------------\n",
                        "INFO:root:Rebalancing portfolio at 2017-12-29 00:00:00\n",
                        "WARNING:root:Not enough cash to buy 1569 of GLD on 2017-12-29 00:00:00. Needed: 192751.647605896, Available: 192704.91188430786\n",
                        "INFO:root:Buying as many shares of GLD as possible with available cash.\n",
                        "INFO:root:-----------------------------------\n",
                        "INFO:root:Rebalancing portfolio at 2018-01-31 00:00:00\n",
                        "WARNING:root:Not enough cash to buy 1460 of TLT on 2018-01-31 00:00:00. Needed: 149117.66006469727, Available: 149092.00035476685\n",
                        "INFO:root:Buying as many shares of TLT as possible with available cash.\n",
                        "INFO:root:-----------------------------------\n",
                        "INFO:root:Rebalancing portfolio at 2018-02-28 00:00:00\n",
                        "WARNING:root:Not enough cash to buy 1576 of TLT on 2018-02-28 00:00:00. Needed: 155999.20666503906, Available: 155795.67750167847\n",
                        "INFO:root:Buying as many shares of TLT as possible with available cash.\n",
                        "INFO:root:-----------------------------------\n",
                        "INFO:root:Rebalancing portfolio at 2018-03-30 00:00:00\n",
                        "WARNING:root:Not enough cash to buy 1339 of TLT on 2018-03-30 00:00:00. Needed: 137196.58465576172, Available: 137101.63747787476\n",
                        "INFO:root:Buying as many shares of TLT as possible with available cash.\n",
                        "INFO:root:-----------------------------------\n",
                        "INFO:root:Rebalancing portfolio at 2018-04-30 00:00:00\n",
                        "INFO:root:-----------------------------------\n",
                        "INFO:root:Rebalancing portfolio at 2018-05-31 00:00:00\n",
                        "WARNING:root:Not enough cash to buy 1338 of SPY on 2018-05-31 00:00:00. Needed: 327004.0273132324, Available: 326910.59506607056\n",
                        "INFO:root:Buying as many shares of SPY as possible with available cash.\n",
                        "INFO:root:-----------------------------------\n",
                        "INFO:root:Rebalancing portfolio at 2018-06-29 00:00:00\n",
                        "WARNING:root:Not enough cash to buy 192 of GLD on 2018-06-29 00:00:00. Needed: 22698.240234375, Available: 22697.359523773193\n",
                        "INFO:root:Buying as many shares of GLD as possible with available cash.\n",
                        "INFO:root:-----------------------------------\n",
                        "INFO:root:Rebalancing portfolio at 2018-07-31 00:00:00\n",
                        "INFO:root:-----------------------------------\n",
                        "INFO:root:Rebalancing portfolio at 2018-08-31 00:00:00\n",
                        "INFO:root:-----------------------------------\n",
                        "INFO:root:Rebalancing portfolio at 2018-09-28 00:00:00\n",
                        "INFO:root:-----------------------------------\n",
                        "INFO:root:Rebalancing portfolio at 2018-10-31 00:00:00\n",
                        "WARNING:root:Not enough cash to buy 12120 of TLT on 2018-10-31 00:00:00. Needed: 1181311.6333007812, Available: 1181220.279598236\n",
                        "INFO:root:Buying as many shares of TLT as possible with available cash.\n",
                        "INFO:root:-----------------------------------\n",
                        "INFO:root:Rebalancing portfolio at 2018-11-30 00:00:00\n",
                        "INFO:root:Stop loss triggered for SPY at 2018-12-22 00:00:00. Selling all shares.\n",
                        "INFO:root:-----------------------------------\n",
                        "INFO:root:Rebalancing portfolio at 2018-12-31 00:00:00\n",
                        "INFO:root:-----------------------------------\n",
                        "INFO:root:Rebalancing portfolio at 2019-01-31 00:00:00\n",
                        "WARNING:root:Not enough cash to buy 5 of TLT on 2019-01-31 00:00:00. Needed: 519.9245452880859, Available: 418.95815658569336\n",
                        "INFO:root:Buying as many shares of TLT as possible with available cash.\n",
                        "INFO:root:-----------------------------------\n",
                        "INFO:root:Rebalancing portfolio at 2019-02-28 00:00:00\n",
                        "INFO:root:-----------------------------------\n",
                        "INFO:root:Rebalancing portfolio at 2019-03-29 00:00:00\n",
                        "INFO:root:-----------------------------------\n",
                        "INFO:root:Rebalancing portfolio at 2019-04-30 00:00:00\n",
                        "WARNING:root:Not enough cash to buy 833 of GLD on 2019-04-30 00:00:00. Needed: 100651.39152526855, Available: 100430.39402389526\n",
                        "INFO:root:Buying as many shares of GLD as possible with available cash.\n",
                        "INFO:root:-----------------------------------\n",
                        "INFO:root:Rebalancing portfolio at 2019-05-31 00:00:00\n",
                        "INFO:root:-----------------------------------\n",
                        "INFO:root:Rebalancing portfolio at 2019-06-28 00:00:00\n",
                        "WARNING:root:Not enough cash to buy 275 of SPY on 2019-06-28 00:00:00. Needed: 73617.04177856445, Available: 73511.93363571167\n",
                        "INFO:root:Buying as many shares of SPY as possible with available cash.\n",
                        "INFO:root:-----------------------------------\n",
                        "INFO:root:Rebalancing portfolio at 2019-07-31 00:00:00\n",
                        "WARNING:root:Not enough cash to buy 957 of TLT on 2019-07-31 00:00:00. Needed: 109866.9542312622, Available: 109608.08637619019\n",
                        "INFO:root:Buying as many shares of TLT as possible with available cash.\n",
                        "INFO:root:-----------------------------------\n",
                        "INFO:root:Rebalancing portfolio at 2019-08-30 00:00:00\n",
                        "WARNING:root:Not enough cash to buy 809 of SPY on 2019-08-30 00:00:00. Needed: 217370.31072998047, Available: 217330.68339157104\n",
                        "INFO:root:Buying as many shares of SPY as possible with available cash.\n",
                        "INFO:root:-----------------------------------\n",
                        "INFO:root:Rebalancing portfolio at 2019-09-30 00:00:00\n",
                        "INFO:root:-----------------------------------\n",
                        "INFO:root:Rebalancing portfolio at 2019-10-31 00:00:00\n",
                        "INFO:root:-----------------------------------\n",
                        "INFO:root:Rebalancing portfolio at 2019-11-29 00:00:00\n",
                        "INFO:root:-----------------------------------\n",
                        "INFO:root:Rebalancing portfolio at 2019-12-31 00:00:00\n",
                        "INFO:root:-----------------------------------\n",
                        "INFO:root:Rebalancing portfolio at 2020-01-31 00:00:00\n",
                        "WARNING:root:Not enough cash to buy 684 of TLT on 2020-01-31 00:00:00. Needed: 87034.81997680664, Available: 86785.68109512329\n",
                        "INFO:root:Buying as many shares of TLT as possible with available cash.\n",
                        "INFO:root:-----------------------------------\n",
                        "INFO:root:Rebalancing portfolio at 2020-02-28 00:00:00\n",
                        "INFO:root:Stop loss triggered for SPY at 2020-03-13 00:00:00. Selling all shares.\n",
                        "INFO:root:-----------------------------------\n",
                        "INFO:root:Rebalancing portfolio at 2020-03-31 00:00:00\n",
                        "INFO:root:-----------------------------------\n",
                        "INFO:root:Rebalancing portfolio at 2020-04-30 00:00:00\n",
                        "WARNING:root:Not enough cash to buy 177 of SPY on 2020-04-30 00:00:00. Needed: 48399.00466918945, Available: 48378.10918045044\n",
                        "INFO:root:Buying as many shares of SPY as possible with available cash.\n",
                        "INFO:root:-----------------------------------\n",
                        "INFO:root:Rebalancing portfolio at 2020-05-29 00:00:00\n",
                        "INFO:root:-----------------------------------\n",
                        "INFO:root:Rebalancing portfolio at 2020-06-30 00:00:00\n",
                        "INFO:root:-----------------------------------\n",
                        "INFO:root:Rebalancing portfolio at 2020-07-31 00:00:00\n",
                        "WARNING:root:Not enough cash to buy 918 of TLT on 2020-07-31 00:00:00. Needed: 139400.8689880371, Available: 139175.0217475891\n",
                        "INFO:root:Buying as many shares of TLT as possible with available cash.\n",
                        "INFO:root:-----------------------------------\n",
                        "INFO:root:Rebalancing portfolio at 2020-08-31 00:00:00\n",
                        "WARNING:root:Not enough cash to buy 1616 of TLT on 2020-08-31 00:00:00. Needed: 231324.126953125, Available: 231189.4305152893\n",
                        "INFO:root:Buying as many shares of TLT as possible with available cash.\n",
                        "INFO:root:-----------------------------------\n",
                        "INFO:root:Rebalancing portfolio at 2020-09-30 00:00:00\n",
                        "WARNING:root:Not enough cash to buy 202 of TLT on 2020-09-30 00:00:00. Needed: 29616.548583984375, Available: 29445.229526519775\n",
                        "INFO:root:Buying as many shares of TLT as possible with available cash.\n",
                        "INFO:root:-----------------------------------\n",
                        "INFO:root:Rebalancing portfolio at 2020-10-30 00:00:00\n",
                        "WARNING:root:Not enough cash to buy 941 of TLT on 2020-10-30 00:00:00. Needed: 133333.50860595703, Available: 133290.93881607056\n",
                        "INFO:root:Buying as many shares of TLT as possible with available cash.\n",
                        "INFO:root:-----------------------------------\n",
                        "INFO:root:Rebalancing portfolio at 2020-11-30 00:00:00\n",
                        "WARNING:root:Not enough cash to buy 1219 of TLT on 2020-11-30 00:00:00. Needed: 174083.15496826172, Available: 173995.99444961548\n",
                        "INFO:root:Buying as many shares of TLT as possible with available cash.\n",
                        "INFO:root:-----------------------------------\n",
                        "INFO:root:Rebalancing portfolio at 2020-12-31 00:00:00\n",
                        "WARNING:root:Not enough cash to buy 1973 of TLT on 2020-12-31 00:00:00. Needed: 277548.77046203613, Available: 277475.6174354553\n",
                        "INFO:root:Buying as many shares of TLT as possible with available cash.\n"
                    ]
                },
                {
                    "data": {
                        "application/vnd.plotly.v1+json": {
                            "config": {
                                "plotlyServerURL": "https://plot.ly"
                            },
                            "data": [
                                {
                                    "marker": {
                                        "color": [
                                            "#1F77B4",
                                            "#b41f49",
                                            "#f7cf07"
                                        ]
                                    },
                                    "text": [
                                        "36.80%",
                                        "31.96%",
                                        "31.25%"
                                    ],
                                    "textposition": "auto",
                                    "type": "bar",
                                    "x": [
                                        "GLD",
                                        "SPY",
                                        "TLT"
                                    ],
                                    "y": [
                                        0.3679516357328651,
                                        0.3195717066893799,
                                        0.31247665757775506
                                    ]
                                }
                            ],
                            "layout": {
                                "height": 400,
                                "template": {
                                    "data": {
                                        "bar": [
                                            {
                                                "error_x": {
                                                    "color": "#2a3f5f"
                                                },
                                                "error_y": {
                                                    "color": "#2a3f5f"
                                                },
                                                "marker": {
                                                    "line": {
                                                        "color": "#E5ECF6",
                                                        "width": 0.5
                                                    },
                                                    "pattern": {
                                                        "fillmode": "overlay",
                                                        "size": 10,
                                                        "solidity": 0.2
                                                    }
                                                },
                                                "type": "bar"
                                            }
                                        ],
                                        "barpolar": [
                                            {
                                                "marker": {
                                                    "line": {
                                                        "color": "#E5ECF6",
                                                        "width": 0.5
                                                    },
                                                    "pattern": {
                                                        "fillmode": "overlay",
                                                        "size": 10,
                                                        "solidity": 0.2
                                                    }
                                                },
                                                "type": "barpolar"
                                            }
                                        ],
                                        "carpet": [
                                            {
                                                "aaxis": {
                                                    "endlinecolor": "#2a3f5f",
                                                    "gridcolor": "white",
                                                    "linecolor": "white",
                                                    "minorgridcolor": "white",
                                                    "startlinecolor": "#2a3f5f"
                                                },
                                                "baxis": {
                                                    "endlinecolor": "#2a3f5f",
                                                    "gridcolor": "white",
                                                    "linecolor": "white",
                                                    "minorgridcolor": "white",
                                                    "startlinecolor": "#2a3f5f"
                                                },
                                                "type": "carpet"
                                            }
                                        ],
                                        "choropleth": [
                                            {
                                                "colorbar": {
                                                    "outlinewidth": 0,
                                                    "ticks": ""
                                                },
                                                "type": "choropleth"
                                            }
                                        ],
                                        "contour": [
                                            {
                                                "colorbar": {
                                                    "outlinewidth": 0,
                                                    "ticks": ""
                                                },
                                                "colorscale": [
                                                    [
                                                        0,
                                                        "#0d0887"
                                                    ],
                                                    [
                                                        0.1111111111111111,
                                                        "#46039f"
                                                    ],
                                                    [
                                                        0.2222222222222222,
                                                        "#7201a8"
                                                    ],
                                                    [
                                                        0.3333333333333333,
                                                        "#9c179e"
                                                    ],
                                                    [
                                                        0.4444444444444444,
                                                        "#bd3786"
                                                    ],
                                                    [
                                                        0.5555555555555556,
                                                        "#d8576b"
                                                    ],
                                                    [
                                                        0.6666666666666666,
                                                        "#ed7953"
                                                    ],
                                                    [
                                                        0.7777777777777778,
                                                        "#fb9f3a"
                                                    ],
                                                    [
                                                        0.8888888888888888,
                                                        "#fdca26"
                                                    ],
                                                    [
                                                        1,
                                                        "#f0f921"
                                                    ]
                                                ],
                                                "type": "contour"
                                            }
                                        ],
                                        "contourcarpet": [
                                            {
                                                "colorbar": {
                                                    "outlinewidth": 0,
                                                    "ticks": ""
                                                },
                                                "type": "contourcarpet"
                                            }
                                        ],
                                        "heatmap": [
                                            {
                                                "colorbar": {
                                                    "outlinewidth": 0,
                                                    "ticks": ""
                                                },
                                                "colorscale": [
                                                    [
                                                        0,
                                                        "#0d0887"
                                                    ],
                                                    [
                                                        0.1111111111111111,
                                                        "#46039f"
                                                    ],
                                                    [
                                                        0.2222222222222222,
                                                        "#7201a8"
                                                    ],
                                                    [
                                                        0.3333333333333333,
                                                        "#9c179e"
                                                    ],
                                                    [
                                                        0.4444444444444444,
                                                        "#bd3786"
                                                    ],
                                                    [
                                                        0.5555555555555556,
                                                        "#d8576b"
                                                    ],
                                                    [
                                                        0.6666666666666666,
                                                        "#ed7953"
                                                    ],
                                                    [
                                                        0.7777777777777778,
                                                        "#fb9f3a"
                                                    ],
                                                    [
                                                        0.8888888888888888,
                                                        "#fdca26"
                                                    ],
                                                    [
                                                        1,
                                                        "#f0f921"
                                                    ]
                                                ],
                                                "type": "heatmap"
                                            }
                                        ],
                                        "heatmapgl": [
                                            {
                                                "colorbar": {
                                                    "outlinewidth": 0,
                                                    "ticks": ""
                                                },
                                                "colorscale": [
                                                    [
                                                        0,
                                                        "#0d0887"
                                                    ],
                                                    [
                                                        0.1111111111111111,
                                                        "#46039f"
                                                    ],
                                                    [
                                                        0.2222222222222222,
                                                        "#7201a8"
                                                    ],
                                                    [
                                                        0.3333333333333333,
                                                        "#9c179e"
                                                    ],
                                                    [
                                                        0.4444444444444444,
                                                        "#bd3786"
                                                    ],
                                                    [
                                                        0.5555555555555556,
                                                        "#d8576b"
                                                    ],
                                                    [
                                                        0.6666666666666666,
                                                        "#ed7953"
                                                    ],
                                                    [
                                                        0.7777777777777778,
                                                        "#fb9f3a"
                                                    ],
                                                    [
                                                        0.8888888888888888,
                                                        "#fdca26"
                                                    ],
                                                    [
                                                        1,
                                                        "#f0f921"
                                                    ]
                                                ],
                                                "type": "heatmapgl"
                                            }
                                        ],
                                        "histogram": [
                                            {
                                                "marker": {
                                                    "pattern": {
                                                        "fillmode": "overlay",
                                                        "size": 10,
                                                        "solidity": 0.2
                                                    }
                                                },
                                                "type": "histogram"
                                            }
                                        ],
                                        "histogram2d": [
                                            {
                                                "colorbar": {
                                                    "outlinewidth": 0,
                                                    "ticks": ""
                                                },
                                                "colorscale": [
                                                    [
                                                        0,
                                                        "#0d0887"
                                                    ],
                                                    [
                                                        0.1111111111111111,
                                                        "#46039f"
                                                    ],
                                                    [
                                                        0.2222222222222222,
                                                        "#7201a8"
                                                    ],
                                                    [
                                                        0.3333333333333333,
                                                        "#9c179e"
                                                    ],
                                                    [
                                                        0.4444444444444444,
                                                        "#bd3786"
                                                    ],
                                                    [
                                                        0.5555555555555556,
                                                        "#d8576b"
                                                    ],
                                                    [
                                                        0.6666666666666666,
                                                        "#ed7953"
                                                    ],
                                                    [
                                                        0.7777777777777778,
                                                        "#fb9f3a"
                                                    ],
                                                    [
                                                        0.8888888888888888,
                                                        "#fdca26"
                                                    ],
                                                    [
                                                        1,
                                                        "#f0f921"
                                                    ]
                                                ],
                                                "type": "histogram2d"
                                            }
                                        ],
                                        "histogram2dcontour": [
                                            {
                                                "colorbar": {
                                                    "outlinewidth": 0,
                                                    "ticks": ""
                                                },
                                                "colorscale": [
                                                    [
                                                        0,
                                                        "#0d0887"
                                                    ],
                                                    [
                                                        0.1111111111111111,
                                                        "#46039f"
                                                    ],
                                                    [
                                                        0.2222222222222222,
                                                        "#7201a8"
                                                    ],
                                                    [
                                                        0.3333333333333333,
                                                        "#9c179e"
                                                    ],
                                                    [
                                                        0.4444444444444444,
                                                        "#bd3786"
                                                    ],
                                                    [
                                                        0.5555555555555556,
                                                        "#d8576b"
                                                    ],
                                                    [
                                                        0.6666666666666666,
                                                        "#ed7953"
                                                    ],
                                                    [
                                                        0.7777777777777778,
                                                        "#fb9f3a"
                                                    ],
                                                    [
                                                        0.8888888888888888,
                                                        "#fdca26"
                                                    ],
                                                    [
                                                        1,
                                                        "#f0f921"
                                                    ]
                                                ],
                                                "type": "histogram2dcontour"
                                            }
                                        ],
                                        "mesh3d": [
                                            {
                                                "colorbar": {
                                                    "outlinewidth": 0,
                                                    "ticks": ""
                                                },
                                                "type": "mesh3d"
                                            }
                                        ],
                                        "parcoords": [
                                            {
                                                "line": {
                                                    "colorbar": {
                                                        "outlinewidth": 0,
                                                        "ticks": ""
                                                    }
                                                },
                                                "type": "parcoords"
                                            }
                                        ],
                                        "pie": [
                                            {
                                                "automargin": true,
                                                "type": "pie"
                                            }
                                        ],
                                        "scatter": [
                                            {
                                                "fillpattern": {
                                                    "fillmode": "overlay",
                                                    "size": 10,
                                                    "solidity": 0.2
                                                },
                                                "type": "scatter"
                                            }
                                        ],
                                        "scatter3d": [
                                            {
                                                "line": {
                                                    "colorbar": {
                                                        "outlinewidth": 0,
                                                        "ticks": ""
                                                    }
                                                },
                                                "marker": {
                                                    "colorbar": {
                                                        "outlinewidth": 0,
                                                        "ticks": ""
                                                    }
                                                },
                                                "type": "scatter3d"
                                            }
                                        ],
                                        "scattercarpet": [
                                            {
                                                "marker": {
                                                    "colorbar": {
                                                        "outlinewidth": 0,
                                                        "ticks": ""
                                                    }
                                                },
                                                "type": "scattercarpet"
                                            }
                                        ],
                                        "scattergeo": [
                                            {
                                                "marker": {
                                                    "colorbar": {
                                                        "outlinewidth": 0,
                                                        "ticks": ""
                                                    }
                                                },
                                                "type": "scattergeo"
                                            }
                                        ],
                                        "scattergl": [
                                            {
                                                "marker": {
                                                    "colorbar": {
                                                        "outlinewidth": 0,
                                                        "ticks": ""
                                                    }
                                                },
                                                "type": "scattergl"
                                            }
                                        ],
                                        "scattermapbox": [
                                            {
                                                "marker": {
                                                    "colorbar": {
                                                        "outlinewidth": 0,
                                                        "ticks": ""
                                                    }
                                                },
                                                "type": "scattermapbox"
                                            }
                                        ],
                                        "scatterpolar": [
                                            {
                                                "marker": {
                                                    "colorbar": {
                                                        "outlinewidth": 0,
                                                        "ticks": ""
                                                    }
                                                },
                                                "type": "scatterpolar"
                                            }
                                        ],
                                        "scatterpolargl": [
                                            {
                                                "marker": {
                                                    "colorbar": {
                                                        "outlinewidth": 0,
                                                        "ticks": ""
                                                    }
                                                },
                                                "type": "scatterpolargl"
                                            }
                                        ],
                                        "scatterternary": [
                                            {
                                                "marker": {
                                                    "colorbar": {
                                                        "outlinewidth": 0,
                                                        "ticks": ""
                                                    }
                                                },
                                                "type": "scatterternary"
                                            }
                                        ],
                                        "surface": [
                                            {
                                                "colorbar": {
                                                    "outlinewidth": 0,
                                                    "ticks": ""
                                                },
                                                "colorscale": [
                                                    [
                                                        0,
                                                        "#0d0887"
                                                    ],
                                                    [
                                                        0.1111111111111111,
                                                        "#46039f"
                                                    ],
                                                    [
                                                        0.2222222222222222,
                                                        "#7201a8"
                                                    ],
                                                    [
                                                        0.3333333333333333,
                                                        "#9c179e"
                                                    ],
                                                    [
                                                        0.4444444444444444,
                                                        "#bd3786"
                                                    ],
                                                    [
                                                        0.5555555555555556,
                                                        "#d8576b"
                                                    ],
                                                    [
                                                        0.6666666666666666,
                                                        "#ed7953"
                                                    ],
                                                    [
                                                        0.7777777777777778,
                                                        "#fb9f3a"
                                                    ],
                                                    [
                                                        0.8888888888888888,
                                                        "#fdca26"
                                                    ],
                                                    [
                                                        1,
                                                        "#f0f921"
                                                    ]
                                                ],
                                                "type": "surface"
                                            }
                                        ],
                                        "table": [
                                            {
                                                "cells": {
                                                    "fill": {
                                                        "color": "#EBF0F8"
                                                    },
                                                    "line": {
                                                        "color": "white"
                                                    }
                                                },
                                                "header": {
                                                    "fill": {
                                                        "color": "#C8D4E3"
                                                    },
                                                    "line": {
                                                        "color": "white"
                                                    }
                                                },
                                                "type": "table"
                                            }
                                        ]
                                    },
                                    "layout": {
                                        "annotationdefaults": {
                                            "arrowcolor": "#2a3f5f",
                                            "arrowhead": 0,
                                            "arrowwidth": 1
                                        },
                                        "autotypenumbers": "strict",
                                        "coloraxis": {
                                            "colorbar": {
                                                "outlinewidth": 0,
                                                "ticks": ""
                                            }
                                        },
                                        "colorscale": {
                                            "diverging": [
                                                [
                                                    0,
                                                    "#8e0152"
                                                ],
                                                [
                                                    0.1,
                                                    "#c51b7d"
                                                ],
                                                [
                                                    0.2,
                                                    "#de77ae"
                                                ],
                                                [
                                                    0.3,
                                                    "#f1b6da"
                                                ],
                                                [
                                                    0.4,
                                                    "#fde0ef"
                                                ],
                                                [
                                                    0.5,
                                                    "#f7f7f7"
                                                ],
                                                [
                                                    0.6,
                                                    "#e6f5d0"
                                                ],
                                                [
                                                    0.7,
                                                    "#b8e186"
                                                ],
                                                [
                                                    0.8,
                                                    "#7fbc41"
                                                ],
                                                [
                                                    0.9,
                                                    "#4d9221"
                                                ],
                                                [
                                                    1,
                                                    "#276419"
                                                ]
                                            ],
                                            "sequential": [
                                                [
                                                    0,
                                                    "#0d0887"
                                                ],
                                                [
                                                    0.1111111111111111,
                                                    "#46039f"
                                                ],
                                                [
                                                    0.2222222222222222,
                                                    "#7201a8"
                                                ],
                                                [
                                                    0.3333333333333333,
                                                    "#9c179e"
                                                ],
                                                [
                                                    0.4444444444444444,
                                                    "#bd3786"
                                                ],
                                                [
                                                    0.5555555555555556,
                                                    "#d8576b"
                                                ],
                                                [
                                                    0.6666666666666666,
                                                    "#ed7953"
                                                ],
                                                [
                                                    0.7777777777777778,
                                                    "#fb9f3a"
                                                ],
                                                [
                                                    0.8888888888888888,
                                                    "#fdca26"
                                                ],
                                                [
                                                    1,
                                                    "#f0f921"
                                                ]
                                            ],
                                            "sequentialminus": [
                                                [
                                                    0,
                                                    "#0d0887"
                                                ],
                                                [
                                                    0.1111111111111111,
                                                    "#46039f"
                                                ],
                                                [
                                                    0.2222222222222222,
                                                    "#7201a8"
                                                ],
                                                [
                                                    0.3333333333333333,
                                                    "#9c179e"
                                                ],
                                                [
                                                    0.4444444444444444,
                                                    "#bd3786"
                                                ],
                                                [
                                                    0.5555555555555556,
                                                    "#d8576b"
                                                ],
                                                [
                                                    0.6666666666666666,
                                                    "#ed7953"
                                                ],
                                                [
                                                    0.7777777777777778,
                                                    "#fb9f3a"
                                                ],
                                                [
                                                    0.8888888888888888,
                                                    "#fdca26"
                                                ],
                                                [
                                                    1,
                                                    "#f0f921"
                                                ]
                                            ]
                                        },
                                        "colorway": [
                                            "#636efa",
                                            "#EF553B",
                                            "#00cc96",
                                            "#ab63fa",
                                            "#FFA15A",
                                            "#19d3f3",
                                            "#FF6692",
                                            "#B6E880",
                                            "#FF97FF",
                                            "#FECB52"
                                        ],
                                        "font": {
                                            "color": "#2a3f5f"
                                        },
                                        "geo": {
                                            "bgcolor": "white",
                                            "lakecolor": "white",
                                            "landcolor": "#E5ECF6",
                                            "showlakes": true,
                                            "showland": true,
                                            "subunitcolor": "white"
                                        },
                                        "hoverlabel": {
                                            "align": "left"
                                        },
                                        "hovermode": "closest",
                                        "mapbox": {
                                            "style": "light"
                                        },
                                        "paper_bgcolor": "white",
                                        "plot_bgcolor": "#E5ECF6",
                                        "polar": {
                                            "angularaxis": {
                                                "gridcolor": "white",
                                                "linecolor": "white",
                                                "ticks": ""
                                            },
                                            "bgcolor": "#E5ECF6",
                                            "radialaxis": {
                                                "gridcolor": "white",
                                                "linecolor": "white",
                                                "ticks": ""
                                            }
                                        },
                                        "scene": {
                                            "xaxis": {
                                                "backgroundcolor": "#E5ECF6",
                                                "gridcolor": "white",
                                                "gridwidth": 2,
                                                "linecolor": "white",
                                                "showbackground": true,
                                                "ticks": "",
                                                "zerolinecolor": "white"
                                            },
                                            "yaxis": {
                                                "backgroundcolor": "#E5ECF6",
                                                "gridcolor": "white",
                                                "gridwidth": 2,
                                                "linecolor": "white",
                                                "showbackground": true,
                                                "ticks": "",
                                                "zerolinecolor": "white"
                                            },
                                            "zaxis": {
                                                "backgroundcolor": "#E5ECF6",
                                                "gridcolor": "white",
                                                "gridwidth": 2,
                                                "linecolor": "white",
                                                "showbackground": true,
                                                "ticks": "",
                                                "zerolinecolor": "white"
                                            }
                                        },
                                        "shapedefaults": {
                                            "line": {
                                                "color": "#2a3f5f"
                                            }
                                        },
                                        "ternary": {
                                            "aaxis": {
                                                "gridcolor": "white",
                                                "linecolor": "white",
                                                "ticks": ""
                                            },
                                            "baxis": {
                                                "gridcolor": "white",
                                                "linecolor": "white",
                                                "ticks": ""
                                            },
                                            "bgcolor": "#E5ECF6",
                                            "caxis": {
                                                "gridcolor": "white",
                                                "linecolor": "white",
                                                "ticks": ""
                                            }
                                        },
                                        "title": {
                                            "x": 0.05
                                        },
                                        "xaxis": {
                                            "automargin": true,
                                            "gridcolor": "white",
                                            "linecolor": "white",
                                            "ticks": "",
                                            "title": {
                                                "standoff": 15
                                            },
                                            "zerolinecolor": "white",
                                            "zerolinewidth": 2
                                        },
                                        "yaxis": {
                                            "automargin": true,
                                            "gridcolor": "white",
                                            "linecolor": "white",
                                            "ticks": "",
                                            "title": {
                                                "standoff": 15
                                            },
                                            "zerolinecolor": "white",
                                            "zerolinewidth": 2
                                        }
                                    }
                                },
                                "title": {
                                    "text": "Initial Risk Parity Portfolio Weights"
                                },
                                "width": 700,
                                "xaxis": {
                                    "tickmode": "linear",
                                    "title": {
                                        "text": "Assets"
                                    }
                                },
                                "yaxis": {
                                    "title": {
                                        "text": "Weights"
                                    }
                                }
                            }
                        }
                    },
                    "metadata": {},
                    "output_type": "display_data"
                },
                {
                    "name": "stdout",
                    "output_type": "stream",
                    "text": [
                        "Risk Contributions: {'GLD': 0.333, 'SPY': 0.333, 'TLT': 0.333}\n"
                    ]
                },
                {
                    "data": {
                        "application/vnd.plotly.v1+json": {
                            "config": {
                                "plotlyServerURL": "https://plot.ly"
                            },
                            "data": [
                                {
                                    "hoverinfo": "label+value",
                                    "labels": [
                                        "GLD",
                                        "SPY",
                                        "TLT"
                                    ],
                                    "marker": {
                                        "colors": [
                                            "#1F77B4",
                                            "#b41f49",
                                            "#f7cf07"
                                        ]
                                    },
                                    "textinfo": "label+percent",
                                    "type": "pie",
                                    "values": [
                                        0.333,
                                        0.333,
                                        0.333
                                    ]
                                }
                            ],
                            "layout": {
                                "template": {
                                    "data": {
                                        "bar": [
                                            {
                                                "error_x": {
                                                    "color": "#2a3f5f"
                                                },
                                                "error_y": {
                                                    "color": "#2a3f5f"
                                                },
                                                "marker": {
                                                    "line": {
                                                        "color": "white",
                                                        "width": 0.5
                                                    },
                                                    "pattern": {
                                                        "fillmode": "overlay",
                                                        "size": 10,
                                                        "solidity": 0.2
                                                    }
                                                },
                                                "type": "bar"
                                            }
                                        ],
                                        "barpolar": [
                                            {
                                                "marker": {
                                                    "line": {
                                                        "color": "white",
                                                        "width": 0.5
                                                    },
                                                    "pattern": {
                                                        "fillmode": "overlay",
                                                        "size": 10,
                                                        "solidity": 0.2
                                                    }
                                                },
                                                "type": "barpolar"
                                            }
                                        ],
                                        "carpet": [
                                            {
                                                "aaxis": {
                                                    "endlinecolor": "#2a3f5f",
                                                    "gridcolor": "#C8D4E3",
                                                    "linecolor": "#C8D4E3",
                                                    "minorgridcolor": "#C8D4E3",
                                                    "startlinecolor": "#2a3f5f"
                                                },
                                                "baxis": {
                                                    "endlinecolor": "#2a3f5f",
                                                    "gridcolor": "#C8D4E3",
                                                    "linecolor": "#C8D4E3",
                                                    "minorgridcolor": "#C8D4E3",
                                                    "startlinecolor": "#2a3f5f"
                                                },
                                                "type": "carpet"
                                            }
                                        ],
                                        "choropleth": [
                                            {
                                                "colorbar": {
                                                    "outlinewidth": 0,
                                                    "ticks": ""
                                                },
                                                "type": "choropleth"
                                            }
                                        ],
                                        "contour": [
                                            {
                                                "colorbar": {
                                                    "outlinewidth": 0,
                                                    "ticks": ""
                                                },
                                                "colorscale": [
                                                    [
                                                        0,
                                                        "#0d0887"
                                                    ],
                                                    [
                                                        0.1111111111111111,
                                                        "#46039f"
                                                    ],
                                                    [
                                                        0.2222222222222222,
                                                        "#7201a8"
                                                    ],
                                                    [
                                                        0.3333333333333333,
                                                        "#9c179e"
                                                    ],
                                                    [
                                                        0.4444444444444444,
                                                        "#bd3786"
                                                    ],
                                                    [
                                                        0.5555555555555556,
                                                        "#d8576b"
                                                    ],
                                                    [
                                                        0.6666666666666666,
                                                        "#ed7953"
                                                    ],
                                                    [
                                                        0.7777777777777778,
                                                        "#fb9f3a"
                                                    ],
                                                    [
                                                        0.8888888888888888,
                                                        "#fdca26"
                                                    ],
                                                    [
                                                        1,
                                                        "#f0f921"
                                                    ]
                                                ],
                                                "type": "contour"
                                            }
                                        ],
                                        "contourcarpet": [
                                            {
                                                "colorbar": {
                                                    "outlinewidth": 0,
                                                    "ticks": ""
                                                },
                                                "type": "contourcarpet"
                                            }
                                        ],
                                        "heatmap": [
                                            {
                                                "colorbar": {
                                                    "outlinewidth": 0,
                                                    "ticks": ""
                                                },
                                                "colorscale": [
                                                    [
                                                        0,
                                                        "#0d0887"
                                                    ],
                                                    [
                                                        0.1111111111111111,
                                                        "#46039f"
                                                    ],
                                                    [
                                                        0.2222222222222222,
                                                        "#7201a8"
                                                    ],
                                                    [
                                                        0.3333333333333333,
                                                        "#9c179e"
                                                    ],
                                                    [
                                                        0.4444444444444444,
                                                        "#bd3786"
                                                    ],
                                                    [
                                                        0.5555555555555556,
                                                        "#d8576b"
                                                    ],
                                                    [
                                                        0.6666666666666666,
                                                        "#ed7953"
                                                    ],
                                                    [
                                                        0.7777777777777778,
                                                        "#fb9f3a"
                                                    ],
                                                    [
                                                        0.8888888888888888,
                                                        "#fdca26"
                                                    ],
                                                    [
                                                        1,
                                                        "#f0f921"
                                                    ]
                                                ],
                                                "type": "heatmap"
                                            }
                                        ],
                                        "heatmapgl": [
                                            {
                                                "colorbar": {
                                                    "outlinewidth": 0,
                                                    "ticks": ""
                                                },
                                                "colorscale": [
                                                    [
                                                        0,
                                                        "#0d0887"
                                                    ],
                                                    [
                                                        0.1111111111111111,
                                                        "#46039f"
                                                    ],
                                                    [
                                                        0.2222222222222222,
                                                        "#7201a8"
                                                    ],
                                                    [
                                                        0.3333333333333333,
                                                        "#9c179e"
                                                    ],
                                                    [
                                                        0.4444444444444444,
                                                        "#bd3786"
                                                    ],
                                                    [
                                                        0.5555555555555556,
                                                        "#d8576b"
                                                    ],
                                                    [
                                                        0.6666666666666666,
                                                        "#ed7953"
                                                    ],
                                                    [
                                                        0.7777777777777778,
                                                        "#fb9f3a"
                                                    ],
                                                    [
                                                        0.8888888888888888,
                                                        "#fdca26"
                                                    ],
                                                    [
                                                        1,
                                                        "#f0f921"
                                                    ]
                                                ],
                                                "type": "heatmapgl"
                                            }
                                        ],
                                        "histogram": [
                                            {
                                                "marker": {
                                                    "pattern": {
                                                        "fillmode": "overlay",
                                                        "size": 10,
                                                        "solidity": 0.2
                                                    }
                                                },
                                                "type": "histogram"
                                            }
                                        ],
                                        "histogram2d": [
                                            {
                                                "colorbar": {
                                                    "outlinewidth": 0,
                                                    "ticks": ""
                                                },
                                                "colorscale": [
                                                    [
                                                        0,
                                                        "#0d0887"
                                                    ],
                                                    [
                                                        0.1111111111111111,
                                                        "#46039f"
                                                    ],
                                                    [
                                                        0.2222222222222222,
                                                        "#7201a8"
                                                    ],
                                                    [
                                                        0.3333333333333333,
                                                        "#9c179e"
                                                    ],
                                                    [
                                                        0.4444444444444444,
                                                        "#bd3786"
                                                    ],
                                                    [
                                                        0.5555555555555556,
                                                        "#d8576b"
                                                    ],
                                                    [
                                                        0.6666666666666666,
                                                        "#ed7953"
                                                    ],
                                                    [
                                                        0.7777777777777778,
                                                        "#fb9f3a"
                                                    ],
                                                    [
                                                        0.8888888888888888,
                                                        "#fdca26"
                                                    ],
                                                    [
                                                        1,
                                                        "#f0f921"
                                                    ]
                                                ],
                                                "type": "histogram2d"
                                            }
                                        ],
                                        "histogram2dcontour": [
                                            {
                                                "colorbar": {
                                                    "outlinewidth": 0,
                                                    "ticks": ""
                                                },
                                                "colorscale": [
                                                    [
                                                        0,
                                                        "#0d0887"
                                                    ],
                                                    [
                                                        0.1111111111111111,
                                                        "#46039f"
                                                    ],
                                                    [
                                                        0.2222222222222222,
                                                        "#7201a8"
                                                    ],
                                                    [
                                                        0.3333333333333333,
                                                        "#9c179e"
                                                    ],
                                                    [
                                                        0.4444444444444444,
                                                        "#bd3786"
                                                    ],
                                                    [
                                                        0.5555555555555556,
                                                        "#d8576b"
                                                    ],
                                                    [
                                                        0.6666666666666666,
                                                        "#ed7953"
                                                    ],
                                                    [
                                                        0.7777777777777778,
                                                        "#fb9f3a"
                                                    ],
                                                    [
                                                        0.8888888888888888,
                                                        "#fdca26"
                                                    ],
                                                    [
                                                        1,
                                                        "#f0f921"
                                                    ]
                                                ],
                                                "type": "histogram2dcontour"
                                            }
                                        ],
                                        "mesh3d": [
                                            {
                                                "colorbar": {
                                                    "outlinewidth": 0,
                                                    "ticks": ""
                                                },
                                                "type": "mesh3d"
                                            }
                                        ],
                                        "parcoords": [
                                            {
                                                "line": {
                                                    "colorbar": {
                                                        "outlinewidth": 0,
                                                        "ticks": ""
                                                    }
                                                },
                                                "type": "parcoords"
                                            }
                                        ],
                                        "pie": [
                                            {
                                                "automargin": true,
                                                "type": "pie"
                                            }
                                        ],
                                        "scatter": [
                                            {
                                                "fillpattern": {
                                                    "fillmode": "overlay",
                                                    "size": 10,
                                                    "solidity": 0.2
                                                },
                                                "type": "scatter"
                                            }
                                        ],
                                        "scatter3d": [
                                            {
                                                "line": {
                                                    "colorbar": {
                                                        "outlinewidth": 0,
                                                        "ticks": ""
                                                    }
                                                },
                                                "marker": {
                                                    "colorbar": {
                                                        "outlinewidth": 0,
                                                        "ticks": ""
                                                    }
                                                },
                                                "type": "scatter3d"
                                            }
                                        ],
                                        "scattercarpet": [
                                            {
                                                "marker": {
                                                    "colorbar": {
                                                        "outlinewidth": 0,
                                                        "ticks": ""
                                                    }
                                                },
                                                "type": "scattercarpet"
                                            }
                                        ],
                                        "scattergeo": [
                                            {
                                                "marker": {
                                                    "colorbar": {
                                                        "outlinewidth": 0,
                                                        "ticks": ""
                                                    }
                                                },
                                                "type": "scattergeo"
                                            }
                                        ],
                                        "scattergl": [
                                            {
                                                "marker": {
                                                    "colorbar": {
                                                        "outlinewidth": 0,
                                                        "ticks": ""
                                                    }
                                                },
                                                "type": "scattergl"
                                            }
                                        ],
                                        "scattermapbox": [
                                            {
                                                "marker": {
                                                    "colorbar": {
                                                        "outlinewidth": 0,
                                                        "ticks": ""
                                                    }
                                                },
                                                "type": "scattermapbox"
                                            }
                                        ],
                                        "scatterpolar": [
                                            {
                                                "marker": {
                                                    "colorbar": {
                                                        "outlinewidth": 0,
                                                        "ticks": ""
                                                    }
                                                },
                                                "type": "scatterpolar"
                                            }
                                        ],
                                        "scatterpolargl": [
                                            {
                                                "marker": {
                                                    "colorbar": {
                                                        "outlinewidth": 0,
                                                        "ticks": ""
                                                    }
                                                },
                                                "type": "scatterpolargl"
                                            }
                                        ],
                                        "scatterternary": [
                                            {
                                                "marker": {
                                                    "colorbar": {
                                                        "outlinewidth": 0,
                                                        "ticks": ""
                                                    }
                                                },
                                                "type": "scatterternary"
                                            }
                                        ],
                                        "surface": [
                                            {
                                                "colorbar": {
                                                    "outlinewidth": 0,
                                                    "ticks": ""
                                                },
                                                "colorscale": [
                                                    [
                                                        0,
                                                        "#0d0887"
                                                    ],
                                                    [
                                                        0.1111111111111111,
                                                        "#46039f"
                                                    ],
                                                    [
                                                        0.2222222222222222,
                                                        "#7201a8"
                                                    ],
                                                    [
                                                        0.3333333333333333,
                                                        "#9c179e"
                                                    ],
                                                    [
                                                        0.4444444444444444,
                                                        "#bd3786"
                                                    ],
                                                    [
                                                        0.5555555555555556,
                                                        "#d8576b"
                                                    ],
                                                    [
                                                        0.6666666666666666,
                                                        "#ed7953"
                                                    ],
                                                    [
                                                        0.7777777777777778,
                                                        "#fb9f3a"
                                                    ],
                                                    [
                                                        0.8888888888888888,
                                                        "#fdca26"
                                                    ],
                                                    [
                                                        1,
                                                        "#f0f921"
                                                    ]
                                                ],
                                                "type": "surface"
                                            }
                                        ],
                                        "table": [
                                            {
                                                "cells": {
                                                    "fill": {
                                                        "color": "#EBF0F8"
                                                    },
                                                    "line": {
                                                        "color": "white"
                                                    }
                                                },
                                                "header": {
                                                    "fill": {
                                                        "color": "#C8D4E3"
                                                    },
                                                    "line": {
                                                        "color": "white"
                                                    }
                                                },
                                                "type": "table"
                                            }
                                        ]
                                    },
                                    "layout": {
                                        "annotationdefaults": {
                                            "arrowcolor": "#2a3f5f",
                                            "arrowhead": 0,
                                            "arrowwidth": 1
                                        },
                                        "autotypenumbers": "strict",
                                        "coloraxis": {
                                            "colorbar": {
                                                "outlinewidth": 0,
                                                "ticks": ""
                                            }
                                        },
                                        "colorscale": {
                                            "diverging": [
                                                [
                                                    0,
                                                    "#8e0152"
                                                ],
                                                [
                                                    0.1,
                                                    "#c51b7d"
                                                ],
                                                [
                                                    0.2,
                                                    "#de77ae"
                                                ],
                                                [
                                                    0.3,
                                                    "#f1b6da"
                                                ],
                                                [
                                                    0.4,
                                                    "#fde0ef"
                                                ],
                                                [
                                                    0.5,
                                                    "#f7f7f7"
                                                ],
                                                [
                                                    0.6,
                                                    "#e6f5d0"
                                                ],
                                                [
                                                    0.7,
                                                    "#b8e186"
                                                ],
                                                [
                                                    0.8,
                                                    "#7fbc41"
                                                ],
                                                [
                                                    0.9,
                                                    "#4d9221"
                                                ],
                                                [
                                                    1,
                                                    "#276419"
                                                ]
                                            ],
                                            "sequential": [
                                                [
                                                    0,
                                                    "#0d0887"
                                                ],
                                                [
                                                    0.1111111111111111,
                                                    "#46039f"
                                                ],
                                                [
                                                    0.2222222222222222,
                                                    "#7201a8"
                                                ],
                                                [
                                                    0.3333333333333333,
                                                    "#9c179e"
                                                ],
                                                [
                                                    0.4444444444444444,
                                                    "#bd3786"
                                                ],
                                                [
                                                    0.5555555555555556,
                                                    "#d8576b"
                                                ],
                                                [
                                                    0.6666666666666666,
                                                    "#ed7953"
                                                ],
                                                [
                                                    0.7777777777777778,
                                                    "#fb9f3a"
                                                ],
                                                [
                                                    0.8888888888888888,
                                                    "#fdca26"
                                                ],
                                                [
                                                    1,
                                                    "#f0f921"
                                                ]
                                            ],
                                            "sequentialminus": [
                                                [
                                                    0,
                                                    "#0d0887"
                                                ],
                                                [
                                                    0.1111111111111111,
                                                    "#46039f"
                                                ],
                                                [
                                                    0.2222222222222222,
                                                    "#7201a8"
                                                ],
                                                [
                                                    0.3333333333333333,
                                                    "#9c179e"
                                                ],
                                                [
                                                    0.4444444444444444,
                                                    "#bd3786"
                                                ],
                                                [
                                                    0.5555555555555556,
                                                    "#d8576b"
                                                ],
                                                [
                                                    0.6666666666666666,
                                                    "#ed7953"
                                                ],
                                                [
                                                    0.7777777777777778,
                                                    "#fb9f3a"
                                                ],
                                                [
                                                    0.8888888888888888,
                                                    "#fdca26"
                                                ],
                                                [
                                                    1,
                                                    "#f0f921"
                                                ]
                                            ]
                                        },
                                        "colorway": [
                                            "#636efa",
                                            "#EF553B",
                                            "#00cc96",
                                            "#ab63fa",
                                            "#FFA15A",
                                            "#19d3f3",
                                            "#FF6692",
                                            "#B6E880",
                                            "#FF97FF",
                                            "#FECB52"
                                        ],
                                        "font": {
                                            "color": "#2a3f5f"
                                        },
                                        "geo": {
                                            "bgcolor": "white",
                                            "lakecolor": "white",
                                            "landcolor": "white",
                                            "showlakes": true,
                                            "showland": true,
                                            "subunitcolor": "#C8D4E3"
                                        },
                                        "hoverlabel": {
                                            "align": "left"
                                        },
                                        "hovermode": "closest",
                                        "mapbox": {
                                            "style": "light"
                                        },
                                        "paper_bgcolor": "white",
                                        "plot_bgcolor": "white",
                                        "polar": {
                                            "angularaxis": {
                                                "gridcolor": "#EBF0F8",
                                                "linecolor": "#EBF0F8",
                                                "ticks": ""
                                            },
                                            "bgcolor": "white",
                                            "radialaxis": {
                                                "gridcolor": "#EBF0F8",
                                                "linecolor": "#EBF0F8",
                                                "ticks": ""
                                            }
                                        },
                                        "scene": {
                                            "xaxis": {
                                                "backgroundcolor": "white",
                                                "gridcolor": "#DFE8F3",
                                                "gridwidth": 2,
                                                "linecolor": "#EBF0F8",
                                                "showbackground": true,
                                                "ticks": "",
                                                "zerolinecolor": "#EBF0F8"
                                            },
                                            "yaxis": {
                                                "backgroundcolor": "white",
                                                "gridcolor": "#DFE8F3",
                                                "gridwidth": 2,
                                                "linecolor": "#EBF0F8",
                                                "showbackground": true,
                                                "ticks": "",
                                                "zerolinecolor": "#EBF0F8"
                                            },
                                            "zaxis": {
                                                "backgroundcolor": "white",
                                                "gridcolor": "#DFE8F3",
                                                "gridwidth": 2,
                                                "linecolor": "#EBF0F8",
                                                "showbackground": true,
                                                "ticks": "",
                                                "zerolinecolor": "#EBF0F8"
                                            }
                                        },
                                        "shapedefaults": {
                                            "line": {
                                                "color": "#2a3f5f"
                                            }
                                        },
                                        "ternary": {
                                            "aaxis": {
                                                "gridcolor": "#DFE8F3",
                                                "linecolor": "#A2B1C6",
                                                "ticks": ""
                                            },
                                            "baxis": {
                                                "gridcolor": "#DFE8F3",
                                                "linecolor": "#A2B1C6",
                                                "ticks": ""
                                            },
                                            "bgcolor": "white",
                                            "caxis": {
                                                "gridcolor": "#DFE8F3",
                                                "linecolor": "#A2B1C6",
                                                "ticks": ""
                                            }
                                        },
                                        "title": {
                                            "x": 0.05
                                        },
                                        "xaxis": {
                                            "automargin": true,
                                            "gridcolor": "#EBF0F8",
                                            "linecolor": "#EBF0F8",
                                            "ticks": "",
                                            "title": {
                                                "standoff": 15
                                            },
                                            "zerolinecolor": "#EBF0F8",
                                            "zerolinewidth": 2
                                        },
                                        "yaxis": {
                                            "automargin": true,
                                            "gridcolor": "#EBF0F8",
                                            "linecolor": "#EBF0F8",
                                            "ticks": "",
                                            "title": {
                                                "standoff": 15
                                            },
                                            "zerolinecolor": "#EBF0F8",
                                            "zerolinewidth": 2
                                        }
                                    }
                                },
                                "title": {
                                    "text": "Risk Parity Allocation Pie Chart"
                                }
                            }
                        }
                    },
                    "metadata": {},
                    "output_type": "display_data"
                },
                {
                    "data": {
                        "application/vnd.plotly.v1+json": {
                            "config": {
                                "plotlyServerURL": "https://plot.ly"
                            },
                            "data": [
                                {
                                    "line": {
                                        "color": "#1F77B4"
                                    },
                                    "mode": "lines",
                                    "name": "GLD",
                                    "stackgroup": "one",
                                    "type": "scatter",
                                    "x": [
                                        "2005-01-31T00:00:00",
                                        "2005-02-28T00:00:00",
                                        "2005-03-31T00:00:00",
                                        "2005-04-29T00:00:00",
                                        "2005-05-31T00:00:00",
                                        "2005-06-30T00:00:00",
                                        "2005-07-29T00:00:00",
                                        "2005-08-31T00:00:00",
                                        "2005-09-30T00:00:00",
                                        "2005-10-31T00:00:00",
                                        "2005-11-30T00:00:00",
                                        "2005-12-30T00:00:00",
                                        "2006-01-31T00:00:00",
                                        "2006-02-28T00:00:00",
                                        "2006-03-31T00:00:00",
                                        "2006-04-28T00:00:00",
                                        "2006-05-31T00:00:00",
                                        "2006-06-30T00:00:00",
                                        "2006-07-31T00:00:00",
                                        "2006-08-31T00:00:00",
                                        "2006-09-29T00:00:00",
                                        "2006-10-31T00:00:00",
                                        "2006-11-30T00:00:00",
                                        "2006-12-29T00:00:00",
                                        "2007-01-31T00:00:00",
                                        "2007-02-28T00:00:00",
                                        "2007-03-30T00:00:00",
                                        "2007-04-30T00:00:00",
                                        "2007-05-31T00:00:00",
                                        "2007-06-29T00:00:00",
                                        "2007-07-31T00:00:00",
                                        "2007-08-31T00:00:00",
                                        "2007-09-28T00:00:00",
                                        "2007-10-31T00:00:00",
                                        "2007-11-30T00:00:00",
                                        "2007-12-31T00:00:00",
                                        "2008-01-31T00:00:00",
                                        "2008-02-29T00:00:00",
                                        "2008-03-31T00:00:00",
                                        "2008-04-30T00:00:00",
                                        "2008-05-30T00:00:00",
                                        "2008-06-30T00:00:00",
                                        "2008-07-31T00:00:00",
                                        "2008-08-29T00:00:00",
                                        "2008-09-30T00:00:00",
                                        "2008-10-31T00:00:00",
                                        "2008-11-28T00:00:00",
                                        "2008-12-31T00:00:00",
                                        "2009-01-30T00:00:00",
                                        "2009-02-27T00:00:00",
                                        "2009-03-31T00:00:00",
                                        "2009-04-30T00:00:00",
                                        "2009-05-29T00:00:00",
                                        "2009-06-30T00:00:00",
                                        "2009-07-31T00:00:00",
                                        "2009-08-31T00:00:00",
                                        "2009-09-30T00:00:00",
                                        "2009-10-30T00:00:00",
                                        "2009-11-30T00:00:00",
                                        "2009-12-31T00:00:00",
                                        "2010-01-29T00:00:00",
                                        "2010-02-26T00:00:00",
                                        "2010-03-31T00:00:00",
                                        "2010-04-30T00:00:00",
                                        "2010-05-31T00:00:00",
                                        "2010-06-30T00:00:00",
                                        "2010-07-30T00:00:00",
                                        "2010-08-31T00:00:00",
                                        "2010-09-30T00:00:00",
                                        "2010-10-29T00:00:00",
                                        "2010-11-30T00:00:00",
                                        "2010-12-31T00:00:00",
                                        "2011-01-31T00:00:00",
                                        "2011-02-28T00:00:00",
                                        "2011-03-31T00:00:00",
                                        "2011-04-29T00:00:00",
                                        "2011-05-31T00:00:00",
                                        "2011-06-30T00:00:00",
                                        "2011-07-29T00:00:00",
                                        "2011-08-31T00:00:00",
                                        "2011-09-30T00:00:00",
                                        "2011-10-31T00:00:00",
                                        "2011-11-30T00:00:00",
                                        "2011-12-30T00:00:00",
                                        "2012-01-31T00:00:00",
                                        "2012-02-29T00:00:00",
                                        "2012-03-30T00:00:00",
                                        "2012-04-30T00:00:00",
                                        "2012-05-31T00:00:00",
                                        "2012-06-29T00:00:00",
                                        "2012-07-31T00:00:00",
                                        "2012-08-31T00:00:00",
                                        "2012-09-28T00:00:00",
                                        "2012-10-31T00:00:00",
                                        "2012-11-30T00:00:00",
                                        "2012-12-31T00:00:00",
                                        "2013-01-31T00:00:00",
                                        "2013-02-28T00:00:00",
                                        "2013-03-29T00:00:00",
                                        "2013-04-30T00:00:00",
                                        "2013-05-31T00:00:00",
                                        "2013-06-28T00:00:00",
                                        "2013-07-31T00:00:00",
                                        "2013-08-30T00:00:00",
                                        "2013-09-30T00:00:00",
                                        "2013-10-31T00:00:00",
                                        "2013-11-29T00:00:00",
                                        "2013-12-31T00:00:00",
                                        "2014-01-31T00:00:00",
                                        "2014-02-28T00:00:00",
                                        "2014-03-31T00:00:00",
                                        "2014-04-30T00:00:00",
                                        "2014-05-30T00:00:00",
                                        "2014-06-30T00:00:00",
                                        "2014-07-31T00:00:00",
                                        "2014-08-29T00:00:00",
                                        "2014-09-30T00:00:00",
                                        "2014-10-31T00:00:00",
                                        "2014-11-28T00:00:00",
                                        "2014-12-31T00:00:00",
                                        "2015-01-30T00:00:00",
                                        "2015-02-27T00:00:00",
                                        "2015-03-31T00:00:00",
                                        "2015-04-30T00:00:00",
                                        "2015-05-29T00:00:00",
                                        "2015-06-30T00:00:00",
                                        "2015-07-31T00:00:00",
                                        "2015-08-31T00:00:00",
                                        "2015-09-30T00:00:00",
                                        "2015-10-30T00:00:00",
                                        "2015-11-30T00:00:00",
                                        "2015-12-31T00:00:00",
                                        "2016-01-29T00:00:00",
                                        "2016-02-29T00:00:00",
                                        "2016-03-31T00:00:00",
                                        "2016-04-29T00:00:00",
                                        "2016-05-31T00:00:00",
                                        "2016-06-30T00:00:00",
                                        "2016-07-29T00:00:00",
                                        "2016-08-31T00:00:00",
                                        "2016-09-30T00:00:00",
                                        "2016-10-31T00:00:00",
                                        "2016-11-30T00:00:00",
                                        "2016-12-30T00:00:00",
                                        "2017-01-31T00:00:00",
                                        "2017-02-28T00:00:00",
                                        "2017-03-31T00:00:00",
                                        "2017-04-28T00:00:00",
                                        "2017-05-31T00:00:00",
                                        "2017-06-30T00:00:00",
                                        "2017-07-31T00:00:00",
                                        "2017-08-31T00:00:00",
                                        "2017-09-29T00:00:00",
                                        "2017-10-31T00:00:00",
                                        "2017-11-30T00:00:00",
                                        "2017-12-29T00:00:00",
                                        "2018-01-31T00:00:00",
                                        "2018-02-28T00:00:00",
                                        "2018-03-30T00:00:00",
                                        "2018-04-30T00:00:00",
                                        "2018-05-31T00:00:00",
                                        "2018-06-29T00:00:00",
                                        "2018-07-31T00:00:00",
                                        "2018-08-31T00:00:00",
                                        "2018-09-28T00:00:00",
                                        "2018-10-31T00:00:00",
                                        "2018-11-30T00:00:00",
                                        "2018-12-31T00:00:00",
                                        "2019-01-31T00:00:00",
                                        "2019-02-28T00:00:00",
                                        "2019-03-29T00:00:00",
                                        "2019-04-30T00:00:00",
                                        "2019-05-31T00:00:00",
                                        "2019-06-28T00:00:00",
                                        "2019-07-31T00:00:00",
                                        "2019-08-30T00:00:00",
                                        "2019-09-30T00:00:00",
                                        "2019-10-31T00:00:00",
                                        "2019-11-29T00:00:00",
                                        "2019-12-31T00:00:00",
                                        "2020-01-31T00:00:00",
                                        "2020-02-28T00:00:00",
                                        "2020-03-31T00:00:00",
                                        "2020-04-30T00:00:00",
                                        "2020-05-29T00:00:00",
                                        "2020-06-30T00:00:00",
                                        "2020-07-31T00:00:00",
                                        "2020-08-31T00:00:00",
                                        "2020-09-30T00:00:00",
                                        "2020-10-30T00:00:00",
                                        "2020-11-30T00:00:00",
                                        "2020-12-31T00:00:00"
                                    ],
                                    "y": [
                                        0.3679516357328651,
                                        0.5089303261273687,
                                        0.4209705021099015,
                                        0.4139951047634885,
                                        0.46837911958650336,
                                        0.5306705140384212,
                                        0.5903632662823949,
                                        0.5658131445841069,
                                        0.44908825335341973,
                                        0.3703126695638366,
                                        0.31218775917170194,
                                        0.24185218555406718,
                                        0.17520068523340304,
                                        0.14869382074515541,
                                        0.10685637564406276,
                                        0.3483317263308182,
                                        0.28904166993619446,
                                        0.2742885065756468,
                                        0.27227768122450824,
                                        0.2779739986229431,
                                        0.30461433287949424,
                                        0.1623204923499716,
                                        0.21827250426587688,
                                        0.2759267593225787,
                                        0.3053626341168639,
                                        0.3217377401348707,
                                        0.3699869046725435,
                                        0.3376517666608109,
                                        0.30305645962019057,
                                        0.2746360600447493,
                                        0.1950201944249761,
                                        0.1514659162247619,
                                        0.1513745947442207,
                                        0.1497271722413135,
                                        0.14134218893224124,
                                        0.14344712650965868,
                                        0.12478545155147668,
                                        0.11692747913329064,
                                        0.20980343179440705,
                                        0.21052223832198602,
                                        0.20961011198488297,
                                        0.19300478491223313,
                                        0.1765641177185033,
                                        0.1351401099439161,
                                        0.4957267940927362,
                                        0.6076248715076606,
                                        0.6408733280307097,
                                        0.6659718340727198,
                                        0.6844212535664593,
                                        0.6982437894857753,
                                        0.7229685860816255,
                                        0.7190302059401484,
                                        0.691435063676461,
                                        0.2622620559296571,
                                        0.28214172473781535,
                                        0.2562509530437512,
                                        0.21789067587640037,
                                        0.22600362763103526,
                                        0.2304420143522907,
                                        0.5247322017622014,
                                        0.5334490920735195,
                                        0.5110511624708991,
                                        0.4671485137462252,
                                        0.10240290754385306,
                                        0.10652797864029366,
                                        0.1039896629714299,
                                        0.1105115056584735,
                                        0.13233658856638467,
                                        0.15452369120047513,
                                        0.1560542887607753,
                                        0.14060879172550422,
                                        0.13216174220537702,
                                        0.12941521630757674,
                                        0.12089195005375748,
                                        0.11614407610243695,
                                        0.46846889676052544,
                                        0.46170668198847237,
                                        0.4296117287625977,
                                        0.4148861322256029,
                                        0.07898834536316632,
                                        0.08947257727012357,
                                        0.3245230205211437,
                                        0.35274296102420094,
                                        0.38006816742550265,
                                        0.4107680345437954,
                                        0.17386703553990246,
                                        0.2216630384973895,
                                        0.2618041320676296,
                                        0.2971184630590313,
                                        0.3335451479084684,
                                        0.34436847768964673,
                                        0.3423898433488125,
                                        0.33121144361376653,
                                        0.2882825343587478,
                                        0.26316945281838644,
                                        0.25245331915274904,
                                        0.23977930585530832,
                                        0.22396967471505588,
                                        0.1820610706093807,
                                        0.46714252890842983,
                                        0.44134366718024093,
                                        0,
                                        0.17894563642788452,
                                        0.19908167877899163,
                                        0.22083565559355525,
                                        0.23034060169397352,
                                        0.2335981842569455,
                                        0.23738299437543206,
                                        0.25540912920484127,
                                        0.19921881841962666,
                                        0.2450982351400153,
                                        0.2969381171569202,
                                        0.360987681612713,
                                        0.4239763603618477,
                                        0.4587544676571513,
                                        0.4890321838563789,
                                        0.4911990466410559,
                                        0.4904418716420211,
                                        0.47840579869417804,
                                        0.5008608786863494,
                                        0.5236118499642806,
                                        0.5319541637749103,
                                        0.5299107603454328,
                                        0.5259099168208609,
                                        0.5084638896580917,
                                        0.49459158517499113,
                                        0.46525203568593554,
                                        0.4237872937729042,
                                        0.3496865616230536,
                                        0.2771276778231221,
                                        0.23844852215221868,
                                        0.2148670321799956,
                                        0.2276280957420977,
                                        0.23349997801425487,
                                        0.21560226782364886,
                                        0.23206757452265328,
                                        0.2357632382924136,
                                        0.24427390579851457,
                                        0.2593915823059694,
                                        0.26824401953908816,
                                        0.2629944971025025,
                                        0.2646996369263972,
                                        0.27635423883326204,
                                        0.2948207482389851,
                                        0.32324207280240813,
                                        0.3080827026084391,
                                        0.2897041070245886,
                                        0.2763739229900259,
                                        0.2697307052325232,
                                        0.3026004005015233,
                                        0.33378083292856564,
                                        0.35040416566477606,
                                        0.3486813612011849,
                                        0.35511949039107044,
                                        0.36785438334869597,
                                        0.44112966187441144,
                                        0.4246665679457599,
                                        0.3750594988625643,
                                        0.32790412057084134,
                                        0.290041516956507,
                                        0.7891854690540827,
                                        0.7915474100303503,
                                        0.7795999483728581,
                                        1,
                                        1,
                                        0.32315987523032824,
                                        0.3377410599883394,
                                        0.3088458873748708,
                                        0.32636435193768903,
                                        0.33447207208832275,
                                        0.3637646665972123,
                                        0.40054619867881686,
                                        0.43404382742755176,
                                        0.4248872658793737,
                                        0.39060371106470154,
                                        0.3693626893326,
                                        0.36916399306457626,
                                        0.36675292378117585,
                                        0.3745870284765329,
                                        0.3693893659562411,
                                        0.3443364716679887,
                                        0.33052438932295014,
                                        0.32275095711863205,
                                        0.3223512327667023,
                                        0.32601872035838464,
                                        0.32545790471387687,
                                        0.3026787940141679,
                                        0.2710121375505777,
                                        0.2610032334224779,
                                        0.25133659476986064,
                                        0.24834468554467956,
                                        0.2379729795084205
                                    ]
                                },
                                {
                                    "line": {
                                        "color": "#b41f49"
                                    },
                                    "mode": "lines",
                                    "name": "SPY",
                                    "stackgroup": "one",
                                    "type": "scatter",
                                    "x": [
                                        "2005-01-31T00:00:00",
                                        "2005-02-28T00:00:00",
                                        "2005-03-31T00:00:00",
                                        "2005-04-29T00:00:00",
                                        "2005-05-31T00:00:00",
                                        "2005-06-30T00:00:00",
                                        "2005-07-29T00:00:00",
                                        "2005-08-31T00:00:00",
                                        "2005-09-30T00:00:00",
                                        "2005-10-31T00:00:00",
                                        "2005-11-30T00:00:00",
                                        "2005-12-30T00:00:00",
                                        "2006-01-31T00:00:00",
                                        "2006-02-28T00:00:00",
                                        "2006-03-31T00:00:00",
                                        "2006-04-28T00:00:00",
                                        "2006-05-31T00:00:00",
                                        "2006-06-30T00:00:00",
                                        "2006-07-31T00:00:00",
                                        "2006-08-31T00:00:00",
                                        "2006-09-29T00:00:00",
                                        "2006-10-31T00:00:00",
                                        "2006-11-30T00:00:00",
                                        "2006-12-29T00:00:00",
                                        "2007-01-31T00:00:00",
                                        "2007-02-28T00:00:00",
                                        "2007-03-30T00:00:00",
                                        "2007-04-30T00:00:00",
                                        "2007-05-31T00:00:00",
                                        "2007-06-29T00:00:00",
                                        "2007-07-31T00:00:00",
                                        "2007-08-31T00:00:00",
                                        "2007-09-28T00:00:00",
                                        "2007-10-31T00:00:00",
                                        "2007-11-30T00:00:00",
                                        "2007-12-31T00:00:00",
                                        "2008-01-31T00:00:00",
                                        "2008-02-29T00:00:00",
                                        "2008-03-31T00:00:00",
                                        "2008-04-30T00:00:00",
                                        "2008-05-30T00:00:00",
                                        "2008-06-30T00:00:00",
                                        "2008-07-31T00:00:00",
                                        "2008-08-29T00:00:00",
                                        "2008-09-30T00:00:00",
                                        "2008-10-31T00:00:00",
                                        "2008-11-28T00:00:00",
                                        "2008-12-31T00:00:00",
                                        "2009-01-30T00:00:00",
                                        "2009-02-27T00:00:00",
                                        "2009-03-31T00:00:00",
                                        "2009-04-30T00:00:00",
                                        "2009-05-29T00:00:00",
                                        "2009-06-30T00:00:00",
                                        "2009-07-31T00:00:00",
                                        "2009-08-31T00:00:00",
                                        "2009-09-30T00:00:00",
                                        "2009-10-30T00:00:00",
                                        "2009-11-30T00:00:00",
                                        "2009-12-31T00:00:00",
                                        "2010-01-29T00:00:00",
                                        "2010-02-26T00:00:00",
                                        "2010-03-31T00:00:00",
                                        "2010-04-30T00:00:00",
                                        "2010-05-31T00:00:00",
                                        "2010-06-30T00:00:00",
                                        "2010-07-30T00:00:00",
                                        "2010-08-31T00:00:00",
                                        "2010-09-30T00:00:00",
                                        "2010-10-29T00:00:00",
                                        "2010-11-30T00:00:00",
                                        "2010-12-31T00:00:00",
                                        "2011-01-31T00:00:00",
                                        "2011-02-28T00:00:00",
                                        "2011-03-31T00:00:00",
                                        "2011-04-29T00:00:00",
                                        "2011-05-31T00:00:00",
                                        "2011-06-30T00:00:00",
                                        "2011-07-29T00:00:00",
                                        "2011-08-31T00:00:00",
                                        "2011-09-30T00:00:00",
                                        "2011-10-31T00:00:00",
                                        "2011-11-30T00:00:00",
                                        "2011-12-30T00:00:00",
                                        "2012-01-31T00:00:00",
                                        "2012-02-29T00:00:00",
                                        "2012-03-30T00:00:00",
                                        "2012-04-30T00:00:00",
                                        "2012-05-31T00:00:00",
                                        "2012-06-29T00:00:00",
                                        "2012-07-31T00:00:00",
                                        "2012-08-31T00:00:00",
                                        "2012-09-28T00:00:00",
                                        "2012-10-31T00:00:00",
                                        "2012-11-30T00:00:00",
                                        "2012-12-31T00:00:00",
                                        "2013-01-31T00:00:00",
                                        "2013-02-28T00:00:00",
                                        "2013-03-29T00:00:00",
                                        "2013-04-30T00:00:00",
                                        "2013-05-31T00:00:00",
                                        "2013-06-28T00:00:00",
                                        "2013-07-31T00:00:00",
                                        "2013-08-30T00:00:00",
                                        "2013-09-30T00:00:00",
                                        "2013-10-31T00:00:00",
                                        "2013-11-29T00:00:00",
                                        "2013-12-31T00:00:00",
                                        "2014-01-31T00:00:00",
                                        "2014-02-28T00:00:00",
                                        "2014-03-31T00:00:00",
                                        "2014-04-30T00:00:00",
                                        "2014-05-30T00:00:00",
                                        "2014-06-30T00:00:00",
                                        "2014-07-31T00:00:00",
                                        "2014-08-29T00:00:00",
                                        "2014-09-30T00:00:00",
                                        "2014-10-31T00:00:00",
                                        "2014-11-28T00:00:00",
                                        "2014-12-31T00:00:00",
                                        "2015-01-30T00:00:00",
                                        "2015-02-27T00:00:00",
                                        "2015-03-31T00:00:00",
                                        "2015-04-30T00:00:00",
                                        "2015-05-29T00:00:00",
                                        "2015-06-30T00:00:00",
                                        "2015-07-31T00:00:00",
                                        "2015-08-31T00:00:00",
                                        "2015-09-30T00:00:00",
                                        "2015-10-30T00:00:00",
                                        "2015-11-30T00:00:00",
                                        "2015-12-31T00:00:00",
                                        "2016-01-29T00:00:00",
                                        "2016-02-29T00:00:00",
                                        "2016-03-31T00:00:00",
                                        "2016-04-29T00:00:00",
                                        "2016-05-31T00:00:00",
                                        "2016-06-30T00:00:00",
                                        "2016-07-29T00:00:00",
                                        "2016-08-31T00:00:00",
                                        "2016-09-30T00:00:00",
                                        "2016-10-31T00:00:00",
                                        "2016-11-30T00:00:00",
                                        "2016-12-30T00:00:00",
                                        "2017-01-31T00:00:00",
                                        "2017-02-28T00:00:00",
                                        "2017-03-31T00:00:00",
                                        "2017-04-28T00:00:00",
                                        "2017-05-31T00:00:00",
                                        "2017-06-30T00:00:00",
                                        "2017-07-31T00:00:00",
                                        "2017-08-31T00:00:00",
                                        "2017-09-29T00:00:00",
                                        "2017-10-31T00:00:00",
                                        "2017-11-30T00:00:00",
                                        "2017-12-29T00:00:00",
                                        "2018-01-31T00:00:00",
                                        "2018-02-28T00:00:00",
                                        "2018-03-30T00:00:00",
                                        "2018-04-30T00:00:00",
                                        "2018-05-31T00:00:00",
                                        "2018-06-29T00:00:00",
                                        "2018-07-31T00:00:00",
                                        "2018-08-31T00:00:00",
                                        "2018-09-28T00:00:00",
                                        "2018-10-31T00:00:00",
                                        "2018-11-30T00:00:00",
                                        "2018-12-31T00:00:00",
                                        "2019-01-31T00:00:00",
                                        "2019-02-28T00:00:00",
                                        "2019-03-29T00:00:00",
                                        "2019-04-30T00:00:00",
                                        "2019-05-31T00:00:00",
                                        "2019-06-28T00:00:00",
                                        "2019-07-31T00:00:00",
                                        "2019-08-30T00:00:00",
                                        "2019-09-30T00:00:00",
                                        "2019-10-31T00:00:00",
                                        "2019-11-29T00:00:00",
                                        "2019-12-31T00:00:00",
                                        "2020-01-31T00:00:00",
                                        "2020-02-28T00:00:00",
                                        "2020-03-31T00:00:00",
                                        "2020-04-30T00:00:00",
                                        "2020-05-29T00:00:00",
                                        "2020-06-30T00:00:00",
                                        "2020-07-31T00:00:00",
                                        "2020-08-31T00:00:00",
                                        "2020-09-30T00:00:00",
                                        "2020-10-30T00:00:00",
                                        "2020-11-30T00:00:00",
                                        "2020-12-31T00:00:00"
                                    ],
                                    "y": [
                                        0.3195717066893799,
                                        0.21233549412365685,
                                        0.1896910025342023,
                                        0.200249088375611,
                                        0.2030909654838601,
                                        0.2304892615003302,
                                        0.18985497292789474,
                                        0.1858343070996335,
                                        0.23137044148364105,
                                        0.2677002914542766,
                                        0.2496756132414624,
                                        0.23288654134164372,
                                        0.2183599004857395,
                                        0.20105745522407434,
                                        0.14630594291395185,
                                        0.6516682736691816,
                                        0.7109583300638056,
                                        0.7257114934243534,
                                        0.7277223187754919,
                                        0.7220260013770569,
                                        0.6953856671205038,
                                        0.17256081180272,
                                        0.16570551895950056,
                                        0.1609903741824262,
                                        0.15336046357212924,
                                        0.15052631929125998,
                                        0.15189827600627795,
                                        0.14098137443785513,
                                        0.1297583260947052,
                                        0.11131555265965312,
                                        0.10525494907738442,
                                        0.11649412487380552,
                                        0.1528646908453658,
                                        0.1814436343402115,
                                        0.27576259077661697,
                                        0.3350845026688594,
                                        0.4094329722457994,
                                        0.43413756698689954,
                                        0,
                                        4.682669182964894e-16,
                                        8.963099359937665e-16,
                                        0,
                                        0,
                                        0.2845108925823519,
                                        0.5042732059072641,
                                        0.3923751284923393,
                                        0.35912667196929016,
                                        0.3340281659272803,
                                        0.3155787464335408,
                                        0.3017562105142248,
                                        0.2770314139183745,
                                        0.2809697940598515,
                                        0.30856493632353926,
                                        0.2210063473431183,
                                        0.24332571564345873,
                                        0.2717838889445538,
                                        0.29255346898226436,
                                        0.2308447818666952,
                                        0.18870531940667676,
                                        0.47526779823779897,
                                        0.46655090792648046,
                                        0.4889488375291012,
                                        0.5328514862537752,
                                        0.1173991464783239,
                                        0.15610048258925427,
                                        0.2217868163272414,
                                        0.3263815994280249,
                                        0.4380938469719911,
                                        0.49980521890191243,
                                        0.5131096593508521,
                                        0.4818623868473825,
                                        0.41518539356359563,
                                        0.3529079372271347,
                                        0.3071089053957394,
                                        0.2508147615145488,
                                        0.5315311032394746,
                                        0.5382933180115275,
                                        0.5703882712374025,
                                        0.5851138677743971,
                                        0.3730433217264594,
                                        0.5238027987991521,
                                        4.993835206468233e-16,
                                        5.854691731421724e-18,
                                        3.621235256101585e-17,
                                        0,
                                        0.6037770847202568,
                                        0.5272487654626059,
                                        0.4604079134691667,
                                        0.4063862094896487,
                                        0.3445530137493427,
                                        0.2102319296827261,
                                        0.20259518258612513,
                                        0.20692243175631092,
                                        0.22528116569411163,
                                        0.2610364250975621,
                                        0.29801921696576883,
                                        0.2954140971332704,
                                        0.28997450374193867,
                                        0.2638052119622539,
                                        0.5328574710915698,
                                        0.5586563328197593,
                                        1,
                                        0,
                                        0,
                                        1.441988889405721e-17,
                                        0,
                                        1.613827429447567e-17,
                                        0,
                                        5.154297127996088e-16,
                                        0.3921766639418928,
                                        0.3349644495547098,
                                        0.25945971985596655,
                                        0.20055177026756013,
                                        0.1866870995464998,
                                        0.1851987811023864,
                                        0.1852190752558387,
                                        0.19006280594139902,
                                        0.2050231059461293,
                                        0.20998276272598526,
                                        0.18747708959091514,
                                        0.23399575644857373,
                                        0.25423251425596266,
                                        0.25496376359666867,
                                        0.2623989440655227,
                                        0.2723156726101071,
                                        0.2862572862784344,
                                        0.3142034846128145,
                                        0.3194715193561223,
                                        0.31159264669025105,
                                        0.3562588882389093,
                                        0.3723963303758342,
                                        0.3849737357908831,
                                        0.28691649502536015,
                                        0.2926472855936141,
                                        0.3187020329881377,
                                        0.3299380240620729,
                                        0.34919004734162506,
                                        0.35767417217599556,
                                        0.34852458195573655,
                                        0.33471016897728184,
                                        0.33539787019497486,
                                        0.3181810047332885,
                                        0.2826928414803196,
                                        0.275564813040636,
                                        0.31263249631064993,
                                        0.3491714198955371,
                                        0.34445777417620776,
                                        0.3397572368140725,
                                        0.3417229854543879,
                                        0.31977275368233166,
                                        0.2715708355078668,
                                        0.21795444151481239,
                                        0.17478440517846552,
                                        0.1530863337109716,
                                        0.1535585232704113,
                                        0.12566964509929976,
                                        0.10181705332888132,
                                        0.09310860918594738,
                                        0.07717992309475871,
                                        0.08142864247651062,
                                        0.21081453094591618,
                                        0.20845258996965027,
                                        0.22040005162714196,
                                        0,
                                        0,
                                        0.19810150839431911,
                                        0.23102820171699123,
                                        0.1902794346578637,
                                        0.18477733305954475,
                                        0.19542044537747208,
                                        0.19915777523804248,
                                        0.1846094787383983,
                                        0.18560693060546185,
                                        0.21005590240516228,
                                        0.21236195565855626,
                                        0.26433065696418867,
                                        0.26269173962658104,
                                        0.2581502630777931,
                                        0.23250744917866326,
                                        0.23925830092934233,
                                        0.23167765368243642,
                                        0.22259708700274025,
                                        0.24293899916825032,
                                        0.27219794288879495,
                                        0.2897876746821817,
                                        0.28788205628650926,
                                        0.2830435244809548,
                                        0.27647660198290624,
                                        0.26211830360873944,
                                        0.2403474402898298,
                                        0.20064970619794997,
                                        0.15060554928431405
                                    ]
                                },
                                {
                                    "line": {
                                        "color": "#f7cf07"
                                    },
                                    "mode": "lines",
                                    "name": "TLT",
                                    "stackgroup": "one",
                                    "type": "scatter",
                                    "x": [
                                        "2005-01-31T00:00:00",
                                        "2005-02-28T00:00:00",
                                        "2005-03-31T00:00:00",
                                        "2005-04-29T00:00:00",
                                        "2005-05-31T00:00:00",
                                        "2005-06-30T00:00:00",
                                        "2005-07-29T00:00:00",
                                        "2005-08-31T00:00:00",
                                        "2005-09-30T00:00:00",
                                        "2005-10-31T00:00:00",
                                        "2005-11-30T00:00:00",
                                        "2005-12-30T00:00:00",
                                        "2006-01-31T00:00:00",
                                        "2006-02-28T00:00:00",
                                        "2006-03-31T00:00:00",
                                        "2006-04-28T00:00:00",
                                        "2006-05-31T00:00:00",
                                        "2006-06-30T00:00:00",
                                        "2006-07-31T00:00:00",
                                        "2006-08-31T00:00:00",
                                        "2006-09-29T00:00:00",
                                        "2006-10-31T00:00:00",
                                        "2006-11-30T00:00:00",
                                        "2006-12-29T00:00:00",
                                        "2007-01-31T00:00:00",
                                        "2007-02-28T00:00:00",
                                        "2007-03-30T00:00:00",
                                        "2007-04-30T00:00:00",
                                        "2007-05-31T00:00:00",
                                        "2007-06-29T00:00:00",
                                        "2007-07-31T00:00:00",
                                        "2007-08-31T00:00:00",
                                        "2007-09-28T00:00:00",
                                        "2007-10-31T00:00:00",
                                        "2007-11-30T00:00:00",
                                        "2007-12-31T00:00:00",
                                        "2008-01-31T00:00:00",
                                        "2008-02-29T00:00:00",
                                        "2008-03-31T00:00:00",
                                        "2008-04-30T00:00:00",
                                        "2008-05-30T00:00:00",
                                        "2008-06-30T00:00:00",
                                        "2008-07-31T00:00:00",
                                        "2008-08-29T00:00:00",
                                        "2008-09-30T00:00:00",
                                        "2008-10-31T00:00:00",
                                        "2008-11-28T00:00:00",
                                        "2008-12-31T00:00:00",
                                        "2009-01-30T00:00:00",
                                        "2009-02-27T00:00:00",
                                        "2009-03-31T00:00:00",
                                        "2009-04-30T00:00:00",
                                        "2009-05-29T00:00:00",
                                        "2009-06-30T00:00:00",
                                        "2009-07-31T00:00:00",
                                        "2009-08-31T00:00:00",
                                        "2009-09-30T00:00:00",
                                        "2009-10-30T00:00:00",
                                        "2009-11-30T00:00:00",
                                        "2009-12-31T00:00:00",
                                        "2010-01-29T00:00:00",
                                        "2010-02-26T00:00:00",
                                        "2010-03-31T00:00:00",
                                        "2010-04-30T00:00:00",
                                        "2010-05-31T00:00:00",
                                        "2010-06-30T00:00:00",
                                        "2010-07-30T00:00:00",
                                        "2010-08-31T00:00:00",
                                        "2010-09-30T00:00:00",
                                        "2010-10-29T00:00:00",
                                        "2010-11-30T00:00:00",
                                        "2010-12-31T00:00:00",
                                        "2011-01-31T00:00:00",
                                        "2011-02-28T00:00:00",
                                        "2011-03-31T00:00:00",
                                        "2011-04-29T00:00:00",
                                        "2011-05-31T00:00:00",
                                        "2011-06-30T00:00:00",
                                        "2011-07-29T00:00:00",
                                        "2011-08-31T00:00:00",
                                        "2011-09-30T00:00:00",
                                        "2011-10-31T00:00:00",
                                        "2011-11-30T00:00:00",
                                        "2011-12-30T00:00:00",
                                        "2012-01-31T00:00:00",
                                        "2012-02-29T00:00:00",
                                        "2012-03-30T00:00:00",
                                        "2012-04-30T00:00:00",
                                        "2012-05-31T00:00:00",
                                        "2012-06-29T00:00:00",
                                        "2012-07-31T00:00:00",
                                        "2012-08-31T00:00:00",
                                        "2012-09-28T00:00:00",
                                        "2012-10-31T00:00:00",
                                        "2012-11-30T00:00:00",
                                        "2012-12-31T00:00:00",
                                        "2013-01-31T00:00:00",
                                        "2013-02-28T00:00:00",
                                        "2013-03-29T00:00:00",
                                        "2013-04-30T00:00:00",
                                        "2013-05-31T00:00:00",
                                        "2013-06-28T00:00:00",
                                        "2013-07-31T00:00:00",
                                        "2013-08-30T00:00:00",
                                        "2013-09-30T00:00:00",
                                        "2013-10-31T00:00:00",
                                        "2013-11-29T00:00:00",
                                        "2013-12-31T00:00:00",
                                        "2014-01-31T00:00:00",
                                        "2014-02-28T00:00:00",
                                        "2014-03-31T00:00:00",
                                        "2014-04-30T00:00:00",
                                        "2014-05-30T00:00:00",
                                        "2014-06-30T00:00:00",
                                        "2014-07-31T00:00:00",
                                        "2014-08-29T00:00:00",
                                        "2014-09-30T00:00:00",
                                        "2014-10-31T00:00:00",
                                        "2014-11-28T00:00:00",
                                        "2014-12-31T00:00:00",
                                        "2015-01-30T00:00:00",
                                        "2015-02-27T00:00:00",
                                        "2015-03-31T00:00:00",
                                        "2015-04-30T00:00:00",
                                        "2015-05-29T00:00:00",
                                        "2015-06-30T00:00:00",
                                        "2015-07-31T00:00:00",
                                        "2015-08-31T00:00:00",
                                        "2015-09-30T00:00:00",
                                        "2015-10-30T00:00:00",
                                        "2015-11-30T00:00:00",
                                        "2015-12-31T00:00:00",
                                        "2016-01-29T00:00:00",
                                        "2016-02-29T00:00:00",
                                        "2016-03-31T00:00:00",
                                        "2016-04-29T00:00:00",
                                        "2016-05-31T00:00:00",
                                        "2016-06-30T00:00:00",
                                        "2016-07-29T00:00:00",
                                        "2016-08-31T00:00:00",
                                        "2016-09-30T00:00:00",
                                        "2016-10-31T00:00:00",
                                        "2016-11-30T00:00:00",
                                        "2016-12-30T00:00:00",
                                        "2017-01-31T00:00:00",
                                        "2017-02-28T00:00:00",
                                        "2017-03-31T00:00:00",
                                        "2017-04-28T00:00:00",
                                        "2017-05-31T00:00:00",
                                        "2017-06-30T00:00:00",
                                        "2017-07-31T00:00:00",
                                        "2017-08-31T00:00:00",
                                        "2017-09-29T00:00:00",
                                        "2017-10-31T00:00:00",
                                        "2017-11-30T00:00:00",
                                        "2017-12-29T00:00:00",
                                        "2018-01-31T00:00:00",
                                        "2018-02-28T00:00:00",
                                        "2018-03-30T00:00:00",
                                        "2018-04-30T00:00:00",
                                        "2018-05-31T00:00:00",
                                        "2018-06-29T00:00:00",
                                        "2018-07-31T00:00:00",
                                        "2018-08-31T00:00:00",
                                        "2018-09-28T00:00:00",
                                        "2018-10-31T00:00:00",
                                        "2018-11-30T00:00:00",
                                        "2018-12-31T00:00:00",
                                        "2019-01-31T00:00:00",
                                        "2019-02-28T00:00:00",
                                        "2019-03-29T00:00:00",
                                        "2019-04-30T00:00:00",
                                        "2019-05-31T00:00:00",
                                        "2019-06-28T00:00:00",
                                        "2019-07-31T00:00:00",
                                        "2019-08-30T00:00:00",
                                        "2019-09-30T00:00:00",
                                        "2019-10-31T00:00:00",
                                        "2019-11-29T00:00:00",
                                        "2019-12-31T00:00:00",
                                        "2020-01-31T00:00:00",
                                        "2020-02-28T00:00:00",
                                        "2020-03-31T00:00:00",
                                        "2020-04-30T00:00:00",
                                        "2020-05-29T00:00:00",
                                        "2020-06-30T00:00:00",
                                        "2020-07-31T00:00:00",
                                        "2020-08-31T00:00:00",
                                        "2020-09-30T00:00:00",
                                        "2020-10-30T00:00:00",
                                        "2020-11-30T00:00:00",
                                        "2020-12-31T00:00:00"
                                    ],
                                    "y": [
                                        0.31247665757775506,
                                        0.27873417974897446,
                                        0.38933849535589626,
                                        0.38575580686090066,
                                        0.3285299149296366,
                                        0.2388402244612485,
                                        0.21978176078971043,
                                        0.24835254831625964,
                                        0.3195413051629392,
                                        0.3619870389818868,
                                        0.43813662758683575,
                                        0.5252612731042892,
                                        0.6064394142808575,
                                        0.6502487240307703,
                                        0.7468376814419854,
                                        2.3158558404290375e-16,
                                        5.44811591673966e-18,
                                        1.8431436932253575e-17,
                                        0,
                                        0,
                                        1.948202883739203e-15,
                                        0.6651186958473085,
                                        0.6160219767746226,
                                        0.5630828664949951,
                                        0.5412769023110069,
                                        0.5277359405738693,
                                        0.4781148193211785,
                                        0.5213668589013339,
                                        0.5671852142851044,
                                        0.6140483872955976,
                                        0.6997248564976395,
                                        0.7320399589014325,
                                        0.6957607144104135,
                                        0.668829193418475,
                                        0.5828952202911417,
                                        0.5214683708214819,
                                        0.46578157620272387,
                                        0.44893495387980975,
                                        0.7901965682055931,
                                        0.7894777616780135,
                                        0.7903898880151162,
                                        0.8069952150877697,
                                        0.8234358822814968,
                                        0.5803489974737319,
                                        0,
                                        8.782037597132586e-18,
                                        3.9898639947466563e-17,
                                        0,
                                        8.025806581823947e-17,
                                        1.4257258568184383e-17,
                                        0,
                                        4.0332320816460765e-17,
                                        0,
                                        0.5167315967272246,
                                        0.47453255961872587,
                                        0.47196515801169486,
                                        0.4895558551413353,
                                        0.5431515905022696,
                                        0.5808526662410326,
                                        0,
                                        0,
                                        0,
                                        0,
                                        0.780197945977823,
                                        0.7373715387704521,
                                        0.6742235207013287,
                                        0.5631068949135016,
                                        0.4295695644616242,
                                        0.34567108989761247,
                                        0.3308360518883726,
                                        0.37752882142711336,
                                        0.45265286423102735,
                                        0.5176768464652887,
                                        0.5719991445505032,
                                        0.6330411623830143,
                                        2.1575623232461538e-17,
                                        8.261620554339544e-17,
                                        0,
                                        5.095750210681871e-17,
                                        0.5479683329103743,
                                        0.3867246239307242,
                                        0.6754769794788558,
                                        0.647257038975799,
                                        0.6199318325744974,
                                        0.5892319654562046,
                                        0.2223558797398408,
                                        0.25108819604000465,
                                        0.2777879544632036,
                                        0.29649532745132,
                                        0.321901838342189,
                                        0.4453995926276271,
                                        0.4550149740650624,
                                        0.4618661246299226,
                                        0.48643629994714066,
                                        0.4757941220840515,
                                        0.4495274638814821,
                                        0.4648065970114213,
                                        0.4860558215430055,
                                        0.5541337174283655,
                                        3.6044301224280595e-16,
                                        0,
                                        1.9623191960249642e-14,
                                        0.8210543635721155,
                                        0.8009183212210084,
                                        0.7791643444064448,
                                        0.7696593983060266,
                                        0.7664018157430545,
                                        0.7626170056245679,
                                        0.7445908707951583,
                                        0.40860451763848055,
                                        0.4199373153052749,
                                        0.44360216298711325,
                                        0.43846054811972696,
                                        0.3893365400916524,
                                        0.3560467512404623,
                                        0.32574874088778244,
                                        0.318738147417545,
                                        0.30453502241184965,
                                        0.3116114385798367,
                                        0.31166203172273543,
                                        0.24239239358714576,
                                        0.21381332196912697,
                                        0.21512547605789842,
                                        0.2116911391136165,
                                        0.2192204377318012,
                                        0.21915112854657456,
                                        0.22054447970124993,
                                        0.2567411868709734,
                                        0.3387207916866952,
                                        0.3666134339379686,
                                        0.389155147471947,
                                        0.40015923202912135,
                                        0.48545540923254227,
                                        0.4738527363921311,
                                        0.4656956991882134,
                                        0.4379944014152739,
                                        0.4150467143659613,
                                        0.39805192202548983,
                                        0.392083835738294,
                                        0.39704581148363005,
                                        0.4016076327025226,
                                        0.4171193583403143,
                                        0.44095291968641825,
                                        0.42961443872037886,
                                        0.3641254308869419,
                                        0.3427458774960237,
                                        0.3658381187992038,
                                        0.38386884019590173,
                                        0.388546309313089,
                                        0.377626845816145,
                                        0.39464833156356766,
                                        0.43164139282041153,
                                        0.4765342336203495,
                                        0.49179417589795793,
                                        0.4785870933808927,
                                        0.43320069302628883,
                                        0.47351637872535884,
                                        0.5318318919514883,
                                        0.5949159563344,
                                        0.6285298405669824,
                                        1.1335333713335949e-15,
                                        0,
                                        0,
                                        2.7755575615628914e-16,
                                        0,
                                        0.4787386163753527,
                                        0.43123073829466935,
                                        0.5008746779672656,
                                        0.48885831500276633,
                                        0.4701074825342052,
                                        0.4370775581647451,
                                        0.41484432258278486,
                                        0.38034924196698644,
                                        0.36505683171546405,
                                        0.39703433327674215,
                                        0.36630665370321136,
                                        0.36814426730884264,
                                        0.3750968131410311,
                                        0.39290552234480386,
                                        0.39135233311441653,
                                        0.4239858746495748,
                                        0.44687852367430964,
                                        0.4343100437131176,
                                        0.4054508243445027,
                                        0.38419360495943367,
                                        0.3866600389996139,
                                        0.4142776815048773,
                                        0.4525112604665161,
                                        0.47687846296878267,
                                        0.5083159649403096,
                                        0.5510056082573705,
                                        0.6114214712072654
                                    ]
                                }
                            ],
                            "layout": {
                                "height": 500,
                                "legend": {
                                    "title": {
                                        "text": "Assets"
                                    }
                                },
                                "template": {
                                    "data": {
                                        "bar": [
                                            {
                                                "error_x": {
                                                    "color": "#2a3f5f"
                                                },
                                                "error_y": {
                                                    "color": "#2a3f5f"
                                                },
                                                "marker": {
                                                    "line": {
                                                        "color": "#E5ECF6",
                                                        "width": 0.5
                                                    },
                                                    "pattern": {
                                                        "fillmode": "overlay",
                                                        "size": 10,
                                                        "solidity": 0.2
                                                    }
                                                },
                                                "type": "bar"
                                            }
                                        ],
                                        "barpolar": [
                                            {
                                                "marker": {
                                                    "line": {
                                                        "color": "#E5ECF6",
                                                        "width": 0.5
                                                    },
                                                    "pattern": {
                                                        "fillmode": "overlay",
                                                        "size": 10,
                                                        "solidity": 0.2
                                                    }
                                                },
                                                "type": "barpolar"
                                            }
                                        ],
                                        "carpet": [
                                            {
                                                "aaxis": {
                                                    "endlinecolor": "#2a3f5f",
                                                    "gridcolor": "white",
                                                    "linecolor": "white",
                                                    "minorgridcolor": "white",
                                                    "startlinecolor": "#2a3f5f"
                                                },
                                                "baxis": {
                                                    "endlinecolor": "#2a3f5f",
                                                    "gridcolor": "white",
                                                    "linecolor": "white",
                                                    "minorgridcolor": "white",
                                                    "startlinecolor": "#2a3f5f"
                                                },
                                                "type": "carpet"
                                            }
                                        ],
                                        "choropleth": [
                                            {
                                                "colorbar": {
                                                    "outlinewidth": 0,
                                                    "ticks": ""
                                                },
                                                "type": "choropleth"
                                            }
                                        ],
                                        "contour": [
                                            {
                                                "colorbar": {
                                                    "outlinewidth": 0,
                                                    "ticks": ""
                                                },
                                                "colorscale": [
                                                    [
                                                        0,
                                                        "#0d0887"
                                                    ],
                                                    [
                                                        0.1111111111111111,
                                                        "#46039f"
                                                    ],
                                                    [
                                                        0.2222222222222222,
                                                        "#7201a8"
                                                    ],
                                                    [
                                                        0.3333333333333333,
                                                        "#9c179e"
                                                    ],
                                                    [
                                                        0.4444444444444444,
                                                        "#bd3786"
                                                    ],
                                                    [
                                                        0.5555555555555556,
                                                        "#d8576b"
                                                    ],
                                                    [
                                                        0.6666666666666666,
                                                        "#ed7953"
                                                    ],
                                                    [
                                                        0.7777777777777778,
                                                        "#fb9f3a"
                                                    ],
                                                    [
                                                        0.8888888888888888,
                                                        "#fdca26"
                                                    ],
                                                    [
                                                        1,
                                                        "#f0f921"
                                                    ]
                                                ],
                                                "type": "contour"
                                            }
                                        ],
                                        "contourcarpet": [
                                            {
                                                "colorbar": {
                                                    "outlinewidth": 0,
                                                    "ticks": ""
                                                },
                                                "type": "contourcarpet"
                                            }
                                        ],
                                        "heatmap": [
                                            {
                                                "colorbar": {
                                                    "outlinewidth": 0,
                                                    "ticks": ""
                                                },
                                                "colorscale": [
                                                    [
                                                        0,
                                                        "#0d0887"
                                                    ],
                                                    [
                                                        0.1111111111111111,
                                                        "#46039f"
                                                    ],
                                                    [
                                                        0.2222222222222222,
                                                        "#7201a8"
                                                    ],
                                                    [
                                                        0.3333333333333333,
                                                        "#9c179e"
                                                    ],
                                                    [
                                                        0.4444444444444444,
                                                        "#bd3786"
                                                    ],
                                                    [
                                                        0.5555555555555556,
                                                        "#d8576b"
                                                    ],
                                                    [
                                                        0.6666666666666666,
                                                        "#ed7953"
                                                    ],
                                                    [
                                                        0.7777777777777778,
                                                        "#fb9f3a"
                                                    ],
                                                    [
                                                        0.8888888888888888,
                                                        "#fdca26"
                                                    ],
                                                    [
                                                        1,
                                                        "#f0f921"
                                                    ]
                                                ],
                                                "type": "heatmap"
                                            }
                                        ],
                                        "heatmapgl": [
                                            {
                                                "colorbar": {
                                                    "outlinewidth": 0,
                                                    "ticks": ""
                                                },
                                                "colorscale": [
                                                    [
                                                        0,
                                                        "#0d0887"
                                                    ],
                                                    [
                                                        0.1111111111111111,
                                                        "#46039f"
                                                    ],
                                                    [
                                                        0.2222222222222222,
                                                        "#7201a8"
                                                    ],
                                                    [
                                                        0.3333333333333333,
                                                        "#9c179e"
                                                    ],
                                                    [
                                                        0.4444444444444444,
                                                        "#bd3786"
                                                    ],
                                                    [
                                                        0.5555555555555556,
                                                        "#d8576b"
                                                    ],
                                                    [
                                                        0.6666666666666666,
                                                        "#ed7953"
                                                    ],
                                                    [
                                                        0.7777777777777778,
                                                        "#fb9f3a"
                                                    ],
                                                    [
                                                        0.8888888888888888,
                                                        "#fdca26"
                                                    ],
                                                    [
                                                        1,
                                                        "#f0f921"
                                                    ]
                                                ],
                                                "type": "heatmapgl"
                                            }
                                        ],
                                        "histogram": [
                                            {
                                                "marker": {
                                                    "pattern": {
                                                        "fillmode": "overlay",
                                                        "size": 10,
                                                        "solidity": 0.2
                                                    }
                                                },
                                                "type": "histogram"
                                            }
                                        ],
                                        "histogram2d": [
                                            {
                                                "colorbar": {
                                                    "outlinewidth": 0,
                                                    "ticks": ""
                                                },
                                                "colorscale": [
                                                    [
                                                        0,
                                                        "#0d0887"
                                                    ],
                                                    [
                                                        0.1111111111111111,
                                                        "#46039f"
                                                    ],
                                                    [
                                                        0.2222222222222222,
                                                        "#7201a8"
                                                    ],
                                                    [
                                                        0.3333333333333333,
                                                        "#9c179e"
                                                    ],
                                                    [
                                                        0.4444444444444444,
                                                        "#bd3786"
                                                    ],
                                                    [
                                                        0.5555555555555556,
                                                        "#d8576b"
                                                    ],
                                                    [
                                                        0.6666666666666666,
                                                        "#ed7953"
                                                    ],
                                                    [
                                                        0.7777777777777778,
                                                        "#fb9f3a"
                                                    ],
                                                    [
                                                        0.8888888888888888,
                                                        "#fdca26"
                                                    ],
                                                    [
                                                        1,
                                                        "#f0f921"
                                                    ]
                                                ],
                                                "type": "histogram2d"
                                            }
                                        ],
                                        "histogram2dcontour": [
                                            {
                                                "colorbar": {
                                                    "outlinewidth": 0,
                                                    "ticks": ""
                                                },
                                                "colorscale": [
                                                    [
                                                        0,
                                                        "#0d0887"
                                                    ],
                                                    [
                                                        0.1111111111111111,
                                                        "#46039f"
                                                    ],
                                                    [
                                                        0.2222222222222222,
                                                        "#7201a8"
                                                    ],
                                                    [
                                                        0.3333333333333333,
                                                        "#9c179e"
                                                    ],
                                                    [
                                                        0.4444444444444444,
                                                        "#bd3786"
                                                    ],
                                                    [
                                                        0.5555555555555556,
                                                        "#d8576b"
                                                    ],
                                                    [
                                                        0.6666666666666666,
                                                        "#ed7953"
                                                    ],
                                                    [
                                                        0.7777777777777778,
                                                        "#fb9f3a"
                                                    ],
                                                    [
                                                        0.8888888888888888,
                                                        "#fdca26"
                                                    ],
                                                    [
                                                        1,
                                                        "#f0f921"
                                                    ]
                                                ],
                                                "type": "histogram2dcontour"
                                            }
                                        ],
                                        "mesh3d": [
                                            {
                                                "colorbar": {
                                                    "outlinewidth": 0,
                                                    "ticks": ""
                                                },
                                                "type": "mesh3d"
                                            }
                                        ],
                                        "parcoords": [
                                            {
                                                "line": {
                                                    "colorbar": {
                                                        "outlinewidth": 0,
                                                        "ticks": ""
                                                    }
                                                },
                                                "type": "parcoords"
                                            }
                                        ],
                                        "pie": [
                                            {
                                                "automargin": true,
                                                "type": "pie"
                                            }
                                        ],
                                        "scatter": [
                                            {
                                                "fillpattern": {
                                                    "fillmode": "overlay",
                                                    "size": 10,
                                                    "solidity": 0.2
                                                },
                                                "type": "scatter"
                                            }
                                        ],
                                        "scatter3d": [
                                            {
                                                "line": {
                                                    "colorbar": {
                                                        "outlinewidth": 0,
                                                        "ticks": ""
                                                    }
                                                },
                                                "marker": {
                                                    "colorbar": {
                                                        "outlinewidth": 0,
                                                        "ticks": ""
                                                    }
                                                },
                                                "type": "scatter3d"
                                            }
                                        ],
                                        "scattercarpet": [
                                            {
                                                "marker": {
                                                    "colorbar": {
                                                        "outlinewidth": 0,
                                                        "ticks": ""
                                                    }
                                                },
                                                "type": "scattercarpet"
                                            }
                                        ],
                                        "scattergeo": [
                                            {
                                                "marker": {
                                                    "colorbar": {
                                                        "outlinewidth": 0,
                                                        "ticks": ""
                                                    }
                                                },
                                                "type": "scattergeo"
                                            }
                                        ],
                                        "scattergl": [
                                            {
                                                "marker": {
                                                    "colorbar": {
                                                        "outlinewidth": 0,
                                                        "ticks": ""
                                                    }
                                                },
                                                "type": "scattergl"
                                            }
                                        ],
                                        "scattermapbox": [
                                            {
                                                "marker": {
                                                    "colorbar": {
                                                        "outlinewidth": 0,
                                                        "ticks": ""
                                                    }
                                                },
                                                "type": "scattermapbox"
                                            }
                                        ],
                                        "scatterpolar": [
                                            {
                                                "marker": {
                                                    "colorbar": {
                                                        "outlinewidth": 0,
                                                        "ticks": ""
                                                    }
                                                },
                                                "type": "scatterpolar"
                                            }
                                        ],
                                        "scatterpolargl": [
                                            {
                                                "marker": {
                                                    "colorbar": {
                                                        "outlinewidth": 0,
                                                        "ticks": ""
                                                    }
                                                },
                                                "type": "scatterpolargl"
                                            }
                                        ],
                                        "scatterternary": [
                                            {
                                                "marker": {
                                                    "colorbar": {
                                                        "outlinewidth": 0,
                                                        "ticks": ""
                                                    }
                                                },
                                                "type": "scatterternary"
                                            }
                                        ],
                                        "surface": [
                                            {
                                                "colorbar": {
                                                    "outlinewidth": 0,
                                                    "ticks": ""
                                                },
                                                "colorscale": [
                                                    [
                                                        0,
                                                        "#0d0887"
                                                    ],
                                                    [
                                                        0.1111111111111111,
                                                        "#46039f"
                                                    ],
                                                    [
                                                        0.2222222222222222,
                                                        "#7201a8"
                                                    ],
                                                    [
                                                        0.3333333333333333,
                                                        "#9c179e"
                                                    ],
                                                    [
                                                        0.4444444444444444,
                                                        "#bd3786"
                                                    ],
                                                    [
                                                        0.5555555555555556,
                                                        "#d8576b"
                                                    ],
                                                    [
                                                        0.6666666666666666,
                                                        "#ed7953"
                                                    ],
                                                    [
                                                        0.7777777777777778,
                                                        "#fb9f3a"
                                                    ],
                                                    [
                                                        0.8888888888888888,
                                                        "#fdca26"
                                                    ],
                                                    [
                                                        1,
                                                        "#f0f921"
                                                    ]
                                                ],
                                                "type": "surface"
                                            }
                                        ],
                                        "table": [
                                            {
                                                "cells": {
                                                    "fill": {
                                                        "color": "#EBF0F8"
                                                    },
                                                    "line": {
                                                        "color": "white"
                                                    }
                                                },
                                                "header": {
                                                    "fill": {
                                                        "color": "#C8D4E3"
                                                    },
                                                    "line": {
                                                        "color": "white"
                                                    }
                                                },
                                                "type": "table"
                                            }
                                        ]
                                    },
                                    "layout": {
                                        "annotationdefaults": {
                                            "arrowcolor": "#2a3f5f",
                                            "arrowhead": 0,
                                            "arrowwidth": 1
                                        },
                                        "autotypenumbers": "strict",
                                        "coloraxis": {
                                            "colorbar": {
                                                "outlinewidth": 0,
                                                "ticks": ""
                                            }
                                        },
                                        "colorscale": {
                                            "diverging": [
                                                [
                                                    0,
                                                    "#8e0152"
                                                ],
                                                [
                                                    0.1,
                                                    "#c51b7d"
                                                ],
                                                [
                                                    0.2,
                                                    "#de77ae"
                                                ],
                                                [
                                                    0.3,
                                                    "#f1b6da"
                                                ],
                                                [
                                                    0.4,
                                                    "#fde0ef"
                                                ],
                                                [
                                                    0.5,
                                                    "#f7f7f7"
                                                ],
                                                [
                                                    0.6,
                                                    "#e6f5d0"
                                                ],
                                                [
                                                    0.7,
                                                    "#b8e186"
                                                ],
                                                [
                                                    0.8,
                                                    "#7fbc41"
                                                ],
                                                [
                                                    0.9,
                                                    "#4d9221"
                                                ],
                                                [
                                                    1,
                                                    "#276419"
                                                ]
                                            ],
                                            "sequential": [
                                                [
                                                    0,
                                                    "#0d0887"
                                                ],
                                                [
                                                    0.1111111111111111,
                                                    "#46039f"
                                                ],
                                                [
                                                    0.2222222222222222,
                                                    "#7201a8"
                                                ],
                                                [
                                                    0.3333333333333333,
                                                    "#9c179e"
                                                ],
                                                [
                                                    0.4444444444444444,
                                                    "#bd3786"
                                                ],
                                                [
                                                    0.5555555555555556,
                                                    "#d8576b"
                                                ],
                                                [
                                                    0.6666666666666666,
                                                    "#ed7953"
                                                ],
                                                [
                                                    0.7777777777777778,
                                                    "#fb9f3a"
                                                ],
                                                [
                                                    0.8888888888888888,
                                                    "#fdca26"
                                                ],
                                                [
                                                    1,
                                                    "#f0f921"
                                                ]
                                            ],
                                            "sequentialminus": [
                                                [
                                                    0,
                                                    "#0d0887"
                                                ],
                                                [
                                                    0.1111111111111111,
                                                    "#46039f"
                                                ],
                                                [
                                                    0.2222222222222222,
                                                    "#7201a8"
                                                ],
                                                [
                                                    0.3333333333333333,
                                                    "#9c179e"
                                                ],
                                                [
                                                    0.4444444444444444,
                                                    "#bd3786"
                                                ],
                                                [
                                                    0.5555555555555556,
                                                    "#d8576b"
                                                ],
                                                [
                                                    0.6666666666666666,
                                                    "#ed7953"
                                                ],
                                                [
                                                    0.7777777777777778,
                                                    "#fb9f3a"
                                                ],
                                                [
                                                    0.8888888888888888,
                                                    "#fdca26"
                                                ],
                                                [
                                                    1,
                                                    "#f0f921"
                                                ]
                                            ]
                                        },
                                        "colorway": [
                                            "#636efa",
                                            "#EF553B",
                                            "#00cc96",
                                            "#ab63fa",
                                            "#FFA15A",
                                            "#19d3f3",
                                            "#FF6692",
                                            "#B6E880",
                                            "#FF97FF",
                                            "#FECB52"
                                        ],
                                        "font": {
                                            "color": "#2a3f5f"
                                        },
                                        "geo": {
                                            "bgcolor": "white",
                                            "lakecolor": "white",
                                            "landcolor": "#E5ECF6",
                                            "showlakes": true,
                                            "showland": true,
                                            "subunitcolor": "white"
                                        },
                                        "hoverlabel": {
                                            "align": "left"
                                        },
                                        "hovermode": "closest",
                                        "mapbox": {
                                            "style": "light"
                                        },
                                        "paper_bgcolor": "white",
                                        "plot_bgcolor": "#E5ECF6",
                                        "polar": {
                                            "angularaxis": {
                                                "gridcolor": "white",
                                                "linecolor": "white",
                                                "ticks": ""
                                            },
                                            "bgcolor": "#E5ECF6",
                                            "radialaxis": {
                                                "gridcolor": "white",
                                                "linecolor": "white",
                                                "ticks": ""
                                            }
                                        },
                                        "scene": {
                                            "xaxis": {
                                                "backgroundcolor": "#E5ECF6",
                                                "gridcolor": "white",
                                                "gridwidth": 2,
                                                "linecolor": "white",
                                                "showbackground": true,
                                                "ticks": "",
                                                "zerolinecolor": "white"
                                            },
                                            "yaxis": {
                                                "backgroundcolor": "#E5ECF6",
                                                "gridcolor": "white",
                                                "gridwidth": 2,
                                                "linecolor": "white",
                                                "showbackground": true,
                                                "ticks": "",
                                                "zerolinecolor": "white"
                                            },
                                            "zaxis": {
                                                "backgroundcolor": "#E5ECF6",
                                                "gridcolor": "white",
                                                "gridwidth": 2,
                                                "linecolor": "white",
                                                "showbackground": true,
                                                "ticks": "",
                                                "zerolinecolor": "white"
                                            }
                                        },
                                        "shapedefaults": {
                                            "line": {
                                                "color": "#2a3f5f"
                                            }
                                        },
                                        "ternary": {
                                            "aaxis": {
                                                "gridcolor": "white",
                                                "linecolor": "white",
                                                "ticks": ""
                                            },
                                            "baxis": {
                                                "gridcolor": "white",
                                                "linecolor": "white",
                                                "ticks": ""
                                            },
                                            "bgcolor": "#E5ECF6",
                                            "caxis": {
                                                "gridcolor": "white",
                                                "linecolor": "white",
                                                "ticks": ""
                                            }
                                        },
                                        "title": {
                                            "x": 0.05
                                        },
                                        "xaxis": {
                                            "automargin": true,
                                            "gridcolor": "white",
                                            "linecolor": "white",
                                            "ticks": "",
                                            "title": {
                                                "standoff": 15
                                            },
                                            "zerolinecolor": "white",
                                            "zerolinewidth": 2
                                        },
                                        "yaxis": {
                                            "automargin": true,
                                            "gridcolor": "white",
                                            "linecolor": "white",
                                            "ticks": "",
                                            "title": {
                                                "standoff": 15
                                            },
                                            "zerolinecolor": "white",
                                            "zerolinewidth": 2
                                        }
                                    }
                                },
                                "title": {
                                    "text": "Risk Parity Portfolio Weights Over Time"
                                },
                                "width": 900,
                                "xaxis": {
                                    "tickformat": "%Y-%m-%d",
                                    "title": {
                                        "text": "Date"
                                    }
                                },
                                "yaxis": {
                                    "range": [
                                        0,
                                        1
                                    ],
                                    "tickformat": ".0%",
                                    "title": {
                                        "text": "Weights"
                                    }
                                }
                            }
                        }
                    },
                    "metadata": {},
                    "output_type": "display_data"
                },
                {
                    "name": "stdout",
                    "output_type": "stream",
                    "text": [
                        "Portfolio Volatility: 29.58%\n",
                        "Annualized Return: 8.18%\n",
                        "Sharpe Ratio: 0.21\n"
                    ]
                },
                {
                    "data": {
                        "application/vnd.plotly.v1+json": {
                            "config": {
                                "plotlyServerURL": "https://plot.ly"
                            },
                            "data": [
                                {
                                    "mode": "lines",
                                    "name": "Portfolio Value",
                                    "type": "scatter",
                                    "x": [
                                        "2005-01-31T00:00:00",
                                        "2005-02-28T00:00:00",
                                        "2005-03-31T00:00:00",
                                        "2005-04-29T00:00:00",
                                        "2005-05-31T00:00:00",
                                        "2005-06-30T00:00:00",
                                        "2005-07-29T00:00:00",
                                        "2005-08-31T00:00:00",
                                        "2005-09-30T00:00:00",
                                        "2005-10-31T00:00:00",
                                        "2005-11-30T00:00:00",
                                        "2005-12-30T00:00:00",
                                        "2006-01-31T00:00:00",
                                        "2006-02-28T00:00:00",
                                        "2006-03-31T00:00:00",
                                        "2006-04-28T00:00:00",
                                        "2006-05-31T00:00:00",
                                        "2006-06-30T00:00:00",
                                        "2006-07-31T00:00:00",
                                        "2006-08-31T00:00:00",
                                        "2006-09-29T00:00:00",
                                        "2006-10-31T00:00:00",
                                        "2006-11-30T00:00:00",
                                        "2006-12-29T00:00:00",
                                        "2007-01-31T00:00:00",
                                        "2007-02-28T00:00:00",
                                        "2007-03-30T00:00:00",
                                        "2007-04-30T00:00:00",
                                        "2007-05-31T00:00:00",
                                        "2007-06-29T00:00:00",
                                        "2007-07-31T00:00:00",
                                        "2007-08-31T00:00:00",
                                        "2007-09-28T00:00:00",
                                        "2007-10-31T00:00:00",
                                        "2007-11-30T00:00:00",
                                        "2007-12-31T00:00:00",
                                        "2008-01-31T00:00:00",
                                        "2008-02-29T00:00:00",
                                        "2008-03-31T00:00:00",
                                        "2008-04-30T00:00:00",
                                        "2008-05-30T00:00:00",
                                        "2008-06-30T00:00:00",
                                        "2008-07-31T00:00:00",
                                        "2008-08-29T00:00:00",
                                        "2008-09-30T00:00:00",
                                        "2008-10-31T00:00:00",
                                        "2008-11-28T00:00:00",
                                        "2008-12-31T00:00:00",
                                        "2009-01-30T00:00:00",
                                        "2009-02-27T00:00:00",
                                        "2009-03-31T00:00:00",
                                        "2009-04-30T00:00:00",
                                        "2009-05-29T00:00:00",
                                        "2009-06-30T00:00:00",
                                        "2009-07-31T00:00:00",
                                        "2009-08-31T00:00:00",
                                        "2009-09-30T00:00:00",
                                        "2009-10-30T00:00:00",
                                        "2009-11-30T00:00:00",
                                        "2009-12-31T00:00:00",
                                        "2010-01-29T00:00:00",
                                        "2010-02-26T00:00:00",
                                        "2010-03-31T00:00:00",
                                        "2010-04-30T00:00:00",
                                        "2010-06-30T00:00:00",
                                        "2010-07-30T00:00:00",
                                        "2010-08-31T00:00:00",
                                        "2010-09-30T00:00:00",
                                        "2010-10-29T00:00:00",
                                        "2010-11-30T00:00:00",
                                        "2010-12-31T00:00:00",
                                        "2011-01-31T00:00:00",
                                        "2011-02-28T00:00:00",
                                        "2011-03-31T00:00:00",
                                        "2011-04-29T00:00:00",
                                        "2011-05-31T00:00:00",
                                        "2011-06-30T00:00:00",
                                        "2011-07-29T00:00:00",
                                        "2011-08-31T00:00:00",
                                        "2011-09-30T00:00:00",
                                        "2011-10-31T00:00:00",
                                        "2011-11-30T00:00:00",
                                        "2011-12-30T00:00:00",
                                        "2012-01-31T00:00:00",
                                        "2012-02-29T00:00:00",
                                        "2012-03-30T00:00:00",
                                        "2012-04-30T00:00:00",
                                        "2012-05-31T00:00:00",
                                        "2012-06-29T00:00:00",
                                        "2012-07-31T00:00:00",
                                        "2012-08-31T00:00:00",
                                        "2012-09-28T00:00:00",
                                        "2012-10-31T00:00:00",
                                        "2012-11-30T00:00:00",
                                        "2012-12-31T00:00:00",
                                        "2013-01-31T00:00:00",
                                        "2013-02-28T00:00:00",
                                        "2013-04-30T00:00:00",
                                        "2013-05-31T00:00:00",
                                        "2013-06-28T00:00:00",
                                        "2013-07-31T00:00:00",
                                        "2013-08-30T00:00:00",
                                        "2013-09-30T00:00:00",
                                        "2013-10-31T00:00:00",
                                        "2013-11-29T00:00:00",
                                        "2013-12-31T00:00:00",
                                        "2014-01-31T00:00:00",
                                        "2014-02-28T00:00:00",
                                        "2014-03-31T00:00:00",
                                        "2014-04-30T00:00:00",
                                        "2014-05-30T00:00:00",
                                        "2014-06-30T00:00:00",
                                        "2014-07-31T00:00:00",
                                        "2014-08-29T00:00:00",
                                        "2014-09-30T00:00:00",
                                        "2014-10-31T00:00:00",
                                        "2014-11-28T00:00:00",
                                        "2014-12-31T00:00:00",
                                        "2015-01-30T00:00:00",
                                        "2015-02-27T00:00:00",
                                        "2015-03-31T00:00:00",
                                        "2015-04-30T00:00:00",
                                        "2015-05-29T00:00:00",
                                        "2015-06-30T00:00:00",
                                        "2015-07-31T00:00:00",
                                        "2015-08-31T00:00:00",
                                        "2015-09-30T00:00:00",
                                        "2015-10-30T00:00:00",
                                        "2015-11-30T00:00:00",
                                        "2015-12-31T00:00:00",
                                        "2016-01-29T00:00:00",
                                        "2016-02-29T00:00:00",
                                        "2016-03-31T00:00:00",
                                        "2016-04-29T00:00:00",
                                        "2016-05-31T00:00:00",
                                        "2016-06-30T00:00:00",
                                        "2016-07-29T00:00:00",
                                        "2016-08-31T00:00:00",
                                        "2016-09-30T00:00:00",
                                        "2016-10-31T00:00:00",
                                        "2016-11-30T00:00:00",
                                        "2016-12-30T00:00:00",
                                        "2017-01-31T00:00:00",
                                        "2017-02-28T00:00:00",
                                        "2017-03-31T00:00:00",
                                        "2017-04-28T00:00:00",
                                        "2017-05-31T00:00:00",
                                        "2017-06-30T00:00:00",
                                        "2017-07-31T00:00:00",
                                        "2017-08-31T00:00:00",
                                        "2017-09-29T00:00:00",
                                        "2017-10-31T00:00:00",
                                        "2017-11-30T00:00:00",
                                        "2017-12-29T00:00:00",
                                        "2018-01-31T00:00:00",
                                        "2018-02-28T00:00:00",
                                        "2018-04-30T00:00:00",
                                        "2018-05-31T00:00:00",
                                        "2018-06-29T00:00:00",
                                        "2018-07-31T00:00:00",
                                        "2018-08-31T00:00:00",
                                        "2018-09-28T00:00:00",
                                        "2018-10-31T00:00:00",
                                        "2018-11-30T00:00:00",
                                        "2018-12-31T00:00:00",
                                        "2019-01-31T00:00:00",
                                        "2019-02-28T00:00:00",
                                        "2019-03-29T00:00:00",
                                        "2019-04-30T00:00:00",
                                        "2019-05-31T00:00:00",
                                        "2019-06-28T00:00:00",
                                        "2019-07-31T00:00:00",
                                        "2019-08-30T00:00:00",
                                        "2019-09-30T00:00:00",
                                        "2019-10-31T00:00:00",
                                        "2019-11-29T00:00:00",
                                        "2019-12-31T00:00:00",
                                        "2020-01-31T00:00:00",
                                        "2020-02-28T00:00:00",
                                        "2020-03-31T00:00:00",
                                        "2020-04-30T00:00:00",
                                        "2020-05-29T00:00:00",
                                        "2020-06-30T00:00:00",
                                        "2020-07-31T00:00:00",
                                        "2020-08-31T00:00:00",
                                        "2020-09-30T00:00:00",
                                        "2020-10-30T00:00:00",
                                        "2020-11-30T00:00:00"
                                    ],
                                    "y": [
                                        1119265.1042785645,
                                        1116933.384902954,
                                        1107515.7402687073,
                                        1137356.6249771118,
                                        1157993.7912406921,
                                        1184832.3554267883,
                                        1158397.5708847046,
                                        1188178.7612800598,
                                        1175294.3774261475,
                                        1152487.6936302185,
                                        1177127.4927902222,
                                        1212872.906780243,
                                        1230568.150566101,
                                        1237215.2165260315,
                                        1212249.5645446777,
                                        1227213.3542633057,
                                        1217104.8838691711,
                                        1211541.1883888245,
                                        1238309.561466217,
                                        1261037.6204681396,
                                        1266458.5420188904,
                                        1281952.9456748962,
                                        1324712.8144950867,
                                        1298110.2510147095,
                                        1300320.7381744385,
                                        1333004.4258499146,
                                        1316816.5835037231,
                                        1338138.0928993225,
                                        1316766.9766616821,
                                        1299643.6227149963,
                                        1328710.2882537842,
                                        1349417.617843628,
                                        1392473.2564544678,
                                        1435653.7519264221,
                                        1468909.7974243164,
                                        1486699.5897712708,
                                        1539901.1054992676,
                                        1555262.9617347717,
                                        1545105.0562515259,
                                        1510248.7216377258,
                                        1491847.340122223,
                                        1521669.6526031494,
                                        1510417.516254425,
                                        1496366.3746833801,
                                        1512846.5539588928,
                                        1404714.2924499512,
                                        1575855.1560935974,
                                        1754127.0156593323,
                                        1609735.9572181702,
                                        1589567.0547142029,
                                        1627420.9140548706,
                                        1546364.8392181396,
                                        1559296.75674057,
                                        1541676.0155143738,
                                        1566241.3886909485,
                                        1592837.354335785,
                                        1648936.2177391052,
                                        1637704.8522453308,
                                        1722462.7478027344,
                                        1619115.1202087402,
                                        1633229.2824897766,
                                        1651090.0808792114,
                                        1636746.5747642517,
                                        1702426.6281394958,
                                        1826112.698184967,
                                        1793624.341304779,
                                        1911512.960697174,
                                        1922114.0820274353,
                                        1899389.9795570374,
                                        1894707.8111686707,
                                        1880787.2943458557,
                                        1808527.479194641,
                                        1869212.0207710266,
                                        1880426.4431533813,
                                        1971069.5038642883,
                                        1991549.2719306946,
                                        1945532.0952644348,
                                        2049876.2998390198,
                                        2244195.3643455505,
                                        2296488.027004242,
                                        2305242.4463920593,
                                        2344684.798175812,
                                        2302869.8871040344,
                                        2391332.348674774,
                                        2337556.355442047,
                                        2275047.323123932,
                                        2335280.8610191345,
                                        2396437.1735191345,
                                        2395986.6341056824,
                                        2460013.8053627014,
                                        2482728.76064682,
                                        2487473.3891334534,
                                        2452051.582698822,
                                        2465970.9610099792,
                                        2411235.3211479187,
                                        2371068.032283783,
                                        2350014.296573639,
                                        2369960.9914512634,
                                        2232438.9960365295,
                                        2111838.515476227,
                                        2136699.1627693176,
                                        2145915.071674347,
                                        2128981.7946739197,
                                        2155160.1961021423,
                                        2092082.2268562317,
                                        2051955.5681114197,
                                        2140990.988002777,
                                        2195756.3299064636,
                                        2187584.3686027527,
                                        2220178.5360450745,
                                        2247195.784526825,
                                        2286585.993335724,
                                        2269353.3082618713,
                                        2348034.4637031555,
                                        2275449.8616600037,
                                        2304574.5477485657,
                                        2353091.01631546,
                                        2409207.73695755,
                                        2604374.376399994,
                                        2477169.234287262,
                                        2478092.1271476746,
                                        2423724.9199638367,
                                        2392875.5844078064,
                                        2315645.217098236,
                                        2352444.1523017883,
                                        2343775.9136924744,
                                        2357564.3199272156,
                                        2385254.1921577454,
                                        2336173.168903351,
                                        2324417.8381080627,
                                        2423903.8659477234,
                                        2531905.316837311,
                                        2543080.3335609436,
                                        2561577.0731925964,
                                        2542215.056529999,
                                        2711307.8026924133,
                                        2772017.286457062,
                                        2732977.995967865,
                                        2709854.42546463,
                                        2607982.940143585,
                                        2427815.8773994446,
                                        2416120.781200409,
                                        2463814.446865082,
                                        2519417.0131111145,
                                        2506815.7654685974,
                                        2545246.645122528,
                                        2579681.022190094,
                                        2581983.4796791077,
                                        2591546.5487861633,
                                        2673829.7947044373,
                                        2620239.304798126,
                                        2623427.199871063,
                                        2648988.8231544495,
                                        2696522.2255744934,
                                        2682062.6205329895,
                                        2604221.307636261,
                                        2604978.441242218,
                                        2639049.9852256775,
                                        2629847.4027290344,
                                        2607239.122867584,
                                        2629178.61410141,
                                        2580590.962993622,
                                        2516577.2363471985,
                                        2553556.247112274,
                                        2639875.1724586487,
                                        2692421.8854408264,
                                        2678080.388507843,
                                        2768156.4989128113,
                                        2745923.7569999695,
                                        2846931.2641334534,
                                        2941012.068798065,
                                        2952268.382434845,
                                        3202683.480808258,
                                        3131459.1199760437,
                                        3136307.64900589,
                                        3121641.598552704,
                                        3096666.719226837,
                                        3275679.9058418274,
                                        3370274.547000885,
                                        3454569.0796089172,
                                        3584710.25737381,
                                        3583782.148563385,
                                        3621679.881839752,
                                        3841633.9191627502,
                                        3749435.0788002014,
                                        3709745.482318878,
                                        3613752.9708747864,
                                        3657016.62015152
                                    ]
                                }
                            ],
                            "layout": {
                                "height": 500,
                                "template": {
                                    "data": {
                                        "bar": [
                                            {
                                                "error_x": {
                                                    "color": "#2a3f5f"
                                                },
                                                "error_y": {
                                                    "color": "#2a3f5f"
                                                },
                                                "marker": {
                                                    "line": {
                                                        "color": "#E5ECF6",
                                                        "width": 0.5
                                                    },
                                                    "pattern": {
                                                        "fillmode": "overlay",
                                                        "size": 10,
                                                        "solidity": 0.2
                                                    }
                                                },
                                                "type": "bar"
                                            }
                                        ],
                                        "barpolar": [
                                            {
                                                "marker": {
                                                    "line": {
                                                        "color": "#E5ECF6",
                                                        "width": 0.5
                                                    },
                                                    "pattern": {
                                                        "fillmode": "overlay",
                                                        "size": 10,
                                                        "solidity": 0.2
                                                    }
                                                },
                                                "type": "barpolar"
                                            }
                                        ],
                                        "carpet": [
                                            {
                                                "aaxis": {
                                                    "endlinecolor": "#2a3f5f",
                                                    "gridcolor": "white",
                                                    "linecolor": "white",
                                                    "minorgridcolor": "white",
                                                    "startlinecolor": "#2a3f5f"
                                                },
                                                "baxis": {
                                                    "endlinecolor": "#2a3f5f",
                                                    "gridcolor": "white",
                                                    "linecolor": "white",
                                                    "minorgridcolor": "white",
                                                    "startlinecolor": "#2a3f5f"
                                                },
                                                "type": "carpet"
                                            }
                                        ],
                                        "choropleth": [
                                            {
                                                "colorbar": {
                                                    "outlinewidth": 0,
                                                    "ticks": ""
                                                },
                                                "type": "choropleth"
                                            }
                                        ],
                                        "contour": [
                                            {
                                                "colorbar": {
                                                    "outlinewidth": 0,
                                                    "ticks": ""
                                                },
                                                "colorscale": [
                                                    [
                                                        0,
                                                        "#0d0887"
                                                    ],
                                                    [
                                                        0.1111111111111111,
                                                        "#46039f"
                                                    ],
                                                    [
                                                        0.2222222222222222,
                                                        "#7201a8"
                                                    ],
                                                    [
                                                        0.3333333333333333,
                                                        "#9c179e"
                                                    ],
                                                    [
                                                        0.4444444444444444,
                                                        "#bd3786"
                                                    ],
                                                    [
                                                        0.5555555555555556,
                                                        "#d8576b"
                                                    ],
                                                    [
                                                        0.6666666666666666,
                                                        "#ed7953"
                                                    ],
                                                    [
                                                        0.7777777777777778,
                                                        "#fb9f3a"
                                                    ],
                                                    [
                                                        0.8888888888888888,
                                                        "#fdca26"
                                                    ],
                                                    [
                                                        1,
                                                        "#f0f921"
                                                    ]
                                                ],
                                                "type": "contour"
                                            }
                                        ],
                                        "contourcarpet": [
                                            {
                                                "colorbar": {
                                                    "outlinewidth": 0,
                                                    "ticks": ""
                                                },
                                                "type": "contourcarpet"
                                            }
                                        ],
                                        "heatmap": [
                                            {
                                                "colorbar": {
                                                    "outlinewidth": 0,
                                                    "ticks": ""
                                                },
                                                "colorscale": [
                                                    [
                                                        0,
                                                        "#0d0887"
                                                    ],
                                                    [
                                                        0.1111111111111111,
                                                        "#46039f"
                                                    ],
                                                    [
                                                        0.2222222222222222,
                                                        "#7201a8"
                                                    ],
                                                    [
                                                        0.3333333333333333,
                                                        "#9c179e"
                                                    ],
                                                    [
                                                        0.4444444444444444,
                                                        "#bd3786"
                                                    ],
                                                    [
                                                        0.5555555555555556,
                                                        "#d8576b"
                                                    ],
                                                    [
                                                        0.6666666666666666,
                                                        "#ed7953"
                                                    ],
                                                    [
                                                        0.7777777777777778,
                                                        "#fb9f3a"
                                                    ],
                                                    [
                                                        0.8888888888888888,
                                                        "#fdca26"
                                                    ],
                                                    [
                                                        1,
                                                        "#f0f921"
                                                    ]
                                                ],
                                                "type": "heatmap"
                                            }
                                        ],
                                        "heatmapgl": [
                                            {
                                                "colorbar": {
                                                    "outlinewidth": 0,
                                                    "ticks": ""
                                                },
                                                "colorscale": [
                                                    [
                                                        0,
                                                        "#0d0887"
                                                    ],
                                                    [
                                                        0.1111111111111111,
                                                        "#46039f"
                                                    ],
                                                    [
                                                        0.2222222222222222,
                                                        "#7201a8"
                                                    ],
                                                    [
                                                        0.3333333333333333,
                                                        "#9c179e"
                                                    ],
                                                    [
                                                        0.4444444444444444,
                                                        "#bd3786"
                                                    ],
                                                    [
                                                        0.5555555555555556,
                                                        "#d8576b"
                                                    ],
                                                    [
                                                        0.6666666666666666,
                                                        "#ed7953"
                                                    ],
                                                    [
                                                        0.7777777777777778,
                                                        "#fb9f3a"
                                                    ],
                                                    [
                                                        0.8888888888888888,
                                                        "#fdca26"
                                                    ],
                                                    [
                                                        1,
                                                        "#f0f921"
                                                    ]
                                                ],
                                                "type": "heatmapgl"
                                            }
                                        ],
                                        "histogram": [
                                            {
                                                "marker": {
                                                    "pattern": {
                                                        "fillmode": "overlay",
                                                        "size": 10,
                                                        "solidity": 0.2
                                                    }
                                                },
                                                "type": "histogram"
                                            }
                                        ],
                                        "histogram2d": [
                                            {
                                                "colorbar": {
                                                    "outlinewidth": 0,
                                                    "ticks": ""
                                                },
                                                "colorscale": [
                                                    [
                                                        0,
                                                        "#0d0887"
                                                    ],
                                                    [
                                                        0.1111111111111111,
                                                        "#46039f"
                                                    ],
                                                    [
                                                        0.2222222222222222,
                                                        "#7201a8"
                                                    ],
                                                    [
                                                        0.3333333333333333,
                                                        "#9c179e"
                                                    ],
                                                    [
                                                        0.4444444444444444,
                                                        "#bd3786"
                                                    ],
                                                    [
                                                        0.5555555555555556,
                                                        "#d8576b"
                                                    ],
                                                    [
                                                        0.6666666666666666,
                                                        "#ed7953"
                                                    ],
                                                    [
                                                        0.7777777777777778,
                                                        "#fb9f3a"
                                                    ],
                                                    [
                                                        0.8888888888888888,
                                                        "#fdca26"
                                                    ],
                                                    [
                                                        1,
                                                        "#f0f921"
                                                    ]
                                                ],
                                                "type": "histogram2d"
                                            }
                                        ],
                                        "histogram2dcontour": [
                                            {
                                                "colorbar": {
                                                    "outlinewidth": 0,
                                                    "ticks": ""
                                                },
                                                "colorscale": [
                                                    [
                                                        0,
                                                        "#0d0887"
                                                    ],
                                                    [
                                                        0.1111111111111111,
                                                        "#46039f"
                                                    ],
                                                    [
                                                        0.2222222222222222,
                                                        "#7201a8"
                                                    ],
                                                    [
                                                        0.3333333333333333,
                                                        "#9c179e"
                                                    ],
                                                    [
                                                        0.4444444444444444,
                                                        "#bd3786"
                                                    ],
                                                    [
                                                        0.5555555555555556,
                                                        "#d8576b"
                                                    ],
                                                    [
                                                        0.6666666666666666,
                                                        "#ed7953"
                                                    ],
                                                    [
                                                        0.7777777777777778,
                                                        "#fb9f3a"
                                                    ],
                                                    [
                                                        0.8888888888888888,
                                                        "#fdca26"
                                                    ],
                                                    [
                                                        1,
                                                        "#f0f921"
                                                    ]
                                                ],
                                                "type": "histogram2dcontour"
                                            }
                                        ],
                                        "mesh3d": [
                                            {
                                                "colorbar": {
                                                    "outlinewidth": 0,
                                                    "ticks": ""
                                                },
                                                "type": "mesh3d"
                                            }
                                        ],
                                        "parcoords": [
                                            {
                                                "line": {
                                                    "colorbar": {
                                                        "outlinewidth": 0,
                                                        "ticks": ""
                                                    }
                                                },
                                                "type": "parcoords"
                                            }
                                        ],
                                        "pie": [
                                            {
                                                "automargin": true,
                                                "type": "pie"
                                            }
                                        ],
                                        "scatter": [
                                            {
                                                "fillpattern": {
                                                    "fillmode": "overlay",
                                                    "size": 10,
                                                    "solidity": 0.2
                                                },
                                                "type": "scatter"
                                            }
                                        ],
                                        "scatter3d": [
                                            {
                                                "line": {
                                                    "colorbar": {
                                                        "outlinewidth": 0,
                                                        "ticks": ""
                                                    }
                                                },
                                                "marker": {
                                                    "colorbar": {
                                                        "outlinewidth": 0,
                                                        "ticks": ""
                                                    }
                                                },
                                                "type": "scatter3d"
                                            }
                                        ],
                                        "scattercarpet": [
                                            {
                                                "marker": {
                                                    "colorbar": {
                                                        "outlinewidth": 0,
                                                        "ticks": ""
                                                    }
                                                },
                                                "type": "scattercarpet"
                                            }
                                        ],
                                        "scattergeo": [
                                            {
                                                "marker": {
                                                    "colorbar": {
                                                        "outlinewidth": 0,
                                                        "ticks": ""
                                                    }
                                                },
                                                "type": "scattergeo"
                                            }
                                        ],
                                        "scattergl": [
                                            {
                                                "marker": {
                                                    "colorbar": {
                                                        "outlinewidth": 0,
                                                        "ticks": ""
                                                    }
                                                },
                                                "type": "scattergl"
                                            }
                                        ],
                                        "scattermapbox": [
                                            {
                                                "marker": {
                                                    "colorbar": {
                                                        "outlinewidth": 0,
                                                        "ticks": ""
                                                    }
                                                },
                                                "type": "scattermapbox"
                                            }
                                        ],
                                        "scatterpolar": [
                                            {
                                                "marker": {
                                                    "colorbar": {
                                                        "outlinewidth": 0,
                                                        "ticks": ""
                                                    }
                                                },
                                                "type": "scatterpolar"
                                            }
                                        ],
                                        "scatterpolargl": [
                                            {
                                                "marker": {
                                                    "colorbar": {
                                                        "outlinewidth": 0,
                                                        "ticks": ""
                                                    }
                                                },
                                                "type": "scatterpolargl"
                                            }
                                        ],
                                        "scatterternary": [
                                            {
                                                "marker": {
                                                    "colorbar": {
                                                        "outlinewidth": 0,
                                                        "ticks": ""
                                                    }
                                                },
                                                "type": "scatterternary"
                                            }
                                        ],
                                        "surface": [
                                            {
                                                "colorbar": {
                                                    "outlinewidth": 0,
                                                    "ticks": ""
                                                },
                                                "colorscale": [
                                                    [
                                                        0,
                                                        "#0d0887"
                                                    ],
                                                    [
                                                        0.1111111111111111,
                                                        "#46039f"
                                                    ],
                                                    [
                                                        0.2222222222222222,
                                                        "#7201a8"
                                                    ],
                                                    [
                                                        0.3333333333333333,
                                                        "#9c179e"
                                                    ],
                                                    [
                                                        0.4444444444444444,
                                                        "#bd3786"
                                                    ],
                                                    [
                                                        0.5555555555555556,
                                                        "#d8576b"
                                                    ],
                                                    [
                                                        0.6666666666666666,
                                                        "#ed7953"
                                                    ],
                                                    [
                                                        0.7777777777777778,
                                                        "#fb9f3a"
                                                    ],
                                                    [
                                                        0.8888888888888888,
                                                        "#fdca26"
                                                    ],
                                                    [
                                                        1,
                                                        "#f0f921"
                                                    ]
                                                ],
                                                "type": "surface"
                                            }
                                        ],
                                        "table": [
                                            {
                                                "cells": {
                                                    "fill": {
                                                        "color": "#EBF0F8"
                                                    },
                                                    "line": {
                                                        "color": "white"
                                                    }
                                                },
                                                "header": {
                                                    "fill": {
                                                        "color": "#C8D4E3"
                                                    },
                                                    "line": {
                                                        "color": "white"
                                                    }
                                                },
                                                "type": "table"
                                            }
                                        ]
                                    },
                                    "layout": {
                                        "annotationdefaults": {
                                            "arrowcolor": "#2a3f5f",
                                            "arrowhead": 0,
                                            "arrowwidth": 1
                                        },
                                        "autotypenumbers": "strict",
                                        "coloraxis": {
                                            "colorbar": {
                                                "outlinewidth": 0,
                                                "ticks": ""
                                            }
                                        },
                                        "colorscale": {
                                            "diverging": [
                                                [
                                                    0,
                                                    "#8e0152"
                                                ],
                                                [
                                                    0.1,
                                                    "#c51b7d"
                                                ],
                                                [
                                                    0.2,
                                                    "#de77ae"
                                                ],
                                                [
                                                    0.3,
                                                    "#f1b6da"
                                                ],
                                                [
                                                    0.4,
                                                    "#fde0ef"
                                                ],
                                                [
                                                    0.5,
                                                    "#f7f7f7"
                                                ],
                                                [
                                                    0.6,
                                                    "#e6f5d0"
                                                ],
                                                [
                                                    0.7,
                                                    "#b8e186"
                                                ],
                                                [
                                                    0.8,
                                                    "#7fbc41"
                                                ],
                                                [
                                                    0.9,
                                                    "#4d9221"
                                                ],
                                                [
                                                    1,
                                                    "#276419"
                                                ]
                                            ],
                                            "sequential": [
                                                [
                                                    0,
                                                    "#0d0887"
                                                ],
                                                [
                                                    0.1111111111111111,
                                                    "#46039f"
                                                ],
                                                [
                                                    0.2222222222222222,
                                                    "#7201a8"
                                                ],
                                                [
                                                    0.3333333333333333,
                                                    "#9c179e"
                                                ],
                                                [
                                                    0.4444444444444444,
                                                    "#bd3786"
                                                ],
                                                [
                                                    0.5555555555555556,
                                                    "#d8576b"
                                                ],
                                                [
                                                    0.6666666666666666,
                                                    "#ed7953"
                                                ],
                                                [
                                                    0.7777777777777778,
                                                    "#fb9f3a"
                                                ],
                                                [
                                                    0.8888888888888888,
                                                    "#fdca26"
                                                ],
                                                [
                                                    1,
                                                    "#f0f921"
                                                ]
                                            ],
                                            "sequentialminus": [
                                                [
                                                    0,
                                                    "#0d0887"
                                                ],
                                                [
                                                    0.1111111111111111,
                                                    "#46039f"
                                                ],
                                                [
                                                    0.2222222222222222,
                                                    "#7201a8"
                                                ],
                                                [
                                                    0.3333333333333333,
                                                    "#9c179e"
                                                ],
                                                [
                                                    0.4444444444444444,
                                                    "#bd3786"
                                                ],
                                                [
                                                    0.5555555555555556,
                                                    "#d8576b"
                                                ],
                                                [
                                                    0.6666666666666666,
                                                    "#ed7953"
                                                ],
                                                [
                                                    0.7777777777777778,
                                                    "#fb9f3a"
                                                ],
                                                [
                                                    0.8888888888888888,
                                                    "#fdca26"
                                                ],
                                                [
                                                    1,
                                                    "#f0f921"
                                                ]
                                            ]
                                        },
                                        "colorway": [
                                            "#636efa",
                                            "#EF553B",
                                            "#00cc96",
                                            "#ab63fa",
                                            "#FFA15A",
                                            "#19d3f3",
                                            "#FF6692",
                                            "#B6E880",
                                            "#FF97FF",
                                            "#FECB52"
                                        ],
                                        "font": {
                                            "color": "#2a3f5f"
                                        },
                                        "geo": {
                                            "bgcolor": "white",
                                            "lakecolor": "white",
                                            "landcolor": "#E5ECF6",
                                            "showlakes": true,
                                            "showland": true,
                                            "subunitcolor": "white"
                                        },
                                        "hoverlabel": {
                                            "align": "left"
                                        },
                                        "hovermode": "closest",
                                        "mapbox": {
                                            "style": "light"
                                        },
                                        "paper_bgcolor": "white",
                                        "plot_bgcolor": "#E5ECF6",
                                        "polar": {
                                            "angularaxis": {
                                                "gridcolor": "white",
                                                "linecolor": "white",
                                                "ticks": ""
                                            },
                                            "bgcolor": "#E5ECF6",
                                            "radialaxis": {
                                                "gridcolor": "white",
                                                "linecolor": "white",
                                                "ticks": ""
                                            }
                                        },
                                        "scene": {
                                            "xaxis": {
                                                "backgroundcolor": "#E5ECF6",
                                                "gridcolor": "white",
                                                "gridwidth": 2,
                                                "linecolor": "white",
                                                "showbackground": true,
                                                "ticks": "",
                                                "zerolinecolor": "white"
                                            },
                                            "yaxis": {
                                                "backgroundcolor": "#E5ECF6",
                                                "gridcolor": "white",
                                                "gridwidth": 2,
                                                "linecolor": "white",
                                                "showbackground": true,
                                                "ticks": "",
                                                "zerolinecolor": "white"
                                            },
                                            "zaxis": {
                                                "backgroundcolor": "#E5ECF6",
                                                "gridcolor": "white",
                                                "gridwidth": 2,
                                                "linecolor": "white",
                                                "showbackground": true,
                                                "ticks": "",
                                                "zerolinecolor": "white"
                                            }
                                        },
                                        "shapedefaults": {
                                            "line": {
                                                "color": "#2a3f5f"
                                            }
                                        },
                                        "ternary": {
                                            "aaxis": {
                                                "gridcolor": "white",
                                                "linecolor": "white",
                                                "ticks": ""
                                            },
                                            "baxis": {
                                                "gridcolor": "white",
                                                "linecolor": "white",
                                                "ticks": ""
                                            },
                                            "bgcolor": "#E5ECF6",
                                            "caxis": {
                                                "gridcolor": "white",
                                                "linecolor": "white",
                                                "ticks": ""
                                            }
                                        },
                                        "title": {
                                            "x": 0.05
                                        },
                                        "xaxis": {
                                            "automargin": true,
                                            "gridcolor": "white",
                                            "linecolor": "white",
                                            "ticks": "",
                                            "title": {
                                                "standoff": 15
                                            },
                                            "zerolinecolor": "white",
                                            "zerolinewidth": 2
                                        },
                                        "yaxis": {
                                            "automargin": true,
                                            "gridcolor": "white",
                                            "linecolor": "white",
                                            "ticks": "",
                                            "title": {
                                                "standoff": 15
                                            },
                                            "zerolinecolor": "white",
                                            "zerolinewidth": 2
                                        }
                                    }
                                },
                                "title": {
                                    "text": "Portfolio Value Over Time"
                                },
                                "width": 900,
                                "xaxis": {
                                    "tickformat": "%Y-%m-%d",
                                    "title": {
                                        "text": "Date"
                                    }
                                },
                                "yaxis": {
                                    "tickprefix": "$",
                                    "title": {
                                        "text": "Portfolio Value ($)"
                                    }
                                }
                            }
                        }
                    },
                    "metadata": {},
                    "output_type": "display_data"
                },
                {
                    "name": "stderr",
                    "output_type": "stream",
                    "text": [
                        "INFO:root: Backtest completed. Final portfolio value: 3697364.736896515\n"
                    ]
                },
                {
                    "data": {
                        "text/plain": [
                            "'backtests/TealGorillaArtist'"
                        ]
                    },
                    "execution_count": 13,
                    "metadata": {},
                    "output_type": "execute_result"
                }
            ],
            "source": [
                "backtest = Backtest_up(\n",
                "    initial_date = initial_date,\n",
                "    final_date = final_date,\n",
                "    information_class = FirstTwoMoments,\n",
                "    risk_model=StopLoss,\n",
                ")\n",
                "backtest.run_backtest()"
            ]
        }
    ],
    "metadata": {
        "kernelspec": {
            "display_name": "pybacktestchain",
            "language": "python",
            "name": "python3"
        },
        "language_info": {
            "codemirror_mode": {
                "name": "ipython",
                "version": 3
            },
            "file_extension": ".py",
            "mimetype": "text/x-python",
            "name": "python",
            "nbconvert_exporter": "python",
            "pygments_lexer": "ipython3",
            "version": "3.11.9"
        }
    },
    "nbformat": 4,
    "nbformat_minor": 4
}
