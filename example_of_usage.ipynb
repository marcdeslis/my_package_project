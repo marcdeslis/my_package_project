{
    "cells": [
        {
            "cell_type": "markdown",
            "metadata": {},
            "source": [
                "# Example usage\n",
                "\n",
                "To use `my_package_project` in a project:"
            ]
        },
        {
            "cell_type": "code",
            "execution_count": 39,
            "metadata": {},
            "outputs": [
                {
                    "name": "stdout",
                    "output_type": "stream",
                    "text": [
                        "1.3.0\n"
                    ]
                }
            ],
            "source": [
                "import my_package_project\n",
                "\n",
                "print(my_package_project.__version__)"
            ]
        },
        {
            "cell_type": "markdown",
            "metadata": {},
            "source": [
                "Package import : "
            ]
        },
        {
            "cell_type": "code",
            "execution_count": 40,
            "metadata": {},
            "outputs": [],
            "source": [
                "from datetime import date, timedelta, datetime\n",
                "from my_package_project.data_treatment import *\n",
                "from my_package_project.graphs  import *\n",
                "from my_package_project.operations import *"
            ]
        },
        {
            "cell_type": "markdown",
            "metadata": {},
            "source": [
                "Range of date and universe\n",
                "\n",
                "By default, the universe is settled as ['SPY', 'TLT', 'GLD'] i.e. S&P 500 Index, 20+ Year Treasury Bond, Gold (commodities) as it is interesting to see the risk contribution of different asset classes but any list of assets available on yfinance can be set as input."
            ]
        },
        {
            "cell_type": "code",
            "execution_count": 41,
            "metadata": {},
            "outputs": [],
            "source": [
                "universe = ['SPY', 'TLT', 'GLD']\n",
                "initial_date = datetime(2005, 1, 1)\n",
                "final_date = datetime(2020, 12, 31)\n",
                "data = get_stocks_data(tickers=universe, start_date=initial_date, end_date=final_date).dropna()"
            ]
        },
        {
            "cell_type": "markdown",
            "metadata": {},
            "source": [
                "#### Data Treatment :"
            ]
        },
        {
            "cell_type": "code",
            "execution_count": 42,
            "metadata": {},
            "outputs": [],
            "source": [
                "#Methods from Pybacktestchain :\n",
                "data_module = DataModule(data=data)\n",
                "info = Information(s = timedelta(data_module.data.size/len(universe)), data_module=data_module)\n",
                "t = datetime(2020,12,29)\n",
                "moments = FirstTwoMoments.compute_information(info, t=t)"
            ]
        },
        {
            "cell_type": "markdown",
            "metadata": {},
            "source": [
                "Compute the Risk Parity portfolio :"
            ]
        },
        {
            "cell_type": "code",
            "execution_count": 43,
            "metadata": {},
            "outputs": [
                {
                    "data": {
                        "text/plain": [
                            "{'GLD': 0.33069177058197635,\n",
                            " 'SPY': 0.1631111191275985,\n",
                            " 'TLT': 0.5061971102904251}"
                        ]
                    },
                    "execution_count": 43,
                    "metadata": {},
                    "output_type": "execute_result"
                }
            ],
            "source": [
                "riskparityportfolio =  data_treatment.RiskParity.compute_portfolio_riskparity(info, t=t, information_set=moments)\n",
                "riskparityportfolio"
            ]
        },
        {
            "cell_type": "markdown",
            "metadata": {},
            "source": [
                "Compute portfolio's volatility : "
            ]
        },
        {
            "cell_type": "code",
            "execution_count": 44,
            "metadata": {},
            "outputs": [
                {
                    "data": {
                        "text/plain": [
                            "28.708093200213458"
                        ]
                    },
                    "execution_count": 44,
                    "metadata": {},
                    "output_type": "execute_result"
                }
            ],
            "source": [
                "vol = data_treatment.portfolio_volatility(riskparityportfolio,information_set=moments)\n",
                "vol"
            ]
        },
        {
            "cell_type": "markdown",
            "metadata": {},
            "source": [
                "Compute the Risk Parity portfolio with leverage and target volatility : "
            ]
        },
        {
            "cell_type": "code",
            "execution_count": 45,
            "metadata": {},
            "outputs": [
                {
                    "name": "stderr",
                    "output_type": "stream",
                    "text": [
                        "INFO:root:Original Volatility: 28.708093200213458\n"
                    ]
                },
                {
                    "data": {
                        "text/plain": [
                            "{'GLD': 0.33069177058197635,\n",
                            " 'SPY': 0.1631111191275985,\n",
                            " 'TLT': 0.5061971102904251}"
                        ]
                    },
                    "execution_count": 45,
                    "metadata": {},
                    "output_type": "execute_result"
                }
            ],
            "source": [
                "data_treatment.RiskParity.compute_portfolio_riskparity_voltarget_leverage(info, t=t, information_set=moments, target_volatility=vol, leverage_factor=1)"
            ]
        },
        {
            "cell_type": "code",
            "execution_count": 46,
            "metadata": {},
            "outputs": [
                {
                    "name": "stderr",
                    "output_type": "stream",
                    "text": [
                        "INFO:root:Original Volatility: 28.708093200213458\n"
                    ]
                },
                {
                    "data": {
                        "text/plain": [
                            "{'GLD': 0.34557339103892576,\n",
                            " 'SPY': 0.17045136156209673,\n",
                            " 'TLT': 0.5289767315023152}"
                        ]
                    },
                    "execution_count": 46,
                    "metadata": {},
                    "output_type": "execute_result"
                }
            ],
            "source": [
                "data_treatment.RiskParity.compute_portfolio_riskparity_voltarget_leverage(info, t=t, information_set=moments, target_volatility=15, leverage_factor=2)"
            ]
        },
        {
            "cell_type": "markdown",
            "metadata": {},
            "source": [
                "Compute risk contributions :"
            ]
        },
        {
            "cell_type": "code",
            "execution_count": 47,
            "metadata": {},
            "outputs": [
                {
                    "data": {
                        "text/plain": [
                            "{'GLD': 0.333, 'SPY': 0.333, 'TLT': 0.334}"
                        ]
                    },
                    "execution_count": 47,
                    "metadata": {},
                    "output_type": "execute_result"
                }
            ],
            "source": [
                "data_treatment.compute_risk_contributions(riskparityportfolio, moments)"
            ]
        },
        {
            "cell_type": "markdown",
            "metadata": {},
            "source": [
                "#### Graphs : "
            ]
        },
        {
            "cell_type": "code",
            "execution_count": 48,
            "metadata": {},
            "outputs": [],
            "source": [
                "visualizer = PortfolioVisualizer(portfolio=riskparityportfolio, information_set=moments)"
            ]
        },
        {
            "cell_type": "markdown",
            "metadata": {},
            "source": [
                "Plot portfolio initial weight :"
            ]
        },
        {
            "cell_type": "code",
            "execution_count": 52,
            "metadata": {},
            "outputs": [
                {
                    "data": {
                        "application/vnd.plotly.v1+json": {
                            "config": {
                                "plotlyServerURL": "https://plot.ly"
                            },
                            "data": [
                                {
                                    "marker": {
                                        "color": [
                                            "#1F77B4",
                                            "#b41f49",
                                            "#f7cf07"
                                        ]
                                    },
                                    "text": [
                                        "33.07%",
                                        "16.31%",
                                        "50.62%"
                                    ],
                                    "textposition": "auto",
                                    "type": "bar",
                                    "x": [
                                        "GLD",
                                        "SPY",
                                        "TLT"
                                    ],
                                    "y": [
                                        0.33069177058197635,
                                        0.1631111191275985,
                                        0.5061971102904251
                                    ]
                                }
                            ],
                            "layout": {
                                "height": 400,
                                "template": {
                                    "data": {
                                        "bar": [
                                            {
                                                "error_x": {
                                                    "color": "#2a3f5f"
                                                },
                                                "error_y": {
                                                    "color": "#2a3f5f"
                                                },
                                                "marker": {
                                                    "line": {
                                                        "color": "#E5ECF6",
                                                        "width": 0.5
                                                    },
                                                    "pattern": {
                                                        "fillmode": "overlay",
                                                        "size": 10,
                                                        "solidity": 0.2
                                                    }
                                                },
                                                "type": "bar"
                                            }
                                        ],
                                        "barpolar": [
                                            {
                                                "marker": {
                                                    "line": {
                                                        "color": "#E5ECF6",
                                                        "width": 0.5
                                                    },
                                                    "pattern": {
                                                        "fillmode": "overlay",
                                                        "size": 10,
                                                        "solidity": 0.2
                                                    }
                                                },
                                                "type": "barpolar"
                                            }
                                        ],
                                        "carpet": [
                                            {
                                                "aaxis": {
                                                    "endlinecolor": "#2a3f5f",
                                                    "gridcolor": "white",
                                                    "linecolor": "white",
                                                    "minorgridcolor": "white",
                                                    "startlinecolor": "#2a3f5f"
                                                },
                                                "baxis": {
                                                    "endlinecolor": "#2a3f5f",
                                                    "gridcolor": "white",
                                                    "linecolor": "white",
                                                    "minorgridcolor": "white",
                                                    "startlinecolor": "#2a3f5f"
                                                },
                                                "type": "carpet"
                                            }
                                        ],
                                        "choropleth": [
                                            {
                                                "colorbar": {
                                                    "outlinewidth": 0,
                                                    "ticks": ""
                                                },
                                                "type": "choropleth"
                                            }
                                        ],
                                        "contour": [
                                            {
                                                "colorbar": {
                                                    "outlinewidth": 0,
                                                    "ticks": ""
                                                },
                                                "colorscale": [
                                                    [
                                                        0,
                                                        "#0d0887"
                                                    ],
                                                    [
                                                        0.1111111111111111,
                                                        "#46039f"
                                                    ],
                                                    [
                                                        0.2222222222222222,
                                                        "#7201a8"
                                                    ],
                                                    [
                                                        0.3333333333333333,
                                                        "#9c179e"
                                                    ],
                                                    [
                                                        0.4444444444444444,
                                                        "#bd3786"
                                                    ],
                                                    [
                                                        0.5555555555555556,
                                                        "#d8576b"
                                                    ],
                                                    [
                                                        0.6666666666666666,
                                                        "#ed7953"
                                                    ],
                                                    [
                                                        0.7777777777777778,
                                                        "#fb9f3a"
                                                    ],
                                                    [
                                                        0.8888888888888888,
                                                        "#fdca26"
                                                    ],
                                                    [
                                                        1,
                                                        "#f0f921"
                                                    ]
                                                ],
                                                "type": "contour"
                                            }
                                        ],
                                        "contourcarpet": [
                                            {
                                                "colorbar": {
                                                    "outlinewidth": 0,
                                                    "ticks": ""
                                                },
                                                "type": "contourcarpet"
                                            }
                                        ],
                                        "heatmap": [
                                            {
                                                "colorbar": {
                                                    "outlinewidth": 0,
                                                    "ticks": ""
                                                },
                                                "colorscale": [
                                                    [
                                                        0,
                                                        "#0d0887"
                                                    ],
                                                    [
                                                        0.1111111111111111,
                                                        "#46039f"
                                                    ],
                                                    [
                                                        0.2222222222222222,
                                                        "#7201a8"
                                                    ],
                                                    [
                                                        0.3333333333333333,
                                                        "#9c179e"
                                                    ],
                                                    [
                                                        0.4444444444444444,
                                                        "#bd3786"
                                                    ],
                                                    [
                                                        0.5555555555555556,
                                                        "#d8576b"
                                                    ],
                                                    [
                                                        0.6666666666666666,
                                                        "#ed7953"
                                                    ],
                                                    [
                                                        0.7777777777777778,
                                                        "#fb9f3a"
                                                    ],
                                                    [
                                                        0.8888888888888888,
                                                        "#fdca26"
                                                    ],
                                                    [
                                                        1,
                                                        "#f0f921"
                                                    ]
                                                ],
                                                "type": "heatmap"
                                            }
                                        ],
                                        "heatmapgl": [
                                            {
                                                "colorbar": {
                                                    "outlinewidth": 0,
                                                    "ticks": ""
                                                },
                                                "colorscale": [
                                                    [
                                                        0,
                                                        "#0d0887"
                                                    ],
                                                    [
                                                        0.1111111111111111,
                                                        "#46039f"
                                                    ],
                                                    [
                                                        0.2222222222222222,
                                                        "#7201a8"
                                                    ],
                                                    [
                                                        0.3333333333333333,
                                                        "#9c179e"
                                                    ],
                                                    [
                                                        0.4444444444444444,
                                                        "#bd3786"
                                                    ],
                                                    [
                                                        0.5555555555555556,
                                                        "#d8576b"
                                                    ],
                                                    [
                                                        0.6666666666666666,
                                                        "#ed7953"
                                                    ],
                                                    [
                                                        0.7777777777777778,
                                                        "#fb9f3a"
                                                    ],
                                                    [
                                                        0.8888888888888888,
                                                        "#fdca26"
                                                    ],
                                                    [
                                                        1,
                                                        "#f0f921"
                                                    ]
                                                ],
                                                "type": "heatmapgl"
                                            }
                                        ],
                                        "histogram": [
                                            {
                                                "marker": {
                                                    "pattern": {
                                                        "fillmode": "overlay",
                                                        "size": 10,
                                                        "solidity": 0.2
                                                    }
                                                },
                                                "type": "histogram"
                                            }
                                        ],
                                        "histogram2d": [
                                            {
                                                "colorbar": {
                                                    "outlinewidth": 0,
                                                    "ticks": ""
                                                },
                                                "colorscale": [
                                                    [
                                                        0,
                                                        "#0d0887"
                                                    ],
                                                    [
                                                        0.1111111111111111,
                                                        "#46039f"
                                                    ],
                                                    [
                                                        0.2222222222222222,
                                                        "#7201a8"
                                                    ],
                                                    [
                                                        0.3333333333333333,
                                                        "#9c179e"
                                                    ],
                                                    [
                                                        0.4444444444444444,
                                                        "#bd3786"
                                                    ],
                                                    [
                                                        0.5555555555555556,
                                                        "#d8576b"
                                                    ],
                                                    [
                                                        0.6666666666666666,
                                                        "#ed7953"
                                                    ],
                                                    [
                                                        0.7777777777777778,
                                                        "#fb9f3a"
                                                    ],
                                                    [
                                                        0.8888888888888888,
                                                        "#fdca26"
                                                    ],
                                                    [
                                                        1,
                                                        "#f0f921"
                                                    ]
                                                ],
                                                "type": "histogram2d"
                                            }
                                        ],
                                        "histogram2dcontour": [
                                            {
                                                "colorbar": {
                                                    "outlinewidth": 0,
                                                    "ticks": ""
                                                },
                                                "colorscale": [
                                                    [
                                                        0,
                                                        "#0d0887"
                                                    ],
                                                    [
                                                        0.1111111111111111,
                                                        "#46039f"
                                                    ],
                                                    [
                                                        0.2222222222222222,
                                                        "#7201a8"
                                                    ],
                                                    [
                                                        0.3333333333333333,
                                                        "#9c179e"
                                                    ],
                                                    [
                                                        0.4444444444444444,
                                                        "#bd3786"
                                                    ],
                                                    [
                                                        0.5555555555555556,
                                                        "#d8576b"
                                                    ],
                                                    [
                                                        0.6666666666666666,
                                                        "#ed7953"
                                                    ],
                                                    [
                                                        0.7777777777777778,
                                                        "#fb9f3a"
                                                    ],
                                                    [
                                                        0.8888888888888888,
                                                        "#fdca26"
                                                    ],
                                                    [
                                                        1,
                                                        "#f0f921"
                                                    ]
                                                ],
                                                "type": "histogram2dcontour"
                                            }
                                        ],
                                        "mesh3d": [
                                            {
                                                "colorbar": {
                                                    "outlinewidth": 0,
                                                    "ticks": ""
                                                },
                                                "type": "mesh3d"
                                            }
                                        ],
                                        "parcoords": [
                                            {
                                                "line": {
                                                    "colorbar": {
                                                        "outlinewidth": 0,
                                                        "ticks": ""
                                                    }
                                                },
                                                "type": "parcoords"
                                            }
                                        ],
                                        "pie": [
                                            {
                                                "automargin": true,
                                                "type": "pie"
                                            }
                                        ],
                                        "scatter": [
                                            {
                                                "fillpattern": {
                                                    "fillmode": "overlay",
                                                    "size": 10,
                                                    "solidity": 0.2
                                                },
                                                "type": "scatter"
                                            }
                                        ],
                                        "scatter3d": [
                                            {
                                                "line": {
                                                    "colorbar": {
                                                        "outlinewidth": 0,
                                                        "ticks": ""
                                                    }
                                                },
                                                "marker": {
                                                    "colorbar": {
                                                        "outlinewidth": 0,
                                                        "ticks": ""
                                                    }
                                                },
                                                "type": "scatter3d"
                                            }
                                        ],
                                        "scattercarpet": [
                                            {
                                                "marker": {
                                                    "colorbar": {
                                                        "outlinewidth": 0,
                                                        "ticks": ""
                                                    }
                                                },
                                                "type": "scattercarpet"
                                            }
                                        ],
                                        "scattergeo": [
                                            {
                                                "marker": {
                                                    "colorbar": {
                                                        "outlinewidth": 0,
                                                        "ticks": ""
                                                    }
                                                },
                                                "type": "scattergeo"
                                            }
                                        ],
                                        "scattergl": [
                                            {
                                                "marker": {
                                                    "colorbar": {
                                                        "outlinewidth": 0,
                                                        "ticks": ""
                                                    }
                                                },
                                                "type": "scattergl"
                                            }
                                        ],
                                        "scattermapbox": [
                                            {
                                                "marker": {
                                                    "colorbar": {
                                                        "outlinewidth": 0,
                                                        "ticks": ""
                                                    }
                                                },
                                                "type": "scattermapbox"
                                            }
                                        ],
                                        "scatterpolar": [
                                            {
                                                "marker": {
                                                    "colorbar": {
                                                        "outlinewidth": 0,
                                                        "ticks": ""
                                                    }
                                                },
                                                "type": "scatterpolar"
                                            }
                                        ],
                                        "scatterpolargl": [
                                            {
                                                "marker": {
                                                    "colorbar": {
                                                        "outlinewidth": 0,
                                                        "ticks": ""
                                                    }
                                                },
                                                "type": "scatterpolargl"
                                            }
                                        ],
                                        "scatterternary": [
                                            {
                                                "marker": {
                                                    "colorbar": {
                                                        "outlinewidth": 0,
                                                        "ticks": ""
                                                    }
                                                },
                                                "type": "scatterternary"
                                            }
                                        ],
                                        "surface": [
                                            {
                                                "colorbar": {
                                                    "outlinewidth": 0,
                                                    "ticks": ""
                                                },
                                                "colorscale": [
                                                    [
                                                        0,
                                                        "#0d0887"
                                                    ],
                                                    [
                                                        0.1111111111111111,
                                                        "#46039f"
                                                    ],
                                                    [
                                                        0.2222222222222222,
                                                        "#7201a8"
                                                    ],
                                                    [
                                                        0.3333333333333333,
                                                        "#9c179e"
                                                    ],
                                                    [
                                                        0.4444444444444444,
                                                        "#bd3786"
                                                    ],
                                                    [
                                                        0.5555555555555556,
                                                        "#d8576b"
                                                    ],
                                                    [
                                                        0.6666666666666666,
                                                        "#ed7953"
                                                    ],
                                                    [
                                                        0.7777777777777778,
                                                        "#fb9f3a"
                                                    ],
                                                    [
                                                        0.8888888888888888,
                                                        "#fdca26"
                                                    ],
                                                    [
                                                        1,
                                                        "#f0f921"
                                                    ]
                                                ],
                                                "type": "surface"
                                            }
                                        ],
                                        "table": [
                                            {
                                                "cells": {
                                                    "fill": {
                                                        "color": "#EBF0F8"
                                                    },
                                                    "line": {
                                                        "color": "white"
                                                    }
                                                },
                                                "header": {
                                                    "fill": {
                                                        "color": "#C8D4E3"
                                                    },
                                                    "line": {
                                                        "color": "white"
                                                    }
                                                },
                                                "type": "table"
                                            }
                                        ]
                                    },
                                    "layout": {
                                        "annotationdefaults": {
                                            "arrowcolor": "#2a3f5f",
                                            "arrowhead": 0,
                                            "arrowwidth": 1
                                        },
                                        "autotypenumbers": "strict",
                                        "coloraxis": {
                                            "colorbar": {
                                                "outlinewidth": 0,
                                                "ticks": ""
                                            }
                                        },
                                        "colorscale": {
                                            "diverging": [
                                                [
                                                    0,
                                                    "#8e0152"
                                                ],
                                                [
                                                    0.1,
                                                    "#c51b7d"
                                                ],
                                                [
                                                    0.2,
                                                    "#de77ae"
                                                ],
                                                [
                                                    0.3,
                                                    "#f1b6da"
                                                ],
                                                [
                                                    0.4,
                                                    "#fde0ef"
                                                ],
                                                [
                                                    0.5,
                                                    "#f7f7f7"
                                                ],
                                                [
                                                    0.6,
                                                    "#e6f5d0"
                                                ],
                                                [
                                                    0.7,
                                                    "#b8e186"
                                                ],
                                                [
                                                    0.8,
                                                    "#7fbc41"
                                                ],
                                                [
                                                    0.9,
                                                    "#4d9221"
                                                ],
                                                [
                                                    1,
                                                    "#276419"
                                                ]
                                            ],
                                            "sequential": [
                                                [
                                                    0,
                                                    "#0d0887"
                                                ],
                                                [
                                                    0.1111111111111111,
                                                    "#46039f"
                                                ],
                                                [
                                                    0.2222222222222222,
                                                    "#7201a8"
                                                ],
                                                [
                                                    0.3333333333333333,
                                                    "#9c179e"
                                                ],
                                                [
                                                    0.4444444444444444,
                                                    "#bd3786"
                                                ],
                                                [
                                                    0.5555555555555556,
                                                    "#d8576b"
                                                ],
                                                [
                                                    0.6666666666666666,
                                                    "#ed7953"
                                                ],
                                                [
                                                    0.7777777777777778,
                                                    "#fb9f3a"
                                                ],
                                                [
                                                    0.8888888888888888,
                                                    "#fdca26"
                                                ],
                                                [
                                                    1,
                                                    "#f0f921"
                                                ]
                                            ],
                                            "sequentialminus": [
                                                [
                                                    0,
                                                    "#0d0887"
                                                ],
                                                [
                                                    0.1111111111111111,
                                                    "#46039f"
                                                ],
                                                [
                                                    0.2222222222222222,
                                                    "#7201a8"
                                                ],
                                                [
                                                    0.3333333333333333,
                                                    "#9c179e"
                                                ],
                                                [
                                                    0.4444444444444444,
                                                    "#bd3786"
                                                ],
                                                [
                                                    0.5555555555555556,
                                                    "#d8576b"
                                                ],
                                                [
                                                    0.6666666666666666,
                                                    "#ed7953"
                                                ],
                                                [
                                                    0.7777777777777778,
                                                    "#fb9f3a"
                                                ],
                                                [
                                                    0.8888888888888888,
                                                    "#fdca26"
                                                ],
                                                [
                                                    1,
                                                    "#f0f921"
                                                ]
                                            ]
                                        },
                                        "colorway": [
                                            "#636efa",
                                            "#EF553B",
                                            "#00cc96",
                                            "#ab63fa",
                                            "#FFA15A",
                                            "#19d3f3",
                                            "#FF6692",
                                            "#B6E880",
                                            "#FF97FF",
                                            "#FECB52"
                                        ],
                                        "font": {
                                            "color": "#2a3f5f"
                                        },
                                        "geo": {
                                            "bgcolor": "white",
                                            "lakecolor": "white",
                                            "landcolor": "#E5ECF6",
                                            "showlakes": true,
                                            "showland": true,
                                            "subunitcolor": "white"
                                        },
                                        "hoverlabel": {
                                            "align": "left"
                                        },
                                        "hovermode": "closest",
                                        "mapbox": {
                                            "style": "light"
                                        },
                                        "paper_bgcolor": "white",
                                        "plot_bgcolor": "#E5ECF6",
                                        "polar": {
                                            "angularaxis": {
                                                "gridcolor": "white",
                                                "linecolor": "white",
                                                "ticks": ""
                                            },
                                            "bgcolor": "#E5ECF6",
                                            "radialaxis": {
                                                "gridcolor": "white",
                                                "linecolor": "white",
                                                "ticks": ""
                                            }
                                        },
                                        "scene": {
                                            "xaxis": {
                                                "backgroundcolor": "#E5ECF6",
                                                "gridcolor": "white",
                                                "gridwidth": 2,
                                                "linecolor": "white",
                                                "showbackground": true,
                                                "ticks": "",
                                                "zerolinecolor": "white"
                                            },
                                            "yaxis": {
                                                "backgroundcolor": "#E5ECF6",
                                                "gridcolor": "white",
                                                "gridwidth": 2,
                                                "linecolor": "white",
                                                "showbackground": true,
                                                "ticks": "",
                                                "zerolinecolor": "white"
                                            },
                                            "zaxis": {
                                                "backgroundcolor": "#E5ECF6",
                                                "gridcolor": "white",
                                                "gridwidth": 2,
                                                "linecolor": "white",
                                                "showbackground": true,
                                                "ticks": "",
                                                "zerolinecolor": "white"
                                            }
                                        },
                                        "shapedefaults": {
                                            "line": {
                                                "color": "#2a3f5f"
                                            }
                                        },
                                        "ternary": {
                                            "aaxis": {
                                                "gridcolor": "white",
                                                "linecolor": "white",
                                                "ticks": ""
                                            },
                                            "baxis": {
                                                "gridcolor": "white",
                                                "linecolor": "white",
                                                "ticks": ""
                                            },
                                            "bgcolor": "#E5ECF6",
                                            "caxis": {
                                                "gridcolor": "white",
                                                "linecolor": "white",
                                                "ticks": ""
                                            }
                                        },
                                        "title": {
                                            "x": 0.05
                                        },
                                        "xaxis": {
                                            "automargin": true,
                                            "gridcolor": "white",
                                            "linecolor": "white",
                                            "ticks": "",
                                            "title": {
                                                "standoff": 15
                                            },
                                            "zerolinecolor": "white",
                                            "zerolinewidth": 2
                                        },
                                        "yaxis": {
                                            "automargin": true,
                                            "gridcolor": "white",
                                            "linecolor": "white",
                                            "ticks": "",
                                            "title": {
                                                "standoff": 15
                                            },
                                            "zerolinecolor": "white",
                                            "zerolinewidth": 2
                                        }
                                    }
                                },
                                "title": {
                                    "text": "Initial Risk Parity Portfolio Weights"
                                },
                                "width": 700,
                                "xaxis": {
                                    "tickmode": "linear",
                                    "title": {
                                        "text": "Assets"
                                    }
                                },
                                "yaxis": {
                                    "title": {
                                        "text": "Weights"
                                    }
                                }
                            }
                        }
                    },
                    "metadata": {},
                    "output_type": "display_data"
                },
                {
                    "data": {
                        "application/vnd.plotly.v1+json": {
                            "config": {
                                "plotlyServerURL": "https://plot.ly"
                            },
                            "data": [
                                {
                                    "marker": {
                                        "color": [
                                            "#1F77B4",
                                            "#b41f49",
                                            "#f7cf07"
                                        ]
                                    },
                                    "text": [
                                        "33.07%",
                                        "16.31%",
                                        "50.62%"
                                    ],
                                    "textposition": "auto",
                                    "type": "bar",
                                    "x": [
                                        "GLD",
                                        "SPY",
                                        "TLT"
                                    ],
                                    "y": [
                                        0.33069177058197635,
                                        0.1631111191275985,
                                        0.5061971102904251
                                    ]
                                }
                            ],
                            "layout": {
                                "height": 400,
                                "template": {
                                    "data": {
                                        "bar": [
                                            {
                                                "error_x": {
                                                    "color": "#2a3f5f"
                                                },
                                                "error_y": {
                                                    "color": "#2a3f5f"
                                                },
                                                "marker": {
                                                    "line": {
                                                        "color": "#E5ECF6",
                                                        "width": 0.5
                                                    },
                                                    "pattern": {
                                                        "fillmode": "overlay",
                                                        "size": 10,
                                                        "solidity": 0.2
                                                    }
                                                },
                                                "type": "bar"
                                            }
                                        ],
                                        "barpolar": [
                                            {
                                                "marker": {
                                                    "line": {
                                                        "color": "#E5ECF6",
                                                        "width": 0.5
                                                    },
                                                    "pattern": {
                                                        "fillmode": "overlay",
                                                        "size": 10,
                                                        "solidity": 0.2
                                                    }
                                                },
                                                "type": "barpolar"
                                            }
                                        ],
                                        "carpet": [
                                            {
                                                "aaxis": {
                                                    "endlinecolor": "#2a3f5f",
                                                    "gridcolor": "white",
                                                    "linecolor": "white",
                                                    "minorgridcolor": "white",
                                                    "startlinecolor": "#2a3f5f"
                                                },
                                                "baxis": {
                                                    "endlinecolor": "#2a3f5f",
                                                    "gridcolor": "white",
                                                    "linecolor": "white",
                                                    "minorgridcolor": "white",
                                                    "startlinecolor": "#2a3f5f"
                                                },
                                                "type": "carpet"
                                            }
                                        ],
                                        "choropleth": [
                                            {
                                                "colorbar": {
                                                    "outlinewidth": 0,
                                                    "ticks": ""
                                                },
                                                "type": "choropleth"
                                            }
                                        ],
                                        "contour": [
                                            {
                                                "colorbar": {
                                                    "outlinewidth": 0,
                                                    "ticks": ""
                                                },
                                                "colorscale": [
                                                    [
                                                        0,
                                                        "#0d0887"
                                                    ],
                                                    [
                                                        0.1111111111111111,
                                                        "#46039f"
                                                    ],
                                                    [
                                                        0.2222222222222222,
                                                        "#7201a8"
                                                    ],
                                                    [
                                                        0.3333333333333333,
                                                        "#9c179e"
                                                    ],
                                                    [
                                                        0.4444444444444444,
                                                        "#bd3786"
                                                    ],
                                                    [
                                                        0.5555555555555556,
                                                        "#d8576b"
                                                    ],
                                                    [
                                                        0.6666666666666666,
                                                        "#ed7953"
                                                    ],
                                                    [
                                                        0.7777777777777778,
                                                        "#fb9f3a"
                                                    ],
                                                    [
                                                        0.8888888888888888,
                                                        "#fdca26"
                                                    ],
                                                    [
                                                        1,
                                                        "#f0f921"
                                                    ]
                                                ],
                                                "type": "contour"
                                            }
                                        ],
                                        "contourcarpet": [
                                            {
                                                "colorbar": {
                                                    "outlinewidth": 0,
                                                    "ticks": ""
                                                },
                                                "type": "contourcarpet"
                                            }
                                        ],
                                        "heatmap": [
                                            {
                                                "colorbar": {
                                                    "outlinewidth": 0,
                                                    "ticks": ""
                                                },
                                                "colorscale": [
                                                    [
                                                        0,
                                                        "#0d0887"
                                                    ],
                                                    [
                                                        0.1111111111111111,
                                                        "#46039f"
                                                    ],
                                                    [
                                                        0.2222222222222222,
                                                        "#7201a8"
                                                    ],
                                                    [
                                                        0.3333333333333333,
                                                        "#9c179e"
                                                    ],
                                                    [
                                                        0.4444444444444444,
                                                        "#bd3786"
                                                    ],
                                                    [
                                                        0.5555555555555556,
                                                        "#d8576b"
                                                    ],
                                                    [
                                                        0.6666666666666666,
                                                        "#ed7953"
                                                    ],
                                                    [
                                                        0.7777777777777778,
                                                        "#fb9f3a"
                                                    ],
                                                    [
                                                        0.8888888888888888,
                                                        "#fdca26"
                                                    ],
                                                    [
                                                        1,
                                                        "#f0f921"
                                                    ]
                                                ],
                                                "type": "heatmap"
                                            }
                                        ],
                                        "heatmapgl": [
                                            {
                                                "colorbar": {
                                                    "outlinewidth": 0,
                                                    "ticks": ""
                                                },
                                                "colorscale": [
                                                    [
                                                        0,
                                                        "#0d0887"
                                                    ],
                                                    [
                                                        0.1111111111111111,
                                                        "#46039f"
                                                    ],
                                                    [
                                                        0.2222222222222222,
                                                        "#7201a8"
                                                    ],
                                                    [
                                                        0.3333333333333333,
                                                        "#9c179e"
                                                    ],
                                                    [
                                                        0.4444444444444444,
                                                        "#bd3786"
                                                    ],
                                                    [
                                                        0.5555555555555556,
                                                        "#d8576b"
                                                    ],
                                                    [
                                                        0.6666666666666666,
                                                        "#ed7953"
                                                    ],
                                                    [
                                                        0.7777777777777778,
                                                        "#fb9f3a"
                                                    ],
                                                    [
                                                        0.8888888888888888,
                                                        "#fdca26"
                                                    ],
                                                    [
                                                        1,
                                                        "#f0f921"
                                                    ]
                                                ],
                                                "type": "heatmapgl"
                                            }
                                        ],
                                        "histogram": [
                                            {
                                                "marker": {
                                                    "pattern": {
                                                        "fillmode": "overlay",
                                                        "size": 10,
                                                        "solidity": 0.2
                                                    }
                                                },
                                                "type": "histogram"
                                            }
                                        ],
                                        "histogram2d": [
                                            {
                                                "colorbar": {
                                                    "outlinewidth": 0,
                                                    "ticks": ""
                                                },
                                                "colorscale": [
                                                    [
                                                        0,
                                                        "#0d0887"
                                                    ],
                                                    [
                                                        0.1111111111111111,
                                                        "#46039f"
                                                    ],
                                                    [
                                                        0.2222222222222222,
                                                        "#7201a8"
                                                    ],
                                                    [
                                                        0.3333333333333333,
                                                        "#9c179e"
                                                    ],
                                                    [
                                                        0.4444444444444444,
                                                        "#bd3786"
                                                    ],
                                                    [
                                                        0.5555555555555556,
                                                        "#d8576b"
                                                    ],
                                                    [
                                                        0.6666666666666666,
                                                        "#ed7953"
                                                    ],
                                                    [
                                                        0.7777777777777778,
                                                        "#fb9f3a"
                                                    ],
                                                    [
                                                        0.8888888888888888,
                                                        "#fdca26"
                                                    ],
                                                    [
                                                        1,
                                                        "#f0f921"
                                                    ]
                                                ],
                                                "type": "histogram2d"
                                            }
                                        ],
                                        "histogram2dcontour": [
                                            {
                                                "colorbar": {
                                                    "outlinewidth": 0,
                                                    "ticks": ""
                                                },
                                                "colorscale": [
                                                    [
                                                        0,
                                                        "#0d0887"
                                                    ],
                                                    [
                                                        0.1111111111111111,
                                                        "#46039f"
                                                    ],
                                                    [
                                                        0.2222222222222222,
                                                        "#7201a8"
                                                    ],
                                                    [
                                                        0.3333333333333333,
                                                        "#9c179e"
                                                    ],
                                                    [
                                                        0.4444444444444444,
                                                        "#bd3786"
                                                    ],
                                                    [
                                                        0.5555555555555556,
                                                        "#d8576b"
                                                    ],
                                                    [
                                                        0.6666666666666666,
                                                        "#ed7953"
                                                    ],
                                                    [
                                                        0.7777777777777778,
                                                        "#fb9f3a"
                                                    ],
                                                    [
                                                        0.8888888888888888,
                                                        "#fdca26"
                                                    ],
                                                    [
                                                        1,
                                                        "#f0f921"
                                                    ]
                                                ],
                                                "type": "histogram2dcontour"
                                            }
                                        ],
                                        "mesh3d": [
                                            {
                                                "colorbar": {
                                                    "outlinewidth": 0,
                                                    "ticks": ""
                                                },
                                                "type": "mesh3d"
                                            }
                                        ],
                                        "parcoords": [
                                            {
                                                "line": {
                                                    "colorbar": {
                                                        "outlinewidth": 0,
                                                        "ticks": ""
                                                    }
                                                },
                                                "type": "parcoords"
                                            }
                                        ],
                                        "pie": [
                                            {
                                                "automargin": true,
                                                "type": "pie"
                                            }
                                        ],
                                        "scatter": [
                                            {
                                                "fillpattern": {
                                                    "fillmode": "overlay",
                                                    "size": 10,
                                                    "solidity": 0.2
                                                },
                                                "type": "scatter"
                                            }
                                        ],
                                        "scatter3d": [
                                            {
                                                "line": {
                                                    "colorbar": {
                                                        "outlinewidth": 0,
                                                        "ticks": ""
                                                    }
                                                },
                                                "marker": {
                                                    "colorbar": {
                                                        "outlinewidth": 0,
                                                        "ticks": ""
                                                    }
                                                },
                                                "type": "scatter3d"
                                            }
                                        ],
                                        "scattercarpet": [
                                            {
                                                "marker": {
                                                    "colorbar": {
                                                        "outlinewidth": 0,
                                                        "ticks": ""
                                                    }
                                                },
                                                "type": "scattercarpet"
                                            }
                                        ],
                                        "scattergeo": [
                                            {
                                                "marker": {
                                                    "colorbar": {
                                                        "outlinewidth": 0,
                                                        "ticks": ""
                                                    }
                                                },
                                                "type": "scattergeo"
                                            }
                                        ],
                                        "scattergl": [
                                            {
                                                "marker": {
                                                    "colorbar": {
                                                        "outlinewidth": 0,
                                                        "ticks": ""
                                                    }
                                                },
                                                "type": "scattergl"
                                            }
                                        ],
                                        "scattermapbox": [
                                            {
                                                "marker": {
                                                    "colorbar": {
                                                        "outlinewidth": 0,
                                                        "ticks": ""
                                                    }
                                                },
                                                "type": "scattermapbox"
                                            }
                                        ],
                                        "scatterpolar": [
                                            {
                                                "marker": {
                                                    "colorbar": {
                                                        "outlinewidth": 0,
                                                        "ticks": ""
                                                    }
                                                },
                                                "type": "scatterpolar"
                                            }
                                        ],
                                        "scatterpolargl": [
                                            {
                                                "marker": {
                                                    "colorbar": {
                                                        "outlinewidth": 0,
                                                        "ticks": ""
                                                    }
                                                },
                                                "type": "scatterpolargl"
                                            }
                                        ],
                                        "scatterternary": [
                                            {
                                                "marker": {
                                                    "colorbar": {
                                                        "outlinewidth": 0,
                                                        "ticks": ""
                                                    }
                                                },
                                                "type": "scatterternary"
                                            }
                                        ],
                                        "surface": [
                                            {
                                                "colorbar": {
                                                    "outlinewidth": 0,
                                                    "ticks": ""
                                                },
                                                "colorscale": [
                                                    [
                                                        0,
                                                        "#0d0887"
                                                    ],
                                                    [
                                                        0.1111111111111111,
                                                        "#46039f"
                                                    ],
                                                    [
                                                        0.2222222222222222,
                                                        "#7201a8"
                                                    ],
                                                    [
                                                        0.3333333333333333,
                                                        "#9c179e"
                                                    ],
                                                    [
                                                        0.4444444444444444,
                                                        "#bd3786"
                                                    ],
                                                    [
                                                        0.5555555555555556,
                                                        "#d8576b"
                                                    ],
                                                    [
                                                        0.6666666666666666,
                                                        "#ed7953"
                                                    ],
                                                    [
                                                        0.7777777777777778,
                                                        "#fb9f3a"
                                                    ],
                                                    [
                                                        0.8888888888888888,
                                                        "#fdca26"
                                                    ],
                                                    [
                                                        1,
                                                        "#f0f921"
                                                    ]
                                                ],
                                                "type": "surface"
                                            }
                                        ],
                                        "table": [
                                            {
                                                "cells": {
                                                    "fill": {
                                                        "color": "#EBF0F8"
                                                    },
                                                    "line": {
                                                        "color": "white"
                                                    }
                                                },
                                                "header": {
                                                    "fill": {
                                                        "color": "#C8D4E3"
                                                    },
                                                    "line": {
                                                        "color": "white"
                                                    }
                                                },
                                                "type": "table"
                                            }
                                        ]
                                    },
                                    "layout": {
                                        "annotationdefaults": {
                                            "arrowcolor": "#2a3f5f",
                                            "arrowhead": 0,
                                            "arrowwidth": 1
                                        },
                                        "autotypenumbers": "strict",
                                        "coloraxis": {
                                            "colorbar": {
                                                "outlinewidth": 0,
                                                "ticks": ""
                                            }
                                        },
                                        "colorscale": {
                                            "diverging": [
                                                [
                                                    0,
                                                    "#8e0152"
                                                ],
                                                [
                                                    0.1,
                                                    "#c51b7d"
                                                ],
                                                [
                                                    0.2,
                                                    "#de77ae"
                                                ],
                                                [
                                                    0.3,
                                                    "#f1b6da"
                                                ],
                                                [
                                                    0.4,
                                                    "#fde0ef"
                                                ],
                                                [
                                                    0.5,
                                                    "#f7f7f7"
                                                ],
                                                [
                                                    0.6,
                                                    "#e6f5d0"
                                                ],
                                                [
                                                    0.7,
                                                    "#b8e186"
                                                ],
                                                [
                                                    0.8,
                                                    "#7fbc41"
                                                ],
                                                [
                                                    0.9,
                                                    "#4d9221"
                                                ],
                                                [
                                                    1,
                                                    "#276419"
                                                ]
                                            ],
                                            "sequential": [
                                                [
                                                    0,
                                                    "#0d0887"
                                                ],
                                                [
                                                    0.1111111111111111,
                                                    "#46039f"
                                                ],
                                                [
                                                    0.2222222222222222,
                                                    "#7201a8"
                                                ],
                                                [
                                                    0.3333333333333333,
                                                    "#9c179e"
                                                ],
                                                [
                                                    0.4444444444444444,
                                                    "#bd3786"
                                                ],
                                                [
                                                    0.5555555555555556,
                                                    "#d8576b"
                                                ],
                                                [
                                                    0.6666666666666666,
                                                    "#ed7953"
                                                ],
                                                [
                                                    0.7777777777777778,
                                                    "#fb9f3a"
                                                ],
                                                [
                                                    0.8888888888888888,
                                                    "#fdca26"
                                                ],
                                                [
                                                    1,
                                                    "#f0f921"
                                                ]
                                            ],
                                            "sequentialminus": [
                                                [
                                                    0,
                                                    "#0d0887"
                                                ],
                                                [
                                                    0.1111111111111111,
                                                    "#46039f"
                                                ],
                                                [
                                                    0.2222222222222222,
                                                    "#7201a8"
                                                ],
                                                [
                                                    0.3333333333333333,
                                                    "#9c179e"
                                                ],
                                                [
                                                    0.4444444444444444,
                                                    "#bd3786"
                                                ],
                                                [
                                                    0.5555555555555556,
                                                    "#d8576b"
                                                ],
                                                [
                                                    0.6666666666666666,
                                                    "#ed7953"
                                                ],
                                                [
                                                    0.7777777777777778,
                                                    "#fb9f3a"
                                                ],
                                                [
                                                    0.8888888888888888,
                                                    "#fdca26"
                                                ],
                                                [
                                                    1,
                                                    "#f0f921"
                                                ]
                                            ]
                                        },
                                        "colorway": [
                                            "#636efa",
                                            "#EF553B",
                                            "#00cc96",
                                            "#ab63fa",
                                            "#FFA15A",
                                            "#19d3f3",
                                            "#FF6692",
                                            "#B6E880",
                                            "#FF97FF",
                                            "#FECB52"
                                        ],
                                        "font": {
                                            "color": "#2a3f5f"
                                        },
                                        "geo": {
                                            "bgcolor": "white",
                                            "lakecolor": "white",
                                            "landcolor": "#E5ECF6",
                                            "showlakes": true,
                                            "showland": true,
                                            "subunitcolor": "white"
                                        },
                                        "hoverlabel": {
                                            "align": "left"
                                        },
                                        "hovermode": "closest",
                                        "mapbox": {
                                            "style": "light"
                                        },
                                        "paper_bgcolor": "white",
                                        "plot_bgcolor": "#E5ECF6",
                                        "polar": {
                                            "angularaxis": {
                                                "gridcolor": "white",
                                                "linecolor": "white",
                                                "ticks": ""
                                            },
                                            "bgcolor": "#E5ECF6",
                                            "radialaxis": {
                                                "gridcolor": "white",
                                                "linecolor": "white",
                                                "ticks": ""
                                            }
                                        },
                                        "scene": {
                                            "xaxis": {
                                                "backgroundcolor": "#E5ECF6",
                                                "gridcolor": "white",
                                                "gridwidth": 2,
                                                "linecolor": "white",
                                                "showbackground": true,
                                                "ticks": "",
                                                "zerolinecolor": "white"
                                            },
                                            "yaxis": {
                                                "backgroundcolor": "#E5ECF6",
                                                "gridcolor": "white",
                                                "gridwidth": 2,
                                                "linecolor": "white",
                                                "showbackground": true,
                                                "ticks": "",
                                                "zerolinecolor": "white"
                                            },
                                            "zaxis": {
                                                "backgroundcolor": "#E5ECF6",
                                                "gridcolor": "white",
                                                "gridwidth": 2,
                                                "linecolor": "white",
                                                "showbackground": true,
                                                "ticks": "",
                                                "zerolinecolor": "white"
                                            }
                                        },
                                        "shapedefaults": {
                                            "line": {
                                                "color": "#2a3f5f"
                                            }
                                        },
                                        "ternary": {
                                            "aaxis": {
                                                "gridcolor": "white",
                                                "linecolor": "white",
                                                "ticks": ""
                                            },
                                            "baxis": {
                                                "gridcolor": "white",
                                                "linecolor": "white",
                                                "ticks": ""
                                            },
                                            "bgcolor": "#E5ECF6",
                                            "caxis": {
                                                "gridcolor": "white",
                                                "linecolor": "white",
                                                "ticks": ""
                                            }
                                        },
                                        "title": {
                                            "x": 0.05
                                        },
                                        "xaxis": {
                                            "automargin": true,
                                            "gridcolor": "white",
                                            "linecolor": "white",
                                            "ticks": "",
                                            "title": {
                                                "standoff": 15
                                            },
                                            "zerolinecolor": "white",
                                            "zerolinewidth": 2
                                        },
                                        "yaxis": {
                                            "automargin": true,
                                            "gridcolor": "white",
                                            "linecolor": "white",
                                            "ticks": "",
                                            "title": {
                                                "standoff": 15
                                            },
                                            "zerolinecolor": "white",
                                            "zerolinewidth": 2
                                        }
                                    }
                                },
                                "title": {
                                    "text": "Initial Risk Parity Portfolio Weights"
                                },
                                "width": 700,
                                "xaxis": {
                                    "tickmode": "linear",
                                    "title": {
                                        "text": "Assets"
                                    }
                                },
                                "yaxis": {
                                    "title": {
                                        "text": "Weights"
                                    }
                                }
                            }
                        }
                    },
                    "metadata": {},
                    "output_type": "display_data"
                }
            ],
            "source": [
                "visualizer.plot_portfolio_weights()"
            ]
        },
        {
            "cell_type": "markdown",
            "metadata": {},
            "source": [
                "Plot portfolio risk allocation : "
            ]
        },
        {
            "cell_type": "code",
            "execution_count": 53,
            "metadata": {},
            "outputs": [
                {
                    "data": {
                        "application/vnd.plotly.v1+json": {
                            "config": {
                                "plotlyServerURL": "https://plot.ly"
                            },
                            "data": [
                                {
                                    "hoverinfo": "label+value",
                                    "labels": [
                                        "GLD",
                                        "SPY",
                                        "TLT"
                                    ],
                                    "marker": {
                                        "colors": [
                                            "#1F77B4",
                                            "#b41f49",
                                            "#f7cf07"
                                        ]
                                    },
                                    "textinfo": "label+percent",
                                    "type": "pie",
                                    "values": [
                                        0.333,
                                        0.333,
                                        0.334
                                    ]
                                }
                            ],
                            "layout": {
                                "template": {
                                    "data": {
                                        "bar": [
                                            {
                                                "error_x": {
                                                    "color": "#2a3f5f"
                                                },
                                                "error_y": {
                                                    "color": "#2a3f5f"
                                                },
                                                "marker": {
                                                    "line": {
                                                        "color": "white",
                                                        "width": 0.5
                                                    },
                                                    "pattern": {
                                                        "fillmode": "overlay",
                                                        "size": 10,
                                                        "solidity": 0.2
                                                    }
                                                },
                                                "type": "bar"
                                            }
                                        ],
                                        "barpolar": [
                                            {
                                                "marker": {
                                                    "line": {
                                                        "color": "white",
                                                        "width": 0.5
                                                    },
                                                    "pattern": {
                                                        "fillmode": "overlay",
                                                        "size": 10,
                                                        "solidity": 0.2
                                                    }
                                                },
                                                "type": "barpolar"
                                            }
                                        ],
                                        "carpet": [
                                            {
                                                "aaxis": {
                                                    "endlinecolor": "#2a3f5f",
                                                    "gridcolor": "#C8D4E3",
                                                    "linecolor": "#C8D4E3",
                                                    "minorgridcolor": "#C8D4E3",
                                                    "startlinecolor": "#2a3f5f"
                                                },
                                                "baxis": {
                                                    "endlinecolor": "#2a3f5f",
                                                    "gridcolor": "#C8D4E3",
                                                    "linecolor": "#C8D4E3",
                                                    "minorgridcolor": "#C8D4E3",
                                                    "startlinecolor": "#2a3f5f"
                                                },
                                                "type": "carpet"
                                            }
                                        ],
                                        "choropleth": [
                                            {
                                                "colorbar": {
                                                    "outlinewidth": 0,
                                                    "ticks": ""
                                                },
                                                "type": "choropleth"
                                            }
                                        ],
                                        "contour": [
                                            {
                                                "colorbar": {
                                                    "outlinewidth": 0,
                                                    "ticks": ""
                                                },
                                                "colorscale": [
                                                    [
                                                        0,
                                                        "#0d0887"
                                                    ],
                                                    [
                                                        0.1111111111111111,
                                                        "#46039f"
                                                    ],
                                                    [
                                                        0.2222222222222222,
                                                        "#7201a8"
                                                    ],
                                                    [
                                                        0.3333333333333333,
                                                        "#9c179e"
                                                    ],
                                                    [
                                                        0.4444444444444444,
                                                        "#bd3786"
                                                    ],
                                                    [
                                                        0.5555555555555556,
                                                        "#d8576b"
                                                    ],
                                                    [
                                                        0.6666666666666666,
                                                        "#ed7953"
                                                    ],
                                                    [
                                                        0.7777777777777778,
                                                        "#fb9f3a"
                                                    ],
                                                    [
                                                        0.8888888888888888,
                                                        "#fdca26"
                                                    ],
                                                    [
                                                        1,
                                                        "#f0f921"
                                                    ]
                                                ],
                                                "type": "contour"
                                            }
                                        ],
                                        "contourcarpet": [
                                            {
                                                "colorbar": {
                                                    "outlinewidth": 0,
                                                    "ticks": ""
                                                },
                                                "type": "contourcarpet"
                                            }
                                        ],
                                        "heatmap": [
                                            {
                                                "colorbar": {
                                                    "outlinewidth": 0,
                                                    "ticks": ""
                                                },
                                                "colorscale": [
                                                    [
                                                        0,
                                                        "#0d0887"
                                                    ],
                                                    [
                                                        0.1111111111111111,
                                                        "#46039f"
                                                    ],
                                                    [
                                                        0.2222222222222222,
                                                        "#7201a8"
                                                    ],
                                                    [
                                                        0.3333333333333333,
                                                        "#9c179e"
                                                    ],
                                                    [
                                                        0.4444444444444444,
                                                        "#bd3786"
                                                    ],
                                                    [
                                                        0.5555555555555556,
                                                        "#d8576b"
                                                    ],
                                                    [
                                                        0.6666666666666666,
                                                        "#ed7953"
                                                    ],
                                                    [
                                                        0.7777777777777778,
                                                        "#fb9f3a"
                                                    ],
                                                    [
                                                        0.8888888888888888,
                                                        "#fdca26"
                                                    ],
                                                    [
                                                        1,
                                                        "#f0f921"
                                                    ]
                                                ],
                                                "type": "heatmap"
                                            }
                                        ],
                                        "heatmapgl": [
                                            {
                                                "colorbar": {
                                                    "outlinewidth": 0,
                                                    "ticks": ""
                                                },
                                                "colorscale": [
                                                    [
                                                        0,
                                                        "#0d0887"
                                                    ],
                                                    [
                                                        0.1111111111111111,
                                                        "#46039f"
                                                    ],
                                                    [
                                                        0.2222222222222222,
                                                        "#7201a8"
                                                    ],
                                                    [
                                                        0.3333333333333333,
                                                        "#9c179e"
                                                    ],
                                                    [
                                                        0.4444444444444444,
                                                        "#bd3786"
                                                    ],
                                                    [
                                                        0.5555555555555556,
                                                        "#d8576b"
                                                    ],
                                                    [
                                                        0.6666666666666666,
                                                        "#ed7953"
                                                    ],
                                                    [
                                                        0.7777777777777778,
                                                        "#fb9f3a"
                                                    ],
                                                    [
                                                        0.8888888888888888,
                                                        "#fdca26"
                                                    ],
                                                    [
                                                        1,
                                                        "#f0f921"
                                                    ]
                                                ],
                                                "type": "heatmapgl"
                                            }
                                        ],
                                        "histogram": [
                                            {
                                                "marker": {
                                                    "pattern": {
                                                        "fillmode": "overlay",
                                                        "size": 10,
                                                        "solidity": 0.2
                                                    }
                                                },
                                                "type": "histogram"
                                            }
                                        ],
                                        "histogram2d": [
                                            {
                                                "colorbar": {
                                                    "outlinewidth": 0,
                                                    "ticks": ""
                                                },
                                                "colorscale": [
                                                    [
                                                        0,
                                                        "#0d0887"
                                                    ],
                                                    [
                                                        0.1111111111111111,
                                                        "#46039f"
                                                    ],
                                                    [
                                                        0.2222222222222222,
                                                        "#7201a8"
                                                    ],
                                                    [
                                                        0.3333333333333333,
                                                        "#9c179e"
                                                    ],
                                                    [
                                                        0.4444444444444444,
                                                        "#bd3786"
                                                    ],
                                                    [
                                                        0.5555555555555556,
                                                        "#d8576b"
                                                    ],
                                                    [
                                                        0.6666666666666666,
                                                        "#ed7953"
                                                    ],
                                                    [
                                                        0.7777777777777778,
                                                        "#fb9f3a"
                                                    ],
                                                    [
                                                        0.8888888888888888,
                                                        "#fdca26"
                                                    ],
                                                    [
                                                        1,
                                                        "#f0f921"
                                                    ]
                                                ],
                                                "type": "histogram2d"
                                            }
                                        ],
                                        "histogram2dcontour": [
                                            {
                                                "colorbar": {
                                                    "outlinewidth": 0,
                                                    "ticks": ""
                                                },
                                                "colorscale": [
                                                    [
                                                        0,
                                                        "#0d0887"
                                                    ],
                                                    [
                                                        0.1111111111111111,
                                                        "#46039f"
                                                    ],
                                                    [
                                                        0.2222222222222222,
                                                        "#7201a8"
                                                    ],
                                                    [
                                                        0.3333333333333333,
                                                        "#9c179e"
                                                    ],
                                                    [
                                                        0.4444444444444444,
                                                        "#bd3786"
                                                    ],
                                                    [
                                                        0.5555555555555556,
                                                        "#d8576b"
                                                    ],
                                                    [
                                                        0.6666666666666666,
                                                        "#ed7953"
                                                    ],
                                                    [
                                                        0.7777777777777778,
                                                        "#fb9f3a"
                                                    ],
                                                    [
                                                        0.8888888888888888,
                                                        "#fdca26"
                                                    ],
                                                    [
                                                        1,
                                                        "#f0f921"
                                                    ]
                                                ],
                                                "type": "histogram2dcontour"
                                            }
                                        ],
                                        "mesh3d": [
                                            {
                                                "colorbar": {
                                                    "outlinewidth": 0,
                                                    "ticks": ""
                                                },
                                                "type": "mesh3d"
                                            }
                                        ],
                                        "parcoords": [
                                            {
                                                "line": {
                                                    "colorbar": {
                                                        "outlinewidth": 0,
                                                        "ticks": ""
                                                    }
                                                },
                                                "type": "parcoords"
                                            }
                                        ],
                                        "pie": [
                                            {
                                                "automargin": true,
                                                "type": "pie"
                                            }
                                        ],
                                        "scatter": [
                                            {
                                                "fillpattern": {
                                                    "fillmode": "overlay",
                                                    "size": 10,
                                                    "solidity": 0.2
                                                },
                                                "type": "scatter"
                                            }
                                        ],
                                        "scatter3d": [
                                            {
                                                "line": {
                                                    "colorbar": {
                                                        "outlinewidth": 0,
                                                        "ticks": ""
                                                    }
                                                },
                                                "marker": {
                                                    "colorbar": {
                                                        "outlinewidth": 0,
                                                        "ticks": ""
                                                    }
                                                },
                                                "type": "scatter3d"
                                            }
                                        ],
                                        "scattercarpet": [
                                            {
                                                "marker": {
                                                    "colorbar": {
                                                        "outlinewidth": 0,
                                                        "ticks": ""
                                                    }
                                                },
                                                "type": "scattercarpet"
                                            }
                                        ],
                                        "scattergeo": [
                                            {
                                                "marker": {
                                                    "colorbar": {
                                                        "outlinewidth": 0,
                                                        "ticks": ""
                                                    }
                                                },
                                                "type": "scattergeo"
                                            }
                                        ],
                                        "scattergl": [
                                            {
                                                "marker": {
                                                    "colorbar": {
                                                        "outlinewidth": 0,
                                                        "ticks": ""
                                                    }
                                                },
                                                "type": "scattergl"
                                            }
                                        ],
                                        "scattermapbox": [
                                            {
                                                "marker": {
                                                    "colorbar": {
                                                        "outlinewidth": 0,
                                                        "ticks": ""
                                                    }
                                                },
                                                "type": "scattermapbox"
                                            }
                                        ],
                                        "scatterpolar": [
                                            {
                                                "marker": {
                                                    "colorbar": {
                                                        "outlinewidth": 0,
                                                        "ticks": ""
                                                    }
                                                },
                                                "type": "scatterpolar"
                                            }
                                        ],
                                        "scatterpolargl": [
                                            {
                                                "marker": {
                                                    "colorbar": {
                                                        "outlinewidth": 0,
                                                        "ticks": ""
                                                    }
                                                },
                                                "type": "scatterpolargl"
                                            }
                                        ],
                                        "scatterternary": [
                                            {
                                                "marker": {
                                                    "colorbar": {
                                                        "outlinewidth": 0,
                                                        "ticks": ""
                                                    }
                                                },
                                                "type": "scatterternary"
                                            }
                                        ],
                                        "surface": [
                                            {
                                                "colorbar": {
                                                    "outlinewidth": 0,
                                                    "ticks": ""
                                                },
                                                "colorscale": [
                                                    [
                                                        0,
                                                        "#0d0887"
                                                    ],
                                                    [
                                                        0.1111111111111111,
                                                        "#46039f"
                                                    ],
                                                    [
                                                        0.2222222222222222,
                                                        "#7201a8"
                                                    ],
                                                    [
                                                        0.3333333333333333,
                                                        "#9c179e"
                                                    ],
                                                    [
                                                        0.4444444444444444,
                                                        "#bd3786"
                                                    ],
                                                    [
                                                        0.5555555555555556,
                                                        "#d8576b"
                                                    ],
                                                    [
                                                        0.6666666666666666,
                                                        "#ed7953"
                                                    ],
                                                    [
                                                        0.7777777777777778,
                                                        "#fb9f3a"
                                                    ],
                                                    [
                                                        0.8888888888888888,
                                                        "#fdca26"
                                                    ],
                                                    [
                                                        1,
                                                        "#f0f921"
                                                    ]
                                                ],
                                                "type": "surface"
                                            }
                                        ],
                                        "table": [
                                            {
                                                "cells": {
                                                    "fill": {
                                                        "color": "#EBF0F8"
                                                    },
                                                    "line": {
                                                        "color": "white"
                                                    }
                                                },
                                                "header": {
                                                    "fill": {
                                                        "color": "#C8D4E3"
                                                    },
                                                    "line": {
                                                        "color": "white"
                                                    }
                                                },
                                                "type": "table"
                                            }
                                        ]
                                    },
                                    "layout": {
                                        "annotationdefaults": {
                                            "arrowcolor": "#2a3f5f",
                                            "arrowhead": 0,
                                            "arrowwidth": 1
                                        },
                                        "autotypenumbers": "strict",
                                        "coloraxis": {
                                            "colorbar": {
                                                "outlinewidth": 0,
                                                "ticks": ""
                                            }
                                        },
                                        "colorscale": {
                                            "diverging": [
                                                [
                                                    0,
                                                    "#8e0152"
                                                ],
                                                [
                                                    0.1,
                                                    "#c51b7d"
                                                ],
                                                [
                                                    0.2,
                                                    "#de77ae"
                                                ],
                                                [
                                                    0.3,
                                                    "#f1b6da"
                                                ],
                                                [
                                                    0.4,
                                                    "#fde0ef"
                                                ],
                                                [
                                                    0.5,
                                                    "#f7f7f7"
                                                ],
                                                [
                                                    0.6,
                                                    "#e6f5d0"
                                                ],
                                                [
                                                    0.7,
                                                    "#b8e186"
                                                ],
                                                [
                                                    0.8,
                                                    "#7fbc41"
                                                ],
                                                [
                                                    0.9,
                                                    "#4d9221"
                                                ],
                                                [
                                                    1,
                                                    "#276419"
                                                ]
                                            ],
                                            "sequential": [
                                                [
                                                    0,
                                                    "#0d0887"
                                                ],
                                                [
                                                    0.1111111111111111,
                                                    "#46039f"
                                                ],
                                                [
                                                    0.2222222222222222,
                                                    "#7201a8"
                                                ],
                                                [
                                                    0.3333333333333333,
                                                    "#9c179e"
                                                ],
                                                [
                                                    0.4444444444444444,
                                                    "#bd3786"
                                                ],
                                                [
                                                    0.5555555555555556,
                                                    "#d8576b"
                                                ],
                                                [
                                                    0.6666666666666666,
                                                    "#ed7953"
                                                ],
                                                [
                                                    0.7777777777777778,
                                                    "#fb9f3a"
                                                ],
                                                [
                                                    0.8888888888888888,
                                                    "#fdca26"
                                                ],
                                                [
                                                    1,
                                                    "#f0f921"
                                                ]
                                            ],
                                            "sequentialminus": [
                                                [
                                                    0,
                                                    "#0d0887"
                                                ],
                                                [
                                                    0.1111111111111111,
                                                    "#46039f"
                                                ],
                                                [
                                                    0.2222222222222222,
                                                    "#7201a8"
                                                ],
                                                [
                                                    0.3333333333333333,
                                                    "#9c179e"
                                                ],
                                                [
                                                    0.4444444444444444,
                                                    "#bd3786"
                                                ],
                                                [
                                                    0.5555555555555556,
                                                    "#d8576b"
                                                ],
                                                [
                                                    0.6666666666666666,
                                                    "#ed7953"
                                                ],
                                                [
                                                    0.7777777777777778,
                                                    "#fb9f3a"
                                                ],
                                                [
                                                    0.8888888888888888,
                                                    "#fdca26"
                                                ],
                                                [
                                                    1,
                                                    "#f0f921"
                                                ]
                                            ]
                                        },
                                        "colorway": [
                                            "#636efa",
                                            "#EF553B",
                                            "#00cc96",
                                            "#ab63fa",
                                            "#FFA15A",
                                            "#19d3f3",
                                            "#FF6692",
                                            "#B6E880",
                                            "#FF97FF",
                                            "#FECB52"
                                        ],
                                        "font": {
                                            "color": "#2a3f5f"
                                        },
                                        "geo": {
                                            "bgcolor": "white",
                                            "lakecolor": "white",
                                            "landcolor": "white",
                                            "showlakes": true,
                                            "showland": true,
                                            "subunitcolor": "#C8D4E3"
                                        },
                                        "hoverlabel": {
                                            "align": "left"
                                        },
                                        "hovermode": "closest",
                                        "mapbox": {
                                            "style": "light"
                                        },
                                        "paper_bgcolor": "white",
                                        "plot_bgcolor": "white",
                                        "polar": {
                                            "angularaxis": {
                                                "gridcolor": "#EBF0F8",
                                                "linecolor": "#EBF0F8",
                                                "ticks": ""
                                            },
                                            "bgcolor": "white",
                                            "radialaxis": {
                                                "gridcolor": "#EBF0F8",
                                                "linecolor": "#EBF0F8",
                                                "ticks": ""
                                            }
                                        },
                                        "scene": {
                                            "xaxis": {
                                                "backgroundcolor": "white",
                                                "gridcolor": "#DFE8F3",
                                                "gridwidth": 2,
                                                "linecolor": "#EBF0F8",
                                                "showbackground": true,
                                                "ticks": "",
                                                "zerolinecolor": "#EBF0F8"
                                            },
                                            "yaxis": {
                                                "backgroundcolor": "white",
                                                "gridcolor": "#DFE8F3",
                                                "gridwidth": 2,
                                                "linecolor": "#EBF0F8",
                                                "showbackground": true,
                                                "ticks": "",
                                                "zerolinecolor": "#EBF0F8"
                                            },
                                            "zaxis": {
                                                "backgroundcolor": "white",
                                                "gridcolor": "#DFE8F3",
                                                "gridwidth": 2,
                                                "linecolor": "#EBF0F8",
                                                "showbackground": true,
                                                "ticks": "",
                                                "zerolinecolor": "#EBF0F8"
                                            }
                                        },
                                        "shapedefaults": {
                                            "line": {
                                                "color": "#2a3f5f"
                                            }
                                        },
                                        "ternary": {
                                            "aaxis": {
                                                "gridcolor": "#DFE8F3",
                                                "linecolor": "#A2B1C6",
                                                "ticks": ""
                                            },
                                            "baxis": {
                                                "gridcolor": "#DFE8F3",
                                                "linecolor": "#A2B1C6",
                                                "ticks": ""
                                            },
                                            "bgcolor": "white",
                                            "caxis": {
                                                "gridcolor": "#DFE8F3",
                                                "linecolor": "#A2B1C6",
                                                "ticks": ""
                                            }
                                        },
                                        "title": {
                                            "x": 0.05
                                        },
                                        "xaxis": {
                                            "automargin": true,
                                            "gridcolor": "#EBF0F8",
                                            "linecolor": "#EBF0F8",
                                            "ticks": "",
                                            "title": {
                                                "standoff": 15
                                            },
                                            "zerolinecolor": "#EBF0F8",
                                            "zerolinewidth": 2
                                        },
                                        "yaxis": {
                                            "automargin": true,
                                            "gridcolor": "#EBF0F8",
                                            "linecolor": "#EBF0F8",
                                            "ticks": "",
                                            "title": {
                                                "standoff": 15
                                            },
                                            "zerolinecolor": "#EBF0F8",
                                            "zerolinewidth": 2
                                        }
                                    }
                                },
                                "title": {
                                    "text": "Risk Parity Allocation Pie Chart"
                                }
                            }
                        }
                    },
                    "metadata": {},
                    "output_type": "display_data"
                },
                {
                    "data": {
                        "application/vnd.plotly.v1+json": {
                            "config": {
                                "plotlyServerURL": "https://plot.ly"
                            },
                            "data": [
                                {
                                    "hoverinfo": "label+value",
                                    "labels": [
                                        "GLD",
                                        "SPY",
                                        "TLT"
                                    ],
                                    "marker": {
                                        "colors": [
                                            "#1F77B4",
                                            "#b41f49",
                                            "#f7cf07"
                                        ]
                                    },
                                    "textinfo": "label+percent",
                                    "type": "pie",
                                    "values": [
                                        0.333,
                                        0.333,
                                        0.334
                                    ]
                                }
                            ],
                            "layout": {
                                "template": {
                                    "data": {
                                        "bar": [
                                            {
                                                "error_x": {
                                                    "color": "#2a3f5f"
                                                },
                                                "error_y": {
                                                    "color": "#2a3f5f"
                                                },
                                                "marker": {
                                                    "line": {
                                                        "color": "white",
                                                        "width": 0.5
                                                    },
                                                    "pattern": {
                                                        "fillmode": "overlay",
                                                        "size": 10,
                                                        "solidity": 0.2
                                                    }
                                                },
                                                "type": "bar"
                                            }
                                        ],
                                        "barpolar": [
                                            {
                                                "marker": {
                                                    "line": {
                                                        "color": "white",
                                                        "width": 0.5
                                                    },
                                                    "pattern": {
                                                        "fillmode": "overlay",
                                                        "size": 10,
                                                        "solidity": 0.2
                                                    }
                                                },
                                                "type": "barpolar"
                                            }
                                        ],
                                        "carpet": [
                                            {
                                                "aaxis": {
                                                    "endlinecolor": "#2a3f5f",
                                                    "gridcolor": "#C8D4E3",
                                                    "linecolor": "#C8D4E3",
                                                    "minorgridcolor": "#C8D4E3",
                                                    "startlinecolor": "#2a3f5f"
                                                },
                                                "baxis": {
                                                    "endlinecolor": "#2a3f5f",
                                                    "gridcolor": "#C8D4E3",
                                                    "linecolor": "#C8D4E3",
                                                    "minorgridcolor": "#C8D4E3",
                                                    "startlinecolor": "#2a3f5f"
                                                },
                                                "type": "carpet"
                                            }
                                        ],
                                        "choropleth": [
                                            {
                                                "colorbar": {
                                                    "outlinewidth": 0,
                                                    "ticks": ""
                                                },
                                                "type": "choropleth"
                                            }
                                        ],
                                        "contour": [
                                            {
                                                "colorbar": {
                                                    "outlinewidth": 0,
                                                    "ticks": ""
                                                },
                                                "colorscale": [
                                                    [
                                                        0,
                                                        "#0d0887"
                                                    ],
                                                    [
                                                        0.1111111111111111,
                                                        "#46039f"
                                                    ],
                                                    [
                                                        0.2222222222222222,
                                                        "#7201a8"
                                                    ],
                                                    [
                                                        0.3333333333333333,
                                                        "#9c179e"
                                                    ],
                                                    [
                                                        0.4444444444444444,
                                                        "#bd3786"
                                                    ],
                                                    [
                                                        0.5555555555555556,
                                                        "#d8576b"
                                                    ],
                                                    [
                                                        0.6666666666666666,
                                                        "#ed7953"
                                                    ],
                                                    [
                                                        0.7777777777777778,
                                                        "#fb9f3a"
                                                    ],
                                                    [
                                                        0.8888888888888888,
                                                        "#fdca26"
                                                    ],
                                                    [
                                                        1,
                                                        "#f0f921"
                                                    ]
                                                ],
                                                "type": "contour"
                                            }
                                        ],
                                        "contourcarpet": [
                                            {
                                                "colorbar": {
                                                    "outlinewidth": 0,
                                                    "ticks": ""
                                                },
                                                "type": "contourcarpet"
                                            }
                                        ],
                                        "heatmap": [
                                            {
                                                "colorbar": {
                                                    "outlinewidth": 0,
                                                    "ticks": ""
                                                },
                                                "colorscale": [
                                                    [
                                                        0,
                                                        "#0d0887"
                                                    ],
                                                    [
                                                        0.1111111111111111,
                                                        "#46039f"
                                                    ],
                                                    [
                                                        0.2222222222222222,
                                                        "#7201a8"
                                                    ],
                                                    [
                                                        0.3333333333333333,
                                                        "#9c179e"
                                                    ],
                                                    [
                                                        0.4444444444444444,
                                                        "#bd3786"
                                                    ],
                                                    [
                                                        0.5555555555555556,
                                                        "#d8576b"
                                                    ],
                                                    [
                                                        0.6666666666666666,
                                                        "#ed7953"
                                                    ],
                                                    [
                                                        0.7777777777777778,
                                                        "#fb9f3a"
                                                    ],
                                                    [
                                                        0.8888888888888888,
                                                        "#fdca26"
                                                    ],
                                                    [
                                                        1,
                                                        "#f0f921"
                                                    ]
                                                ],
                                                "type": "heatmap"
                                            }
                                        ],
                                        "heatmapgl": [
                                            {
                                                "colorbar": {
                                                    "outlinewidth": 0,
                                                    "ticks": ""
                                                },
                                                "colorscale": [
                                                    [
                                                        0,
                                                        "#0d0887"
                                                    ],
                                                    [
                                                        0.1111111111111111,
                                                        "#46039f"
                                                    ],
                                                    [
                                                        0.2222222222222222,
                                                        "#7201a8"
                                                    ],
                                                    [
                                                        0.3333333333333333,
                                                        "#9c179e"
                                                    ],
                                                    [
                                                        0.4444444444444444,
                                                        "#bd3786"
                                                    ],
                                                    [
                                                        0.5555555555555556,
                                                        "#d8576b"
                                                    ],
                                                    [
                                                        0.6666666666666666,
                                                        "#ed7953"
                                                    ],
                                                    [
                                                        0.7777777777777778,
                                                        "#fb9f3a"
                                                    ],
                                                    [
                                                        0.8888888888888888,
                                                        "#fdca26"
                                                    ],
                                                    [
                                                        1,
                                                        "#f0f921"
                                                    ]
                                                ],
                                                "type": "heatmapgl"
                                            }
                                        ],
                                        "histogram": [
                                            {
                                                "marker": {
                                                    "pattern": {
                                                        "fillmode": "overlay",
                                                        "size": 10,
                                                        "solidity": 0.2
                                                    }
                                                },
                                                "type": "histogram"
                                            }
                                        ],
                                        "histogram2d": [
                                            {
                                                "colorbar": {
                                                    "outlinewidth": 0,
                                                    "ticks": ""
                                                },
                                                "colorscale": [
                                                    [
                                                        0,
                                                        "#0d0887"
                                                    ],
                                                    [
                                                        0.1111111111111111,
                                                        "#46039f"
                                                    ],
                                                    [
                                                        0.2222222222222222,
                                                        "#7201a8"
                                                    ],
                                                    [
                                                        0.3333333333333333,
                                                        "#9c179e"
                                                    ],
                                                    [
                                                        0.4444444444444444,
                                                        "#bd3786"
                                                    ],
                                                    [
                                                        0.5555555555555556,
                                                        "#d8576b"
                                                    ],
                                                    [
                                                        0.6666666666666666,
                                                        "#ed7953"
                                                    ],
                                                    [
                                                        0.7777777777777778,
                                                        "#fb9f3a"
                                                    ],
                                                    [
                                                        0.8888888888888888,
                                                        "#fdca26"
                                                    ],
                                                    [
                                                        1,
                                                        "#f0f921"
                                                    ]
                                                ],
                                                "type": "histogram2d"
                                            }
                                        ],
                                        "histogram2dcontour": [
                                            {
                                                "colorbar": {
                                                    "outlinewidth": 0,
                                                    "ticks": ""
                                                },
                                                "colorscale": [
                                                    [
                                                        0,
                                                        "#0d0887"
                                                    ],
                                                    [
                                                        0.1111111111111111,
                                                        "#46039f"
                                                    ],
                                                    [
                                                        0.2222222222222222,
                                                        "#7201a8"
                                                    ],
                                                    [
                                                        0.3333333333333333,
                                                        "#9c179e"
                                                    ],
                                                    [
                                                        0.4444444444444444,
                                                        "#bd3786"
                                                    ],
                                                    [
                                                        0.5555555555555556,
                                                        "#d8576b"
                                                    ],
                                                    [
                                                        0.6666666666666666,
                                                        "#ed7953"
                                                    ],
                                                    [
                                                        0.7777777777777778,
                                                        "#fb9f3a"
                                                    ],
                                                    [
                                                        0.8888888888888888,
                                                        "#fdca26"
                                                    ],
                                                    [
                                                        1,
                                                        "#f0f921"
                                                    ]
                                                ],
                                                "type": "histogram2dcontour"
                                            }
                                        ],
                                        "mesh3d": [
                                            {
                                                "colorbar": {
                                                    "outlinewidth": 0,
                                                    "ticks": ""
                                                },
                                                "type": "mesh3d"
                                            }
                                        ],
                                        "parcoords": [
                                            {
                                                "line": {
                                                    "colorbar": {
                                                        "outlinewidth": 0,
                                                        "ticks": ""
                                                    }
                                                },
                                                "type": "parcoords"
                                            }
                                        ],
                                        "pie": [
                                            {
                                                "automargin": true,
                                                "type": "pie"
                                            }
                                        ],
                                        "scatter": [
                                            {
                                                "fillpattern": {
                                                    "fillmode": "overlay",
                                                    "size": 10,
                                                    "solidity": 0.2
                                                },
                                                "type": "scatter"
                                            }
                                        ],
                                        "scatter3d": [
                                            {
                                                "line": {
                                                    "colorbar": {
                                                        "outlinewidth": 0,
                                                        "ticks": ""
                                                    }
                                                },
                                                "marker": {
                                                    "colorbar": {
                                                        "outlinewidth": 0,
                                                        "ticks": ""
                                                    }
                                                },
                                                "type": "scatter3d"
                                            }
                                        ],
                                        "scattercarpet": [
                                            {
                                                "marker": {
                                                    "colorbar": {
                                                        "outlinewidth": 0,
                                                        "ticks": ""
                                                    }
                                                },
                                                "type": "scattercarpet"
                                            }
                                        ],
                                        "scattergeo": [
                                            {
                                                "marker": {
                                                    "colorbar": {
                                                        "outlinewidth": 0,
                                                        "ticks": ""
                                                    }
                                                },
                                                "type": "scattergeo"
                                            }
                                        ],
                                        "scattergl": [
                                            {
                                                "marker": {
                                                    "colorbar": {
                                                        "outlinewidth": 0,
                                                        "ticks": ""
                                                    }
                                                },
                                                "type": "scattergl"
                                            }
                                        ],
                                        "scattermapbox": [
                                            {
                                                "marker": {
                                                    "colorbar": {
                                                        "outlinewidth": 0,
                                                        "ticks": ""
                                                    }
                                                },
                                                "type": "scattermapbox"
                                            }
                                        ],
                                        "scatterpolar": [
                                            {
                                                "marker": {
                                                    "colorbar": {
                                                        "outlinewidth": 0,
                                                        "ticks": ""
                                                    }
                                                },
                                                "type": "scatterpolar"
                                            }
                                        ],
                                        "scatterpolargl": [
                                            {
                                                "marker": {
                                                    "colorbar": {
                                                        "outlinewidth": 0,
                                                        "ticks": ""
                                                    }
                                                },
                                                "type": "scatterpolargl"
                                            }
                                        ],
                                        "scatterternary": [
                                            {
                                                "marker": {
                                                    "colorbar": {
                                                        "outlinewidth": 0,
                                                        "ticks": ""
                                                    }
                                                },
                                                "type": "scatterternary"
                                            }
                                        ],
                                        "surface": [
                                            {
                                                "colorbar": {
                                                    "outlinewidth": 0,
                                                    "ticks": ""
                                                },
                                                "colorscale": [
                                                    [
                                                        0,
                                                        "#0d0887"
                                                    ],
                                                    [
                                                        0.1111111111111111,
                                                        "#46039f"
                                                    ],
                                                    [
                                                        0.2222222222222222,
                                                        "#7201a8"
                                                    ],
                                                    [
                                                        0.3333333333333333,
                                                        "#9c179e"
                                                    ],
                                                    [
                                                        0.4444444444444444,
                                                        "#bd3786"
                                                    ],
                                                    [
                                                        0.5555555555555556,
                                                        "#d8576b"
                                                    ],
                                                    [
                                                        0.6666666666666666,
                                                        "#ed7953"
                                                    ],
                                                    [
                                                        0.7777777777777778,
                                                        "#fb9f3a"
                                                    ],
                                                    [
                                                        0.8888888888888888,
                                                        "#fdca26"
                                                    ],
                                                    [
                                                        1,
                                                        "#f0f921"
                                                    ]
                                                ],
                                                "type": "surface"
                                            }
                                        ],
                                        "table": [
                                            {
                                                "cells": {
                                                    "fill": {
                                                        "color": "#EBF0F8"
                                                    },
                                                    "line": {
                                                        "color": "white"
                                                    }
                                                },
                                                "header": {
                                                    "fill": {
                                                        "color": "#C8D4E3"
                                                    },
                                                    "line": {
                                                        "color": "white"
                                                    }
                                                },
                                                "type": "table"
                                            }
                                        ]
                                    },
                                    "layout": {
                                        "annotationdefaults": {
                                            "arrowcolor": "#2a3f5f",
                                            "arrowhead": 0,
                                            "arrowwidth": 1
                                        },
                                        "autotypenumbers": "strict",
                                        "coloraxis": {
                                            "colorbar": {
                                                "outlinewidth": 0,
                                                "ticks": ""
                                            }
                                        },
                                        "colorscale": {
                                            "diverging": [
                                                [
                                                    0,
                                                    "#8e0152"
                                                ],
                                                [
                                                    0.1,
                                                    "#c51b7d"
                                                ],
                                                [
                                                    0.2,
                                                    "#de77ae"
                                                ],
                                                [
                                                    0.3,
                                                    "#f1b6da"
                                                ],
                                                [
                                                    0.4,
                                                    "#fde0ef"
                                                ],
                                                [
                                                    0.5,
                                                    "#f7f7f7"
                                                ],
                                                [
                                                    0.6,
                                                    "#e6f5d0"
                                                ],
                                                [
                                                    0.7,
                                                    "#b8e186"
                                                ],
                                                [
                                                    0.8,
                                                    "#7fbc41"
                                                ],
                                                [
                                                    0.9,
                                                    "#4d9221"
                                                ],
                                                [
                                                    1,
                                                    "#276419"
                                                ]
                                            ],
                                            "sequential": [
                                                [
                                                    0,
                                                    "#0d0887"
                                                ],
                                                [
                                                    0.1111111111111111,
                                                    "#46039f"
                                                ],
                                                [
                                                    0.2222222222222222,
                                                    "#7201a8"
                                                ],
                                                [
                                                    0.3333333333333333,
                                                    "#9c179e"
                                                ],
                                                [
                                                    0.4444444444444444,
                                                    "#bd3786"
                                                ],
                                                [
                                                    0.5555555555555556,
                                                    "#d8576b"
                                                ],
                                                [
                                                    0.6666666666666666,
                                                    "#ed7953"
                                                ],
                                                [
                                                    0.7777777777777778,
                                                    "#fb9f3a"
                                                ],
                                                [
                                                    0.8888888888888888,
                                                    "#fdca26"
                                                ],
                                                [
                                                    1,
                                                    "#f0f921"
                                                ]
                                            ],
                                            "sequentialminus": [
                                                [
                                                    0,
                                                    "#0d0887"
                                                ],
                                                [
                                                    0.1111111111111111,
                                                    "#46039f"
                                                ],
                                                [
                                                    0.2222222222222222,
                                                    "#7201a8"
                                                ],
                                                [
                                                    0.3333333333333333,
                                                    "#9c179e"
                                                ],
                                                [
                                                    0.4444444444444444,
                                                    "#bd3786"
                                                ],
                                                [
                                                    0.5555555555555556,
                                                    "#d8576b"
                                                ],
                                                [
                                                    0.6666666666666666,
                                                    "#ed7953"
                                                ],
                                                [
                                                    0.7777777777777778,
                                                    "#fb9f3a"
                                                ],
                                                [
                                                    0.8888888888888888,
                                                    "#fdca26"
                                                ],
                                                [
                                                    1,
                                                    "#f0f921"
                                                ]
                                            ]
                                        },
                                        "colorway": [
                                            "#636efa",
                                            "#EF553B",
                                            "#00cc96",
                                            "#ab63fa",
                                            "#FFA15A",
                                            "#19d3f3",
                                            "#FF6692",
                                            "#B6E880",
                                            "#FF97FF",
                                            "#FECB52"
                                        ],
                                        "font": {
                                            "color": "#2a3f5f"
                                        },
                                        "geo": {
                                            "bgcolor": "white",
                                            "lakecolor": "white",
                                            "landcolor": "white",
                                            "showlakes": true,
                                            "showland": true,
                                            "subunitcolor": "#C8D4E3"
                                        },
                                        "hoverlabel": {
                                            "align": "left"
                                        },
                                        "hovermode": "closest",
                                        "mapbox": {
                                            "style": "light"
                                        },
                                        "paper_bgcolor": "white",
                                        "plot_bgcolor": "white",
                                        "polar": {
                                            "angularaxis": {
                                                "gridcolor": "#EBF0F8",
                                                "linecolor": "#EBF0F8",
                                                "ticks": ""
                                            },
                                            "bgcolor": "white",
                                            "radialaxis": {
                                                "gridcolor": "#EBF0F8",
                                                "linecolor": "#EBF0F8",
                                                "ticks": ""
                                            }
                                        },
                                        "scene": {
                                            "xaxis": {
                                                "backgroundcolor": "white",
                                                "gridcolor": "#DFE8F3",
                                                "gridwidth": 2,
                                                "linecolor": "#EBF0F8",
                                                "showbackground": true,
                                                "ticks": "",
                                                "zerolinecolor": "#EBF0F8"
                                            },
                                            "yaxis": {
                                                "backgroundcolor": "white",
                                                "gridcolor": "#DFE8F3",
                                                "gridwidth": 2,
                                                "linecolor": "#EBF0F8",
                                                "showbackground": true,
                                                "ticks": "",
                                                "zerolinecolor": "#EBF0F8"
                                            },
                                            "zaxis": {
                                                "backgroundcolor": "white",
                                                "gridcolor": "#DFE8F3",
                                                "gridwidth": 2,
                                                "linecolor": "#EBF0F8",
                                                "showbackground": true,
                                                "ticks": "",
                                                "zerolinecolor": "#EBF0F8"
                                            }
                                        },
                                        "shapedefaults": {
                                            "line": {
                                                "color": "#2a3f5f"
                                            }
                                        },
                                        "ternary": {
                                            "aaxis": {
                                                "gridcolor": "#DFE8F3",
                                                "linecolor": "#A2B1C6",
                                                "ticks": ""
                                            },
                                            "baxis": {
                                                "gridcolor": "#DFE8F3",
                                                "linecolor": "#A2B1C6",
                                                "ticks": ""
                                            },
                                            "bgcolor": "white",
                                            "caxis": {
                                                "gridcolor": "#DFE8F3",
                                                "linecolor": "#A2B1C6",
                                                "ticks": ""
                                            }
                                        },
                                        "title": {
                                            "x": 0.05
                                        },
                                        "xaxis": {
                                            "automargin": true,
                                            "gridcolor": "#EBF0F8",
                                            "linecolor": "#EBF0F8",
                                            "ticks": "",
                                            "title": {
                                                "standoff": 15
                                            },
                                            "zerolinecolor": "#EBF0F8",
                                            "zerolinewidth": 2
                                        },
                                        "yaxis": {
                                            "automargin": true,
                                            "gridcolor": "#EBF0F8",
                                            "linecolor": "#EBF0F8",
                                            "ticks": "",
                                            "title": {
                                                "standoff": 15
                                            },
                                            "zerolinecolor": "#EBF0F8",
                                            "zerolinewidth": 2
                                        }
                                    }
                                },
                                "title": {
                                    "text": "Risk Parity Allocation Pie Chart"
                                }
                            }
                        }
                    },
                    "metadata": {},
                    "output_type": "display_data"
                }
            ],
            "source": [
                "visualizer.plot_risk_allocation_pie()"
            ]
        },
        {
            "cell_type": "markdown",
            "metadata": {},
            "source": [
                "Methods that enable to plot or compute metrics of a portfolio over time are useful in a backtest such as follows:"
            ]
        },
        {
            "cell_type": "markdown",
            "metadata": {},
            "source": [
                "#### Running a backtest : "
            ]
        },
        {
            "cell_type": "code",
            "execution_count": 51,
            "metadata": {},
            "outputs": [
                {
                    "name": "stderr",
                    "output_type": "stream",
                    "text": [
                        "INFO:root:Running backtest from 2005-01-01 00:00:00 to 2020-12-31 00:00:00.\n",
                        "INFO:root:Retrieving price data for universe\n",
                        "WARNING:root:Error computing portfolio, returning equal weight portfolio\n",
                        "WARNING:root:not enough values to unpack (expected 2, got 0)\n",
                        "WARNING:root:Price for GLD not available on 2005-01-01 00:00:00\n",
                        "WARNING:root:Price for SPY not available on 2005-01-01 00:00:00\n",
                        "WARNING:root:Price for TLT not available on 2005-01-01 00:00:00\n",
                        "WARNING:root:Error computing portfolio, returning equal weight portfolio\n",
                        "WARNING:root:not enough values to unpack (expected 2, got 0)\n",
                        "WARNING:root:Price for GLD not available on 2005-01-02 00:00:00\n",
                        "WARNING:root:Price for SPY not available on 2005-01-02 00:00:00\n",
                        "WARNING:root:Price for TLT not available on 2005-01-02 00:00:00\n",
                        "WARNING:root:Error computing portfolio, returning equal weight portfolio\n",
                        "WARNING:root:not enough values to unpack (expected 2, got 0)\n",
                        "WARNING:root:Price for GLD not available on 2005-01-03 00:00:00\n",
                        "WARNING:root:Price for SPY not available on 2005-01-03 00:00:00\n",
                        "WARNING:root:Price for TLT not available on 2005-01-03 00:00:00\n",
                        "/Users/marc/Desktop/anaconda3/envs/pybacktestchain/lib/python3.11/site-packages/pandas/core/frame.py:11211: RuntimeWarning:\n",
                        "\n",
                        "Degrees of freedom <= 0 for slice\n",
                        "\n",
                        "/Users/marc/Desktop/anaconda3/envs/pybacktestchain/lib/python3.11/site-packages/numpy/lib/function_base.py:2748: RuntimeWarning:\n",
                        "\n",
                        "divide by zero encountered in divide\n",
                        "\n",
                        "/Users/marc/Desktop/anaconda3/envs/pybacktestchain/lib/python3.11/site-packages/numpy/lib/function_base.py:2748: RuntimeWarning:\n",
                        "\n",
                        "invalid value encountered in multiply\n",
                        "\n",
                        "WARNING:root:Error computing portfolio, returning equal weight portfolio\n",
                        "WARNING:root:Optimization did not converge\n",
                        "INFO:root:Stop loss triggered for GLD at 2005-01-04 00:00:00. Selling all shares.\n",
                        "INFO:root:Stop loss triggered for TLT at 2005-01-04 00:00:00. Selling all shares.\n",
                        "INFO:root:-----------------------------------\n",
                        "INFO:root:Rebalancing portfolio at 2005-01-31 00:00:00\n",
                        "INFO:root:-----------------------------------\n",
                        "INFO:root:Rebalancing portfolio at 2005-02-28 00:00:00\n",
                        "WARNING:root:Not enough cash to buy 2009 of GLD on 2005-02-28 00:00:00. Needed: 87391.5, Available: 87352.31613922119\n",
                        "INFO:root:Buying as many shares of GLD as possible with available cash.\n",
                        "INFO:root:-----------------------------------\n",
                        "INFO:root:Rebalancing portfolio at 2005-03-31 00:00:00\n",
                        "WARNING:root:Not enough cash to buy 1424 of TLT on 2005-03-31 00:00:00. Needed: 67446.0023803711, Available: 67419.20403289795\n",
                        "INFO:root:Buying as many shares of TLT as possible with available cash.\n",
                        "INFO:root:Stop loss triggered for SPY at 2005-04-16 00:00:00. Selling all shares.\n",
                        "INFO:root:-----------------------------------\n",
                        "INFO:root:Rebalancing portfolio at 2005-04-29 00:00:00\n",
                        "WARNING:root:Not enough cash to buy 1574 of SPY on 2005-04-29 00:00:00. Needed: 123851.15885925293, Available: 123842.40782928467\n",
                        "INFO:root:Buying as many shares of SPY as possible with available cash.\n",
                        "INFO:root:-----------------------------------\n",
                        "INFO:root:Rebalancing portfolio at 2005-05-31 00:00:00\n",
                        "WARNING:root:Not enough cash to buy 1006 of GLD on 2005-05-31 00:00:00. Needed: 42131.281074523926, Available: 42127.0223236084\n",
                        "INFO:root:Buying as many shares of GLD as possible with available cash.\n",
                        "INFO:root:-----------------------------------\n",
                        "INFO:root:Rebalancing portfolio at 2005-06-30 00:00:00\n",
                        "INFO:root:-----------------------------------\n",
                        "INFO:root:Rebalancing portfolio at 2005-07-29 00:00:00\n",
                        "WARNING:root:Not enough cash to buy 1007 of GLD on 2005-07-29 00:00:00. Needed: 43049.25, Available: 43017.733768463135\n",
                        "INFO:root:Buying as many shares of GLD as possible with available cash.\n",
                        "INFO:root:-----------------------------------\n",
                        "INFO:root:Rebalancing portfolio at 2005-08-31 00:00:00\n",
                        "INFO:root:-----------------------------------\n",
                        "INFO:root:Rebalancing portfolio at 2005-09-30 00:00:00\n",
                        "INFO:root:-----------------------------------\n",
                        "INFO:root:Rebalancing portfolio at 2005-10-31 00:00:00\n",
                        "INFO:root:-----------------------------------\n",
                        "INFO:root:Rebalancing portfolio at 2005-11-30 00:00:00\n",
                        "WARNING:root:Not enough cash to buy 1190 of TLT on 2005-11-30 00:00:00. Needed: 59000.42461395264, Available: 58919.39122390747\n",
                        "INFO:root:Buying as many shares of TLT as possible with available cash.\n",
                        "INFO:root:-----------------------------------\n",
                        "INFO:root:Rebalancing portfolio at 2005-12-30 00:00:00\n",
                        "WARNING:root:Not enough cash to buy 1155 of TLT on 2005-12-30 00:00:00. Needed: 59041.735038757324, Available: 59023.105907440186\n",
                        "INFO:root:Buying as many shares of TLT as possible with available cash.\n",
                        "INFO:root:-----------------------------------\n",
                        "INFO:root:Rebalancing portfolio at 2006-01-31 00:00:00\n",
                        "WARNING:root:Not enough cash to buy 1450 of TLT on 2006-01-31 00:00:00. Needed: 72761.67526245117, Available: 72686.8111076355\n",
                        "INFO:root:Buying as many shares of TLT as possible with available cash.\n",
                        "INFO:root:-----------------------------------\n",
                        "INFO:root:Rebalancing portfolio at 2006-02-28 00:00:00\n",
                        "WARNING:root:Not enough cash to buy 571 of TLT on 2006-02-28 00:00:00. Needed: 28907.469646453857, Available: 28833.767498016357\n",
                        "INFO:root:Buying as many shares of TLT as possible with available cash.\n",
                        "INFO:root:-----------------------------------\n",
                        "INFO:root:Rebalancing portfolio at 2006-03-31 00:00:00\n",
                        "WARNING:root:Not enough cash to buy 1647 of TLT on 2006-03-31 00:00:00. Needed: 79992.21982955933, Available: 79932.52631378174\n",
                        "INFO:root:Buying as many shares of TLT as possible with available cash.\n",
                        "INFO:root:-----------------------------------\n",
                        "INFO:root:Rebalancing portfolio at 2006-04-28 00:00:00\n",
                        "INFO:root:-----------------------------------\n",
                        "INFO:root:Rebalancing portfolio at 2006-05-31 00:00:00\n",
                        "WARNING:root:Not enough cash to buy 592 of SPY on 2006-05-31 00:00:00. Needed: 52345.54675292969, Available: 52342.29803466797\n",
                        "INFO:root:Buying as many shares of SPY as possible with available cash.\n",
                        "INFO:root:Stop loss triggered for GLD at 2006-06-14 00:00:00. Selling all shares.\n",
                        "INFO:root:-----------------------------------\n",
                        "INFO:root:Rebalancing portfolio at 2006-06-30 00:00:00\n",
                        "WARNING:root:Not enough cash to buy 3082 of GLD on 2006-06-30 00:00:00. Needed: 183440.64141082764, Available: 183401.6071624756\n",
                        "INFO:root:Buying as many shares of GLD as possible with available cash.\n",
                        "INFO:root:-----------------------------------\n",
                        "INFO:root:Rebalancing portfolio at 2006-07-31 00:00:00\n",
                        "WARNING:root:Not enough cash to buy 95 of SPY on 2006-07-31 00:00:00. Needed: 8562.964363098145, Available: 8540.335834503174\n",
                        "INFO:root:Buying as many shares of SPY as possible with available cash.\n",
                        "INFO:root:-----------------------------------\n",
                        "INFO:root:Rebalancing portfolio at 2006-08-31 00:00:00\n",
                        "WARNING:root:Not enough cash to buy 168 of GLD on 2006-08-31 00:00:00. Needed: 10318.559692382812, Available: 10282.170475006104\n",
                        "INFO:root:Buying as many shares of GLD as possible with available cash.\n",
                        "INFO:root:-----------------------------------\n",
                        "INFO:root:Rebalancing portfolio at 2006-09-29 00:00:00\n",
                        "WARNING:root:Not enough cash to buy 437 of GLD on 2006-09-29 00:00:00. Needed: 26128.23040008545, Available: 26126.933979034424\n",
                        "INFO:root:Buying as many shares of GLD as possible with available cash.\n",
                        "INFO:root:-----------------------------------\n",
                        "INFO:root:Rebalancing portfolio at 2006-10-31 00:00:00\n",
                        "WARNING:root:Not enough cash to buy 9251 of TLT on 2006-10-31 00:00:00. Needed: 473640.19665145874, Available: 473627.1362953186\n",
                        "INFO:root:Buying as many shares of TLT as possible with available cash.\n",
                        "INFO:root:-----------------------------------\n",
                        "INFO:root:Rebalancing portfolio at 2006-11-30 00:00:00\n",
                        "WARNING:root:Not enough cash to buy 600 of GLD on 2006-11-30 00:00:00. Needed: 37895.999908447266, Available: 37842.21655654907\n",
                        "INFO:root:Buying as many shares of GLD as possible with available cash.\n",
                        "INFO:root:-----------------------------------\n",
                        "INFO:root:Rebalancing portfolio at 2006-12-29 00:00:00\n",
                        "WARNING:root:Not enough cash to buy 651 of GLD on 2006-12-29 00:00:00. Needed: 40947.90099334717, Available: 40917.53664398193\n",
                        "INFO:root:Buying as many shares of GLD as possible with available cash.\n",
                        "INFO:root:-----------------------------------\n",
                        "INFO:root:Rebalancing portfolio at 2007-01-31 00:00:00\n",
                        "WARNING:root:Not enough cash to buy 253 of GLD on 2007-01-31 00:00:00. Needed: 16247.66030883789, Available: 16215.33325958252\n",
                        "INFO:root:Buying as many shares of GLD as possible with available cash.\n",
                        "INFO:root:-----------------------------------\n",
                        "INFO:root:Rebalancing portfolio at 2007-02-28 00:00:00\n",
                        "WARNING:root:Not enough cash to buy 35 of SPY on 2007-02-28 00:00:00. Needed: 3473.116874694824, Available: 3465.3552284240723\n",
                        "INFO:root:Buying as many shares of SPY as possible with available cash.\n",
                        "INFO:root:-----------------------------------\n",
                        "INFO:root:Rebalancing portfolio at 2007-03-30 00:00:00\n",
                        "INFO:root:-----------------------------------\n",
                        "INFO:root:Rebalancing portfolio at 2007-04-30 00:00:00\n",
                        "WARNING:root:Not enough cash to buy 769 of TLT on 2007-04-30 00:00:00. Needed: 39687.01974105835, Available: 39612.25494003296\n",
                        "INFO:root:Buying as many shares of TLT as possible with available cash.\n",
                        "INFO:root:-----------------------------------\n",
                        "INFO:root:Rebalancing portfolio at 2007-05-31 00:00:00\n",
                        "WARNING:root:Not enough cash to buy 625 of TLT on 2007-05-31 00:00:00. Needed: 31898.033618927002, Available: 31815.722145080566\n",
                        "INFO:root:Buying as many shares of TLT as possible with available cash.\n",
                        "INFO:root:-----------------------------------\n",
                        "INFO:root:Rebalancing portfolio at 2007-06-29 00:00:00\n",
                        "WARNING:root:Not enough cash to buy 728 of TLT on 2007-06-29 00:00:00. Needed: 36335.31024169922, Available: 36314.37233352661\n",
                        "INFO:root:Buying as many shares of TLT as possible with available cash.\n",
                        "INFO:root:-----------------------------------\n",
                        "INFO:root:Rebalancing portfolio at 2007-07-31 00:00:00\n",
                        "INFO:root:-----------------------------------\n",
                        "INFO:root:Rebalancing portfolio at 2007-08-31 00:00:00\n",
                        "INFO:root:-----------------------------------\n",
                        "INFO:root:Rebalancing portfolio at 2007-09-28 00:00:00\n",
                        "WARNING:root:Not enough cash to buy 231 of SPY on 2007-09-28 00:00:00. Needed: 25484.635459899902, Available: 25474.1608543396\n",
                        "INFO:root:Buying as many shares of SPY as possible with available cash.\n",
                        "INFO:root:-----------------------------------\n",
                        "INFO:root:Rebalancing portfolio at 2007-10-31 00:00:00\n",
                        "WARNING:root:Not enough cash to buy 241 of SPY on 2007-10-31 00:00:00. Needed: 26582.65008544922, Available: 26494.019786834717\n",
                        "INFO:root:Buying as many shares of SPY as possible with available cash.\n",
                        "INFO:root:-----------------------------------\n",
                        "INFO:root:Rebalancing portfolio at 2007-11-30 00:00:00\n",
                        "WARNING:root:Not enough cash to buy 820 of SPY on 2007-11-30 00:00:00. Needed: 86972.55126953125, Available: 86958.41984176636\n",
                        "INFO:root:Buying as many shares of SPY as possible with available cash.\n",
                        "INFO:root:-----------------------------------\n",
                        "INFO:root:Rebalancing portfolio at 2007-12-31 00:00:00\n",
                        "INFO:root:Stop loss triggered for SPY at 2008-01-19 00:00:00. Selling all shares.\n",
                        "INFO:root:-----------------------------------\n",
                        "INFO:root:Rebalancing portfolio at 2008-01-31 00:00:00\n",
                        "INFO:root:-----------------------------------\n",
                        "INFO:root:Rebalancing portfolio at 2008-02-29 00:00:00\n",
                        "WARNING:root:Not enough cash to buy 173 of SPY on 2008-02-29 00:00:00. Needed: 17154.29126739502, Available: 17149.67322921753\n",
                        "INFO:root:Buying as many shares of SPY as possible with available cash.\n",
                        "INFO:root:-----------------------------------\n",
                        "INFO:root:Rebalancing portfolio at 2008-03-31 00:00:00\n",
                        "WARNING:root:Not enough cash to buy 4495 of TLT on 2008-03-31 00:00:00. Needed: 263419.4076156616, Available: 263374.57539749146\n",
                        "INFO:root:Buying as many shares of TLT as possible with available cash.\n",
                        "INFO:root:-----------------------------------\n",
                        "INFO:root:Rebalancing portfolio at 2008-04-30 00:00:00\n",
                        "WARNING:root:Not enough cash to buy 66 of GLD on 2008-04-30 00:00:00. Needed: 5663.4598388671875, Available: 5537.199066162109\n",
                        "INFO:root:Buying as many shares of GLD as possible with available cash.\n",
                        "INFO:root:-----------------------------------\n",
                        "INFO:root:Rebalancing portfolio at 2008-05-30 00:00:00\n",
                        "WARNING:root:Not enough cash to buy 93 of TLT on 2008-05-30 00:00:00. Needed: 5156.171047210693, Available: 5062.939346313477\n",
                        "INFO:root:Buying as many shares of TLT as possible with available cash.\n",
                        "INFO:root:-----------------------------------\n",
                        "INFO:root:Rebalancing portfolio at 2008-06-30 00:00:00\n",
                        "WARNING:root:Not enough cash to buy 287 of TLT on 2008-06-30 00:00:00. Needed: 16438.190383911133, Available: 16392.626949310303\n",
                        "INFO:root:Buying as many shares of TLT as possible with available cash.\n",
                        "INFO:root:-----------------------------------\n",
                        "INFO:root:Rebalancing portfolio at 2008-07-31 00:00:00\n",
                        "WARNING:root:Not enough cash to buy 212 of TLT on 2008-07-31 00:00:00. Needed: 11981.707962036133, Available: 11917.87204360962\n",
                        "INFO:root:Buying as many shares of TLT as possible with available cash.\n",
                        "INFO:root:-----------------------------------\n",
                        "INFO:root:Rebalancing portfolio at 2008-08-29 00:00:00\n",
                        "WARNING:root:Not enough cash to buy 2396 of SPY on 2008-08-29 00:00:00. Needed: 228241.44787597656, Available: 228223.6827735901\n",
                        "INFO:root:Buying as many shares of SPY as possible with available cash.\n",
                        "INFO:root:Stop loss triggered for GLD at 2008-09-10 00:00:00. Selling all shares.\n",
                        "INFO:root:Stop loss triggered for SPY at 2008-09-18 00:00:00. Selling all shares.\n",
                        "INFO:root:-----------------------------------\n",
                        "INFO:root:Rebalancing portfolio at 2008-09-30 00:00:00\n",
                        "INFO:root:Stop loss triggered for SPY at 2008-10-08 00:00:00. Selling all shares.\n",
                        "INFO:root:Stop loss triggered for GLD at 2008-10-17 00:00:00. Selling all shares.\n",
                        "INFO:root:-----------------------------------\n",
                        "INFO:root:Rebalancing portfolio at 2008-10-31 00:00:00\n",
                        "INFO:root:Stop loss triggered for SPY at 2008-11-13 00:00:00. Selling all shares.\n",
                        "INFO:root:-----------------------------------\n",
                        "INFO:root:Rebalancing portfolio at 2008-11-28 00:00:00\n",
                        "WARNING:root:Not enough cash to buy 3934 of SPY on 2008-11-28 00:00:00. Needed: 257581.46531677246, Available: 257522.70740890503\n",
                        "INFO:root:Buying as many shares of SPY as possible with available cash.\n",
                        "INFO:root:-----------------------------------\n",
                        "INFO:root:Rebalancing portfolio at 2008-12-31 00:00:00\n",
                        "WARNING:root:Not enough cash to buy 102 of GLD on 2008-12-31 00:00:00. Needed: 8761.800155639648, Available: 8719.670505523682\n",
                        "INFO:root:Buying as many shares of GLD as possible with available cash.\n",
                        "INFO:root:-----------------------------------\n",
                        "INFO:root:Rebalancing portfolio at 2009-01-30 00:00:00\n",
                        "INFO:root:Stop loss triggered for SPY at 2009-02-24 00:00:00. Selling all shares.\n",
                        "INFO:root:-----------------------------------\n",
                        "INFO:root:Rebalancing portfolio at 2009-02-27 00:00:00\n",
                        "WARNING:root:Not enough cash to buy 4045 of SPY on 2009-02-27 00:00:00. Needed: 226935.83520889282, Available: 226933.9352531433\n",
                        "INFO:root:Buying as many shares of SPY as possible with available cash.\n",
                        "INFO:root:-----------------------------------\n",
                        "INFO:root:Rebalancing portfolio at 2009-03-31 00:00:00\n",
                        "WARNING:root:Not enough cash to buy 350 of GLD on 2009-03-31 00:00:00. Needed: 31493.001174926758, Available: 31492.40172958374\n",
                        "INFO:root:Buying as many shares of GLD as possible with available cash.\n",
                        "INFO:root:-----------------------------------\n",
                        "INFO:root:Rebalancing portfolio at 2009-04-30 00:00:00\n",
                        "INFO:root:-----------------------------------\n",
                        "INFO:root:Rebalancing portfolio at 2009-05-29 00:00:00\n",
                        "WARNING:root:Not enough cash to buy 386 of SPY on 2009-05-29 00:00:00. Needed: 26223.583450317383, Available: 26181.367656707764\n",
                        "INFO:root:Buying as many shares of SPY as possible with available cash.\n",
                        "INFO:root:-----------------------------------\n",
                        "INFO:root:Rebalancing portfolio at 2009-06-30 00:00:00\n",
                        "WARNING:root:Not enough cash to buy 6737 of TLT on 2009-06-30 00:00:00. Needed: 411804.0079269409, Available: 411779.78941726685\n",
                        "INFO:root:Buying as many shares of TLT as possible with available cash.\n",
                        "INFO:root:-----------------------------------\n",
                        "INFO:root:Rebalancing portfolio at 2009-07-31 00:00:00\n",
                        "INFO:root:-----------------------------------\n",
                        "INFO:root:Rebalancing portfolio at 2009-08-31 00:00:00\n",
                        "WARNING:root:Not enough cash to buy 280 of SPY on 2009-08-31 00:00:00. Needed: 21751.346435546875, Available: 21730.96756362915\n",
                        "INFO:root:Buying as many shares of SPY as possible with available cash.\n",
                        "INFO:root:-----------------------------------\n",
                        "INFO:root:Rebalancing portfolio at 2009-09-30 00:00:00\n",
                        "INFO:root:-----------------------------------\n",
                        "INFO:root:Rebalancing portfolio at 2009-10-30 00:00:00\n",
                        "WARNING:root:Not enough cash to buy 974 of TLT on 2009-10-30 00:00:00. Needed: 60103.84111785889, Available: 60076.250354766846\n",
                        "INFO:root:Buying as many shares of TLT as possible with available cash.\n",
                        "INFO:root:-----------------------------------\n",
                        "INFO:root:Rebalancing portfolio at 2009-11-30 00:00:00\n",
                        "INFO:root:-----------------------------------\n",
                        "INFO:root:Rebalancing portfolio at 2009-12-31 00:00:00\n",
                        "WARNING:root:Not enough cash to buy 2712 of SPY on 2009-12-31 00:00:00. Needed: 231636.21295166016, Available: 231618.29457092285\n",
                        "INFO:root:Buying as many shares of SPY as possible with available cash.\n",
                        "INFO:root:-----------------------------------\n",
                        "INFO:root:Rebalancing portfolio at 2010-01-29 00:00:00\n",
                        "INFO:root:-----------------------------------\n",
                        "INFO:root:Rebalancing portfolio at 2010-02-26 00:00:00\n",
                        "INFO:root:-----------------------------------\n",
                        "INFO:root:Rebalancing portfolio at 2010-03-31 00:00:00\n",
                        "INFO:root:-----------------------------------\n",
                        "INFO:root:Rebalancing portfolio at 2010-04-30 00:00:00\n",
                        "WARNING:root:Not enough cash to buy 11755 of TLT on 2010-04-30 00:00:00. Needed: 714200.3283119202, Available: 714136.3116111755\n",
                        "INFO:root:Buying as many shares of TLT as possible with available cash.\n",
                        "INFO:root:-----------------------------------\n",
                        "INFO:root:Rebalancing portfolio at 2010-05-31 00:00:00\n",
                        "INFO:root:-----------------------------------\n",
                        "INFO:root:Rebalancing portfolio at 2010-06-30 00:00:00\n",
                        "WARNING:root:Not enough cash to buy 953 of SPY on 2010-06-30 00:00:00. Needed: 76056.36834716797, Available: 75933.71897125244\n",
                        "INFO:root:Buying as many shares of SPY as possible with available cash.\n",
                        "INFO:root:-----------------------------------\n",
                        "INFO:root:Rebalancing portfolio at 2010-07-30 00:00:00\n",
                        "INFO:root:-----------------------------------\n",
                        "INFO:root:Rebalancing portfolio at 2010-08-31 00:00:00\n",
                        "INFO:root:-----------------------------------\n",
                        "INFO:root:Rebalancing portfolio at 2010-09-30 00:00:00\n",
                        "INFO:root:-----------------------------------\n",
                        "INFO:root:Rebalancing portfolio at 2010-10-29 00:00:00\n",
                        "INFO:root:-----------------------------------\n",
                        "INFO:root:Rebalancing portfolio at 2010-11-30 00:00:00\n",
                        "INFO:root:-----------------------------------\n",
                        "INFO:root:Rebalancing portfolio at 2010-12-31 00:00:00\n",
                        "WARNING:root:Not enough cash to buy 1651 of TLT on 2010-12-31 00:00:00. Needed: 105635.36269760132, Available: 105532.84062194824\n",
                        "INFO:root:Buying as many shares of TLT as possible with available cash.\n",
                        "INFO:root:-----------------------------------\n",
                        "INFO:root:Rebalancing portfolio at 2011-01-31 00:00:00\n",
                        "INFO:root:-----------------------------------\n",
                        "INFO:root:Rebalancing portfolio at 2011-02-28 00:00:00\n",
                        "WARNING:root:Not enough cash to buy 1087 of TLT on 2011-02-28 00:00:00. Needed: 69186.69331741333, Available: 69162.10147094727\n",
                        "INFO:root:Buying as many shares of TLT as possible with available cash.\n",
                        "INFO:root:-----------------------------------\n",
                        "INFO:root:Rebalancing portfolio at 2011-03-31 00:00:00\n",
                        "WARNING:root:Not enough cash to buy 1083 of TLT on 2011-03-31 00:00:00. Needed: 69184.35469436646, Available: 69129.58915710449\n",
                        "INFO:root:Buying as many shares of TLT as possible with available cash.\n",
                        "INFO:root:-----------------------------------\n",
                        "INFO:root:Rebalancing portfolio at 2011-04-29 00:00:00\n",
                        "INFO:root:-----------------------------------\n",
                        "INFO:root:Rebalancing portfolio at 2011-05-31 00:00:00\n",
                        "WARNING:root:Not enough cash to buy 124 of SPY on 2011-05-31 00:00:00. Needed: 12869.101104736328, Available: 12842.742561340332\n",
                        "INFO:root:Buying as many shares of SPY as possible with available cash.\n",
                        "INFO:root:-----------------------------------\n",
                        "INFO:root:Rebalancing portfolio at 2011-06-30 00:00:00\n",
                        "INFO:root:-----------------------------------\n",
                        "INFO:root:Rebalancing portfolio at 2011-07-29 00:00:00\n",
                        "INFO:root:Stop loss triggered for SPY at 2011-08-09 00:00:00. Selling all shares.\n",
                        "INFO:root:-----------------------------------\n",
                        "INFO:root:Rebalancing portfolio at 2011-08-31 00:00:00\n",
                        "WARNING:root:Not enough cash to buy 7979 of TLT on 2011-08-31 00:00:00. Needed: 611626.5218887329, Available: 611609.3952560425\n",
                        "INFO:root:Buying as many shares of TLT as possible with available cash.\n",
                        "INFO:root:-----------------------------------\n",
                        "INFO:root:Rebalancing portfolio at 2011-09-30 00:00:00\n",
                        "INFO:root:-----------------------------------\n",
                        "INFO:root:Rebalancing portfolio at 2011-10-31 00:00:00\n",
                        "INFO:root:-----------------------------------\n",
                        "INFO:root:Rebalancing portfolio at 2011-11-30 00:00:00\n",
                        "WARNING:root:Not enough cash to buy 357 of GLD on 2011-11-30 00:00:00. Needed: 59576.16174316406, Available: 59547.284187316895\n",
                        "INFO:root:Buying as many shares of GLD as possible with available cash.\n",
                        "INFO:root:-----------------------------------\n",
                        "INFO:root:Rebalancing portfolio at 2011-12-30 00:00:00\n",
                        "INFO:root:-----------------------------------\n",
                        "INFO:root:Rebalancing portfolio at 2012-01-31 00:00:00\n",
                        "INFO:root:-----------------------------------\n",
                        "INFO:root:Rebalancing portfolio at 2012-02-29 00:00:00\n",
                        "WARNING:root:Not enough cash to buy 7064 of SPY on 2012-02-29 00:00:00. Needed: 767873.9167480469, Available: 767840.5881500244\n",
                        "INFO:root:Buying as many shares of SPY as possible with available cash.\n",
                        "INFO:root:-----------------------------------\n",
                        "INFO:root:Rebalancing portfolio at 2012-03-30 00:00:00\n",
                        "INFO:root:-----------------------------------\n",
                        "INFO:root:Rebalancing portfolio at 2012-04-30 00:00:00\n",
                        "WARNING:root:Not enough cash to buy 321 of TLT on 2012-04-30 00:00:00. Needed: 27113.535667419434, Available: 27088.331146240234\n",
                        "INFO:root:Buying as many shares of TLT as possible with available cash.\n",
                        "INFO:root:-----------------------------------\n",
                        "INFO:root:Rebalancing portfolio at 2012-05-31 00:00:00\n",
                        "WARNING:root:Not enough cash to buy 371 of GLD on 2012-05-31 00:00:00. Needed: 56358.61135864258, Available: 56223.37889099121\n",
                        "INFO:root:Buying as many shares of GLD as possible with available cash.\n",
                        "INFO:root:-----------------------------------\n",
                        "INFO:root:Rebalancing portfolio at 2012-06-29 00:00:00\n",
                        "INFO:root:-----------------------------------\n",
                        "INFO:root:Rebalancing portfolio at 2012-07-31 00:00:00\n",
                        "INFO:root:-----------------------------------\n",
                        "INFO:root:Rebalancing portfolio at 2012-08-31 00:00:00\n",
                        "WARNING:root:Not enough cash to buy 285 of TLT on 2012-08-31 00:00:00. Needed: 26074.91901397705, Available: 26012.083724975586\n",
                        "INFO:root:Buying as many shares of TLT as possible with available cash.\n",
                        "INFO:root:-----------------------------------\n",
                        "INFO:root:Rebalancing portfolio at 2012-09-28 00:00:00\n",
                        "WARNING:root:Not enough cash to buy 357 of TLT on 2012-09-28 00:00:00. Needed: 32266.753944396973, Available: 32222.768020629883\n",
                        "INFO:root:Buying as many shares of TLT as possible with available cash.\n",
                        "INFO:root:-----------------------------------\n",
                        "INFO:root:Rebalancing portfolio at 2012-10-31 00:00:00\n",
                        "INFO:root:-----------------------------------\n",
                        "INFO:root:Rebalancing portfolio at 2012-11-30 00:00:00\n",
                        "WARNING:root:Not enough cash to buy 435 of SPY on 2012-11-30 00:00:00. Needed: 49584.6667098999, Available: 49472.36711883545\n",
                        "INFO:root:Buying as many shares of SPY as possible with available cash.\n",
                        "INFO:root:-----------------------------------\n",
                        "INFO:root:Rebalancing portfolio at 2012-12-31 00:00:00\n",
                        "WARNING:root:Not enough cash to buy 397 of SPY on 2012-12-31 00:00:00. Needed: 44903.8766784668, Available: 44835.883712768555\n",
                        "INFO:root:Buying as many shares of SPY as possible with available cash.\n",
                        "INFO:root:-----------------------------------\n",
                        "INFO:root:Rebalancing portfolio at 2013-01-31 00:00:00\n",
                        "WARNING:root:Not enough cash to buy 595 of TLT on 2013-01-31 00:00:00. Needed: 50890.00881195068, Available: 50742.81783294678\n",
                        "INFO:root:Buying as many shares of TLT as possible with available cash.\n",
                        "INFO:root:-----------------------------------\n",
                        "INFO:root:Rebalancing portfolio at 2013-02-28 00:00:00\n",
                        "WARNING:root:Not enough cash to buy 209 of TLT on 2013-02-28 00:00:00. Needed: 18151.67041015625, Available: 18077.08366394043\n",
                        "INFO:root:Buying as many shares of TLT as possible with available cash.\n",
                        "INFO:root:-----------------------------------\n",
                        "INFO:root:Rebalancing portfolio at 2013-03-29 00:00:00\n",
                        "WARNING:root:Not enough cash to buy 1115 of TLT on 2013-03-29 00:00:00. Needed: 96611.04274749756, Available: 96423.88033294678\n",
                        "INFO:root:Buying as many shares of TLT as possible with available cash.\n",
                        "INFO:root:Stop loss triggered for GLD at 2013-04-16 00:00:00. Selling all shares.\n",
                        "INFO:root:-----------------------------------\n",
                        "INFO:root:Rebalancing portfolio at 2013-04-30 00:00:00\n",
                        "INFO:root:-----------------------------------\n",
                        "INFO:root:Rebalancing portfolio at 2013-05-31 00:00:00\n",
                        "INFO:root:Stop loss triggered for GLD at 2013-06-21 00:00:00. Selling all shares.\n",
                        "INFO:root:-----------------------------------\n",
                        "INFO:root:Rebalancing portfolio at 2013-06-28 00:00:00\n",
                        "INFO:root:-----------------------------------\n",
                        "INFO:root:Rebalancing portfolio at 2013-07-31 00:00:00\n",
                        "INFO:root:-----------------------------------\n",
                        "INFO:root:Rebalancing portfolio at 2013-08-30 00:00:00\n",
                        "INFO:root:-----------------------------------\n",
                        "INFO:root:Rebalancing portfolio at 2013-09-30 00:00:00\n",
                        "INFO:root:-----------------------------------\n",
                        "INFO:root:Rebalancing portfolio at 2013-10-31 00:00:00\n",
                        "WARNING:root:Not enough cash to buy 107 of GLD on 2013-10-31 00:00:00. Needed: 13867.200653076172, Available: 13803.326644897461\n",
                        "INFO:root:Buying as many shares of GLD as possible with available cash.\n",
                        "INFO:root:-----------------------------------\n",
                        "INFO:root:Rebalancing portfolio at 2013-11-29 00:00:00\n",
                        "WARNING:root:Not enough cash to buy 139 of GLD on 2013-11-29 00:00:00. Needed: 16604.9398727417, Available: 16595.061164855957\n",
                        "INFO:root:Buying as many shares of GLD as possible with available cash.\n",
                        "INFO:root:-----------------------------------\n",
                        "INFO:root:Rebalancing portfolio at 2013-12-31 00:00:00\n",
                        "INFO:root:-----------------------------------\n",
                        "INFO:root:Rebalancing portfolio at 2014-01-31 00:00:00\n",
                        "WARNING:root:Not enough cash to buy 218 of GLD on 2014-01-31 00:00:00. Needed: 26109.859268188477, Available: 26073.62119293213\n",
                        "INFO:root:Buying as many shares of GLD as possible with available cash.\n",
                        "INFO:root:-----------------------------------\n",
                        "INFO:root:Rebalancing portfolio at 2014-02-28 00:00:00\n",
                        "WARNING:root:Not enough cash to buy 3422 of SPY on 2014-02-28 00:00:00. Needed: 523995.2120361328, Available: 523926.3758468628\n",
                        "INFO:root:Buying as many shares of SPY as possible with available cash.\n",
                        "INFO:root:-----------------------------------\n",
                        "INFO:root:Rebalancing portfolio at 2014-03-31 00:00:00\n",
                        "INFO:root:-----------------------------------\n",
                        "INFO:root:Rebalancing portfolio at 2014-04-30 00:00:00\n",
                        "INFO:root:-----------------------------------\n",
                        "INFO:root:Rebalancing portfolio at 2014-05-30 00:00:00\n",
                        "WARNING:root:Not enough cash to buy 868 of GLD on 2014-05-30 00:00:00. Needed: 104975.92211914062, Available: 104911.69017028809\n",
                        "INFO:root:Buying as many shares of GLD as possible with available cash.\n",
                        "INFO:root:-----------------------------------\n",
                        "INFO:root:Rebalancing portfolio at 2014-06-30 00:00:00\n",
                        "WARNING:root:Not enough cash to buy 585 of GLD on 2014-06-30 00:00:00. Needed: 74096.10214233398, Available: 73998.00534820557\n",
                        "INFO:root:Buying as many shares of GLD as possible with available cash.\n",
                        "INFO:root:-----------------------------------\n",
                        "INFO:root:Rebalancing portfolio at 2014-07-31 00:00:00\n",
                        "WARNING:root:Not enough cash to buy 456 of GLD on 2014-07-31 00:00:00. Needed: 56922.48083496094, Available: 56728.58841705322\n",
                        "INFO:root:Buying as many shares of GLD as possible with available cash.\n",
                        "INFO:root:-----------------------------------\n",
                        "INFO:root:Rebalancing portfolio at 2014-08-29 00:00:00\n",
                        "WARNING:root:Not enough cash to buy 460 of GLD on 2014-08-29 00:00:00. Needed: 57040.0, Available: 56995.04782867432\n",
                        "INFO:root:Buying as many shares of GLD as possible with available cash.\n",
                        "INFO:root:-----------------------------------\n",
                        "INFO:root:Rebalancing portfolio at 2014-09-30 00:00:00\n",
                        "WARNING:root:Not enough cash to buy 159 of GLD on 2014-09-30 00:00:00. Needed: 18607.769805908203, Available: 18526.079124450684\n",
                        "INFO:root:Buying as many shares of GLD as possible with available cash.\n",
                        "INFO:root:-----------------------------------\n",
                        "INFO:root:Rebalancing portfolio at 2014-10-31 00:00:00\n",
                        "INFO:root:-----------------------------------\n",
                        "INFO:root:Rebalancing portfolio at 2014-11-28 00:00:00\n",
                        "WARNING:root:Not enough cash to buy 82 of TLT on 2014-11-28 00:00:00. Needed: 7713.241989135742, Available: 7652.503433227539\n",
                        "INFO:root:Buying as many shares of TLT as possible with available cash.\n",
                        "INFO:root:-----------------------------------\n",
                        "INFO:root:Rebalancing portfolio at 2014-12-31 00:00:00\n",
                        "WARNING:root:Not enough cash to buy 348 of GLD on 2014-12-31 00:00:00. Needed: 40089.59893798828, Available: 40082.531257629395\n",
                        "INFO:root:Buying as many shares of GLD as possible with available cash.\n",
                        "INFO:root:-----------------------------------\n",
                        "INFO:root:Rebalancing portfolio at 2015-01-30 00:00:00\n",
                        "INFO:root:-----------------------------------\n",
                        "INFO:root:Rebalancing portfolio at 2015-02-27 00:00:00\n",
                        "INFO:root:-----------------------------------\n",
                        "INFO:root:Rebalancing portfolio at 2015-03-31 00:00:00\n",
                        "INFO:root:-----------------------------------\n",
                        "INFO:root:Rebalancing portfolio at 2015-04-30 00:00:00\n",
                        "INFO:root:-----------------------------------\n",
                        "INFO:root:Rebalancing portfolio at 2015-05-29 00:00:00\n",
                        "INFO:root:-----------------------------------\n",
                        "INFO:root:Rebalancing portfolio at 2015-06-30 00:00:00\n",
                        "INFO:root:-----------------------------------\n",
                        "INFO:root:Rebalancing portfolio at 2015-07-31 00:00:00\n",
                        "WARNING:root:Not enough cash to buy 100 of SPY on 2015-07-31 00:00:00. Needed: 17877.732849121094, Available: 17790.944511413574\n",
                        "INFO:root:Buying as many shares of SPY as possible with available cash.\n",
                        "INFO:root:Stop loss triggered for SPY at 2015-08-25 00:00:00. Selling all shares.\n",
                        "INFO:root:-----------------------------------\n",
                        "INFO:root:Rebalancing portfolio at 2015-08-31 00:00:00\n",
                        "WARNING:root:Not enough cash to buy 445 of TLT on 2015-08-31 00:00:00. Needed: 42953.63586425781, Available: 42875.58493804932\n",
                        "INFO:root:Buying as many shares of TLT as possible with available cash.\n",
                        "INFO:root:-----------------------------------\n",
                        "INFO:root:Rebalancing portfolio at 2015-09-30 00:00:00\n",
                        "INFO:root:-----------------------------------\n",
                        "INFO:root:Rebalancing portfolio at 2015-10-30 00:00:00\n",
                        "INFO:root:Stop loss triggered for GLD at 2015-11-18 00:00:00. Selling all shares.\n",
                        "INFO:root:-----------------------------------\n",
                        "INFO:root:Rebalancing portfolio at 2015-11-30 00:00:00\n",
                        "INFO:root:-----------------------------------\n",
                        "INFO:root:Rebalancing portfolio at 2015-12-31 00:00:00\n",
                        "INFO:root:-----------------------------------\n",
                        "INFO:root:Rebalancing portfolio at 2016-01-29 00:00:00\n",
                        "INFO:root:Stop loss triggered for SPY at 2016-02-11 00:00:00. Selling all shares.\n",
                        "INFO:root:-----------------------------------\n",
                        "INFO:root:Rebalancing portfolio at 2016-02-29 00:00:00\n",
                        "WARNING:root:Not enough cash to buy 2409 of SPY on 2016-02-29 00:00:00. Needed: 402996.66819763184, Available: 402878.9951095581\n",
                        "INFO:root:Buying as many shares of SPY as possible with available cash.\n",
                        "INFO:root:-----------------------------------\n",
                        "INFO:root:Rebalancing portfolio at 2016-03-31 00:00:00\n",
                        "WARNING:root:Not enough cash to buy 14 of TLT on 2016-03-31 00:00:00. Needed: 1453.110855102539, Available: 1372.0783233642578\n",
                        "INFO:root:Buying as many shares of TLT as possible with available cash.\n",
                        "INFO:root:-----------------------------------\n",
                        "INFO:root:Rebalancing portfolio at 2016-04-29 00:00:00\n",
                        "INFO:root:-----------------------------------\n",
                        "INFO:root:Rebalancing portfolio at 2016-05-31 00:00:00\n",
                        "INFO:root:-----------------------------------\n",
                        "INFO:root:Rebalancing portfolio at 2016-06-30 00:00:00\n",
                        "WARNING:root:Not enough cash to buy 226 of SPY on 2016-06-30 00:00:00. Needed: 40465.1696472168, Available: 40344.226722717285\n",
                        "INFO:root:Buying as many shares of SPY as possible with available cash.\n",
                        "INFO:root:-----------------------------------\n",
                        "INFO:root:Rebalancing portfolio at 2016-07-29 00:00:00\n",
                        "WARNING:root:Not enough cash to buy 215 of GLD on 2016-07-29 00:00:00. Needed: 27446.900787353516, Available: 27340.49227142334\n",
                        "INFO:root:Buying as many shares of GLD as possible with available cash.\n",
                        "INFO:root:-----------------------------------\n",
                        "INFO:root:Rebalancing portfolio at 2016-08-31 00:00:00\n",
                        "INFO:root:-----------------------------------\n",
                        "INFO:root:Rebalancing portfolio at 2016-09-30 00:00:00\n",
                        "INFO:root:-----------------------------------\n",
                        "INFO:root:Rebalancing portfolio at 2016-10-31 00:00:00\n",
                        "INFO:root:-----------------------------------\n",
                        "INFO:root:Rebalancing portfolio at 2016-11-30 00:00:00\n",
                        "WARNING:root:Not enough cash to buy 520 of TLT on 2016-11-30 00:00:00. Needed: 51649.05792236328, Available: 51566.43663787842\n",
                        "INFO:root:Buying as many shares of TLT as possible with available cash.\n",
                        "INFO:root:-----------------------------------\n",
                        "INFO:root:Rebalancing portfolio at 2016-12-30 00:00:00\n",
                        "WARNING:root:Not enough cash to buy 286 of GLD on 2016-12-30 00:00:00. Needed: 31542.94026184082, Available: 31455.20100402832\n",
                        "INFO:root:Buying as many shares of GLD as possible with available cash.\n",
                        "INFO:root:-----------------------------------\n",
                        "INFO:root:Rebalancing portfolio at 2017-01-31 00:00:00\n",
                        "INFO:root:-----------------------------------\n",
                        "INFO:root:Rebalancing portfolio at 2017-02-28 00:00:00\n",
                        "INFO:root:-----------------------------------\n",
                        "INFO:root:Rebalancing portfolio at 2017-03-31 00:00:00\n",
                        "WARNING:root:Not enough cash to buy 350 of TLT on 2017-03-31 00:00:00. Needed: 34534.59014892578, Available: 34440.455307006836\n",
                        "INFO:root:Buying as many shares of TLT as possible with available cash.\n",
                        "INFO:root:-----------------------------------\n",
                        "INFO:root:Rebalancing portfolio at 2017-04-28 00:00:00\n",
                        "WARNING:root:Not enough cash to buy 253 of TLT on 2017-04-28 00:00:00. Needed: 25373.924209594727, Available: 25298.53938293457\n",
                        "INFO:root:Buying as many shares of TLT as possible with available cash.\n",
                        "INFO:root:-----------------------------------\n",
                        "INFO:root:Rebalancing portfolio at 2017-05-31 00:00:00\n",
                        "INFO:root:-----------------------------------\n",
                        "INFO:root:Rebalancing portfolio at 2017-06-30 00:00:00\n",
                        "WARNING:root:Not enough cash to buy 472 of GLD on 2017-06-30 00:00:00. Needed: 55847.03985595703, Available: 55669.4647064209\n",
                        "INFO:root:Buying as many shares of GLD as possible with available cash.\n",
                        "INFO:root:-----------------------------------\n",
                        "INFO:root:Rebalancing portfolio at 2017-07-31 00:00:00\n",
                        "INFO:root:-----------------------------------\n",
                        "INFO:root:Rebalancing portfolio at 2017-08-31 00:00:00\n",
                        "INFO:root:-----------------------------------\n",
                        "INFO:root:Rebalancing portfolio at 2017-09-29 00:00:00\n",
                        "INFO:root:-----------------------------------\n",
                        "INFO:root:Rebalancing portfolio at 2017-10-31 00:00:00\n",
                        "INFO:root:-----------------------------------\n",
                        "INFO:root:Rebalancing portfolio at 2017-11-30 00:00:00\n",
                        "WARNING:root:Not enough cash to buy 180 of GLD on 2017-11-30 00:00:00. Needed: 21967.200164794922, Available: 21932.510047912598\n",
                        "INFO:root:Buying as many shares of GLD as possible with available cash.\n",
                        "INFO:root:-----------------------------------\n",
                        "INFO:root:Rebalancing portfolio at 2017-12-29 00:00:00\n",
                        "WARNING:root:Not enough cash to buy 959 of GLD on 2017-12-29 00:00:00. Needed: 117813.14853668213, Available: 117741.0046081543\n",
                        "INFO:root:Buying as many shares of GLD as possible with available cash.\n",
                        "INFO:root:-----------------------------------\n",
                        "INFO:root:Rebalancing portfolio at 2018-01-31 00:00:00\n",
                        "WARNING:root:Not enough cash to buy 893 of TLT on 2018-01-31 00:00:00. Needed: 91206.90437316895, Available: 90975.41256713867\n",
                        "INFO:root:Buying as many shares of TLT as possible with available cash.\n",
                        "INFO:root:-----------------------------------\n",
                        "INFO:root:Rebalancing portfolio at 2018-02-28 00:00:00\n",
                        "WARNING:root:Not enough cash to buy 965 of TLT on 2018-02-28 00:00:00. Needed: 95519.84825134277, Available: 95278.06687164307\n",
                        "INFO:root:Buying as many shares of TLT as possible with available cash.\n",
                        "INFO:root:-----------------------------------\n",
                        "INFO:root:Rebalancing portfolio at 2018-03-30 00:00:00\n",
                        "WARNING:root:Not enough cash to buy 820 of TLT on 2018-03-30 00:00:00. Needed: 84018.82583618164, Available: 83945.7823562622\n",
                        "INFO:root:Buying as many shares of TLT as possible with available cash.\n",
                        "INFO:root:-----------------------------------\n",
                        "INFO:root:Rebalancing portfolio at 2018-04-30 00:00:00\n",
                        "WARNING:root:Not enough cash to buy 604 of TLT on 2018-04-30 00:00:00. Needed: 60487.92819213867, Available: 60437.78550720215\n",
                        "INFO:root:Buying as many shares of TLT as possible with available cash.\n",
                        "INFO:root:-----------------------------------\n",
                        "INFO:root:Rebalancing portfolio at 2018-05-31 00:00:00\n",
                        "INFO:root:-----------------------------------\n",
                        "INFO:root:Rebalancing portfolio at 2018-06-29 00:00:00\n",
                        "WARNING:root:Not enough cash to buy 117 of GLD on 2018-06-29 00:00:00. Needed: 13831.740142822266, Available: 13741.765182495117\n",
                        "INFO:root:Buying as many shares of GLD as possible with available cash.\n",
                        "INFO:root:-----------------------------------\n",
                        "INFO:root:Rebalancing portfolio at 2018-07-31 00:00:00\n",
                        "INFO:root:-----------------------------------\n",
                        "INFO:root:Rebalancing portfolio at 2018-08-31 00:00:00\n",
                        "INFO:root:-----------------------------------\n",
                        "INFO:root:Rebalancing portfolio at 2018-09-28 00:00:00\n",
                        "INFO:root:-----------------------------------\n",
                        "INFO:root:Rebalancing portfolio at 2018-10-31 00:00:00\n",
                        "INFO:root:-----------------------------------\n",
                        "INFO:root:Rebalancing portfolio at 2018-11-30 00:00:00\n",
                        "INFO:root:Stop loss triggered for SPY at 2018-12-22 00:00:00. Selling all shares.\n",
                        "INFO:root:-----------------------------------\n",
                        "INFO:root:Rebalancing portfolio at 2018-12-31 00:00:00\n",
                        "INFO:root:-----------------------------------\n",
                        "INFO:root:Rebalancing portfolio at 2019-01-31 00:00:00\n",
                        "WARNING:root:Not enough cash to buy 3 of TLT on 2019-01-31 00:00:00. Needed: 311.9546356201172, Available: 203.5849151611328\n",
                        "INFO:root:Buying as many shares of TLT as possible with available cash.\n",
                        "INFO:root:-----------------------------------\n",
                        "INFO:root:Rebalancing portfolio at 2019-02-28 00:00:00\n",
                        "WARNING:root:Not enough cash to buy 24 of SPY on 2019-02-28 00:00:00. Needed: 6097.0235595703125, Available: 6038.03475189209\n",
                        "INFO:root:Buying as many shares of SPY as possible with available cash.\n",
                        "INFO:root:-----------------------------------\n",
                        "INFO:root:Rebalancing portfolio at 2019-03-29 00:00:00\n",
                        "INFO:root:-----------------------------------\n",
                        "INFO:root:Rebalancing portfolio at 2019-04-30 00:00:00\n",
                        "WARNING:root:Not enough cash to buy 509 of GLD on 2019-04-30 00:00:00. Needed: 61502.470932006836, Available: 61245.7975769043\n",
                        "INFO:root:Buying as many shares of GLD as possible with available cash.\n",
                        "INFO:root:-----------------------------------\n",
                        "INFO:root:Rebalancing portfolio at 2019-05-31 00:00:00\n",
                        "INFO:root:-----------------------------------\n",
                        "INFO:root:Rebalancing portfolio at 2019-06-28 00:00:00\n",
                        "WARNING:root:Not enough cash to buy 168 of SPY on 2019-06-28 00:00:00. Needed: 44973.31494140625, Available: 44908.39228057861\n",
                        "INFO:root:Buying as many shares of SPY as possible with available cash.\n",
                        "INFO:root:-----------------------------------\n",
                        "INFO:root:Rebalancing portfolio at 2019-07-31 00:00:00\n",
                        "WARNING:root:Not enough cash to buy 585 of TLT on 2019-07-31 00:00:00. Needed: 67160.05039215088, Available: 66944.94858551025\n",
                        "INFO:root:Buying as many shares of TLT as possible with available cash.\n",
                        "INFO:root:-----------------------------------\n",
                        "INFO:root:Rebalancing portfolio at 2019-08-30 00:00:00\n",
                        "WARNING:root:Not enough cash to buy 494 of SPY on 2019-08-30 00:00:00. Needed: 132732.93658447266, Available: 132665.9049835205\n",
                        "INFO:root:Buying as many shares of SPY as possible with available cash.\n",
                        "INFO:root:-----------------------------------\n",
                        "INFO:root:Rebalancing portfolio at 2019-09-30 00:00:00\n",
                        "WARNING:root:Not enough cash to buy 105 of TLT on 2019-09-30 00:00:00. Needed: 13100.1607131958, Available: 13007.941268920898\n",
                        "INFO:root:Buying as many shares of TLT as possible with available cash.\n",
                        "INFO:root:-----------------------------------\n",
                        "INFO:root:Rebalancing portfolio at 2019-10-31 00:00:00\n",
                        "WARNING:root:Not enough cash to buy 226 of TLT on 2019-10-31 00:00:00. Needed: 27578.965942382812, Available: 27554.066818237305\n",
                        "INFO:root:Buying as many shares of TLT as possible with available cash.\n",
                        "INFO:root:-----------------------------------\n",
                        "INFO:root:Rebalancing portfolio at 2019-11-29 00:00:00\n",
                        "INFO:root:-----------------------------------\n",
                        "INFO:root:Rebalancing portfolio at 2019-12-31 00:00:00\n",
                        "INFO:root:-----------------------------------\n",
                        "INFO:root:Rebalancing portfolio at 2020-01-31 00:00:00\n",
                        "WARNING:root:Not enough cash to buy 418 of TLT on 2020-01-31 00:00:00. Needed: 53187.93278503418, Available: 53065.12914276123\n",
                        "INFO:root:Buying as many shares of TLT as possible with available cash.\n",
                        "INFO:root:-----------------------------------\n",
                        "INFO:root:Rebalancing portfolio at 2020-02-28 00:00:00\n",
                        "INFO:root:Stop loss triggered for SPY at 2020-03-13 00:00:00. Selling all shares.\n",
                        "INFO:root:-----------------------------------\n",
                        "INFO:root:Rebalancing portfolio at 2020-03-31 00:00:00\n",
                        "WARNING:root:Not enough cash to buy 1981 of SPY on 2020-03-31 00:00:00. Needed: 483380.98794555664, Available: 483359.590133667\n",
                        "INFO:root:Buying as many shares of SPY as possible with available cash.\n",
                        "INFO:root:-----------------------------------\n",
                        "INFO:root:Rebalancing portfolio at 2020-04-30 00:00:00\n",
                        "INFO:root:-----------------------------------\n",
                        "INFO:root:Rebalancing portfolio at 2020-05-29 00:00:00\n",
                        "WARNING:root:Not enough cash to buy 52 of SPY on 2020-05-29 00:00:00. Needed: 14692.21533203125, Available: 14689.931579589844\n",
                        "INFO:root:Buying as many shares of SPY as possible with available cash.\n",
                        "INFO:root:-----------------------------------\n",
                        "INFO:root:Rebalancing portfolio at 2020-06-30 00:00:00\n",
                        "INFO:root:-----------------------------------\n",
                        "INFO:root:Rebalancing portfolio at 2020-07-31 00:00:00\n",
                        "WARNING:root:Not enough cash to buy 561 of TLT on 2020-07-31 00:00:00. Needed: 85189.40281677246, Available: 85017.39865112305\n",
                        "INFO:root:Buying as many shares of TLT as possible with available cash.\n",
                        "INFO:root:-----------------------------------\n",
                        "INFO:root:Rebalancing portfolio at 2020-08-31 00:00:00\n",
                        "WARNING:root:Not enough cash to buy 989 of TLT on 2020-08-31 00:00:00. Needed: 141571.5108642578, Available: 141390.2548828125\n",
                        "INFO:root:Buying as many shares of TLT as possible with available cash.\n",
                        "INFO:root:-----------------------------------\n",
                        "INFO:root:Rebalancing portfolio at 2020-09-30 00:00:00\n",
                        "WARNING:root:Not enough cash to buy 124 of TLT on 2020-09-30 00:00:00. Needed: 18180.45556640625, Available: 18079.08428955078\n",
                        "INFO:root:Buying as many shares of TLT as possible with available cash.\n",
                        "INFO:root:-----------------------------------\n",
                        "INFO:root:Rebalancing portfolio at 2020-10-30 00:00:00\n",
                        "WARNING:root:Not enough cash to buy 576 of TLT on 2020-10-30 00:00:00. Needed: 81615.4013671875, Available: 81430.81341552734\n",
                        "INFO:root:Buying as many shares of TLT as possible with available cash.\n",
                        "INFO:root:-----------------------------------\n",
                        "INFO:root:Rebalancing portfolio at 2020-11-30 00:00:00\n",
                        "INFO:root:-----------------------------------\n",
                        "INFO:root:Rebalancing portfolio at 2020-12-31 00:00:00\n",
                        "WARNING:root:Not enough cash to buy 1206 of TLT on 2020-12-31 00:00:00. Needed: 169652.2502746582, Available: 169301.13845825195\n",
                        "INFO:root:Buying as many shares of TLT as possible with available cash.\n"
                    ]
                },
                {
                    "data": {
                        "application/vnd.plotly.v1+json": {
                            "config": {
                                "plotlyServerURL": "https://plot.ly"
                            },
                            "data": [
                                {
                                    "marker": {
                                        "color": [
                                            "#1F77B4",
                                            "#b41f49",
                                            "#f7cf07"
                                        ]
                                    },
                                    "text": [
                                        "36.80%",
                                        "31.96%",
                                        "31.25%"
                                    ],
                                    "textposition": "auto",
                                    "type": "bar",
                                    "x": [
                                        "GLD",
                                        "SPY",
                                        "TLT"
                                    ],
                                    "y": [
                                        0.3679529907063586,
                                        0.3195715592984802,
                                        0.31247544999516114
                                    ]
                                }
                            ],
                            "layout": {
                                "height": 400,
                                "template": {
                                    "data": {
                                        "bar": [
                                            {
                                                "error_x": {
                                                    "color": "#2a3f5f"
                                                },
                                                "error_y": {
                                                    "color": "#2a3f5f"
                                                },
                                                "marker": {
                                                    "line": {
                                                        "color": "#E5ECF6",
                                                        "width": 0.5
                                                    },
                                                    "pattern": {
                                                        "fillmode": "overlay",
                                                        "size": 10,
                                                        "solidity": 0.2
                                                    }
                                                },
                                                "type": "bar"
                                            }
                                        ],
                                        "barpolar": [
                                            {
                                                "marker": {
                                                    "line": {
                                                        "color": "#E5ECF6",
                                                        "width": 0.5
                                                    },
                                                    "pattern": {
                                                        "fillmode": "overlay",
                                                        "size": 10,
                                                        "solidity": 0.2
                                                    }
                                                },
                                                "type": "barpolar"
                                            }
                                        ],
                                        "carpet": [
                                            {
                                                "aaxis": {
                                                    "endlinecolor": "#2a3f5f",
                                                    "gridcolor": "white",
                                                    "linecolor": "white",
                                                    "minorgridcolor": "white",
                                                    "startlinecolor": "#2a3f5f"
                                                },
                                                "baxis": {
                                                    "endlinecolor": "#2a3f5f",
                                                    "gridcolor": "white",
                                                    "linecolor": "white",
                                                    "minorgridcolor": "white",
                                                    "startlinecolor": "#2a3f5f"
                                                },
                                                "type": "carpet"
                                            }
                                        ],
                                        "choropleth": [
                                            {
                                                "colorbar": {
                                                    "outlinewidth": 0,
                                                    "ticks": ""
                                                },
                                                "type": "choropleth"
                                            }
                                        ],
                                        "contour": [
                                            {
                                                "colorbar": {
                                                    "outlinewidth": 0,
                                                    "ticks": ""
                                                },
                                                "colorscale": [
                                                    [
                                                        0,
                                                        "#0d0887"
                                                    ],
                                                    [
                                                        0.1111111111111111,
                                                        "#46039f"
                                                    ],
                                                    [
                                                        0.2222222222222222,
                                                        "#7201a8"
                                                    ],
                                                    [
                                                        0.3333333333333333,
                                                        "#9c179e"
                                                    ],
                                                    [
                                                        0.4444444444444444,
                                                        "#bd3786"
                                                    ],
                                                    [
                                                        0.5555555555555556,
                                                        "#d8576b"
                                                    ],
                                                    [
                                                        0.6666666666666666,
                                                        "#ed7953"
                                                    ],
                                                    [
                                                        0.7777777777777778,
                                                        "#fb9f3a"
                                                    ],
                                                    [
                                                        0.8888888888888888,
                                                        "#fdca26"
                                                    ],
                                                    [
                                                        1,
                                                        "#f0f921"
                                                    ]
                                                ],
                                                "type": "contour"
                                            }
                                        ],
                                        "contourcarpet": [
                                            {
                                                "colorbar": {
                                                    "outlinewidth": 0,
                                                    "ticks": ""
                                                },
                                                "type": "contourcarpet"
                                            }
                                        ],
                                        "heatmap": [
                                            {
                                                "colorbar": {
                                                    "outlinewidth": 0,
                                                    "ticks": ""
                                                },
                                                "colorscale": [
                                                    [
                                                        0,
                                                        "#0d0887"
                                                    ],
                                                    [
                                                        0.1111111111111111,
                                                        "#46039f"
                                                    ],
                                                    [
                                                        0.2222222222222222,
                                                        "#7201a8"
                                                    ],
                                                    [
                                                        0.3333333333333333,
                                                        "#9c179e"
                                                    ],
                                                    [
                                                        0.4444444444444444,
                                                        "#bd3786"
                                                    ],
                                                    [
                                                        0.5555555555555556,
                                                        "#d8576b"
                                                    ],
                                                    [
                                                        0.6666666666666666,
                                                        "#ed7953"
                                                    ],
                                                    [
                                                        0.7777777777777778,
                                                        "#fb9f3a"
                                                    ],
                                                    [
                                                        0.8888888888888888,
                                                        "#fdca26"
                                                    ],
                                                    [
                                                        1,
                                                        "#f0f921"
                                                    ]
                                                ],
                                                "type": "heatmap"
                                            }
                                        ],
                                        "heatmapgl": [
                                            {
                                                "colorbar": {
                                                    "outlinewidth": 0,
                                                    "ticks": ""
                                                },
                                                "colorscale": [
                                                    [
                                                        0,
                                                        "#0d0887"
                                                    ],
                                                    [
                                                        0.1111111111111111,
                                                        "#46039f"
                                                    ],
                                                    [
                                                        0.2222222222222222,
                                                        "#7201a8"
                                                    ],
                                                    [
                                                        0.3333333333333333,
                                                        "#9c179e"
                                                    ],
                                                    [
                                                        0.4444444444444444,
                                                        "#bd3786"
                                                    ],
                                                    [
                                                        0.5555555555555556,
                                                        "#d8576b"
                                                    ],
                                                    [
                                                        0.6666666666666666,
                                                        "#ed7953"
                                                    ],
                                                    [
                                                        0.7777777777777778,
                                                        "#fb9f3a"
                                                    ],
                                                    [
                                                        0.8888888888888888,
                                                        "#fdca26"
                                                    ],
                                                    [
                                                        1,
                                                        "#f0f921"
                                                    ]
                                                ],
                                                "type": "heatmapgl"
                                            }
                                        ],
                                        "histogram": [
                                            {
                                                "marker": {
                                                    "pattern": {
                                                        "fillmode": "overlay",
                                                        "size": 10,
                                                        "solidity": 0.2
                                                    }
                                                },
                                                "type": "histogram"
                                            }
                                        ],
                                        "histogram2d": [
                                            {
                                                "colorbar": {
                                                    "outlinewidth": 0,
                                                    "ticks": ""
                                                },
                                                "colorscale": [
                                                    [
                                                        0,
                                                        "#0d0887"
                                                    ],
                                                    [
                                                        0.1111111111111111,
                                                        "#46039f"
                                                    ],
                                                    [
                                                        0.2222222222222222,
                                                        "#7201a8"
                                                    ],
                                                    [
                                                        0.3333333333333333,
                                                        "#9c179e"
                                                    ],
                                                    [
                                                        0.4444444444444444,
                                                        "#bd3786"
                                                    ],
                                                    [
                                                        0.5555555555555556,
                                                        "#d8576b"
                                                    ],
                                                    [
                                                        0.6666666666666666,
                                                        "#ed7953"
                                                    ],
                                                    [
                                                        0.7777777777777778,
                                                        "#fb9f3a"
                                                    ],
                                                    [
                                                        0.8888888888888888,
                                                        "#fdca26"
                                                    ],
                                                    [
                                                        1,
                                                        "#f0f921"
                                                    ]
                                                ],
                                                "type": "histogram2d"
                                            }
                                        ],
                                        "histogram2dcontour": [
                                            {
                                                "colorbar": {
                                                    "outlinewidth": 0,
                                                    "ticks": ""
                                                },
                                                "colorscale": [
                                                    [
                                                        0,
                                                        "#0d0887"
                                                    ],
                                                    [
                                                        0.1111111111111111,
                                                        "#46039f"
                                                    ],
                                                    [
                                                        0.2222222222222222,
                                                        "#7201a8"
                                                    ],
                                                    [
                                                        0.3333333333333333,
                                                        "#9c179e"
                                                    ],
                                                    [
                                                        0.4444444444444444,
                                                        "#bd3786"
                                                    ],
                                                    [
                                                        0.5555555555555556,
                                                        "#d8576b"
                                                    ],
                                                    [
                                                        0.6666666666666666,
                                                        "#ed7953"
                                                    ],
                                                    [
                                                        0.7777777777777778,
                                                        "#fb9f3a"
                                                    ],
                                                    [
                                                        0.8888888888888888,
                                                        "#fdca26"
                                                    ],
                                                    [
                                                        1,
                                                        "#f0f921"
                                                    ]
                                                ],
                                                "type": "histogram2dcontour"
                                            }
                                        ],
                                        "mesh3d": [
                                            {
                                                "colorbar": {
                                                    "outlinewidth": 0,
                                                    "ticks": ""
                                                },
                                                "type": "mesh3d"
                                            }
                                        ],
                                        "parcoords": [
                                            {
                                                "line": {
                                                    "colorbar": {
                                                        "outlinewidth": 0,
                                                        "ticks": ""
                                                    }
                                                },
                                                "type": "parcoords"
                                            }
                                        ],
                                        "pie": [
                                            {
                                                "automargin": true,
                                                "type": "pie"
                                            }
                                        ],
                                        "scatter": [
                                            {
                                                "fillpattern": {
                                                    "fillmode": "overlay",
                                                    "size": 10,
                                                    "solidity": 0.2
                                                },
                                                "type": "scatter"
                                            }
                                        ],
                                        "scatter3d": [
                                            {
                                                "line": {
                                                    "colorbar": {
                                                        "outlinewidth": 0,
                                                        "ticks": ""
                                                    }
                                                },
                                                "marker": {
                                                    "colorbar": {
                                                        "outlinewidth": 0,
                                                        "ticks": ""
                                                    }
                                                },
                                                "type": "scatter3d"
                                            }
                                        ],
                                        "scattercarpet": [
                                            {
                                                "marker": {
                                                    "colorbar": {
                                                        "outlinewidth": 0,
                                                        "ticks": ""
                                                    }
                                                },
                                                "type": "scattercarpet"
                                            }
                                        ],
                                        "scattergeo": [
                                            {
                                                "marker": {
                                                    "colorbar": {
                                                        "outlinewidth": 0,
                                                        "ticks": ""
                                                    }
                                                },
                                                "type": "scattergeo"
                                            }
                                        ],
                                        "scattergl": [
                                            {
                                                "marker": {
                                                    "colorbar": {
                                                        "outlinewidth": 0,
                                                        "ticks": ""
                                                    }
                                                },
                                                "type": "scattergl"
                                            }
                                        ],
                                        "scattermapbox": [
                                            {
                                                "marker": {
                                                    "colorbar": {
                                                        "outlinewidth": 0,
                                                        "ticks": ""
                                                    }
                                                },
                                                "type": "scattermapbox"
                                            }
                                        ],
                                        "scatterpolar": [
                                            {
                                                "marker": {
                                                    "colorbar": {
                                                        "outlinewidth": 0,
                                                        "ticks": ""
                                                    }
                                                },
                                                "type": "scatterpolar"
                                            }
                                        ],
                                        "scatterpolargl": [
                                            {
                                                "marker": {
                                                    "colorbar": {
                                                        "outlinewidth": 0,
                                                        "ticks": ""
                                                    }
                                                },
                                                "type": "scatterpolargl"
                                            }
                                        ],
                                        "scatterternary": [
                                            {
                                                "marker": {
                                                    "colorbar": {
                                                        "outlinewidth": 0,
                                                        "ticks": ""
                                                    }
                                                },
                                                "type": "scatterternary"
                                            }
                                        ],
                                        "surface": [
                                            {
                                                "colorbar": {
                                                    "outlinewidth": 0,
                                                    "ticks": ""
                                                },
                                                "colorscale": [
                                                    [
                                                        0,
                                                        "#0d0887"
                                                    ],
                                                    [
                                                        0.1111111111111111,
                                                        "#46039f"
                                                    ],
                                                    [
                                                        0.2222222222222222,
                                                        "#7201a8"
                                                    ],
                                                    [
                                                        0.3333333333333333,
                                                        "#9c179e"
                                                    ],
                                                    [
                                                        0.4444444444444444,
                                                        "#bd3786"
                                                    ],
                                                    [
                                                        0.5555555555555556,
                                                        "#d8576b"
                                                    ],
                                                    [
                                                        0.6666666666666666,
                                                        "#ed7953"
                                                    ],
                                                    [
                                                        0.7777777777777778,
                                                        "#fb9f3a"
                                                    ],
                                                    [
                                                        0.8888888888888888,
                                                        "#fdca26"
                                                    ],
                                                    [
                                                        1,
                                                        "#f0f921"
                                                    ]
                                                ],
                                                "type": "surface"
                                            }
                                        ],
                                        "table": [
                                            {
                                                "cells": {
                                                    "fill": {
                                                        "color": "#EBF0F8"
                                                    },
                                                    "line": {
                                                        "color": "white"
                                                    }
                                                },
                                                "header": {
                                                    "fill": {
                                                        "color": "#C8D4E3"
                                                    },
                                                    "line": {
                                                        "color": "white"
                                                    }
                                                },
                                                "type": "table"
                                            }
                                        ]
                                    },
                                    "layout": {
                                        "annotationdefaults": {
                                            "arrowcolor": "#2a3f5f",
                                            "arrowhead": 0,
                                            "arrowwidth": 1
                                        },
                                        "autotypenumbers": "strict",
                                        "coloraxis": {
                                            "colorbar": {
                                                "outlinewidth": 0,
                                                "ticks": ""
                                            }
                                        },
                                        "colorscale": {
                                            "diverging": [
                                                [
                                                    0,
                                                    "#8e0152"
                                                ],
                                                [
                                                    0.1,
                                                    "#c51b7d"
                                                ],
                                                [
                                                    0.2,
                                                    "#de77ae"
                                                ],
                                                [
                                                    0.3,
                                                    "#f1b6da"
                                                ],
                                                [
                                                    0.4,
                                                    "#fde0ef"
                                                ],
                                                [
                                                    0.5,
                                                    "#f7f7f7"
                                                ],
                                                [
                                                    0.6,
                                                    "#e6f5d0"
                                                ],
                                                [
                                                    0.7,
                                                    "#b8e186"
                                                ],
                                                [
                                                    0.8,
                                                    "#7fbc41"
                                                ],
                                                [
                                                    0.9,
                                                    "#4d9221"
                                                ],
                                                [
                                                    1,
                                                    "#276419"
                                                ]
                                            ],
                                            "sequential": [
                                                [
                                                    0,
                                                    "#0d0887"
                                                ],
                                                [
                                                    0.1111111111111111,
                                                    "#46039f"
                                                ],
                                                [
                                                    0.2222222222222222,
                                                    "#7201a8"
                                                ],
                                                [
                                                    0.3333333333333333,
                                                    "#9c179e"
                                                ],
                                                [
                                                    0.4444444444444444,
                                                    "#bd3786"
                                                ],
                                                [
                                                    0.5555555555555556,
                                                    "#d8576b"
                                                ],
                                                [
                                                    0.6666666666666666,
                                                    "#ed7953"
                                                ],
                                                [
                                                    0.7777777777777778,
                                                    "#fb9f3a"
                                                ],
                                                [
                                                    0.8888888888888888,
                                                    "#fdca26"
                                                ],
                                                [
                                                    1,
                                                    "#f0f921"
                                                ]
                                            ],
                                            "sequentialminus": [
                                                [
                                                    0,
                                                    "#0d0887"
                                                ],
                                                [
                                                    0.1111111111111111,
                                                    "#46039f"
                                                ],
                                                [
                                                    0.2222222222222222,
                                                    "#7201a8"
                                                ],
                                                [
                                                    0.3333333333333333,
                                                    "#9c179e"
                                                ],
                                                [
                                                    0.4444444444444444,
                                                    "#bd3786"
                                                ],
                                                [
                                                    0.5555555555555556,
                                                    "#d8576b"
                                                ],
                                                [
                                                    0.6666666666666666,
                                                    "#ed7953"
                                                ],
                                                [
                                                    0.7777777777777778,
                                                    "#fb9f3a"
                                                ],
                                                [
                                                    0.8888888888888888,
                                                    "#fdca26"
                                                ],
                                                [
                                                    1,
                                                    "#f0f921"
                                                ]
                                            ]
                                        },
                                        "colorway": [
                                            "#636efa",
                                            "#EF553B",
                                            "#00cc96",
                                            "#ab63fa",
                                            "#FFA15A",
                                            "#19d3f3",
                                            "#FF6692",
                                            "#B6E880",
                                            "#FF97FF",
                                            "#FECB52"
                                        ],
                                        "font": {
                                            "color": "#2a3f5f"
                                        },
                                        "geo": {
                                            "bgcolor": "white",
                                            "lakecolor": "white",
                                            "landcolor": "#E5ECF6",
                                            "showlakes": true,
                                            "showland": true,
                                            "subunitcolor": "white"
                                        },
                                        "hoverlabel": {
                                            "align": "left"
                                        },
                                        "hovermode": "closest",
                                        "mapbox": {
                                            "style": "light"
                                        },
                                        "paper_bgcolor": "white",
                                        "plot_bgcolor": "#E5ECF6",
                                        "polar": {
                                            "angularaxis": {
                                                "gridcolor": "white",
                                                "linecolor": "white",
                                                "ticks": ""
                                            },
                                            "bgcolor": "#E5ECF6",
                                            "radialaxis": {
                                                "gridcolor": "white",
                                                "linecolor": "white",
                                                "ticks": ""
                                            }
                                        },
                                        "scene": {
                                            "xaxis": {
                                                "backgroundcolor": "#E5ECF6",
                                                "gridcolor": "white",
                                                "gridwidth": 2,
                                                "linecolor": "white",
                                                "showbackground": true,
                                                "ticks": "",
                                                "zerolinecolor": "white"
                                            },
                                            "yaxis": {
                                                "backgroundcolor": "#E5ECF6",
                                                "gridcolor": "white",
                                                "gridwidth": 2,
                                                "linecolor": "white",
                                                "showbackground": true,
                                                "ticks": "",
                                                "zerolinecolor": "white"
                                            },
                                            "zaxis": {
                                                "backgroundcolor": "#E5ECF6",
                                                "gridcolor": "white",
                                                "gridwidth": 2,
                                                "linecolor": "white",
                                                "showbackground": true,
                                                "ticks": "",
                                                "zerolinecolor": "white"
                                            }
                                        },
                                        "shapedefaults": {
                                            "line": {
                                                "color": "#2a3f5f"
                                            }
                                        },
                                        "ternary": {
                                            "aaxis": {
                                                "gridcolor": "white",
                                                "linecolor": "white",
                                                "ticks": ""
                                            },
                                            "baxis": {
                                                "gridcolor": "white",
                                                "linecolor": "white",
                                                "ticks": ""
                                            },
                                            "bgcolor": "#E5ECF6",
                                            "caxis": {
                                                "gridcolor": "white",
                                                "linecolor": "white",
                                                "ticks": ""
                                            }
                                        },
                                        "title": {
                                            "x": 0.05
                                        },
                                        "xaxis": {
                                            "automargin": true,
                                            "gridcolor": "white",
                                            "linecolor": "white",
                                            "ticks": "",
                                            "title": {
                                                "standoff": 15
                                            },
                                            "zerolinecolor": "white",
                                            "zerolinewidth": 2
                                        },
                                        "yaxis": {
                                            "automargin": true,
                                            "gridcolor": "white",
                                            "linecolor": "white",
                                            "ticks": "",
                                            "title": {
                                                "standoff": 15
                                            },
                                            "zerolinecolor": "white",
                                            "zerolinewidth": 2
                                        }
                                    }
                                },
                                "title": {
                                    "text": "Initial Risk Parity Portfolio Weights"
                                },
                                "width": 700,
                                "xaxis": {
                                    "tickmode": "linear",
                                    "title": {
                                        "text": "Assets"
                                    }
                                },
                                "yaxis": {
                                    "title": {
                                        "text": "Weights"
                                    }
                                }
                            }
                        }
                    },
                    "metadata": {},
                    "output_type": "display_data"
                },
                {
                    "name": "stdout",
                    "output_type": "stream",
                    "text": [
                        "Risk Contributions: {'GLD': 0.333, 'SPY': 0.333, 'TLT': 0.333}\n"
                    ]
                },
                {
                    "data": {
                        "application/vnd.plotly.v1+json": {
                            "config": {
                                "plotlyServerURL": "https://plot.ly"
                            },
                            "data": [
                                {
                                    "hoverinfo": "label+value",
                                    "labels": [
                                        "GLD",
                                        "SPY",
                                        "TLT"
                                    ],
                                    "marker": {
                                        "colors": [
                                            "#1F77B4",
                                            "#b41f49",
                                            "#f7cf07"
                                        ]
                                    },
                                    "textinfo": "label+percent",
                                    "type": "pie",
                                    "values": [
                                        0.333,
                                        0.333,
                                        0.333
                                    ]
                                }
                            ],
                            "layout": {
                                "template": {
                                    "data": {
                                        "bar": [
                                            {
                                                "error_x": {
                                                    "color": "#2a3f5f"
                                                },
                                                "error_y": {
                                                    "color": "#2a3f5f"
                                                },
                                                "marker": {
                                                    "line": {
                                                        "color": "white",
                                                        "width": 0.5
                                                    },
                                                    "pattern": {
                                                        "fillmode": "overlay",
                                                        "size": 10,
                                                        "solidity": 0.2
                                                    }
                                                },
                                                "type": "bar"
                                            }
                                        ],
                                        "barpolar": [
                                            {
                                                "marker": {
                                                    "line": {
                                                        "color": "white",
                                                        "width": 0.5
                                                    },
                                                    "pattern": {
                                                        "fillmode": "overlay",
                                                        "size": 10,
                                                        "solidity": 0.2
                                                    }
                                                },
                                                "type": "barpolar"
                                            }
                                        ],
                                        "carpet": [
                                            {
                                                "aaxis": {
                                                    "endlinecolor": "#2a3f5f",
                                                    "gridcolor": "#C8D4E3",
                                                    "linecolor": "#C8D4E3",
                                                    "minorgridcolor": "#C8D4E3",
                                                    "startlinecolor": "#2a3f5f"
                                                },
                                                "baxis": {
                                                    "endlinecolor": "#2a3f5f",
                                                    "gridcolor": "#C8D4E3",
                                                    "linecolor": "#C8D4E3",
                                                    "minorgridcolor": "#C8D4E3",
                                                    "startlinecolor": "#2a3f5f"
                                                },
                                                "type": "carpet"
                                            }
                                        ],
                                        "choropleth": [
                                            {
                                                "colorbar": {
                                                    "outlinewidth": 0,
                                                    "ticks": ""
                                                },
                                                "type": "choropleth"
                                            }
                                        ],
                                        "contour": [
                                            {
                                                "colorbar": {
                                                    "outlinewidth": 0,
                                                    "ticks": ""
                                                },
                                                "colorscale": [
                                                    [
                                                        0,
                                                        "#0d0887"
                                                    ],
                                                    [
                                                        0.1111111111111111,
                                                        "#46039f"
                                                    ],
                                                    [
                                                        0.2222222222222222,
                                                        "#7201a8"
                                                    ],
                                                    [
                                                        0.3333333333333333,
                                                        "#9c179e"
                                                    ],
                                                    [
                                                        0.4444444444444444,
                                                        "#bd3786"
                                                    ],
                                                    [
                                                        0.5555555555555556,
                                                        "#d8576b"
                                                    ],
                                                    [
                                                        0.6666666666666666,
                                                        "#ed7953"
                                                    ],
                                                    [
                                                        0.7777777777777778,
                                                        "#fb9f3a"
                                                    ],
                                                    [
                                                        0.8888888888888888,
                                                        "#fdca26"
                                                    ],
                                                    [
                                                        1,
                                                        "#f0f921"
                                                    ]
                                                ],
                                                "type": "contour"
                                            }
                                        ],
                                        "contourcarpet": [
                                            {
                                                "colorbar": {
                                                    "outlinewidth": 0,
                                                    "ticks": ""
                                                },
                                                "type": "contourcarpet"
                                            }
                                        ],
                                        "heatmap": [
                                            {
                                                "colorbar": {
                                                    "outlinewidth": 0,
                                                    "ticks": ""
                                                },
                                                "colorscale": [
                                                    [
                                                        0,
                                                        "#0d0887"
                                                    ],
                                                    [
                                                        0.1111111111111111,
                                                        "#46039f"
                                                    ],
                                                    [
                                                        0.2222222222222222,
                                                        "#7201a8"
                                                    ],
                                                    [
                                                        0.3333333333333333,
                                                        "#9c179e"
                                                    ],
                                                    [
                                                        0.4444444444444444,
                                                        "#bd3786"
                                                    ],
                                                    [
                                                        0.5555555555555556,
                                                        "#d8576b"
                                                    ],
                                                    [
                                                        0.6666666666666666,
                                                        "#ed7953"
                                                    ],
                                                    [
                                                        0.7777777777777778,
                                                        "#fb9f3a"
                                                    ],
                                                    [
                                                        0.8888888888888888,
                                                        "#fdca26"
                                                    ],
                                                    [
                                                        1,
                                                        "#f0f921"
                                                    ]
                                                ],
                                                "type": "heatmap"
                                            }
                                        ],
                                        "heatmapgl": [
                                            {
                                                "colorbar": {
                                                    "outlinewidth": 0,
                                                    "ticks": ""
                                                },
                                                "colorscale": [
                                                    [
                                                        0,
                                                        "#0d0887"
                                                    ],
                                                    [
                                                        0.1111111111111111,
                                                        "#46039f"
                                                    ],
                                                    [
                                                        0.2222222222222222,
                                                        "#7201a8"
                                                    ],
                                                    [
                                                        0.3333333333333333,
                                                        "#9c179e"
                                                    ],
                                                    [
                                                        0.4444444444444444,
                                                        "#bd3786"
                                                    ],
                                                    [
                                                        0.5555555555555556,
                                                        "#d8576b"
                                                    ],
                                                    [
                                                        0.6666666666666666,
                                                        "#ed7953"
                                                    ],
                                                    [
                                                        0.7777777777777778,
                                                        "#fb9f3a"
                                                    ],
                                                    [
                                                        0.8888888888888888,
                                                        "#fdca26"
                                                    ],
                                                    [
                                                        1,
                                                        "#f0f921"
                                                    ]
                                                ],
                                                "type": "heatmapgl"
                                            }
                                        ],
                                        "histogram": [
                                            {
                                                "marker": {
                                                    "pattern": {
                                                        "fillmode": "overlay",
                                                        "size": 10,
                                                        "solidity": 0.2
                                                    }
                                                },
                                                "type": "histogram"
                                            }
                                        ],
                                        "histogram2d": [
                                            {
                                                "colorbar": {
                                                    "outlinewidth": 0,
                                                    "ticks": ""
                                                },
                                                "colorscale": [
                                                    [
                                                        0,
                                                        "#0d0887"
                                                    ],
                                                    [
                                                        0.1111111111111111,
                                                        "#46039f"
                                                    ],
                                                    [
                                                        0.2222222222222222,
                                                        "#7201a8"
                                                    ],
                                                    [
                                                        0.3333333333333333,
                                                        "#9c179e"
                                                    ],
                                                    [
                                                        0.4444444444444444,
                                                        "#bd3786"
                                                    ],
                                                    [
                                                        0.5555555555555556,
                                                        "#d8576b"
                                                    ],
                                                    [
                                                        0.6666666666666666,
                                                        "#ed7953"
                                                    ],
                                                    [
                                                        0.7777777777777778,
                                                        "#fb9f3a"
                                                    ],
                                                    [
                                                        0.8888888888888888,
                                                        "#fdca26"
                                                    ],
                                                    [
                                                        1,
                                                        "#f0f921"
                                                    ]
                                                ],
                                                "type": "histogram2d"
                                            }
                                        ],
                                        "histogram2dcontour": [
                                            {
                                                "colorbar": {
                                                    "outlinewidth": 0,
                                                    "ticks": ""
                                                },
                                                "colorscale": [
                                                    [
                                                        0,
                                                        "#0d0887"
                                                    ],
                                                    [
                                                        0.1111111111111111,
                                                        "#46039f"
                                                    ],
                                                    [
                                                        0.2222222222222222,
                                                        "#7201a8"
                                                    ],
                                                    [
                                                        0.3333333333333333,
                                                        "#9c179e"
                                                    ],
                                                    [
                                                        0.4444444444444444,
                                                        "#bd3786"
                                                    ],
                                                    [
                                                        0.5555555555555556,
                                                        "#d8576b"
                                                    ],
                                                    [
                                                        0.6666666666666666,
                                                        "#ed7953"
                                                    ],
                                                    [
                                                        0.7777777777777778,
                                                        "#fb9f3a"
                                                    ],
                                                    [
                                                        0.8888888888888888,
                                                        "#fdca26"
                                                    ],
                                                    [
                                                        1,
                                                        "#f0f921"
                                                    ]
                                                ],
                                                "type": "histogram2dcontour"
                                            }
                                        ],
                                        "mesh3d": [
                                            {
                                                "colorbar": {
                                                    "outlinewidth": 0,
                                                    "ticks": ""
                                                },
                                                "type": "mesh3d"
                                            }
                                        ],
                                        "parcoords": [
                                            {
                                                "line": {
                                                    "colorbar": {
                                                        "outlinewidth": 0,
                                                        "ticks": ""
                                                    }
                                                },
                                                "type": "parcoords"
                                            }
                                        ],
                                        "pie": [
                                            {
                                                "automargin": true,
                                                "type": "pie"
                                            }
                                        ],
                                        "scatter": [
                                            {
                                                "fillpattern": {
                                                    "fillmode": "overlay",
                                                    "size": 10,
                                                    "solidity": 0.2
                                                },
                                                "type": "scatter"
                                            }
                                        ],
                                        "scatter3d": [
                                            {
                                                "line": {
                                                    "colorbar": {
                                                        "outlinewidth": 0,
                                                        "ticks": ""
                                                    }
                                                },
                                                "marker": {
                                                    "colorbar": {
                                                        "outlinewidth": 0,
                                                        "ticks": ""
                                                    }
                                                },
                                                "type": "scatter3d"
                                            }
                                        ],
                                        "scattercarpet": [
                                            {
                                                "marker": {
                                                    "colorbar": {
                                                        "outlinewidth": 0,
                                                        "ticks": ""
                                                    }
                                                },
                                                "type": "scattercarpet"
                                            }
                                        ],
                                        "scattergeo": [
                                            {
                                                "marker": {
                                                    "colorbar": {
                                                        "outlinewidth": 0,
                                                        "ticks": ""
                                                    }
                                                },
                                                "type": "scattergeo"
                                            }
                                        ],
                                        "scattergl": [
                                            {
                                                "marker": {
                                                    "colorbar": {
                                                        "outlinewidth": 0,
                                                        "ticks": ""
                                                    }
                                                },
                                                "type": "scattergl"
                                            }
                                        ],
                                        "scattermapbox": [
                                            {
                                                "marker": {
                                                    "colorbar": {
                                                        "outlinewidth": 0,
                                                        "ticks": ""
                                                    }
                                                },
                                                "type": "scattermapbox"
                                            }
                                        ],
                                        "scatterpolar": [
                                            {
                                                "marker": {
                                                    "colorbar": {
                                                        "outlinewidth": 0,
                                                        "ticks": ""
                                                    }
                                                },
                                                "type": "scatterpolar"
                                            }
                                        ],
                                        "scatterpolargl": [
                                            {
                                                "marker": {
                                                    "colorbar": {
                                                        "outlinewidth": 0,
                                                        "ticks": ""
                                                    }
                                                },
                                                "type": "scatterpolargl"
                                            }
                                        ],
                                        "scatterternary": [
                                            {
                                                "marker": {
                                                    "colorbar": {
                                                        "outlinewidth": 0,
                                                        "ticks": ""
                                                    }
                                                },
                                                "type": "scatterternary"
                                            }
                                        ],
                                        "surface": [
                                            {
                                                "colorbar": {
                                                    "outlinewidth": 0,
                                                    "ticks": ""
                                                },
                                                "colorscale": [
                                                    [
                                                        0,
                                                        "#0d0887"
                                                    ],
                                                    [
                                                        0.1111111111111111,
                                                        "#46039f"
                                                    ],
                                                    [
                                                        0.2222222222222222,
                                                        "#7201a8"
                                                    ],
                                                    [
                                                        0.3333333333333333,
                                                        "#9c179e"
                                                    ],
                                                    [
                                                        0.4444444444444444,
                                                        "#bd3786"
                                                    ],
                                                    [
                                                        0.5555555555555556,
                                                        "#d8576b"
                                                    ],
                                                    [
                                                        0.6666666666666666,
                                                        "#ed7953"
                                                    ],
                                                    [
                                                        0.7777777777777778,
                                                        "#fb9f3a"
                                                    ],
                                                    [
                                                        0.8888888888888888,
                                                        "#fdca26"
                                                    ],
                                                    [
                                                        1,
                                                        "#f0f921"
                                                    ]
                                                ],
                                                "type": "surface"
                                            }
                                        ],
                                        "table": [
                                            {
                                                "cells": {
                                                    "fill": {
                                                        "color": "#EBF0F8"
                                                    },
                                                    "line": {
                                                        "color": "white"
                                                    }
                                                },
                                                "header": {
                                                    "fill": {
                                                        "color": "#C8D4E3"
                                                    },
                                                    "line": {
                                                        "color": "white"
                                                    }
                                                },
                                                "type": "table"
                                            }
                                        ]
                                    },
                                    "layout": {
                                        "annotationdefaults": {
                                            "arrowcolor": "#2a3f5f",
                                            "arrowhead": 0,
                                            "arrowwidth": 1
                                        },
                                        "autotypenumbers": "strict",
                                        "coloraxis": {
                                            "colorbar": {
                                                "outlinewidth": 0,
                                                "ticks": ""
                                            }
                                        },
                                        "colorscale": {
                                            "diverging": [
                                                [
                                                    0,
                                                    "#8e0152"
                                                ],
                                                [
                                                    0.1,
                                                    "#c51b7d"
                                                ],
                                                [
                                                    0.2,
                                                    "#de77ae"
                                                ],
                                                [
                                                    0.3,
                                                    "#f1b6da"
                                                ],
                                                [
                                                    0.4,
                                                    "#fde0ef"
                                                ],
                                                [
                                                    0.5,
                                                    "#f7f7f7"
                                                ],
                                                [
                                                    0.6,
                                                    "#e6f5d0"
                                                ],
                                                [
                                                    0.7,
                                                    "#b8e186"
                                                ],
                                                [
                                                    0.8,
                                                    "#7fbc41"
                                                ],
                                                [
                                                    0.9,
                                                    "#4d9221"
                                                ],
                                                [
                                                    1,
                                                    "#276419"
                                                ]
                                            ],
                                            "sequential": [
                                                [
                                                    0,
                                                    "#0d0887"
                                                ],
                                                [
                                                    0.1111111111111111,
                                                    "#46039f"
                                                ],
                                                [
                                                    0.2222222222222222,
                                                    "#7201a8"
                                                ],
                                                [
                                                    0.3333333333333333,
                                                    "#9c179e"
                                                ],
                                                [
                                                    0.4444444444444444,
                                                    "#bd3786"
                                                ],
                                                [
                                                    0.5555555555555556,
                                                    "#d8576b"
                                                ],
                                                [
                                                    0.6666666666666666,
                                                    "#ed7953"
                                                ],
                                                [
                                                    0.7777777777777778,
                                                    "#fb9f3a"
                                                ],
                                                [
                                                    0.8888888888888888,
                                                    "#fdca26"
                                                ],
                                                [
                                                    1,
                                                    "#f0f921"
                                                ]
                                            ],
                                            "sequentialminus": [
                                                [
                                                    0,
                                                    "#0d0887"
                                                ],
                                                [
                                                    0.1111111111111111,
                                                    "#46039f"
                                                ],
                                                [
                                                    0.2222222222222222,
                                                    "#7201a8"
                                                ],
                                                [
                                                    0.3333333333333333,
                                                    "#9c179e"
                                                ],
                                                [
                                                    0.4444444444444444,
                                                    "#bd3786"
                                                ],
                                                [
                                                    0.5555555555555556,
                                                    "#d8576b"
                                                ],
                                                [
                                                    0.6666666666666666,
                                                    "#ed7953"
                                                ],
                                                [
                                                    0.7777777777777778,
                                                    "#fb9f3a"
                                                ],
                                                [
                                                    0.8888888888888888,
                                                    "#fdca26"
                                                ],
                                                [
                                                    1,
                                                    "#f0f921"
                                                ]
                                            ]
                                        },
                                        "colorway": [
                                            "#636efa",
                                            "#EF553B",
                                            "#00cc96",
                                            "#ab63fa",
                                            "#FFA15A",
                                            "#19d3f3",
                                            "#FF6692",
                                            "#B6E880",
                                            "#FF97FF",
                                            "#FECB52"
                                        ],
                                        "font": {
                                            "color": "#2a3f5f"
                                        },
                                        "geo": {
                                            "bgcolor": "white",
                                            "lakecolor": "white",
                                            "landcolor": "white",
                                            "showlakes": true,
                                            "showland": true,
                                            "subunitcolor": "#C8D4E3"
                                        },
                                        "hoverlabel": {
                                            "align": "left"
                                        },
                                        "hovermode": "closest",
                                        "mapbox": {
                                            "style": "light"
                                        },
                                        "paper_bgcolor": "white",
                                        "plot_bgcolor": "white",
                                        "polar": {
                                            "angularaxis": {
                                                "gridcolor": "#EBF0F8",
                                                "linecolor": "#EBF0F8",
                                                "ticks": ""
                                            },
                                            "bgcolor": "white",
                                            "radialaxis": {
                                                "gridcolor": "#EBF0F8",
                                                "linecolor": "#EBF0F8",
                                                "ticks": ""
                                            }
                                        },
                                        "scene": {
                                            "xaxis": {
                                                "backgroundcolor": "white",
                                                "gridcolor": "#DFE8F3",
                                                "gridwidth": 2,
                                                "linecolor": "#EBF0F8",
                                                "showbackground": true,
                                                "ticks": "",
                                                "zerolinecolor": "#EBF0F8"
                                            },
                                            "yaxis": {
                                                "backgroundcolor": "white",
                                                "gridcolor": "#DFE8F3",
                                                "gridwidth": 2,
                                                "linecolor": "#EBF0F8",
                                                "showbackground": true,
                                                "ticks": "",
                                                "zerolinecolor": "#EBF0F8"
                                            },
                                            "zaxis": {
                                                "backgroundcolor": "white",
                                                "gridcolor": "#DFE8F3",
                                                "gridwidth": 2,
                                                "linecolor": "#EBF0F8",
                                                "showbackground": true,
                                                "ticks": "",
                                                "zerolinecolor": "#EBF0F8"
                                            }
                                        },
                                        "shapedefaults": {
                                            "line": {
                                                "color": "#2a3f5f"
                                            }
                                        },
                                        "ternary": {
                                            "aaxis": {
                                                "gridcolor": "#DFE8F3",
                                                "linecolor": "#A2B1C6",
                                                "ticks": ""
                                            },
                                            "baxis": {
                                                "gridcolor": "#DFE8F3",
                                                "linecolor": "#A2B1C6",
                                                "ticks": ""
                                            },
                                            "bgcolor": "white",
                                            "caxis": {
                                                "gridcolor": "#DFE8F3",
                                                "linecolor": "#A2B1C6",
                                                "ticks": ""
                                            }
                                        },
                                        "title": {
                                            "x": 0.05
                                        },
                                        "xaxis": {
                                            "automargin": true,
                                            "gridcolor": "#EBF0F8",
                                            "linecolor": "#EBF0F8",
                                            "ticks": "",
                                            "title": {
                                                "standoff": 15
                                            },
                                            "zerolinecolor": "#EBF0F8",
                                            "zerolinewidth": 2
                                        },
                                        "yaxis": {
                                            "automargin": true,
                                            "gridcolor": "#EBF0F8",
                                            "linecolor": "#EBF0F8",
                                            "ticks": "",
                                            "title": {
                                                "standoff": 15
                                            },
                                            "zerolinecolor": "#EBF0F8",
                                            "zerolinewidth": 2
                                        }
                                    }
                                },
                                "title": {
                                    "text": "Risk Parity Allocation Pie Chart"
                                }
                            }
                        }
                    },
                    "metadata": {},
                    "output_type": "display_data"
                },
                {
                    "data": {
                        "application/vnd.plotly.v1+json": {
                            "config": {
                                "plotlyServerURL": "https://plot.ly"
                            },
                            "data": [
                                {
                                    "line": {
                                        "color": "#1F77B4"
                                    },
                                    "mode": "lines",
                                    "name": "GLD",
                                    "stackgroup": "one",
                                    "type": "scatter",
                                    "x": [
                                        "2005-01-31T00:00:00",
                                        "2005-02-28T00:00:00",
                                        "2005-03-31T00:00:00",
                                        "2005-04-29T00:00:00",
                                        "2005-05-31T00:00:00",
                                        "2005-06-30T00:00:00",
                                        "2005-07-29T00:00:00",
                                        "2005-08-31T00:00:00",
                                        "2005-09-30T00:00:00",
                                        "2005-10-31T00:00:00",
                                        "2005-11-30T00:00:00",
                                        "2005-12-30T00:00:00",
                                        "2006-01-31T00:00:00",
                                        "2006-02-28T00:00:00",
                                        "2006-03-31T00:00:00",
                                        "2006-04-28T00:00:00",
                                        "2006-05-31T00:00:00",
                                        "2006-06-30T00:00:00",
                                        "2006-07-31T00:00:00",
                                        "2006-08-31T00:00:00",
                                        "2006-09-29T00:00:00",
                                        "2006-10-31T00:00:00",
                                        "2006-11-30T00:00:00",
                                        "2006-12-29T00:00:00",
                                        "2007-01-31T00:00:00",
                                        "2007-02-28T00:00:00",
                                        "2007-03-30T00:00:00",
                                        "2007-04-30T00:00:00",
                                        "2007-05-31T00:00:00",
                                        "2007-06-29T00:00:00",
                                        "2007-07-31T00:00:00",
                                        "2007-08-31T00:00:00",
                                        "2007-09-28T00:00:00",
                                        "2007-10-31T00:00:00",
                                        "2007-11-30T00:00:00",
                                        "2007-12-31T00:00:00",
                                        "2008-01-31T00:00:00",
                                        "2008-02-29T00:00:00",
                                        "2008-03-31T00:00:00",
                                        "2008-04-30T00:00:00",
                                        "2008-05-30T00:00:00",
                                        "2008-06-30T00:00:00",
                                        "2008-07-31T00:00:00",
                                        "2008-08-29T00:00:00",
                                        "2008-09-30T00:00:00",
                                        "2008-10-31T00:00:00",
                                        "2008-11-28T00:00:00",
                                        "2008-12-31T00:00:00",
                                        "2009-01-30T00:00:00",
                                        "2009-02-27T00:00:00",
                                        "2009-03-31T00:00:00",
                                        "2009-04-30T00:00:00",
                                        "2009-05-29T00:00:00",
                                        "2009-06-30T00:00:00",
                                        "2009-07-31T00:00:00",
                                        "2009-08-31T00:00:00",
                                        "2009-09-30T00:00:00",
                                        "2009-10-30T00:00:00",
                                        "2009-11-30T00:00:00",
                                        "2009-12-31T00:00:00",
                                        "2010-01-29T00:00:00",
                                        "2010-02-26T00:00:00",
                                        "2010-03-31T00:00:00",
                                        "2010-04-30T00:00:00",
                                        "2010-05-31T00:00:00",
                                        "2010-06-30T00:00:00",
                                        "2010-07-30T00:00:00",
                                        "2010-08-31T00:00:00",
                                        "2010-09-30T00:00:00",
                                        "2010-10-29T00:00:00",
                                        "2010-11-30T00:00:00",
                                        "2010-12-31T00:00:00",
                                        "2011-01-31T00:00:00",
                                        "2011-02-28T00:00:00",
                                        "2011-03-31T00:00:00",
                                        "2011-04-29T00:00:00",
                                        "2011-05-31T00:00:00",
                                        "2011-06-30T00:00:00",
                                        "2011-07-29T00:00:00",
                                        "2011-08-31T00:00:00",
                                        "2011-09-30T00:00:00",
                                        "2011-10-31T00:00:00",
                                        "2011-11-30T00:00:00",
                                        "2011-12-30T00:00:00",
                                        "2012-01-31T00:00:00",
                                        "2012-02-29T00:00:00",
                                        "2012-03-30T00:00:00",
                                        "2012-04-30T00:00:00",
                                        "2012-05-31T00:00:00",
                                        "2012-06-29T00:00:00",
                                        "2012-07-31T00:00:00",
                                        "2012-08-31T00:00:00",
                                        "2012-09-28T00:00:00",
                                        "2012-10-31T00:00:00",
                                        "2012-11-30T00:00:00",
                                        "2012-12-31T00:00:00",
                                        "2013-01-31T00:00:00",
                                        "2013-02-28T00:00:00",
                                        "2013-03-29T00:00:00",
                                        "2013-04-30T00:00:00",
                                        "2013-05-31T00:00:00",
                                        "2013-06-28T00:00:00",
                                        "2013-07-31T00:00:00",
                                        "2013-08-30T00:00:00",
                                        "2013-09-30T00:00:00",
                                        "2013-10-31T00:00:00",
                                        "2013-11-29T00:00:00",
                                        "2013-12-31T00:00:00",
                                        "2014-01-31T00:00:00",
                                        "2014-02-28T00:00:00",
                                        "2014-03-31T00:00:00",
                                        "2014-04-30T00:00:00",
                                        "2014-05-30T00:00:00",
                                        "2014-06-30T00:00:00",
                                        "2014-07-31T00:00:00",
                                        "2014-08-29T00:00:00",
                                        "2014-09-30T00:00:00",
                                        "2014-10-31T00:00:00",
                                        "2014-11-28T00:00:00",
                                        "2014-12-31T00:00:00",
                                        "2015-01-30T00:00:00",
                                        "2015-02-27T00:00:00",
                                        "2015-03-31T00:00:00",
                                        "2015-04-30T00:00:00",
                                        "2015-05-29T00:00:00",
                                        "2015-06-30T00:00:00",
                                        "2015-07-31T00:00:00",
                                        "2015-08-31T00:00:00",
                                        "2015-09-30T00:00:00",
                                        "2015-10-30T00:00:00",
                                        "2015-11-30T00:00:00",
                                        "2015-12-31T00:00:00",
                                        "2016-01-29T00:00:00",
                                        "2016-02-29T00:00:00",
                                        "2016-03-31T00:00:00",
                                        "2016-04-29T00:00:00",
                                        "2016-05-31T00:00:00",
                                        "2016-06-30T00:00:00",
                                        "2016-07-29T00:00:00",
                                        "2016-08-31T00:00:00",
                                        "2016-09-30T00:00:00",
                                        "2016-10-31T00:00:00",
                                        "2016-11-30T00:00:00",
                                        "2016-12-30T00:00:00",
                                        "2017-01-31T00:00:00",
                                        "2017-02-28T00:00:00",
                                        "2017-03-31T00:00:00",
                                        "2017-04-28T00:00:00",
                                        "2017-05-31T00:00:00",
                                        "2017-06-30T00:00:00",
                                        "2017-07-31T00:00:00",
                                        "2017-08-31T00:00:00",
                                        "2017-09-29T00:00:00",
                                        "2017-10-31T00:00:00",
                                        "2017-11-30T00:00:00",
                                        "2017-12-29T00:00:00",
                                        "2018-01-31T00:00:00",
                                        "2018-02-28T00:00:00",
                                        "2018-03-30T00:00:00",
                                        "2018-04-30T00:00:00",
                                        "2018-05-31T00:00:00",
                                        "2018-06-29T00:00:00",
                                        "2018-07-31T00:00:00",
                                        "2018-08-31T00:00:00",
                                        "2018-09-28T00:00:00",
                                        "2018-10-31T00:00:00",
                                        "2018-11-30T00:00:00",
                                        "2018-12-31T00:00:00",
                                        "2019-01-31T00:00:00",
                                        "2019-02-28T00:00:00",
                                        "2019-03-29T00:00:00",
                                        "2019-04-30T00:00:00",
                                        "2019-05-31T00:00:00",
                                        "2019-06-28T00:00:00",
                                        "2019-07-31T00:00:00",
                                        "2019-08-30T00:00:00",
                                        "2019-09-30T00:00:00",
                                        "2019-10-31T00:00:00",
                                        "2019-11-29T00:00:00",
                                        "2019-12-31T00:00:00",
                                        "2020-01-31T00:00:00",
                                        "2020-02-28T00:00:00",
                                        "2020-03-31T00:00:00",
                                        "2020-04-30T00:00:00",
                                        "2020-05-29T00:00:00",
                                        "2020-06-30T00:00:00",
                                        "2020-07-31T00:00:00",
                                        "2020-08-31T00:00:00",
                                        "2020-09-30T00:00:00",
                                        "2020-10-30T00:00:00",
                                        "2020-11-30T00:00:00",
                                        "2020-12-31T00:00:00"
                                    ],
                                    "y": [
                                        0.3679529907063586,
                                        0.5089283249474971,
                                        0.42096888745699057,
                                        0.4139935615110543,
                                        0.4683778395722876,
                                        0.5306698935971352,
                                        0.5903628903683554,
                                        0.5658117257904008,
                                        0.44908803604617575,
                                        0.37031261368267415,
                                        0.31218777021304467,
                                        0.24185226234291868,
                                        0.17520074826274962,
                                        0.14869388938344785,
                                        0.10685642640253018,
                                        0.34833182517097155,
                                        0.2890418049794827,
                                        0.2742886884060816,
                                        0.27227778903919453,
                                        0.2779740501847985,
                                        0.3046143696110763,
                                        0.16232039878564833,
                                        0.2182723243140513,
                                        0.27592639513178396,
                                        0.3053622954605367,
                                        0.3217374807126365,
                                        0.3699866158535481,
                                        0.3376515199063357,
                                        0.3030563842775147,
                                        0.2746362083363722,
                                        0.19502015522666397,
                                        0.15146584464738794,
                                        0.15137438699066905,
                                        0.1497271406538378,
                                        0.14134215000262176,
                                        0.14344709240221834,
                                        0.1247853867455953,
                                        0.11692746667008579,
                                        0.20980337691613163,
                                        0.21052220289193238,
                                        0.2096101249280386,
                                        0.1930047197923174,
                                        0.17656402507120214,
                                        0.13514033906855824,
                                        0.4957268808754765,
                                        0.6076248658386103,
                                        0.640873295461312,
                                        0.6659718092077965,
                                        0.6844212425283077,
                                        0.6982437821581198,
                                        0.7229685780764004,
                                        0.7190301832486545,
                                        0.6914350277164576,
                                        0.2622620034596769,
                                        0.28214170207045497,
                                        0.25625086988715307,
                                        0.21789063580631057,
                                        0.2260035740066256,
                                        0.23044198592960724,
                                        0.5247322348024549,
                                        0.5334490279344225,
                                        0.5110511304038224,
                                        0.4671484075739477,
                                        0.10240263878292281,
                                        0.1065278189341231,
                                        0.10398985951801246,
                                        0.11051136752308612,
                                        0.13233647774164106,
                                        0.1545235921586651,
                                        0.15605427068289093,
                                        0.1406088148715876,
                                        0.1321617881729593,
                                        0.12941519040799215,
                                        0.12089196065221827,
                                        0.11614410364119267,
                                        0.4684688505446501,
                                        0.46170663771206905,
                                        0.42961169749388384,
                                        0.41488603802524787,
                                        0.07898832931622861,
                                        0.08947248966287367,
                                        0.3245230566748419,
                                        0.35274297625098017,
                                        0.3800682261639254,
                                        0.4107680887261214,
                                        0.1738670274577916,
                                        0.22166301519312762,
                                        0.26180415303352556,
                                        0.29711847760087357,
                                        0.33354519258366755,
                                        0.3443685782108989,
                                        0.34238983349817637,
                                        0.3312114139323807,
                                        0.28828248968439635,
                                        0.263169428431786,
                                        0.25245332194418973,
                                        0.2397793082289563,
                                        0.22396978205278864,
                                        0.18206092739025984,
                                        0.4671424794294043,
                                        0.4413436097024005,
                                        1.166116613712854e-13,
                                        0.17894560685074662,
                                        0.19908165134444594,
                                        0.22083563070839196,
                                        0.23034056168185887,
                                        0.23359816425549806,
                                        0.23738311363114184,
                                        0.2554091105123745,
                                        0.19921874639023485,
                                        0.24509819084988266,
                                        0.29693818774785113,
                                        0.36098781815316067,
                                        0.4239763932939231,
                                        0.4587543606442105,
                                        0.489032066346814,
                                        0.4911989437809793,
                                        0.49044187479268725,
                                        0.4784057764856496,
                                        0.5008608157385428,
                                        0.5236118079939699,
                                        0.5319541353420906,
                                        0.5299106989457586,
                                        0.5259098689184538,
                                        0.5084638325473009,
                                        0.4945915188070318,
                                        0.4652519543716518,
                                        0.4237871529974304,
                                        0.3496864094119722,
                                        0.2771275619777177,
                                        0.23844843450713818,
                                        0.21486698948977223,
                                        0.22762801847607125,
                                        0.2334999189522847,
                                        0.21560228740996237,
                                        0.2320676881646282,
                                        0.23576325500922743,
                                        0.24427384062726595,
                                        0.259391535384334,
                                        0.26824401782916757,
                                        0.2629944905701708,
                                        0.2646996016737301,
                                        0.27635422705798474,
                                        0.29482076797698387,
                                        0.3232421321314067,
                                        0.3080827515896608,
                                        0.2897041523086737,
                                        0.2763740639752955,
                                        0.26973082193332204,
                                        0.3026004560638468,
                                        0.3337808681676314,
                                        0.3504041804674845,
                                        0.3486813078862347,
                                        0.3551193478322207,
                                        0.3678542147469401,
                                        0.4411295963163482,
                                        0.4246665332030165,
                                        0.375059394629477,
                                        0.3279039984760031,
                                        0.2900413767519531,
                                        0.7891853964062072,
                                        0.7915473523654488,
                                        0.7795999312395562,
                                        1,
                                        1,
                                        0.3231601002238583,
                                        0.3377411119329092,
                                        0.30884587590290363,
                                        0.32636428397183576,
                                        0.33447204469420067,
                                        0.3637646274154989,
                                        0.40054624309519676,
                                        0.4340438682053563,
                                        0.424887314876579,
                                        0.39060371427135315,
                                        0.36936269357003654,
                                        0.3691639916357863,
                                        0.366752925354561,
                                        0.3745870672518293,
                                        0.36938938557755646,
                                        0.34433642669684345,
                                        0.3305243752543174,
                                        0.32275096785905066,
                                        0.3223512692807006,
                                        0.3260187866668024,
                                        0.32545800531414926,
                                        0.30267881265694113,
                                        0.2710121340055996,
                                        0.26100324809286896,
                                        0.2513365839341369,
                                        0.24834470156307345,
                                        0.23797300646004976
                                    ]
                                },
                                {
                                    "line": {
                                        "color": "#b41f49"
                                    },
                                    "mode": "lines",
                                    "name": "SPY",
                                    "stackgroup": "one",
                                    "type": "scatter",
                                    "x": [
                                        "2005-01-31T00:00:00",
                                        "2005-02-28T00:00:00",
                                        "2005-03-31T00:00:00",
                                        "2005-04-29T00:00:00",
                                        "2005-05-31T00:00:00",
                                        "2005-06-30T00:00:00",
                                        "2005-07-29T00:00:00",
                                        "2005-08-31T00:00:00",
                                        "2005-09-30T00:00:00",
                                        "2005-10-31T00:00:00",
                                        "2005-11-30T00:00:00",
                                        "2005-12-30T00:00:00",
                                        "2006-01-31T00:00:00",
                                        "2006-02-28T00:00:00",
                                        "2006-03-31T00:00:00",
                                        "2006-04-28T00:00:00",
                                        "2006-05-31T00:00:00",
                                        "2006-06-30T00:00:00",
                                        "2006-07-31T00:00:00",
                                        "2006-08-31T00:00:00",
                                        "2006-09-29T00:00:00",
                                        "2006-10-31T00:00:00",
                                        "2006-11-30T00:00:00",
                                        "2006-12-29T00:00:00",
                                        "2007-01-31T00:00:00",
                                        "2007-02-28T00:00:00",
                                        "2007-03-30T00:00:00",
                                        "2007-04-30T00:00:00",
                                        "2007-05-31T00:00:00",
                                        "2007-06-29T00:00:00",
                                        "2007-07-31T00:00:00",
                                        "2007-08-31T00:00:00",
                                        "2007-09-28T00:00:00",
                                        "2007-10-31T00:00:00",
                                        "2007-11-30T00:00:00",
                                        "2007-12-31T00:00:00",
                                        "2008-01-31T00:00:00",
                                        "2008-02-29T00:00:00",
                                        "2008-03-31T00:00:00",
                                        "2008-04-30T00:00:00",
                                        "2008-05-30T00:00:00",
                                        "2008-06-30T00:00:00",
                                        "2008-07-31T00:00:00",
                                        "2008-08-29T00:00:00",
                                        "2008-09-30T00:00:00",
                                        "2008-10-31T00:00:00",
                                        "2008-11-28T00:00:00",
                                        "2008-12-31T00:00:00",
                                        "2009-01-30T00:00:00",
                                        "2009-02-27T00:00:00",
                                        "2009-03-31T00:00:00",
                                        "2009-04-30T00:00:00",
                                        "2009-05-29T00:00:00",
                                        "2009-06-30T00:00:00",
                                        "2009-07-31T00:00:00",
                                        "2009-08-31T00:00:00",
                                        "2009-09-30T00:00:00",
                                        "2009-10-30T00:00:00",
                                        "2009-11-30T00:00:00",
                                        "2009-12-31T00:00:00",
                                        "2010-01-29T00:00:00",
                                        "2010-02-26T00:00:00",
                                        "2010-03-31T00:00:00",
                                        "2010-04-30T00:00:00",
                                        "2010-05-31T00:00:00",
                                        "2010-06-30T00:00:00",
                                        "2010-07-30T00:00:00",
                                        "2010-08-31T00:00:00",
                                        "2010-09-30T00:00:00",
                                        "2010-10-29T00:00:00",
                                        "2010-11-30T00:00:00",
                                        "2010-12-31T00:00:00",
                                        "2011-01-31T00:00:00",
                                        "2011-02-28T00:00:00",
                                        "2011-03-31T00:00:00",
                                        "2011-04-29T00:00:00",
                                        "2011-05-31T00:00:00",
                                        "2011-06-30T00:00:00",
                                        "2011-07-29T00:00:00",
                                        "2011-08-31T00:00:00",
                                        "2011-09-30T00:00:00",
                                        "2011-10-31T00:00:00",
                                        "2011-11-30T00:00:00",
                                        "2011-12-30T00:00:00",
                                        "2012-01-31T00:00:00",
                                        "2012-02-29T00:00:00",
                                        "2012-03-30T00:00:00",
                                        "2012-04-30T00:00:00",
                                        "2012-05-31T00:00:00",
                                        "2012-06-29T00:00:00",
                                        "2012-07-31T00:00:00",
                                        "2012-08-31T00:00:00",
                                        "2012-09-28T00:00:00",
                                        "2012-10-31T00:00:00",
                                        "2012-11-30T00:00:00",
                                        "2012-12-31T00:00:00",
                                        "2013-01-31T00:00:00",
                                        "2013-02-28T00:00:00",
                                        "2013-03-29T00:00:00",
                                        "2013-04-30T00:00:00",
                                        "2013-05-31T00:00:00",
                                        "2013-06-28T00:00:00",
                                        "2013-07-31T00:00:00",
                                        "2013-08-30T00:00:00",
                                        "2013-09-30T00:00:00",
                                        "2013-10-31T00:00:00",
                                        "2013-11-29T00:00:00",
                                        "2013-12-31T00:00:00",
                                        "2014-01-31T00:00:00",
                                        "2014-02-28T00:00:00",
                                        "2014-03-31T00:00:00",
                                        "2014-04-30T00:00:00",
                                        "2014-05-30T00:00:00",
                                        "2014-06-30T00:00:00",
                                        "2014-07-31T00:00:00",
                                        "2014-08-29T00:00:00",
                                        "2014-09-30T00:00:00",
                                        "2014-10-31T00:00:00",
                                        "2014-11-28T00:00:00",
                                        "2014-12-31T00:00:00",
                                        "2015-01-30T00:00:00",
                                        "2015-02-27T00:00:00",
                                        "2015-03-31T00:00:00",
                                        "2015-04-30T00:00:00",
                                        "2015-05-29T00:00:00",
                                        "2015-06-30T00:00:00",
                                        "2015-07-31T00:00:00",
                                        "2015-08-31T00:00:00",
                                        "2015-09-30T00:00:00",
                                        "2015-10-30T00:00:00",
                                        "2015-11-30T00:00:00",
                                        "2015-12-31T00:00:00",
                                        "2016-01-29T00:00:00",
                                        "2016-02-29T00:00:00",
                                        "2016-03-31T00:00:00",
                                        "2016-04-29T00:00:00",
                                        "2016-05-31T00:00:00",
                                        "2016-06-30T00:00:00",
                                        "2016-07-29T00:00:00",
                                        "2016-08-31T00:00:00",
                                        "2016-09-30T00:00:00",
                                        "2016-10-31T00:00:00",
                                        "2016-11-30T00:00:00",
                                        "2016-12-30T00:00:00",
                                        "2017-01-31T00:00:00",
                                        "2017-02-28T00:00:00",
                                        "2017-03-31T00:00:00",
                                        "2017-04-28T00:00:00",
                                        "2017-05-31T00:00:00",
                                        "2017-06-30T00:00:00",
                                        "2017-07-31T00:00:00",
                                        "2017-08-31T00:00:00",
                                        "2017-09-29T00:00:00",
                                        "2017-10-31T00:00:00",
                                        "2017-11-30T00:00:00",
                                        "2017-12-29T00:00:00",
                                        "2018-01-31T00:00:00",
                                        "2018-02-28T00:00:00",
                                        "2018-03-30T00:00:00",
                                        "2018-04-30T00:00:00",
                                        "2018-05-31T00:00:00",
                                        "2018-06-29T00:00:00",
                                        "2018-07-31T00:00:00",
                                        "2018-08-31T00:00:00",
                                        "2018-09-28T00:00:00",
                                        "2018-10-31T00:00:00",
                                        "2018-11-30T00:00:00",
                                        "2018-12-31T00:00:00",
                                        "2019-01-31T00:00:00",
                                        "2019-02-28T00:00:00",
                                        "2019-03-29T00:00:00",
                                        "2019-04-30T00:00:00",
                                        "2019-05-31T00:00:00",
                                        "2019-06-28T00:00:00",
                                        "2019-07-31T00:00:00",
                                        "2019-08-30T00:00:00",
                                        "2019-09-30T00:00:00",
                                        "2019-10-31T00:00:00",
                                        "2019-11-29T00:00:00",
                                        "2019-12-31T00:00:00",
                                        "2020-01-31T00:00:00",
                                        "2020-02-28T00:00:00",
                                        "2020-03-31T00:00:00",
                                        "2020-04-30T00:00:00",
                                        "2020-05-29T00:00:00",
                                        "2020-06-30T00:00:00",
                                        "2020-07-31T00:00:00",
                                        "2020-08-31T00:00:00",
                                        "2020-09-30T00:00:00",
                                        "2020-10-30T00:00:00",
                                        "2020-11-30T00:00:00",
                                        "2020-12-31T00:00:00"
                                    ],
                                    "y": [
                                        0.3195715592984802,
                                        0.2123369437703902,
                                        0.1896915078458358,
                                        0.20024993995721316,
                                        0.20309186382583855,
                                        0.23049023851148745,
                                        0.1898557312180953,
                                        0.18583578263232836,
                                        0.23137100675292788,
                                        0.2677006729910324,
                                        0.24967583704553334,
                                        0.23288667960030174,
                                        0.21836006786243306,
                                        0.20105759771209006,
                                        0.14630604073905856,
                                        0.6516681748290283,
                                        0.7109581950205175,
                                        0.7257113115939184,
                                        0.7277222109608055,
                                        0.7220259498152016,
                                        0.6953856303889248,
                                        0.17256086751918306,
                                        0.16570521186989948,
                                        0.16099009191961447,
                                        0.15336023583617273,
                                        0.1505262269777513,
                                        0.1518981292922511,
                                        0.1409811883743214,
                                        0.1297582654203205,
                                        0.11131560625020444,
                                        0.1052549111590011,
                                        0.1164940608337323,
                                        0.15286447509585552,
                                        0.18144356683607432,
                                        0.27576242548507796,
                                        0.3350844974667146,
                                        0.4094328308411874,
                                        0.434137333305812,
                                        1.763454833547673e-16,
                                        2.233456475320139e-17,
                                        1.0576392192596096e-16,
                                        0,
                                        2.032879073410321e-18,
                                        0.28451093266513644,
                                        0.5042731191245236,
                                        0.3923751341613898,
                                        0.35912670453868806,
                                        0.3340281907922034,
                                        0.31557875747169234,
                                        0.3017562178418803,
                                        0.2770314219235996,
                                        0.2809698167513455,
                                        0.30856497228354224,
                                        0.22100639034807174,
                                        0.2433257458789072,
                                        0.2717839837421233,
                                        0.29255350697881577,
                                        0.2308448202229618,
                                        0.1887053046877123,
                                        0.4752677651975448,
                                        0.466550972065578,
                                        0.48894886959617795,
                                        0.5328515924260518,
                                        0.11739913174591657,
                                        0.15610036362675958,
                                        0.22178660201788425,
                                        0.3263814235491633,
                                        0.43809377531463267,
                                        0.4998051570866647,
                                        0.5131095527642493,
                                        0.48186226310937974,
                                        0.4151852679177419,
                                        0.35290788330881756,
                                        0.30710891516751887,
                                        0.25081481698173713,
                                        0.5315311494553497,
                                        0.538293362287931,
                                        0.5703883025061162,
                                        0.5851139619747522,
                                        0.3730432928950428,
                                        0.5238028224623427,
                                        3.7816971776294395e-16,
                                        0,
                                        2.3635607360183997e-17,
                                        1.734723475976807e-18,
                                        0.6037772310930064,
                                        0.5272488482794194,
                                        0.4604080051292548,
                                        0.4063862286778977,
                                        0.3445530558298536,
                                        0.21023207498520374,
                                        0.20259527335481797,
                                        0.2069223944698927,
                                        0.22528104662693538,
                                        0.26103625067696395,
                                        0.2980190347773777,
                                        0.2954139878332514,
                                        0.289974317554247,
                                        0.26380501194381023,
                                        0.5328575205705961,
                                        0.5586563902975995,
                                        0.9999999999998659,
                                        0,
                                        1.2576745200831851e-17,
                                        3.3946199072168214e-17,
                                        5.089694568410408e-18,
                                        0,
                                        0,
                                        1.267107078983809e-15,
                                        0.3921766032169331,
                                        0.3349643816329935,
                                        0.25945978836863254,
                                        0.20055185636097306,
                                        0.18668715496967248,
                                        0.18519877182534036,
                                        0.18521907912734012,
                                        0.19006280747853632,
                                        0.20502307131839742,
                                        0.20998275490293983,
                                        0.18747700762514571,
                                        0.23399579038982882,
                                        0.2542325366947582,
                                        0.2549637748317049,
                                        0.26239898037308984,
                                        0.27231575028104615,
                                        0.2862574073733118,
                                        0.3142035690528639,
                                        0.3194716373374235,
                                        0.31159271875622824,
                                        0.35625895369869065,
                                        0.372396371656437,
                                        0.3849737137195933,
                                        0.28691642961171765,
                                        0.29264726144523684,
                                        0.31870199017574097,
                                        0.32993808066052005,
                                        0.3491901144244633,
                                        0.3576742902396144,
                                        0.3485247159023215,
                                        0.33471038130410474,
                                        0.33539812772021693,
                                        0.3181812069105026,
                                        0.28269308266738796,
                                        0.27556502388154985,
                                        0.31263266647282223,
                                        0.3491715429569078,
                                        0.3444578175535314,
                                        0.339757225419221,
                                        0.34172297154323217,
                                        0.3197727659039869,
                                        0.2715708531075039,
                                        0.2179544122783988,
                                        0.17478436892433022,
                                        0.15308627420876547,
                                        0.15355847082515225,
                                        0.12566963584024715,
                                        0.10181709004928431,
                                        0.093108624845305,
                                        0.0771799343377592,
                                        0.08142863636421105,
                                        0.21081460359379317,
                                        0.2084526476345514,
                                        0.22040006876044382,
                                        0,
                                        0,
                                        0.19810149668653715,
                                        0.23102814100496474,
                                        0.19027937134293504,
                                        0.18477717766897736,
                                        0.19542025092639206,
                                        0.19915758435575273,
                                        0.18460929727947642,
                                        0.1856068061118137,
                                        0.21005574178268974,
                                        0.21236187787248395,
                                        0.26433065538123335,
                                        0.2626917527536817,
                                        0.25815031763661084,
                                        0.23250751783056636,
                                        0.23925840283031283,
                                        0.2316777772770948,
                                        0.2225971517736732,
                                        0.2429390419380917,
                                        0.2721979574885061,
                                        0.2897877141449603,
                                        0.2878820480312078,
                                        0.2830434904466691,
                                        0.2764765911202243,
                                        0.2621183057097494,
                                        0.24034744631882907,
                                        0.20064971063434942,
                                        0.1506055785376782
                                    ]
                                },
                                {
                                    "line": {
                                        "color": "#f7cf07"
                                    },
                                    "mode": "lines",
                                    "name": "TLT",
                                    "stackgroup": "one",
                                    "type": "scatter",
                                    "x": [
                                        "2005-01-31T00:00:00",
                                        "2005-02-28T00:00:00",
                                        "2005-03-31T00:00:00",
                                        "2005-04-29T00:00:00",
                                        "2005-05-31T00:00:00",
                                        "2005-06-30T00:00:00",
                                        "2005-07-29T00:00:00",
                                        "2005-08-31T00:00:00",
                                        "2005-09-30T00:00:00",
                                        "2005-10-31T00:00:00",
                                        "2005-11-30T00:00:00",
                                        "2005-12-30T00:00:00",
                                        "2006-01-31T00:00:00",
                                        "2006-02-28T00:00:00",
                                        "2006-03-31T00:00:00",
                                        "2006-04-28T00:00:00",
                                        "2006-05-31T00:00:00",
                                        "2006-06-30T00:00:00",
                                        "2006-07-31T00:00:00",
                                        "2006-08-31T00:00:00",
                                        "2006-09-29T00:00:00",
                                        "2006-10-31T00:00:00",
                                        "2006-11-30T00:00:00",
                                        "2006-12-29T00:00:00",
                                        "2007-01-31T00:00:00",
                                        "2007-02-28T00:00:00",
                                        "2007-03-30T00:00:00",
                                        "2007-04-30T00:00:00",
                                        "2007-05-31T00:00:00",
                                        "2007-06-29T00:00:00",
                                        "2007-07-31T00:00:00",
                                        "2007-08-31T00:00:00",
                                        "2007-09-28T00:00:00",
                                        "2007-10-31T00:00:00",
                                        "2007-11-30T00:00:00",
                                        "2007-12-31T00:00:00",
                                        "2008-01-31T00:00:00",
                                        "2008-02-29T00:00:00",
                                        "2008-03-31T00:00:00",
                                        "2008-04-30T00:00:00",
                                        "2008-05-30T00:00:00",
                                        "2008-06-30T00:00:00",
                                        "2008-07-31T00:00:00",
                                        "2008-08-29T00:00:00",
                                        "2008-09-30T00:00:00",
                                        "2008-10-31T00:00:00",
                                        "2008-11-28T00:00:00",
                                        "2008-12-31T00:00:00",
                                        "2009-01-30T00:00:00",
                                        "2009-02-27T00:00:00",
                                        "2009-03-31T00:00:00",
                                        "2009-04-30T00:00:00",
                                        "2009-05-29T00:00:00",
                                        "2009-06-30T00:00:00",
                                        "2009-07-31T00:00:00",
                                        "2009-08-31T00:00:00",
                                        "2009-09-30T00:00:00",
                                        "2009-10-30T00:00:00",
                                        "2009-11-30T00:00:00",
                                        "2009-12-31T00:00:00",
                                        "2010-01-29T00:00:00",
                                        "2010-02-26T00:00:00",
                                        "2010-03-31T00:00:00",
                                        "2010-04-30T00:00:00",
                                        "2010-05-31T00:00:00",
                                        "2010-06-30T00:00:00",
                                        "2010-07-30T00:00:00",
                                        "2010-08-31T00:00:00",
                                        "2010-09-30T00:00:00",
                                        "2010-10-29T00:00:00",
                                        "2010-11-30T00:00:00",
                                        "2010-12-31T00:00:00",
                                        "2011-01-31T00:00:00",
                                        "2011-02-28T00:00:00",
                                        "2011-03-31T00:00:00",
                                        "2011-04-29T00:00:00",
                                        "2011-05-31T00:00:00",
                                        "2011-06-30T00:00:00",
                                        "2011-07-29T00:00:00",
                                        "2011-08-31T00:00:00",
                                        "2011-09-30T00:00:00",
                                        "2011-10-31T00:00:00",
                                        "2011-11-30T00:00:00",
                                        "2011-12-30T00:00:00",
                                        "2012-01-31T00:00:00",
                                        "2012-02-29T00:00:00",
                                        "2012-03-30T00:00:00",
                                        "2012-04-30T00:00:00",
                                        "2012-05-31T00:00:00",
                                        "2012-06-29T00:00:00",
                                        "2012-07-31T00:00:00",
                                        "2012-08-31T00:00:00",
                                        "2012-09-28T00:00:00",
                                        "2012-10-31T00:00:00",
                                        "2012-11-30T00:00:00",
                                        "2012-12-31T00:00:00",
                                        "2013-01-31T00:00:00",
                                        "2013-02-28T00:00:00",
                                        "2013-03-29T00:00:00",
                                        "2013-04-30T00:00:00",
                                        "2013-05-31T00:00:00",
                                        "2013-06-28T00:00:00",
                                        "2013-07-31T00:00:00",
                                        "2013-08-30T00:00:00",
                                        "2013-09-30T00:00:00",
                                        "2013-10-31T00:00:00",
                                        "2013-11-29T00:00:00",
                                        "2013-12-31T00:00:00",
                                        "2014-01-31T00:00:00",
                                        "2014-02-28T00:00:00",
                                        "2014-03-31T00:00:00",
                                        "2014-04-30T00:00:00",
                                        "2014-05-30T00:00:00",
                                        "2014-06-30T00:00:00",
                                        "2014-07-31T00:00:00",
                                        "2014-08-29T00:00:00",
                                        "2014-09-30T00:00:00",
                                        "2014-10-31T00:00:00",
                                        "2014-11-28T00:00:00",
                                        "2014-12-31T00:00:00",
                                        "2015-01-30T00:00:00",
                                        "2015-02-27T00:00:00",
                                        "2015-03-31T00:00:00",
                                        "2015-04-30T00:00:00",
                                        "2015-05-29T00:00:00",
                                        "2015-06-30T00:00:00",
                                        "2015-07-31T00:00:00",
                                        "2015-08-31T00:00:00",
                                        "2015-09-30T00:00:00",
                                        "2015-10-30T00:00:00",
                                        "2015-11-30T00:00:00",
                                        "2015-12-31T00:00:00",
                                        "2016-01-29T00:00:00",
                                        "2016-02-29T00:00:00",
                                        "2016-03-31T00:00:00",
                                        "2016-04-29T00:00:00",
                                        "2016-05-31T00:00:00",
                                        "2016-06-30T00:00:00",
                                        "2016-07-29T00:00:00",
                                        "2016-08-31T00:00:00",
                                        "2016-09-30T00:00:00",
                                        "2016-10-31T00:00:00",
                                        "2016-11-30T00:00:00",
                                        "2016-12-30T00:00:00",
                                        "2017-01-31T00:00:00",
                                        "2017-02-28T00:00:00",
                                        "2017-03-31T00:00:00",
                                        "2017-04-28T00:00:00",
                                        "2017-05-31T00:00:00",
                                        "2017-06-30T00:00:00",
                                        "2017-07-31T00:00:00",
                                        "2017-08-31T00:00:00",
                                        "2017-09-29T00:00:00",
                                        "2017-10-31T00:00:00",
                                        "2017-11-30T00:00:00",
                                        "2017-12-29T00:00:00",
                                        "2018-01-31T00:00:00",
                                        "2018-02-28T00:00:00",
                                        "2018-03-30T00:00:00",
                                        "2018-04-30T00:00:00",
                                        "2018-05-31T00:00:00",
                                        "2018-06-29T00:00:00",
                                        "2018-07-31T00:00:00",
                                        "2018-08-31T00:00:00",
                                        "2018-09-28T00:00:00",
                                        "2018-10-31T00:00:00",
                                        "2018-11-30T00:00:00",
                                        "2018-12-31T00:00:00",
                                        "2019-01-31T00:00:00",
                                        "2019-02-28T00:00:00",
                                        "2019-03-29T00:00:00",
                                        "2019-04-30T00:00:00",
                                        "2019-05-31T00:00:00",
                                        "2019-06-28T00:00:00",
                                        "2019-07-31T00:00:00",
                                        "2019-08-30T00:00:00",
                                        "2019-09-30T00:00:00",
                                        "2019-10-31T00:00:00",
                                        "2019-11-29T00:00:00",
                                        "2019-12-31T00:00:00",
                                        "2020-01-31T00:00:00",
                                        "2020-02-28T00:00:00",
                                        "2020-03-31T00:00:00",
                                        "2020-04-30T00:00:00",
                                        "2020-05-29T00:00:00",
                                        "2020-06-30T00:00:00",
                                        "2020-07-31T00:00:00",
                                        "2020-08-31T00:00:00",
                                        "2020-09-30T00:00:00",
                                        "2020-10-30T00:00:00",
                                        "2020-11-30T00:00:00",
                                        "2020-12-31T00:00:00"
                                    ],
                                    "y": [
                                        0.31247544999516114,
                                        0.2787347312821127,
                                        0.38933960469717366,
                                        0.38575649853173255,
                                        0.3285302966018739,
                                        0.23883986789137746,
                                        0.21978137841354914,
                                        0.2483524915772708,
                                        0.31954095720089637,
                                        0.3619867133262934,
                                        0.4381363927414221,
                                        0.5252610580567796,
                                        0.6064391838748174,
                                        0.6502485129044621,
                                        0.7468375328584113,
                                        1.448494102440634e-16,
                                        0,
                                        0,
                                        0,
                                        3.577867169202165e-18,
                                        0,
                                        0.6651187336951685,
                                        0.6160224638160493,
                                        0.5630835129486016,
                                        0.5412774687032905,
                                        0.5277362923096122,
                                        0.4781152548542008,
                                        0.5213672917193429,
                                        0.5671853503021648,
                                        0.6140481854134233,
                                        0.699724933614335,
                                        0.7320400945188797,
                                        0.6957611379134756,
                                        0.6688292925100878,
                                        0.5828954245123003,
                                        0.5214684101310672,
                                        0.46578178241321727,
                                        0.4489352000241022,
                                        0.7901966230838683,
                                        0.7894777971080675,
                                        0.7903898750719613,
                                        0.8069952802076837,
                                        0.8234359749287979,
                                        0.5803487282663053,
                                        1.3010426069826053e-17,
                                        0,
                                        0,
                                        2.3418766925686896e-17,
                                        0,
                                        0,
                                        6.408990092104938e-17,
                                        2.927345865710862e-17,
                                        2.8476570060331774e-16,
                                        0.5167316061922514,
                                        0.4745325520506377,
                                        0.4719651463707236,
                                        0.48955585721487366,
                                        0.5431516057704125,
                                        0.5808527093826805,
                                        1.8735013540549517e-16,
                                        0,
                                        0,
                                        3.7470027081099033e-16,
                                        0.7801982294711607,
                                        0.7373718174391174,
                                        0.6742235384641033,
                                        0.5631072089277507,
                                        0.4295697469437263,
                                        0.34567125075467026,
                                        0.33083617655285996,
                                        0.3775289220190326,
                                        0.4526529439092989,
                                        0.5176769262831903,
                                        0.5719991241802629,
                                        0.6330410793770702,
                                        1.6469031000054812e-16,
                                        1.0950441942103595e-17,
                                        5.204170427930421e-18,
                                        0,
                                        0.5479683777887286,
                                        0.38672468787478365,
                                        0.6754769433251578,
                                        0.6472570237490198,
                                        0.6199317738360746,
                                        0.5892319112738788,
                                        0.222355741449202,
                                        0.25108813652745304,
                                        0.27778784183721966,
                                        0.2964952937212286,
                                        0.32190175158647877,
                                        0.44539934680389726,
                                        0.4550148931470056,
                                        0.46186619159772657,
                                        0.48643646368866833,
                                        0.47579432089125007,
                                        0.4495276432784326,
                                        0.46480670393779233,
                                        0.4860559003929643,
                                        0.55413406066593,
                                        0,
                                        1.5634195327240974e-16,
                                        1.7486012637846216e-14,
                                        0.8210543931492534,
                                        0.8009183486555541,
                                        0.779164369291608,
                                        0.7696594383181412,
                                        0.766401835744502,
                                        0.7626168863688582,
                                        0.7445908894876243,
                                        0.408604650392832,
                                        0.41993742751712393,
                                        0.4436020238835163,
                                        0.4384603254858663,
                                        0.3893364517364044,
                                        0.3560468675304492,
                                        0.3257488545258459,
                                        0.31873824874048445,
                                        0.30453505388891533,
                                        0.31161146861141054,
                                        0.3116621766363114,
                                        0.24239240161620118,
                                        0.2138133279631512,
                                        0.21512552622253647,
                                        0.2116911507084562,
                                        0.21922041717165297,
                                        0.21915107381965648,
                                        0.22054447657548434,
                                        0.2567412096651461,
                                        0.33872087183179955,
                                        0.36661348432359164,
                                        0.3891551938364247,
                                        0.40015929679063444,
                                        0.4854555519122111,
                                        0.47385281960247855,
                                        0.46569572241429663,
                                        0.43799423117485187,
                                        0.41504663056630925,
                                        0.3980518691331197,
                                        0.3920837487133444,
                                        0.39704560086672763,
                                        0.40160738170961213,
                                        0.41711919141576725,
                                        0.4409526902746273,
                                        0.4296142081414663,
                                        0.3641252013957711,
                                        0.3427457054534314,
                                        0.3658380301377949,
                                        0.38386871060548344,
                                        0.3885462065234457,
                                        0.37762677803216627,
                                        0.3946482787248647,
                                        0.43164140725411665,
                                        0.47653432318943517,
                                        0.4917943779590138,
                                        0.47858731442790764,
                                        0.43320076784340467,
                                        0.4735163767476992,
                                        0.5318319805252181,
                                        0.5949160671862377,
                                        0.6285299868838359,
                                        0,
                                        0,
                                        2.2876665839444144e-17,
                                        1.6653345369377348e-16,
                                        3.885780586188048e-16,
                                        0.4787384030896044,
                                        0.4312307470621261,
                                        0.5008747527541614,
                                        0.4888585383591872,
                                        0.47010770437940724,
                                        0.4370777882287483,
                                        0.41484445962532673,
                                        0.38034932568283,
                                        0.36505694334073124,
                                        0.3970344078561629,
                                        0.3663066510487301,
                                        0.368144255610532,
                                        0.3750967570088283,
                                        0.3929054149176044,
                                        0.3913522115921307,
                                        0.42398579602606173,
                                        0.4468784729720095,
                                        0.43430999020285765,
                                        0.4054507732307932,
                                        0.38419349918823725,
                                        0.386659946654643,
                                        0.4142776968963899,
                                        0.4525112748741761,
                                        0.47687844619738157,
                                        0.508315969747034,
                                        0.5510055878025771,
                                        0.611421415002272
                                    ]
                                }
                            ],
                            "layout": {
                                "height": 500,
                                "legend": {
                                    "title": {
                                        "text": "Assets"
                                    }
                                },
                                "template": {
                                    "data": {
                                        "bar": [
                                            {
                                                "error_x": {
                                                    "color": "#2a3f5f"
                                                },
                                                "error_y": {
                                                    "color": "#2a3f5f"
                                                },
                                                "marker": {
                                                    "line": {
                                                        "color": "#E5ECF6",
                                                        "width": 0.5
                                                    },
                                                    "pattern": {
                                                        "fillmode": "overlay",
                                                        "size": 10,
                                                        "solidity": 0.2
                                                    }
                                                },
                                                "type": "bar"
                                            }
                                        ],
                                        "barpolar": [
                                            {
                                                "marker": {
                                                    "line": {
                                                        "color": "#E5ECF6",
                                                        "width": 0.5
                                                    },
                                                    "pattern": {
                                                        "fillmode": "overlay",
                                                        "size": 10,
                                                        "solidity": 0.2
                                                    }
                                                },
                                                "type": "barpolar"
                                            }
                                        ],
                                        "carpet": [
                                            {
                                                "aaxis": {
                                                    "endlinecolor": "#2a3f5f",
                                                    "gridcolor": "white",
                                                    "linecolor": "white",
                                                    "minorgridcolor": "white",
                                                    "startlinecolor": "#2a3f5f"
                                                },
                                                "baxis": {
                                                    "endlinecolor": "#2a3f5f",
                                                    "gridcolor": "white",
                                                    "linecolor": "white",
                                                    "minorgridcolor": "white",
                                                    "startlinecolor": "#2a3f5f"
                                                },
                                                "type": "carpet"
                                            }
                                        ],
                                        "choropleth": [
                                            {
                                                "colorbar": {
                                                    "outlinewidth": 0,
                                                    "ticks": ""
                                                },
                                                "type": "choropleth"
                                            }
                                        ],
                                        "contour": [
                                            {
                                                "colorbar": {
                                                    "outlinewidth": 0,
                                                    "ticks": ""
                                                },
                                                "colorscale": [
                                                    [
                                                        0,
                                                        "#0d0887"
                                                    ],
                                                    [
                                                        0.1111111111111111,
                                                        "#46039f"
                                                    ],
                                                    [
                                                        0.2222222222222222,
                                                        "#7201a8"
                                                    ],
                                                    [
                                                        0.3333333333333333,
                                                        "#9c179e"
                                                    ],
                                                    [
                                                        0.4444444444444444,
                                                        "#bd3786"
                                                    ],
                                                    [
                                                        0.5555555555555556,
                                                        "#d8576b"
                                                    ],
                                                    [
                                                        0.6666666666666666,
                                                        "#ed7953"
                                                    ],
                                                    [
                                                        0.7777777777777778,
                                                        "#fb9f3a"
                                                    ],
                                                    [
                                                        0.8888888888888888,
                                                        "#fdca26"
                                                    ],
                                                    [
                                                        1,
                                                        "#f0f921"
                                                    ]
                                                ],
                                                "type": "contour"
                                            }
                                        ],
                                        "contourcarpet": [
                                            {
                                                "colorbar": {
                                                    "outlinewidth": 0,
                                                    "ticks": ""
                                                },
                                                "type": "contourcarpet"
                                            }
                                        ],
                                        "heatmap": [
                                            {
                                                "colorbar": {
                                                    "outlinewidth": 0,
                                                    "ticks": ""
                                                },
                                                "colorscale": [
                                                    [
                                                        0,
                                                        "#0d0887"
                                                    ],
                                                    [
                                                        0.1111111111111111,
                                                        "#46039f"
                                                    ],
                                                    [
                                                        0.2222222222222222,
                                                        "#7201a8"
                                                    ],
                                                    [
                                                        0.3333333333333333,
                                                        "#9c179e"
                                                    ],
                                                    [
                                                        0.4444444444444444,
                                                        "#bd3786"
                                                    ],
                                                    [
                                                        0.5555555555555556,
                                                        "#d8576b"
                                                    ],
                                                    [
                                                        0.6666666666666666,
                                                        "#ed7953"
                                                    ],
                                                    [
                                                        0.7777777777777778,
                                                        "#fb9f3a"
                                                    ],
                                                    [
                                                        0.8888888888888888,
                                                        "#fdca26"
                                                    ],
                                                    [
                                                        1,
                                                        "#f0f921"
                                                    ]
                                                ],
                                                "type": "heatmap"
                                            }
                                        ],
                                        "heatmapgl": [
                                            {
                                                "colorbar": {
                                                    "outlinewidth": 0,
                                                    "ticks": ""
                                                },
                                                "colorscale": [
                                                    [
                                                        0,
                                                        "#0d0887"
                                                    ],
                                                    [
                                                        0.1111111111111111,
                                                        "#46039f"
                                                    ],
                                                    [
                                                        0.2222222222222222,
                                                        "#7201a8"
                                                    ],
                                                    [
                                                        0.3333333333333333,
                                                        "#9c179e"
                                                    ],
                                                    [
                                                        0.4444444444444444,
                                                        "#bd3786"
                                                    ],
                                                    [
                                                        0.5555555555555556,
                                                        "#d8576b"
                                                    ],
                                                    [
                                                        0.6666666666666666,
                                                        "#ed7953"
                                                    ],
                                                    [
                                                        0.7777777777777778,
                                                        "#fb9f3a"
                                                    ],
                                                    [
                                                        0.8888888888888888,
                                                        "#fdca26"
                                                    ],
                                                    [
                                                        1,
                                                        "#f0f921"
                                                    ]
                                                ],
                                                "type": "heatmapgl"
                                            }
                                        ],
                                        "histogram": [
                                            {
                                                "marker": {
                                                    "pattern": {
                                                        "fillmode": "overlay",
                                                        "size": 10,
                                                        "solidity": 0.2
                                                    }
                                                },
                                                "type": "histogram"
                                            }
                                        ],
                                        "histogram2d": [
                                            {
                                                "colorbar": {
                                                    "outlinewidth": 0,
                                                    "ticks": ""
                                                },
                                                "colorscale": [
                                                    [
                                                        0,
                                                        "#0d0887"
                                                    ],
                                                    [
                                                        0.1111111111111111,
                                                        "#46039f"
                                                    ],
                                                    [
                                                        0.2222222222222222,
                                                        "#7201a8"
                                                    ],
                                                    [
                                                        0.3333333333333333,
                                                        "#9c179e"
                                                    ],
                                                    [
                                                        0.4444444444444444,
                                                        "#bd3786"
                                                    ],
                                                    [
                                                        0.5555555555555556,
                                                        "#d8576b"
                                                    ],
                                                    [
                                                        0.6666666666666666,
                                                        "#ed7953"
                                                    ],
                                                    [
                                                        0.7777777777777778,
                                                        "#fb9f3a"
                                                    ],
                                                    [
                                                        0.8888888888888888,
                                                        "#fdca26"
                                                    ],
                                                    [
                                                        1,
                                                        "#f0f921"
                                                    ]
                                                ],
                                                "type": "histogram2d"
                                            }
                                        ],
                                        "histogram2dcontour": [
                                            {
                                                "colorbar": {
                                                    "outlinewidth": 0,
                                                    "ticks": ""
                                                },
                                                "colorscale": [
                                                    [
                                                        0,
                                                        "#0d0887"
                                                    ],
                                                    [
                                                        0.1111111111111111,
                                                        "#46039f"
                                                    ],
                                                    [
                                                        0.2222222222222222,
                                                        "#7201a8"
                                                    ],
                                                    [
                                                        0.3333333333333333,
                                                        "#9c179e"
                                                    ],
                                                    [
                                                        0.4444444444444444,
                                                        "#bd3786"
                                                    ],
                                                    [
                                                        0.5555555555555556,
                                                        "#d8576b"
                                                    ],
                                                    [
                                                        0.6666666666666666,
                                                        "#ed7953"
                                                    ],
                                                    [
                                                        0.7777777777777778,
                                                        "#fb9f3a"
                                                    ],
                                                    [
                                                        0.8888888888888888,
                                                        "#fdca26"
                                                    ],
                                                    [
                                                        1,
                                                        "#f0f921"
                                                    ]
                                                ],
                                                "type": "histogram2dcontour"
                                            }
                                        ],
                                        "mesh3d": [
                                            {
                                                "colorbar": {
                                                    "outlinewidth": 0,
                                                    "ticks": ""
                                                },
                                                "type": "mesh3d"
                                            }
                                        ],
                                        "parcoords": [
                                            {
                                                "line": {
                                                    "colorbar": {
                                                        "outlinewidth": 0,
                                                        "ticks": ""
                                                    }
                                                },
                                                "type": "parcoords"
                                            }
                                        ],
                                        "pie": [
                                            {
                                                "automargin": true,
                                                "type": "pie"
                                            }
                                        ],
                                        "scatter": [
                                            {
                                                "fillpattern": {
                                                    "fillmode": "overlay",
                                                    "size": 10,
                                                    "solidity": 0.2
                                                },
                                                "type": "scatter"
                                            }
                                        ],
                                        "scatter3d": [
                                            {
                                                "line": {
                                                    "colorbar": {
                                                        "outlinewidth": 0,
                                                        "ticks": ""
                                                    }
                                                },
                                                "marker": {
                                                    "colorbar": {
                                                        "outlinewidth": 0,
                                                        "ticks": ""
                                                    }
                                                },
                                                "type": "scatter3d"
                                            }
                                        ],
                                        "scattercarpet": [
                                            {
                                                "marker": {
                                                    "colorbar": {
                                                        "outlinewidth": 0,
                                                        "ticks": ""
                                                    }
                                                },
                                                "type": "scattercarpet"
                                            }
                                        ],
                                        "scattergeo": [
                                            {
                                                "marker": {
                                                    "colorbar": {
                                                        "outlinewidth": 0,
                                                        "ticks": ""
                                                    }
                                                },
                                                "type": "scattergeo"
                                            }
                                        ],
                                        "scattergl": [
                                            {
                                                "marker": {
                                                    "colorbar": {
                                                        "outlinewidth": 0,
                                                        "ticks": ""
                                                    }
                                                },
                                                "type": "scattergl"
                                            }
                                        ],
                                        "scattermapbox": [
                                            {
                                                "marker": {
                                                    "colorbar": {
                                                        "outlinewidth": 0,
                                                        "ticks": ""
                                                    }
                                                },
                                                "type": "scattermapbox"
                                            }
                                        ],
                                        "scatterpolar": [
                                            {
                                                "marker": {
                                                    "colorbar": {
                                                        "outlinewidth": 0,
                                                        "ticks": ""
                                                    }
                                                },
                                                "type": "scatterpolar"
                                            }
                                        ],
                                        "scatterpolargl": [
                                            {
                                                "marker": {
                                                    "colorbar": {
                                                        "outlinewidth": 0,
                                                        "ticks": ""
                                                    }
                                                },
                                                "type": "scatterpolargl"
                                            }
                                        ],
                                        "scatterternary": [
                                            {
                                                "marker": {
                                                    "colorbar": {
                                                        "outlinewidth": 0,
                                                        "ticks": ""
                                                    }
                                                },
                                                "type": "scatterternary"
                                            }
                                        ],
                                        "surface": [
                                            {
                                                "colorbar": {
                                                    "outlinewidth": 0,
                                                    "ticks": ""
                                                },
                                                "colorscale": [
                                                    [
                                                        0,
                                                        "#0d0887"
                                                    ],
                                                    [
                                                        0.1111111111111111,
                                                        "#46039f"
                                                    ],
                                                    [
                                                        0.2222222222222222,
                                                        "#7201a8"
                                                    ],
                                                    [
                                                        0.3333333333333333,
                                                        "#9c179e"
                                                    ],
                                                    [
                                                        0.4444444444444444,
                                                        "#bd3786"
                                                    ],
                                                    [
                                                        0.5555555555555556,
                                                        "#d8576b"
                                                    ],
                                                    [
                                                        0.6666666666666666,
                                                        "#ed7953"
                                                    ],
                                                    [
                                                        0.7777777777777778,
                                                        "#fb9f3a"
                                                    ],
                                                    [
                                                        0.8888888888888888,
                                                        "#fdca26"
                                                    ],
                                                    [
                                                        1,
                                                        "#f0f921"
                                                    ]
                                                ],
                                                "type": "surface"
                                            }
                                        ],
                                        "table": [
                                            {
                                                "cells": {
                                                    "fill": {
                                                        "color": "#EBF0F8"
                                                    },
                                                    "line": {
                                                        "color": "white"
                                                    }
                                                },
                                                "header": {
                                                    "fill": {
                                                        "color": "#C8D4E3"
                                                    },
                                                    "line": {
                                                        "color": "white"
                                                    }
                                                },
                                                "type": "table"
                                            }
                                        ]
                                    },
                                    "layout": {
                                        "annotationdefaults": {
                                            "arrowcolor": "#2a3f5f",
                                            "arrowhead": 0,
                                            "arrowwidth": 1
                                        },
                                        "autotypenumbers": "strict",
                                        "coloraxis": {
                                            "colorbar": {
                                                "outlinewidth": 0,
                                                "ticks": ""
                                            }
                                        },
                                        "colorscale": {
                                            "diverging": [
                                                [
                                                    0,
                                                    "#8e0152"
                                                ],
                                                [
                                                    0.1,
                                                    "#c51b7d"
                                                ],
                                                [
                                                    0.2,
                                                    "#de77ae"
                                                ],
                                                [
                                                    0.3,
                                                    "#f1b6da"
                                                ],
                                                [
                                                    0.4,
                                                    "#fde0ef"
                                                ],
                                                [
                                                    0.5,
                                                    "#f7f7f7"
                                                ],
                                                [
                                                    0.6,
                                                    "#e6f5d0"
                                                ],
                                                [
                                                    0.7,
                                                    "#b8e186"
                                                ],
                                                [
                                                    0.8,
                                                    "#7fbc41"
                                                ],
                                                [
                                                    0.9,
                                                    "#4d9221"
                                                ],
                                                [
                                                    1,
                                                    "#276419"
                                                ]
                                            ],
                                            "sequential": [
                                                [
                                                    0,
                                                    "#0d0887"
                                                ],
                                                [
                                                    0.1111111111111111,
                                                    "#46039f"
                                                ],
                                                [
                                                    0.2222222222222222,
                                                    "#7201a8"
                                                ],
                                                [
                                                    0.3333333333333333,
                                                    "#9c179e"
                                                ],
                                                [
                                                    0.4444444444444444,
                                                    "#bd3786"
                                                ],
                                                [
                                                    0.5555555555555556,
                                                    "#d8576b"
                                                ],
                                                [
                                                    0.6666666666666666,
                                                    "#ed7953"
                                                ],
                                                [
                                                    0.7777777777777778,
                                                    "#fb9f3a"
                                                ],
                                                [
                                                    0.8888888888888888,
                                                    "#fdca26"
                                                ],
                                                [
                                                    1,
                                                    "#f0f921"
                                                ]
                                            ],
                                            "sequentialminus": [
                                                [
                                                    0,
                                                    "#0d0887"
                                                ],
                                                [
                                                    0.1111111111111111,
                                                    "#46039f"
                                                ],
                                                [
                                                    0.2222222222222222,
                                                    "#7201a8"
                                                ],
                                                [
                                                    0.3333333333333333,
                                                    "#9c179e"
                                                ],
                                                [
                                                    0.4444444444444444,
                                                    "#bd3786"
                                                ],
                                                [
                                                    0.5555555555555556,
                                                    "#d8576b"
                                                ],
                                                [
                                                    0.6666666666666666,
                                                    "#ed7953"
                                                ],
                                                [
                                                    0.7777777777777778,
                                                    "#fb9f3a"
                                                ],
                                                [
                                                    0.8888888888888888,
                                                    "#fdca26"
                                                ],
                                                [
                                                    1,
                                                    "#f0f921"
                                                ]
                                            ]
                                        },
                                        "colorway": [
                                            "#636efa",
                                            "#EF553B",
                                            "#00cc96",
                                            "#ab63fa",
                                            "#FFA15A",
                                            "#19d3f3",
                                            "#FF6692",
                                            "#B6E880",
                                            "#FF97FF",
                                            "#FECB52"
                                        ],
                                        "font": {
                                            "color": "#2a3f5f"
                                        },
                                        "geo": {
                                            "bgcolor": "white",
                                            "lakecolor": "white",
                                            "landcolor": "#E5ECF6",
                                            "showlakes": true,
                                            "showland": true,
                                            "subunitcolor": "white"
                                        },
                                        "hoverlabel": {
                                            "align": "left"
                                        },
                                        "hovermode": "closest",
                                        "mapbox": {
                                            "style": "light"
                                        },
                                        "paper_bgcolor": "white",
                                        "plot_bgcolor": "#E5ECF6",
                                        "polar": {
                                            "angularaxis": {
                                                "gridcolor": "white",
                                                "linecolor": "white",
                                                "ticks": ""
                                            },
                                            "bgcolor": "#E5ECF6",
                                            "radialaxis": {
                                                "gridcolor": "white",
                                                "linecolor": "white",
                                                "ticks": ""
                                            }
                                        },
                                        "scene": {
                                            "xaxis": {
                                                "backgroundcolor": "#E5ECF6",
                                                "gridcolor": "white",
                                                "gridwidth": 2,
                                                "linecolor": "white",
                                                "showbackground": true,
                                                "ticks": "",
                                                "zerolinecolor": "white"
                                            },
                                            "yaxis": {
                                                "backgroundcolor": "#E5ECF6",
                                                "gridcolor": "white",
                                                "gridwidth": 2,
                                                "linecolor": "white",
                                                "showbackground": true,
                                                "ticks": "",
                                                "zerolinecolor": "white"
                                            },
                                            "zaxis": {
                                                "backgroundcolor": "#E5ECF6",
                                                "gridcolor": "white",
                                                "gridwidth": 2,
                                                "linecolor": "white",
                                                "showbackground": true,
                                                "ticks": "",
                                                "zerolinecolor": "white"
                                            }
                                        },
                                        "shapedefaults": {
                                            "line": {
                                                "color": "#2a3f5f"
                                            }
                                        },
                                        "ternary": {
                                            "aaxis": {
                                                "gridcolor": "white",
                                                "linecolor": "white",
                                                "ticks": ""
                                            },
                                            "baxis": {
                                                "gridcolor": "white",
                                                "linecolor": "white",
                                                "ticks": ""
                                            },
                                            "bgcolor": "#E5ECF6",
                                            "caxis": {
                                                "gridcolor": "white",
                                                "linecolor": "white",
                                                "ticks": ""
                                            }
                                        },
                                        "title": {
                                            "x": 0.05
                                        },
                                        "xaxis": {
                                            "automargin": true,
                                            "gridcolor": "white",
                                            "linecolor": "white",
                                            "ticks": "",
                                            "title": {
                                                "standoff": 15
                                            },
                                            "zerolinecolor": "white",
                                            "zerolinewidth": 2
                                        },
                                        "yaxis": {
                                            "automargin": true,
                                            "gridcolor": "white",
                                            "linecolor": "white",
                                            "ticks": "",
                                            "title": {
                                                "standoff": 15
                                            },
                                            "zerolinecolor": "white",
                                            "zerolinewidth": 2
                                        }
                                    }
                                },
                                "title": {
                                    "text": "Risk Parity Portfolio Weights Over Time"
                                },
                                "width": 900,
                                "xaxis": {
                                    "tickformat": "%Y-%m-%d",
                                    "title": {
                                        "text": "Date"
                                    }
                                },
                                "yaxis": {
                                    "range": [
                                        0,
                                        1
                                    ],
                                    "tickformat": ".0%",
                                    "title": {
                                        "text": "Weights"
                                    }
                                }
                            }
                        }
                    },
                    "metadata": {},
                    "output_type": "display_data"
                },
                {
                    "name": "stdout",
                    "output_type": "stream",
                    "text": [
                        "Portfolio Volatility: 29.58%\n",
                        "Annualized Return: 8.18%\n",
                        "Sharpe Ratio: 0.21\n"
                    ]
                },
                {
                    "data": {
                        "application/vnd.plotly.v1+json": {
                            "config": {
                                "plotlyServerURL": "https://plot.ly"
                            },
                            "data": [
                                {
                                    "mode": "lines",
                                    "name": "Portfolio Value",
                                    "type": "scatter",
                                    "x": [
                                        "2005-01-31T00:00:00",
                                        "2005-02-28T00:00:00",
                                        "2005-03-31T00:00:00",
                                        "2005-04-29T00:00:00",
                                        "2005-05-31T00:00:00",
                                        "2005-06-30T00:00:00",
                                        "2005-07-29T00:00:00",
                                        "2005-08-31T00:00:00",
                                        "2005-09-30T00:00:00",
                                        "2005-10-31T00:00:00",
                                        "2005-11-30T00:00:00",
                                        "2005-12-30T00:00:00",
                                        "2006-01-31T00:00:00",
                                        "2006-02-28T00:00:00",
                                        "2006-03-31T00:00:00",
                                        "2006-04-28T00:00:00",
                                        "2006-05-31T00:00:00",
                                        "2006-06-30T00:00:00",
                                        "2006-07-31T00:00:00",
                                        "2006-08-31T00:00:00",
                                        "2006-09-29T00:00:00",
                                        "2006-10-31T00:00:00",
                                        "2006-11-30T00:00:00",
                                        "2006-12-29T00:00:00",
                                        "2007-01-31T00:00:00",
                                        "2007-02-28T00:00:00",
                                        "2007-03-30T00:00:00",
                                        "2007-04-30T00:00:00",
                                        "2007-05-31T00:00:00",
                                        "2007-06-29T00:00:00",
                                        "2007-07-31T00:00:00",
                                        "2007-08-31T00:00:00",
                                        "2007-09-28T00:00:00",
                                        "2007-10-31T00:00:00",
                                        "2007-11-30T00:00:00",
                                        "2007-12-31T00:00:00",
                                        "2008-01-31T00:00:00",
                                        "2008-02-29T00:00:00",
                                        "2008-03-31T00:00:00",
                                        "2008-04-30T00:00:00",
                                        "2008-05-30T00:00:00",
                                        "2008-06-30T00:00:00",
                                        "2008-07-31T00:00:00",
                                        "2008-08-29T00:00:00",
                                        "2008-09-30T00:00:00",
                                        "2008-10-31T00:00:00",
                                        "2008-11-28T00:00:00",
                                        "2008-12-31T00:00:00",
                                        "2009-01-30T00:00:00",
                                        "2009-02-27T00:00:00",
                                        "2009-03-31T00:00:00",
                                        "2009-04-30T00:00:00",
                                        "2009-05-29T00:00:00",
                                        "2009-06-30T00:00:00",
                                        "2009-07-31T00:00:00",
                                        "2009-08-31T00:00:00",
                                        "2009-09-30T00:00:00",
                                        "2009-10-30T00:00:00",
                                        "2009-11-30T00:00:00",
                                        "2009-12-31T00:00:00",
                                        "2010-01-29T00:00:00",
                                        "2010-02-26T00:00:00",
                                        "2010-03-31T00:00:00",
                                        "2010-04-30T00:00:00",
                                        "2010-06-30T00:00:00",
                                        "2010-07-30T00:00:00",
                                        "2010-08-31T00:00:00",
                                        "2010-09-30T00:00:00",
                                        "2010-10-29T00:00:00",
                                        "2010-11-30T00:00:00",
                                        "2010-12-31T00:00:00",
                                        "2011-01-31T00:00:00",
                                        "2011-02-28T00:00:00",
                                        "2011-03-31T00:00:00",
                                        "2011-04-29T00:00:00",
                                        "2011-05-31T00:00:00",
                                        "2011-06-30T00:00:00",
                                        "2011-07-29T00:00:00",
                                        "2011-08-31T00:00:00",
                                        "2011-09-30T00:00:00",
                                        "2011-10-31T00:00:00",
                                        "2011-11-30T00:00:00",
                                        "2011-12-30T00:00:00",
                                        "2012-01-31T00:00:00",
                                        "2012-02-29T00:00:00",
                                        "2012-03-30T00:00:00",
                                        "2012-04-30T00:00:00",
                                        "2012-05-31T00:00:00",
                                        "2012-06-29T00:00:00",
                                        "2012-07-31T00:00:00",
                                        "2012-08-31T00:00:00",
                                        "2012-09-28T00:00:00",
                                        "2012-10-31T00:00:00",
                                        "2012-11-30T00:00:00",
                                        "2012-12-31T00:00:00",
                                        "2013-01-31T00:00:00",
                                        "2013-02-28T00:00:00",
                                        "2013-04-30T00:00:00",
                                        "2013-05-31T00:00:00",
                                        "2013-06-28T00:00:00",
                                        "2013-07-31T00:00:00",
                                        "2013-08-30T00:00:00",
                                        "2013-09-30T00:00:00",
                                        "2013-10-31T00:00:00",
                                        "2013-11-29T00:00:00",
                                        "2013-12-31T00:00:00",
                                        "2014-01-31T00:00:00",
                                        "2014-02-28T00:00:00",
                                        "2014-03-31T00:00:00",
                                        "2014-04-30T00:00:00",
                                        "2014-05-30T00:00:00",
                                        "2014-06-30T00:00:00",
                                        "2014-07-31T00:00:00",
                                        "2014-08-29T00:00:00",
                                        "2014-09-30T00:00:00",
                                        "2014-10-31T00:00:00",
                                        "2014-11-28T00:00:00",
                                        "2014-12-31T00:00:00",
                                        "2015-01-30T00:00:00",
                                        "2015-02-27T00:00:00",
                                        "2015-03-31T00:00:00",
                                        "2015-04-30T00:00:00",
                                        "2015-05-29T00:00:00",
                                        "2015-06-30T00:00:00",
                                        "2015-07-31T00:00:00",
                                        "2015-08-31T00:00:00",
                                        "2015-09-30T00:00:00",
                                        "2015-10-30T00:00:00",
                                        "2015-11-30T00:00:00",
                                        "2015-12-31T00:00:00",
                                        "2016-01-29T00:00:00",
                                        "2016-02-29T00:00:00",
                                        "2016-03-31T00:00:00",
                                        "2016-04-29T00:00:00",
                                        "2016-05-31T00:00:00",
                                        "2016-06-30T00:00:00",
                                        "2016-07-29T00:00:00",
                                        "2016-08-31T00:00:00",
                                        "2016-09-30T00:00:00",
                                        "2016-10-31T00:00:00",
                                        "2016-11-30T00:00:00",
                                        "2016-12-30T00:00:00",
                                        "2017-01-31T00:00:00",
                                        "2017-02-28T00:00:00",
                                        "2017-03-31T00:00:00",
                                        "2017-04-28T00:00:00",
                                        "2017-05-31T00:00:00",
                                        "2017-06-30T00:00:00",
                                        "2017-07-31T00:00:00",
                                        "2017-08-31T00:00:00",
                                        "2017-09-29T00:00:00",
                                        "2017-10-31T00:00:00",
                                        "2017-11-30T00:00:00",
                                        "2017-12-29T00:00:00",
                                        "2018-01-31T00:00:00",
                                        "2018-02-28T00:00:00",
                                        "2018-04-30T00:00:00",
                                        "2018-05-31T00:00:00",
                                        "2018-06-29T00:00:00",
                                        "2018-07-31T00:00:00",
                                        "2018-08-31T00:00:00",
                                        "2018-09-28T00:00:00",
                                        "2018-10-31T00:00:00",
                                        "2018-11-30T00:00:00",
                                        "2018-12-31T00:00:00",
                                        "2019-01-31T00:00:00",
                                        "2019-02-28T00:00:00",
                                        "2019-03-29T00:00:00",
                                        "2019-04-30T00:00:00",
                                        "2019-05-31T00:00:00",
                                        "2019-06-28T00:00:00",
                                        "2019-07-31T00:00:00",
                                        "2019-08-30T00:00:00",
                                        "2019-09-30T00:00:00",
                                        "2019-10-31T00:00:00",
                                        "2019-11-29T00:00:00",
                                        "2019-12-31T00:00:00",
                                        "2020-01-31T00:00:00",
                                        "2020-02-28T00:00:00",
                                        "2020-03-31T00:00:00",
                                        "2020-04-30T00:00:00",
                                        "2020-05-29T00:00:00",
                                        "2020-06-30T00:00:00",
                                        "2020-07-31T00:00:00",
                                        "2020-08-31T00:00:00",
                                        "2020-09-30T00:00:00",
                                        "2020-10-30T00:00:00",
                                        "2020-11-30T00:00:00"
                                    ],
                                    "y": [
                                        684312.4947128296,
                                        682890.8863983154,
                                        677131.8830566406,
                                        695370.5445861816,
                                        707985.394203186,
                                        724392.6233520508,
                                        708238.2677307129,
                                        726441.1812744141,
                                        718570.2440719604,
                                        704626.867225647,
                                        719695.497428894,
                                        741547.2047729492,
                                        752371.5712585449,
                                        756434.0645217896,
                                        741178.4293899536,
                                        750333.8101959229,
                                        744151.2223815918,
                                        740747.8279418945,
                                        757112.049873352,
                                        771006.0740127563,
                                        774318.4863891602,
                                        783793.833656311,
                                        809937.0753250122,
                                        793677.3321151733,
                                        795032.0802230835,
                                        815008.5128707886,
                                        805114.785118103,
                                        818153.9198532104,
                                        805093.5993804932,
                                        794624.4736328125,
                                        812388.7824707031,
                                        825048.0961914062,
                                        851377.5984725952,
                                        877779.3667831421,
                                        898100.2950973511,
                                        908978.373550415,
                                        941499.4830856323,
                                        950892.1782531738,
                                        944675.9460525513,
                                        923370.6612930298,
                                        912126.6599273682,
                                        930348.9309768677,
                                        923468.7819976807,
                                        914872.239326477,
                                        924938.9912643433,
                                        858812.5181808472,
                                        963424.0053710938,
                                        1072398.878326416,
                                        984140.0809173584,
                                        971805.9342193604,
                                        994946.5333633423,
                                        945405.7158279419,
                                        953325.1515197754,
                                        942548.8458633423,
                                        957572.4284515381,
                                        973832.014289856,
                                        1008131.1460723877,
                                        1001268.9033279419,
                                        1053096.7651062012,
                                        989919.4519500732,
                                        998540.8930358887,
                                        1009464.8950500488,
                                        1000703.7864532471,
                                        1040858.2508163452,
                                        1116453.6984100342,
                                        1096595.1892852783,
                                        1168656.7619934082,
                                        1175151.4678955078,
                                        1161271.198348999,
                                        1158412.1786193848,
                                        1149914.6431732178,
                                        1105738.2945480347,
                                        1142844.8148345947,
                                        1149701.8523406982,
                                        1205124.2928619385,
                                        1217637.8889007568,
                                        1189503.695968628,
                                        1253295.1708068848,
                                        1372085.981338501,
                                        1404018.9387054443,
                                        1409391.915725708,
                                        1433503.8554382324,
                                        1407925.0334625244,
                                        1462022.6095428467,
                                        1429152.0644378662,
                                        1390945.2502746582,
                                        1427761.5390167236,
                                        1465122.7835235596,
                                        1464856.5040740967,
                                        1503995.556427002,
                                        1517891.7387390137,
                                        1520804.042098999,
                                        1499144.7037353516,
                                        1507652.3166503906,
                                        1474192.5573883057,
                                        1449647.2753601074,
                                        1436770.594116211,
                                        1448959.3254241943,
                                        1364894.524734497,
                                        1291158.93409729,
                                        1306372.594467163,
                                        1312009.162322998,
                                        1301656.5086517334,
                                        1317665.233581543,
                                        1279105.8226470947,
                                        1254578.1331329346,
                                        1308998.4468078613,
                                        1342489.4951019287,
                                        1337491.7392425537,
                                        1357416.5271453857,
                                        1373930.2514343262,
                                        1398019.503768921,
                                        1387478.6880187988,
                                        1435579.9607696533,
                                        1391201.723312378,
                                        1409004.3749084473,
                                        1438664.4997711182,
                                        1472966.1967926025,
                                        1592265.0092926025,
                                        1514514.4012908936,
                                        1515072.801147461,
                                        1481843.6609954834,
                                        1462990.7465667725,
                                        1415778.0648040771,
                                        1438266.7991485596,
                                        1432960.6530456543,
                                        1441381.1991577148,
                                        1458325.2575073242,
                                        1428317.5991516113,
                                        1421128.2747039795,
                                        1481933.7362060547,
                                        1547961.6685180664,
                                        1554804.2372283936,
                                        1566117.7673492432,
                                        1554278.255355835,
                                        1657646.639907837,
                                        1694765.5647277832,
                                        1670899.1827087402,
                                        1656765.1461639404,
                                        1594489.3450622559,
                                        1484360.721496582,
                                        1477214.672592163,
                                        1506377.8102722168,
                                        1540377.7987976074,
                                        1532675.627090454,
                                        1556170.1632843018,
                                        1577221.5973815918,
                                        1578627.161026001,
                                        1584480.727722168,
                                        1634782.1204223633,
                                        1602026.1073150635,
                                        1603979.7961425781,
                                        1619612.908493042,
                                        1648673.8125,
                                        1639855.6547698975,
                                        1592262.0434417725,
                                        1592718.3121795654,
                                        1613549.1523742676,
                                        1607920.3500061035,
                                        1594109.23336792,
                                        1607525.9611663818,
                                        1577828.9818115234,
                                        1538682.2619628906,
                                        1561290.7357025146,
                                        1614032.7387695312,
                                        1646176.6716308594,
                                        1637419.4328613281,
                                        1692481.0805206299,
                                        1678902.8732757568,
                                        1740624.8514404297,
                                        1798162.544265747,
                                        1805046.8571929932,
                                        1958117.8139801025,
                                        1914582.7786254883,
                                        1917557.8068847656,
                                        1908600.7438049316,
                                        1893351.0198059082,
                                        2002777.8864898682,
                                        2060568.9361114502,
                                        2112051.505264282,
                                        2191648.3687591553,
                                        2191100.814590454,
                                        2214276.1917877197,
                                        2348761.227432251,
                                        2292430.66065979,
                                        2268146.247177124,
                                        2209462.171157837,
                                        2235935.4980010986
                                    ]
                                }
                            ],
                            "layout": {
                                "height": 500,
                                "template": {
                                    "data": {
                                        "bar": [
                                            {
                                                "error_x": {
                                                    "color": "#2a3f5f"
                                                },
                                                "error_y": {
                                                    "color": "#2a3f5f"
                                                },
                                                "marker": {
                                                    "line": {
                                                        "color": "#E5ECF6",
                                                        "width": 0.5
                                                    },
                                                    "pattern": {
                                                        "fillmode": "overlay",
                                                        "size": 10,
                                                        "solidity": 0.2
                                                    }
                                                },
                                                "type": "bar"
                                            }
                                        ],
                                        "barpolar": [
                                            {
                                                "marker": {
                                                    "line": {
                                                        "color": "#E5ECF6",
                                                        "width": 0.5
                                                    },
                                                    "pattern": {
                                                        "fillmode": "overlay",
                                                        "size": 10,
                                                        "solidity": 0.2
                                                    }
                                                },
                                                "type": "barpolar"
                                            }
                                        ],
                                        "carpet": [
                                            {
                                                "aaxis": {
                                                    "endlinecolor": "#2a3f5f",
                                                    "gridcolor": "white",
                                                    "linecolor": "white",
                                                    "minorgridcolor": "white",
                                                    "startlinecolor": "#2a3f5f"
                                                },
                                                "baxis": {
                                                    "endlinecolor": "#2a3f5f",
                                                    "gridcolor": "white",
                                                    "linecolor": "white",
                                                    "minorgridcolor": "white",
                                                    "startlinecolor": "#2a3f5f"
                                                },
                                                "type": "carpet"
                                            }
                                        ],
                                        "choropleth": [
                                            {
                                                "colorbar": {
                                                    "outlinewidth": 0,
                                                    "ticks": ""
                                                },
                                                "type": "choropleth"
                                            }
                                        ],
                                        "contour": [
                                            {
                                                "colorbar": {
                                                    "outlinewidth": 0,
                                                    "ticks": ""
                                                },
                                                "colorscale": [
                                                    [
                                                        0,
                                                        "#0d0887"
                                                    ],
                                                    [
                                                        0.1111111111111111,
                                                        "#46039f"
                                                    ],
                                                    [
                                                        0.2222222222222222,
                                                        "#7201a8"
                                                    ],
                                                    [
                                                        0.3333333333333333,
                                                        "#9c179e"
                                                    ],
                                                    [
                                                        0.4444444444444444,
                                                        "#bd3786"
                                                    ],
                                                    [
                                                        0.5555555555555556,
                                                        "#d8576b"
                                                    ],
                                                    [
                                                        0.6666666666666666,
                                                        "#ed7953"
                                                    ],
                                                    [
                                                        0.7777777777777778,
                                                        "#fb9f3a"
                                                    ],
                                                    [
                                                        0.8888888888888888,
                                                        "#fdca26"
                                                    ],
                                                    [
                                                        1,
                                                        "#f0f921"
                                                    ]
                                                ],
                                                "type": "contour"
                                            }
                                        ],
                                        "contourcarpet": [
                                            {
                                                "colorbar": {
                                                    "outlinewidth": 0,
                                                    "ticks": ""
                                                },
                                                "type": "contourcarpet"
                                            }
                                        ],
                                        "heatmap": [
                                            {
                                                "colorbar": {
                                                    "outlinewidth": 0,
                                                    "ticks": ""
                                                },
                                                "colorscale": [
                                                    [
                                                        0,
                                                        "#0d0887"
                                                    ],
                                                    [
                                                        0.1111111111111111,
                                                        "#46039f"
                                                    ],
                                                    [
                                                        0.2222222222222222,
                                                        "#7201a8"
                                                    ],
                                                    [
                                                        0.3333333333333333,
                                                        "#9c179e"
                                                    ],
                                                    [
                                                        0.4444444444444444,
                                                        "#bd3786"
                                                    ],
                                                    [
                                                        0.5555555555555556,
                                                        "#d8576b"
                                                    ],
                                                    [
                                                        0.6666666666666666,
                                                        "#ed7953"
                                                    ],
                                                    [
                                                        0.7777777777777778,
                                                        "#fb9f3a"
                                                    ],
                                                    [
                                                        0.8888888888888888,
                                                        "#fdca26"
                                                    ],
                                                    [
                                                        1,
                                                        "#f0f921"
                                                    ]
                                                ],
                                                "type": "heatmap"
                                            }
                                        ],
                                        "heatmapgl": [
                                            {
                                                "colorbar": {
                                                    "outlinewidth": 0,
                                                    "ticks": ""
                                                },
                                                "colorscale": [
                                                    [
                                                        0,
                                                        "#0d0887"
                                                    ],
                                                    [
                                                        0.1111111111111111,
                                                        "#46039f"
                                                    ],
                                                    [
                                                        0.2222222222222222,
                                                        "#7201a8"
                                                    ],
                                                    [
                                                        0.3333333333333333,
                                                        "#9c179e"
                                                    ],
                                                    [
                                                        0.4444444444444444,
                                                        "#bd3786"
                                                    ],
                                                    [
                                                        0.5555555555555556,
                                                        "#d8576b"
                                                    ],
                                                    [
                                                        0.6666666666666666,
                                                        "#ed7953"
                                                    ],
                                                    [
                                                        0.7777777777777778,
                                                        "#fb9f3a"
                                                    ],
                                                    [
                                                        0.8888888888888888,
                                                        "#fdca26"
                                                    ],
                                                    [
                                                        1,
                                                        "#f0f921"
                                                    ]
                                                ],
                                                "type": "heatmapgl"
                                            }
                                        ],
                                        "histogram": [
                                            {
                                                "marker": {
                                                    "pattern": {
                                                        "fillmode": "overlay",
                                                        "size": 10,
                                                        "solidity": 0.2
                                                    }
                                                },
                                                "type": "histogram"
                                            }
                                        ],
                                        "histogram2d": [
                                            {
                                                "colorbar": {
                                                    "outlinewidth": 0,
                                                    "ticks": ""
                                                },
                                                "colorscale": [
                                                    [
                                                        0,
                                                        "#0d0887"
                                                    ],
                                                    [
                                                        0.1111111111111111,
                                                        "#46039f"
                                                    ],
                                                    [
                                                        0.2222222222222222,
                                                        "#7201a8"
                                                    ],
                                                    [
                                                        0.3333333333333333,
                                                        "#9c179e"
                                                    ],
                                                    [
                                                        0.4444444444444444,
                                                        "#bd3786"
                                                    ],
                                                    [
                                                        0.5555555555555556,
                                                        "#d8576b"
                                                    ],
                                                    [
                                                        0.6666666666666666,
                                                        "#ed7953"
                                                    ],
                                                    [
                                                        0.7777777777777778,
                                                        "#fb9f3a"
                                                    ],
                                                    [
                                                        0.8888888888888888,
                                                        "#fdca26"
                                                    ],
                                                    [
                                                        1,
                                                        "#f0f921"
                                                    ]
                                                ],
                                                "type": "histogram2d"
                                            }
                                        ],
                                        "histogram2dcontour": [
                                            {
                                                "colorbar": {
                                                    "outlinewidth": 0,
                                                    "ticks": ""
                                                },
                                                "colorscale": [
                                                    [
                                                        0,
                                                        "#0d0887"
                                                    ],
                                                    [
                                                        0.1111111111111111,
                                                        "#46039f"
                                                    ],
                                                    [
                                                        0.2222222222222222,
                                                        "#7201a8"
                                                    ],
                                                    [
                                                        0.3333333333333333,
                                                        "#9c179e"
                                                    ],
                                                    [
                                                        0.4444444444444444,
                                                        "#bd3786"
                                                    ],
                                                    [
                                                        0.5555555555555556,
                                                        "#d8576b"
                                                    ],
                                                    [
                                                        0.6666666666666666,
                                                        "#ed7953"
                                                    ],
                                                    [
                                                        0.7777777777777778,
                                                        "#fb9f3a"
                                                    ],
                                                    [
                                                        0.8888888888888888,
                                                        "#fdca26"
                                                    ],
                                                    [
                                                        1,
                                                        "#f0f921"
                                                    ]
                                                ],
                                                "type": "histogram2dcontour"
                                            }
                                        ],
                                        "mesh3d": [
                                            {
                                                "colorbar": {
                                                    "outlinewidth": 0,
                                                    "ticks": ""
                                                },
                                                "type": "mesh3d"
                                            }
                                        ],
                                        "parcoords": [
                                            {
                                                "line": {
                                                    "colorbar": {
                                                        "outlinewidth": 0,
                                                        "ticks": ""
                                                    }
                                                },
                                                "type": "parcoords"
                                            }
                                        ],
                                        "pie": [
                                            {
                                                "automargin": true,
                                                "type": "pie"
                                            }
                                        ],
                                        "scatter": [
                                            {
                                                "fillpattern": {
                                                    "fillmode": "overlay",
                                                    "size": 10,
                                                    "solidity": 0.2
                                                },
                                                "type": "scatter"
                                            }
                                        ],
                                        "scatter3d": [
                                            {
                                                "line": {
                                                    "colorbar": {
                                                        "outlinewidth": 0,
                                                        "ticks": ""
                                                    }
                                                },
                                                "marker": {
                                                    "colorbar": {
                                                        "outlinewidth": 0,
                                                        "ticks": ""
                                                    }
                                                },
                                                "type": "scatter3d"
                                            }
                                        ],
                                        "scattercarpet": [
                                            {
                                                "marker": {
                                                    "colorbar": {
                                                        "outlinewidth": 0,
                                                        "ticks": ""
                                                    }
                                                },
                                                "type": "scattercarpet"
                                            }
                                        ],
                                        "scattergeo": [
                                            {
                                                "marker": {
                                                    "colorbar": {
                                                        "outlinewidth": 0,
                                                        "ticks": ""
                                                    }
                                                },
                                                "type": "scattergeo"
                                            }
                                        ],
                                        "scattergl": [
                                            {
                                                "marker": {
                                                    "colorbar": {
                                                        "outlinewidth": 0,
                                                        "ticks": ""
                                                    }
                                                },
                                                "type": "scattergl"
                                            }
                                        ],
                                        "scattermapbox": [
                                            {
                                                "marker": {
                                                    "colorbar": {
                                                        "outlinewidth": 0,
                                                        "ticks": ""
                                                    }
                                                },
                                                "type": "scattermapbox"
                                            }
                                        ],
                                        "scatterpolar": [
                                            {
                                                "marker": {
                                                    "colorbar": {
                                                        "outlinewidth": 0,
                                                        "ticks": ""
                                                    }
                                                },
                                                "type": "scatterpolar"
                                            }
                                        ],
                                        "scatterpolargl": [
                                            {
                                                "marker": {
                                                    "colorbar": {
                                                        "outlinewidth": 0,
                                                        "ticks": ""
                                                    }
                                                },
                                                "type": "scatterpolargl"
                                            }
                                        ],
                                        "scatterternary": [
                                            {
                                                "marker": {
                                                    "colorbar": {
                                                        "outlinewidth": 0,
                                                        "ticks": ""
                                                    }
                                                },
                                                "type": "scatterternary"
                                            }
                                        ],
                                        "surface": [
                                            {
                                                "colorbar": {
                                                    "outlinewidth": 0,
                                                    "ticks": ""
                                                },
                                                "colorscale": [
                                                    [
                                                        0,
                                                        "#0d0887"
                                                    ],
                                                    [
                                                        0.1111111111111111,
                                                        "#46039f"
                                                    ],
                                                    [
                                                        0.2222222222222222,
                                                        "#7201a8"
                                                    ],
                                                    [
                                                        0.3333333333333333,
                                                        "#9c179e"
                                                    ],
                                                    [
                                                        0.4444444444444444,
                                                        "#bd3786"
                                                    ],
                                                    [
                                                        0.5555555555555556,
                                                        "#d8576b"
                                                    ],
                                                    [
                                                        0.6666666666666666,
                                                        "#ed7953"
                                                    ],
                                                    [
                                                        0.7777777777777778,
                                                        "#fb9f3a"
                                                    ],
                                                    [
                                                        0.8888888888888888,
                                                        "#fdca26"
                                                    ],
                                                    [
                                                        1,
                                                        "#f0f921"
                                                    ]
                                                ],
                                                "type": "surface"
                                            }
                                        ],
                                        "table": [
                                            {
                                                "cells": {
                                                    "fill": {
                                                        "color": "#EBF0F8"
                                                    },
                                                    "line": {
                                                        "color": "white"
                                                    }
                                                },
                                                "header": {
                                                    "fill": {
                                                        "color": "#C8D4E3"
                                                    },
                                                    "line": {
                                                        "color": "white"
                                                    }
                                                },
                                                "type": "table"
                                            }
                                        ]
                                    },
                                    "layout": {
                                        "annotationdefaults": {
                                            "arrowcolor": "#2a3f5f",
                                            "arrowhead": 0,
                                            "arrowwidth": 1
                                        },
                                        "autotypenumbers": "strict",
                                        "coloraxis": {
                                            "colorbar": {
                                                "outlinewidth": 0,
                                                "ticks": ""
                                            }
                                        },
                                        "colorscale": {
                                            "diverging": [
                                                [
                                                    0,
                                                    "#8e0152"
                                                ],
                                                [
                                                    0.1,
                                                    "#c51b7d"
                                                ],
                                                [
                                                    0.2,
                                                    "#de77ae"
                                                ],
                                                [
                                                    0.3,
                                                    "#f1b6da"
                                                ],
                                                [
                                                    0.4,
                                                    "#fde0ef"
                                                ],
                                                [
                                                    0.5,
                                                    "#f7f7f7"
                                                ],
                                                [
                                                    0.6,
                                                    "#e6f5d0"
                                                ],
                                                [
                                                    0.7,
                                                    "#b8e186"
                                                ],
                                                [
                                                    0.8,
                                                    "#7fbc41"
                                                ],
                                                [
                                                    0.9,
                                                    "#4d9221"
                                                ],
                                                [
                                                    1,
                                                    "#276419"
                                                ]
                                            ],
                                            "sequential": [
                                                [
                                                    0,
                                                    "#0d0887"
                                                ],
                                                [
                                                    0.1111111111111111,
                                                    "#46039f"
                                                ],
                                                [
                                                    0.2222222222222222,
                                                    "#7201a8"
                                                ],
                                                [
                                                    0.3333333333333333,
                                                    "#9c179e"
                                                ],
                                                [
                                                    0.4444444444444444,
                                                    "#bd3786"
                                                ],
                                                [
                                                    0.5555555555555556,
                                                    "#d8576b"
                                                ],
                                                [
                                                    0.6666666666666666,
                                                    "#ed7953"
                                                ],
                                                [
                                                    0.7777777777777778,
                                                    "#fb9f3a"
                                                ],
                                                [
                                                    0.8888888888888888,
                                                    "#fdca26"
                                                ],
                                                [
                                                    1,
                                                    "#f0f921"
                                                ]
                                            ],
                                            "sequentialminus": [
                                                [
                                                    0,
                                                    "#0d0887"
                                                ],
                                                [
                                                    0.1111111111111111,
                                                    "#46039f"
                                                ],
                                                [
                                                    0.2222222222222222,
                                                    "#7201a8"
                                                ],
                                                [
                                                    0.3333333333333333,
                                                    "#9c179e"
                                                ],
                                                [
                                                    0.4444444444444444,
                                                    "#bd3786"
                                                ],
                                                [
                                                    0.5555555555555556,
                                                    "#d8576b"
                                                ],
                                                [
                                                    0.6666666666666666,
                                                    "#ed7953"
                                                ],
                                                [
                                                    0.7777777777777778,
                                                    "#fb9f3a"
                                                ],
                                                [
                                                    0.8888888888888888,
                                                    "#fdca26"
                                                ],
                                                [
                                                    1,
                                                    "#f0f921"
                                                ]
                                            ]
                                        },
                                        "colorway": [
                                            "#636efa",
                                            "#EF553B",
                                            "#00cc96",
                                            "#ab63fa",
                                            "#FFA15A",
                                            "#19d3f3",
                                            "#FF6692",
                                            "#B6E880",
                                            "#FF97FF",
                                            "#FECB52"
                                        ],
                                        "font": {
                                            "color": "#2a3f5f"
                                        },
                                        "geo": {
                                            "bgcolor": "white",
                                            "lakecolor": "white",
                                            "landcolor": "#E5ECF6",
                                            "showlakes": true,
                                            "showland": true,
                                            "subunitcolor": "white"
                                        },
                                        "hoverlabel": {
                                            "align": "left"
                                        },
                                        "hovermode": "closest",
                                        "mapbox": {
                                            "style": "light"
                                        },
                                        "paper_bgcolor": "white",
                                        "plot_bgcolor": "#E5ECF6",
                                        "polar": {
                                            "angularaxis": {
                                                "gridcolor": "white",
                                                "linecolor": "white",
                                                "ticks": ""
                                            },
                                            "bgcolor": "#E5ECF6",
                                            "radialaxis": {
                                                "gridcolor": "white",
                                                "linecolor": "white",
                                                "ticks": ""
                                            }
                                        },
                                        "scene": {
                                            "xaxis": {
                                                "backgroundcolor": "#E5ECF6",
                                                "gridcolor": "white",
                                                "gridwidth": 2,
                                                "linecolor": "white",
                                                "showbackground": true,
                                                "ticks": "",
                                                "zerolinecolor": "white"
                                            },
                                            "yaxis": {
                                                "backgroundcolor": "#E5ECF6",
                                                "gridcolor": "white",
                                                "gridwidth": 2,
                                                "linecolor": "white",
                                                "showbackground": true,
                                                "ticks": "",
                                                "zerolinecolor": "white"
                                            },
                                            "zaxis": {
                                                "backgroundcolor": "#E5ECF6",
                                                "gridcolor": "white",
                                                "gridwidth": 2,
                                                "linecolor": "white",
                                                "showbackground": true,
                                                "ticks": "",
                                                "zerolinecolor": "white"
                                            }
                                        },
                                        "shapedefaults": {
                                            "line": {
                                                "color": "#2a3f5f"
                                            }
                                        },
                                        "ternary": {
                                            "aaxis": {
                                                "gridcolor": "white",
                                                "linecolor": "white",
                                                "ticks": ""
                                            },
                                            "baxis": {
                                                "gridcolor": "white",
                                                "linecolor": "white",
                                                "ticks": ""
                                            },
                                            "bgcolor": "#E5ECF6",
                                            "caxis": {
                                                "gridcolor": "white",
                                                "linecolor": "white",
                                                "ticks": ""
                                            }
                                        },
                                        "title": {
                                            "x": 0.05
                                        },
                                        "xaxis": {
                                            "automargin": true,
                                            "gridcolor": "white",
                                            "linecolor": "white",
                                            "ticks": "",
                                            "title": {
                                                "standoff": 15
                                            },
                                            "zerolinecolor": "white",
                                            "zerolinewidth": 2
                                        },
                                        "yaxis": {
                                            "automargin": true,
                                            "gridcolor": "white",
                                            "linecolor": "white",
                                            "ticks": "",
                                            "title": {
                                                "standoff": 15
                                            },
                                            "zerolinecolor": "white",
                                            "zerolinewidth": 2
                                        }
                                    }
                                },
                                "title": {
                                    "text": "Portfolio Value Over Time"
                                },
                                "width": 900,
                                "xaxis": {
                                    "tickformat": "%Y-%m-%d",
                                    "title": {
                                        "text": "Date"
                                    }
                                },
                                "yaxis": {
                                    "tickprefix": "$",
                                    "title": {
                                        "text": "Portfolio Value ($)"
                                    }
                                }
                            }
                        }
                    },
                    "metadata": {},
                    "output_type": "display_data"
                },
                {
                    "name": "stderr",
                    "output_type": "stream",
                    "text": [
                        "INFO:root: Backtest completed. Final portfolio value: 2260623.6384124756\n"
                    ]
                },
                {
                    "data": {
                        "text/plain": [
                            "'backtests/GoldCobraPlumber'"
                        ]
                    },
                    "execution_count": 51,
                    "metadata": {},
                    "output_type": "execute_result"
                }
            ],
            "source": [
                "backtest = Backtest_up(\n",
                "    initial_date = initial_date,\n",
                "    final_date = final_date,\n",
                "    information_class = FirstTwoMoments,\n",
                "    risk_model=StopLoss,\n",
                ")\n",
                "backtest.run_backtest()"
            ]
        }
    ],
    "metadata": {
        "kernelspec": {
            "display_name": "pybacktestchain",
            "language": "python",
            "name": "python3"
        },
        "language_info": {
            "codemirror_mode": {
                "name": "ipython",
                "version": 3
            },
            "file_extension": ".py",
            "mimetype": "text/x-python",
            "name": "python",
            "nbconvert_exporter": "python",
            "pygments_lexer": "ipython3",
            "version": "3.11.9"
        }
    },
    "nbformat": 4,
    "nbformat_minor": 4
}
