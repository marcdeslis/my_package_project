{
 "cells": [
  {
   "cell_type": "markdown",
   "id": "1e41bfa0",
   "metadata": {},
   "source": [
    "## <center> Backtest Results Notebook </center>"
   ]
  },
  {
   "cell_type": "markdown",
   "id": "48d00ced",
   "metadata": {},
   "source": [
    "Backtest Name: GoldCobraPlumber"
   ]
  },
  {
   "cell_type": "markdown",
   "id": "92bdc590",
   "metadata": {},
   "source": [
    "Backtest Period: 2005-01-01 to 2020-12-31"
   ]
  },
  {
   "cell_type": "markdown",
   "id": "7a1d5564",
   "metadata": {},
   "source": [
    "### Stocks Used in Backtest:\n",
    "- SPY\n",
    "- TLT\n",
    "- GLD"
   ]
  },
  {
   "cell_type": "markdown",
   "id": "5b382e98",
   "metadata": {},
   "source": [
    "Initial Portfolio Weights"
   ]
  },
  {
   "cell_type": "code",
   "execution_count": null,
   "id": "fd0be769",
   "metadata": {},
   "outputs": [],
   "source": [
    "from IPython.display import Image\n",
    "Image(filename='initial_weights.png')"
   ]
  },
  {
   "cell_type": "markdown",
   "id": "88d92e32",
   "metadata": {},
   "source": [
    "Risk Contributions Pie Chart"
   ]
  },
  {
   "cell_type": "code",
   "execution_count": null,
   "id": "0ace41ca",
   "metadata": {},
   "outputs": [],
   "source": [
    "Image(filename='risk_allocation_pie.png')"
   ]
  },
  {
   "cell_type": "markdown",
   "id": "d88b13da",
   "metadata": {},
   "source": [
    "Portfolio Weights Over Time"
   ]
  },
  {
   "cell_type": "code",
   "execution_count": null,
   "id": "79013caf",
   "metadata": {},
   "outputs": [],
   "source": [
    "Image(filename='weights_over_time.png')"
   ]
  },
  {
   "cell_type": "markdown",
   "id": "0de2688f",
   "metadata": {},
   "source": [
    "- **Annualized Volatility**: 29.58%\n",
    "- **Annualized Return**: 8.18%\n",
    "- **Sharpe Ratio**: 0.21"
   ]
  },
  {
   "cell_type": "markdown",
   "id": "a269f944",
   "metadata": {},
   "source": [
    "Portfolio Value Over Time"
   ]
  },
  {
   "cell_type": "code",
   "execution_count": null,
   "id": "ef33ab16",
   "metadata": {},
   "outputs": [],
   "source": [
    "Image(filename='portfolio_value_over_time.png')"
   ]
  },
  {
   "cell_type": "markdown",
   "id": "e21900c1",
   "metadata": {},
   "source": [
    "Transaction Log"
   ]
  },
  {
   "cell_type": "code",
   "execution_count": null,
   "id": "272d9999",
   "metadata": {},
   "outputs": [],
   "source": [
    "import pandas as pd\n",
    "df = pd.read_csv('transaction_log.csv').drop(columns=['Unnamed: 0'])\n",
    "df.head()"
   ]
  }
 ],
 "metadata": {},
 "nbformat": 4,
 "nbformat_minor": 5
}
