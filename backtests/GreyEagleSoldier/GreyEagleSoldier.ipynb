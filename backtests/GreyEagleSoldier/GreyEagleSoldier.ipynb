{
 "cells": [
  {
   "cell_type": "markdown",
   "id": "ba96eb9c",
   "metadata": {},
   "source": [
    "## <center> Backtest Results Notebook </center>"
   ]
  },
  {
   "cell_type": "markdown",
   "id": "dc05719b",
   "metadata": {},
   "source": [
    "Backtest Name: GreyEagleSoldier"
   ]
  },
  {
   "cell_type": "markdown",
   "id": "958a5c02",
   "metadata": {},
   "source": [
    "Backtest Period: 2005-01-01 to 2010-12-31"
   ]
  },
  {
   "cell_type": "markdown",
   "id": "9c67e43b",
   "metadata": {},
   "source": [
    "### Stocks Used in Backtest:\n",
    "- SPY\n",
    "- TLT\n",
    "- GLD"
   ]
  },
  {
   "cell_type": "markdown",
   "id": "8dbe4fed",
   "metadata": {},
   "source": [
    "Initial Portfolio Weights"
   ]
  },
  {
   "cell_type": "code",
   "execution_count": null,
   "id": "61a79a2d",
   "metadata": {},
   "outputs": [],
   "source": [
    "from IPython.display import Image\n",
    "Image(filename='initial_weights.png')"
   ]
  },
  {
   "cell_type": "markdown",
   "id": "a8fae567",
   "metadata": {},
   "source": [
    "Risk Contributions Pie Chart"
   ]
  },
  {
   "cell_type": "code",
   "execution_count": null,
   "id": "6ae3cbd4",
   "metadata": {},
   "outputs": [],
   "source": [
    "Image(filename='risk_allocation_pie.png')"
   ]
  },
  {
   "cell_type": "markdown",
   "id": "24c93b54",
   "metadata": {},
   "source": [
    "Portfolio Weights Over Time"
   ]
  },
  {
   "cell_type": "code",
   "execution_count": null,
   "id": "c21f6c96",
   "metadata": {},
   "outputs": [],
   "source": [
    "Image(filename='weights_over_time.png')"
   ]
  },
  {
   "cell_type": "markdown",
   "id": "c42cdad6",
   "metadata": {},
   "source": [
    "- **Annualized Volatility**: 22.35%\n",
    "- **Annualized Return**: 7.30%\n",
    "- **Sharpe Ratio**: 0.24"
   ]
  },
  {
   "cell_type": "markdown",
   "id": "896317a9",
   "metadata": {},
   "source": [
    "Portfolio Value Over Time"
   ]
  },
  {
   "cell_type": "code",
   "execution_count": null,
   "id": "e1a6c8bb",
   "metadata": {},
   "outputs": [],
   "source": [
    "Image(filename='portfolio_value_over_time.png')"
   ]
  },
  {
   "cell_type": "markdown",
   "id": "3c3c5183",
   "metadata": {},
   "source": [
    "Transaction Log"
   ]
  },
  {
   "cell_type": "code",
   "execution_count": null,
   "id": "bca89b75",
   "metadata": {},
   "outputs": [],
   "source": [
    "import pandas as pd\n",
    "df = pd.read_csv('transaction_log.csv').drop(columns=['Unnamed: 0'])\n",
    "df.head()"
   ]
  }
 ],
 "metadata": {},
 "nbformat": 4,
 "nbformat_minor": 5
}
