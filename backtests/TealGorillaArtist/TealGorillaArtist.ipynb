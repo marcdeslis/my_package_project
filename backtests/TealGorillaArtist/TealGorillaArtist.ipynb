{
 "cells": [
  {
   "cell_type": "markdown",
   "id": "f35a0968",
   "metadata": {},
   "source": [
    "## <center> Backtest Results Notebook </center>"
   ]
  },
  {
   "cell_type": "markdown",
   "id": "9c4cb1cd",
   "metadata": {},
   "source": [
    "Backtest Name: TealGorillaArtist"
   ]
  },
  {
   "cell_type": "markdown",
   "id": "9a22959c",
   "metadata": {},
   "source": [
    "Backtest Period: 2005-01-01 to 2020-12-31"
   ]
  },
  {
   "cell_type": "markdown",
   "id": "d980bb90",
   "metadata": {},
   "source": [
    "### Stocks Used in Backtest:\n",
    "- SPY\n",
    "- TLT\n",
    "- GLD"
   ]
  },
  {
   "cell_type": "markdown",
   "id": "cbc204d4",
   "metadata": {},
   "source": [
    "Initial Portfolio Weights"
   ]
  },
  {
   "cell_type": "code",
   "execution_count": null,
   "id": "2f1e07f7",
   "metadata": {},
   "outputs": [],
   "source": [
    "from IPython.display import Image\n",
    "Image(filename='initial_weights.png')"
   ]
  },
  {
   "cell_type": "markdown",
   "id": "2a479085",
   "metadata": {},
   "source": [
    "Risk Contributions Pie Chart"
   ]
  },
  {
   "cell_type": "code",
   "execution_count": null,
   "id": "e33e8339",
   "metadata": {},
   "outputs": [],
   "source": [
    "Image(filename='risk_allocation_pie.png')"
   ]
  },
  {
   "cell_type": "markdown",
   "id": "27834a86",
   "metadata": {},
   "source": [
    "Portfolio Weights Over Time"
   ]
  },
  {
   "cell_type": "code",
   "execution_count": null,
   "id": "37617ee6",
   "metadata": {},
   "outputs": [],
   "source": [
    "Image(filename='weights_over_time.png')"
   ]
  },
  {
   "cell_type": "markdown",
   "id": "f5a5fbc0",
   "metadata": {},
   "source": [
    "- **Annualized Volatility**: 29.58%\n",
    "- **Annualized Return**: 8.18%\n",
    "- **Sharpe Ratio**: 0.21"
   ]
  },
  {
   "cell_type": "markdown",
   "id": "d3816e4a",
   "metadata": {},
   "source": [
    "Portfolio Value Over Time"
   ]
  },
  {
   "cell_type": "code",
   "execution_count": null,
   "id": "9727cc44",
   "metadata": {},
   "outputs": [],
   "source": [
    "Image(filename='portfolio_value_over_time.png')"
   ]
  },
  {
   "cell_type": "markdown",
   "id": "0a4d839d",
   "metadata": {},
   "source": [
    "Transaction Log"
   ]
  },
  {
   "cell_type": "code",
   "execution_count": null,
   "id": "ba824198",
   "metadata": {},
   "outputs": [],
   "source": [
    "import pandas as pd\n",
    "df = pd.read_csv('transaction_log.csv').drop(columns=['Unnamed: 0'])\n",
    "df.head()"
   ]
  }
 ],
 "metadata": {},
 "nbformat": 4,
 "nbformat_minor": 5
}
