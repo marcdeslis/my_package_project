{
 "cells": [
  {
   "cell_type": "markdown",
   "id": "62136126",
   "metadata": {},
   "source": [
    "## <center> Backtest Results Notebook </center>"
   ]
  },
  {
   "cell_type": "markdown",
   "id": "571f07d0",
   "metadata": {},
   "source": [
    "Backtest Name: BlueLeopardPlumber"
   ]
  },
  {
   "cell_type": "markdown",
   "id": "1c4f67e5",
   "metadata": {},
   "source": [
    "Backtest Period: 2018-01-01 to 2024-12-31"
   ]
  },
  {
   "cell_type": "markdown",
   "id": "63932441",
   "metadata": {},
   "source": [
    "### Stocks Used in Backtest:\n",
    "- SPY\n",
    "- TLT\n",
    "- GLD"
   ]
  },
  {
   "cell_type": "markdown",
   "id": "95cfa51e",
   "metadata": {},
   "source": [
    "Initial Portfolio Weights"
   ]
  },
  {
   "cell_type": "code",
   "execution_count": null,
   "id": "21245cb1",
   "metadata": {},
   "outputs": [],
   "source": [
    "from IPython.display import Image\n",
    "Image(filename='initial_weights.png')"
   ]
  },
  {
   "cell_type": "markdown",
   "id": "4d39b356",
   "metadata": {},
   "source": [
    "Risk Contributions Pie Chart"
   ]
  },
  {
   "cell_type": "code",
   "execution_count": null,
   "id": "93cbd222",
   "metadata": {},
   "outputs": [],
   "source": [
    "Image(filename='risk_allocation_pie.png')"
   ]
  },
  {
   "cell_type": "markdown",
   "id": "1a67e1cb",
   "metadata": {},
   "source": [
    "Portfolio Weights Over Time"
   ]
  },
  {
   "cell_type": "code",
   "execution_count": null,
   "id": "a409d338",
   "metadata": {},
   "outputs": [],
   "source": [
    "Image(filename='weights_over_time.png')"
   ]
  },
  {
   "cell_type": "markdown",
   "id": "145e4bca",
   "metadata": {},
   "source": [
    "- **Annualized Volatility**: 19.16%\n",
    "- **Annualized Return**: 1.76%\n",
    "- **Sharpe Ratio**: -0.01"
   ]
  },
  {
   "cell_type": "markdown",
   "id": "4ca7f066",
   "metadata": {},
   "source": [
    "Portfolio Value Over Time"
   ]
  },
  {
   "cell_type": "code",
   "execution_count": null,
   "id": "60087a43",
   "metadata": {},
   "outputs": [],
   "source": [
    "Image(filename='portfolio_value_over_time.png')"
   ]
  },
  {
   "cell_type": "markdown",
   "id": "d7bb8746",
   "metadata": {},
   "source": [
    "Transaction Log"
   ]
  },
  {
   "cell_type": "code",
   "execution_count": null,
   "id": "630805f0",
   "metadata": {},
   "outputs": [],
   "source": [
    "import pandas as pd\n",
    "df = pd.read_csv('transaction_log.csv').drop(columns=['Unnamed: 0'])\n",
    "df.head()"
   ]
  }
 ],
 "metadata": {},
 "nbformat": 4,
 "nbformat_minor": 5
}
