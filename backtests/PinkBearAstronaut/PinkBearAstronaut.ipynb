{
 "cells": [
  {
   "cell_type": "markdown",
   "id": "01ef58ed",
   "metadata": {},
   "source": [
    "## <center> Backtest Results Notebook </center>"
   ]
  },
  {
   "cell_type": "markdown",
   "id": "4fdf8a0e",
   "metadata": {},
   "source": [
    "Backtest Name: PinkBearAstronaut"
   ]
  },
  {
   "cell_type": "markdown",
   "id": "9721cd3f",
   "metadata": {},
   "source": [
    "Backtest Period: 2017-01-01 to 2020-12-31"
   ]
  },
  {
   "cell_type": "markdown",
   "id": "102aec72",
   "metadata": {},
   "source": [
    "### Stocks Used in Backtest:\n",
    "- SPY\n",
    "- TLT\n",
    "- GLD"
   ]
  },
  {
   "cell_type": "markdown",
   "id": "52a61365",
   "metadata": {},
   "source": [
    "Initial Portfolio Weights"
   ]
  },
  {
   "cell_type": "code",
   "execution_count": null,
   "id": "7f971be0",
   "metadata": {},
   "outputs": [],
   "source": [
    "from IPython.display import Image\n",
    "Image(filename='initial_weights.png')"
   ]
  },
  {
   "cell_type": "markdown",
   "id": "80aedf06",
   "metadata": {},
   "source": [
    "Risk Contributions Pie Chart"
   ]
  },
  {
   "cell_type": "code",
   "execution_count": null,
   "id": "efe908cd",
   "metadata": {},
   "outputs": [],
   "source": [
    "Image(filename='risk_allocation_pie.png')"
   ]
  },
  {
   "cell_type": "markdown",
   "id": "71376365",
   "metadata": {},
   "source": [
    "Portfolio Weights Over Time"
   ]
  },
  {
   "cell_type": "code",
   "execution_count": null,
   "id": "9f4a7b24",
   "metadata": {},
   "outputs": [],
   "source": [
    "Image(filename='weights_over_time.png')"
   ]
  },
  {
   "cell_type": "markdown",
   "id": "edde33ba",
   "metadata": {},
   "source": [
    "- **Annualized Volatility**: 9.64%\n",
    "- **Annualized Return**: 11.08%\n",
    "- **Sharpe Ratio**: 0.94"
   ]
  },
  {
   "cell_type": "markdown",
   "id": "27c34a51",
   "metadata": {},
   "source": [
    "Portfolio Value Over Time"
   ]
  },
  {
   "cell_type": "code",
   "execution_count": null,
   "id": "0ecb0d03",
   "metadata": {},
   "outputs": [],
   "source": [
    "Image(filename='portfolio_value_over_time.png')"
   ]
  },
  {
   "cell_type": "markdown",
   "id": "6b296c66",
   "metadata": {},
   "source": [
    "Transaction Log"
   ]
  },
  {
   "cell_type": "code",
   "execution_count": null,
   "id": "1fe14e29",
   "metadata": {},
   "outputs": [],
   "source": [
    "import pandas as pd\n",
    "df = pd.read_csv('transaction_log.csv').drop(columns=['Unnamed: 0'])\n",
    "df.head()"
   ]
  }
 ],
 "metadata": {},
 "nbformat": 4,
 "nbformat_minor": 5
}
