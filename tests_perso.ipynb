{
 "cells": [
  {
   "cell_type": "code",
   "execution_count": 1,
   "metadata": {},
   "outputs": [],
   "source": [
    "from pybacktestchain import data_module\n",
    "from pybacktestchain.data_module import * \n",
    "from datetime import date, timedelta, datetime\n",
    "\n",
    "from my_package_project import data_treatment\n",
    "from my_package_project.data_treatment import *\n"
   ]
  },
  {
   "cell_type": "code",
   "execution_count": 2,
   "metadata": {},
   "outputs": [],
   "source": [
    "tickers = ['^990100-USD-STRD', 'TLT', '^CRWDBOOK']  # MSCI Index, 20+ Year Treasury Bond, S&P GSCI Total Return Index (commodities)\n",
    "data = get_stocks_data(tickers=tickers, start_date='2000-01-01', end_date='2020-12-31').dropna()\n",
    "data['Date'] = data['Date'].astype(str).str[:10] #we had an error with non-UTC dates\n",
    "data['Date'] = pd.to_datetime(data['Date'])"
   ]
  },
  {
   "cell_type": "code",
   "execution_count": 3,
   "metadata": {},
   "outputs": [],
   "source": [
    "data_module = DataModule(data=data)\n",
    "info = Information(s = timedelta(data_module.data.size/len(tickers)), data_module=data_module)\n",
    "t = datetime(2020,12,29)\n",
    "moments = FirstTwoMoments.compute_information(info, t=t)\n"
   ]
  },
  {
   "cell_type": "code",
   "execution_count": 4,
   "metadata": {},
   "outputs": [
    {
     "data": {
      "text/plain": [
       "{'TLT': 0.9853382145057821,\n",
       " '^990100-USD-STRD': 0.014661785490676845,\n",
       " '^CRWDBOOK': 3.5411920757658e-12}"
      ]
     },
     "execution_count": 4,
     "metadata": {},
     "output_type": "execute_result"
    }
   ],
   "source": [
    "meanvarianceportfolio = FirstTwoMoments.compute_portfolio(info, t=t, information_set=moments)\n",
    "meanvarianceportfolio"
   ]
  },
  {
   "cell_type": "code",
   "execution_count": 5,
   "metadata": {},
   "outputs": [
    {
     "data": {
      "text/plain": [
       "{'TLT': 0.7230482670207093,\n",
       " '^990100-USD-STRD': 0.03204936435519925,\n",
       " '^CRWDBOOK': 0.2449023686240914}"
      ]
     },
     "execution_count": 5,
     "metadata": {},
     "output_type": "execute_result"
    }
   ],
   "source": [
    "riskparityportfolio =  RiskParity.compute_portfolio_riskparity(info, t=t, information_set=moments)\n",
    "riskparityportfolio"
   ]
  },
  {
   "cell_type": "code",
   "execution_count": 6,
   "metadata": {},
   "outputs": [
    {
     "name": "stderr",
     "output_type": "stream",
     "text": [
      "INFO:root:Original Volatility: 12.694678376693986\n"
     ]
    },
    {
     "data": {
      "text/plain": [
       "{'TLT': 0.7230482670207093,\n",
       " '^990100-USD-STRD': 0.03204936435519925,\n",
       " '^CRWDBOOK': 0.2449023686240914}"
      ]
     },
     "execution_count": 6,
     "metadata": {},
     "output_type": "execute_result"
    }
   ],
   "source": [
    "RiskParity.compute_portfolio_riskparity_voltarget_leverage(info, t=t, information_set=moments, target_volatility=12.694678376693986, leverage_factor=1)"
   ]
  },
  {
   "cell_type": "code",
   "execution_count": null,
   "metadata": {},
   "outputs": [],
   "source": []
  },
  {
   "cell_type": "code",
   "execution_count": null,
   "metadata": {},
   "outputs": [],
   "source": []
  }
 ],
 "metadata": {
  "kernelspec": {
   "display_name": "pybacktestchain",
   "language": "python",
   "name": "python3"
  },
  "language_info": {
   "codemirror_mode": {
    "name": "ipython",
    "version": 3
   },
   "file_extension": ".py",
   "mimetype": "text/x-python",
   "name": "python",
   "nbconvert_exporter": "python",
   "pygments_lexer": "ipython3",
   "version": "3.11.9"
  }
 },
 "nbformat": 4,
 "nbformat_minor": 2
}
